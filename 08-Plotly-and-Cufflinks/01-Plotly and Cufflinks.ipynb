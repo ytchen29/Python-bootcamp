{
 "cells": [
  {
   "cell_type": "markdown",
   "metadata": {},
   "source": [
    "___\n",
    "\n",
    "<a href='http://www.pieriandata.com'> <img src='../Pierian_Data_Logo.png' /></a>\n",
    "___\n",
    "# Plotly and Cufflinks"
   ]
  },
  {
   "cell_type": "markdown",
   "metadata": {},
   "source": [
    "Plotly is a library that allows you to create interactive plots that you can use in dashboards or websites (you can save them as html files or static images).\n",
    "\n",
    "## Installation\n",
    "\n",
    "In order for this all to work, you'll need to install plotly and cufflinks to call plots directly off of a pandas dataframe. These libraries are not currently available through **conda** but are available through **pip**. Install the libraries at your command line/terminal using:\n",
    "\n",
    "    pip install plotly\n",
    "    pip install cufflinks\n",
    "\n",
    "** NOTE: Make sure you only have one installation of Python on your computer when you do this, otherwise the installation may not work. **\n",
    "\n",
    "## Imports and Set-up"
   ]
  },
  {
   "cell_type": "code",
   "execution_count": 1,
   "metadata": {},
   "outputs": [],
   "source": [
    "import pandas as pd\n",
    "import numpy as np\n",
    "%matplotlib inline"
   ]
  },
  {
   "cell_type": "code",
   "execution_count": 2,
   "metadata": {},
   "outputs": [
    {
     "name": "stdout",
     "output_type": "stream",
     "text": [
      "4.14.3\n"
     ]
    }
   ],
   "source": [
    "from plotly import __version__\n",
    "from plotly.offline import download_plotlyjs, init_notebook_mode, plot, iplot\n",
    "\n",
    "print(__version__) # requires version >= 1.9.0"
   ]
  },
  {
   "cell_type": "code",
   "execution_count": 3,
   "metadata": {},
   "outputs": [],
   "source": [
    "import cufflinks as cf"
   ]
  },
  {
   "cell_type": "code",
   "execution_count": 4,
   "metadata": {},
   "outputs": [
    {
     "data": {
      "text/html": [
       "        <script type=\"text/javascript\">\n",
       "        window.PlotlyConfig = {MathJaxConfig: 'local'};\n",
       "        if (window.MathJax) {MathJax.Hub.Config({SVG: {font: \"STIX-Web\"}});}\n",
       "        if (typeof require !== 'undefined') {\n",
       "        require.undef(\"plotly\");\n",
       "        requirejs.config({\n",
       "            paths: {\n",
       "                'plotly': ['https://cdn.plot.ly/plotly-latest.min']\n",
       "            }\n",
       "        });\n",
       "        require(['plotly'], function(Plotly) {\n",
       "            window._Plotly = Plotly;\n",
       "        });\n",
       "        }\n",
       "        </script>\n",
       "        "
      ]
     },
     "metadata": {},
     "output_type": "display_data"
    }
   ],
   "source": [
    "# For Notebooks\n",
    "init_notebook_mode(connected=True)"
   ]
  },
  {
   "cell_type": "code",
   "execution_count": 5,
   "metadata": {},
   "outputs": [
    {
     "data": {
      "text/html": [
       "        <script type=\"text/javascript\">\n",
       "        window.PlotlyConfig = {MathJaxConfig: 'local'};\n",
       "        if (window.MathJax) {MathJax.Hub.Config({SVG: {font: \"STIX-Web\"}});}\n",
       "        if (typeof require !== 'undefined') {\n",
       "        require.undef(\"plotly\");\n",
       "        requirejs.config({\n",
       "            paths: {\n",
       "                'plotly': ['https://cdn.plot.ly/plotly-latest.min']\n",
       "            }\n",
       "        });\n",
       "        require(['plotly'], function(Plotly) {\n",
       "            window._Plotly = Plotly;\n",
       "        });\n",
       "        }\n",
       "        </script>\n",
       "        "
      ]
     },
     "metadata": {},
     "output_type": "display_data"
    }
   ],
   "source": [
    "# For offline use\n",
    "cf.go_offline()"
   ]
  },
  {
   "cell_type": "markdown",
   "metadata": {},
   "source": [
    "### Fake Data"
   ]
  },
  {
   "cell_type": "code",
   "execution_count": 6,
   "metadata": {},
   "outputs": [],
   "source": [
    "df = pd.DataFrame(np.random.randn(100,4),columns='A B C D'.split())"
   ]
  },
  {
   "cell_type": "code",
   "execution_count": 7,
   "metadata": {},
   "outputs": [
    {
     "data": {
      "text/html": [
       "<div>\n",
       "<style scoped>\n",
       "    .dataframe tbody tr th:only-of-type {\n",
       "        vertical-align: middle;\n",
       "    }\n",
       "\n",
       "    .dataframe tbody tr th {\n",
       "        vertical-align: top;\n",
       "    }\n",
       "\n",
       "    .dataframe thead th {\n",
       "        text-align: right;\n",
       "    }\n",
       "</style>\n",
       "<table border=\"1\" class=\"dataframe\">\n",
       "  <thead>\n",
       "    <tr style=\"text-align: right;\">\n",
       "      <th></th>\n",
       "      <th>A</th>\n",
       "      <th>B</th>\n",
       "      <th>C</th>\n",
       "      <th>D</th>\n",
       "    </tr>\n",
       "  </thead>\n",
       "  <tbody>\n",
       "    <tr>\n",
       "      <th>0</th>\n",
       "      <td>-0.109411</td>\n",
       "      <td>-1.162366</td>\n",
       "      <td>-0.424828</td>\n",
       "      <td>-1.366838</td>\n",
       "    </tr>\n",
       "    <tr>\n",
       "      <th>1</th>\n",
       "      <td>-0.861574</td>\n",
       "      <td>-0.832344</td>\n",
       "      <td>0.151350</td>\n",
       "      <td>1.048745</td>\n",
       "    </tr>\n",
       "    <tr>\n",
       "      <th>2</th>\n",
       "      <td>2.219192</td>\n",
       "      <td>-2.688940</td>\n",
       "      <td>-2.058306</td>\n",
       "      <td>-0.278081</td>\n",
       "    </tr>\n",
       "    <tr>\n",
       "      <th>3</th>\n",
       "      <td>0.827202</td>\n",
       "      <td>0.330305</td>\n",
       "      <td>-1.043607</td>\n",
       "      <td>-1.220261</td>\n",
       "    </tr>\n",
       "    <tr>\n",
       "      <th>4</th>\n",
       "      <td>0.092606</td>\n",
       "      <td>1.189755</td>\n",
       "      <td>-0.685962</td>\n",
       "      <td>0.922704</td>\n",
       "    </tr>\n",
       "  </tbody>\n",
       "</table>\n",
       "</div>"
      ],
      "text/plain": [
       "          A         B         C         D\n",
       "0 -0.109411 -1.162366 -0.424828 -1.366838\n",
       "1 -0.861574 -0.832344  0.151350  1.048745\n",
       "2  2.219192 -2.688940 -2.058306 -0.278081\n",
       "3  0.827202  0.330305 -1.043607 -1.220261\n",
       "4  0.092606  1.189755 -0.685962  0.922704"
      ]
     },
     "execution_count": 7,
     "metadata": {},
     "output_type": "execute_result"
    }
   ],
   "source": [
    "df.head()"
   ]
  },
  {
   "cell_type": "code",
   "execution_count": 8,
   "metadata": {},
   "outputs": [],
   "source": [
    "df2 = pd.DataFrame({'Category':['A','B','C'],'Values':[32,43,50]})"
   ]
  },
  {
   "cell_type": "code",
   "execution_count": 9,
   "metadata": {},
   "outputs": [
    {
     "data": {
      "text/html": [
       "<div>\n",
       "<style scoped>\n",
       "    .dataframe tbody tr th:only-of-type {\n",
       "        vertical-align: middle;\n",
       "    }\n",
       "\n",
       "    .dataframe tbody tr th {\n",
       "        vertical-align: top;\n",
       "    }\n",
       "\n",
       "    .dataframe thead th {\n",
       "        text-align: right;\n",
       "    }\n",
       "</style>\n",
       "<table border=\"1\" class=\"dataframe\">\n",
       "  <thead>\n",
       "    <tr style=\"text-align: right;\">\n",
       "      <th></th>\n",
       "      <th>Category</th>\n",
       "      <th>Values</th>\n",
       "    </tr>\n",
       "  </thead>\n",
       "  <tbody>\n",
       "    <tr>\n",
       "      <th>0</th>\n",
       "      <td>A</td>\n",
       "      <td>32</td>\n",
       "    </tr>\n",
       "    <tr>\n",
       "      <th>1</th>\n",
       "      <td>B</td>\n",
       "      <td>43</td>\n",
       "    </tr>\n",
       "    <tr>\n",
       "      <th>2</th>\n",
       "      <td>C</td>\n",
       "      <td>50</td>\n",
       "    </tr>\n",
       "  </tbody>\n",
       "</table>\n",
       "</div>"
      ],
      "text/plain": [
       "  Category  Values\n",
       "0        A      32\n",
       "1        B      43\n",
       "2        C      50"
      ]
     },
     "execution_count": 9,
     "metadata": {},
     "output_type": "execute_result"
    }
   ],
   "source": [
    "df2.head()"
   ]
  },
  {
   "cell_type": "markdown",
   "metadata": {},
   "source": [
    "## Using Cufflinks and iplot()\n",
    "\n",
    "* scatter\n",
    "* bar\n",
    "* box\n",
    "* spread\n",
    "* ratio\n",
    "* heatmap\n",
    "* surface\n",
    "* histogram\n",
    "* bubble"
   ]
  },
  {
   "cell_type": "markdown",
   "metadata": {},
   "source": [
    "## Scatter"
   ]
  },
  {
   "cell_type": "code",
   "execution_count": 10,
   "metadata": {},
   "outputs": [
    {
     "data": {
      "application/vnd.plotly.v1+json": {
       "config": {
        "linkText": "Export to chart-studio.plotly.com",
        "plotlyServerURL": "https://chart-studio.plotly.com",
        "showLink": true
       },
       "data": [
        {
         "line": {
          "color": "rgba(255, 153, 51, 1.0)",
          "dash": "solid",
          "shape": "linear",
          "width": 1.3
         },
         "marker": {
          "size": 10,
          "symbol": "circle"
         },
         "mode": "markers",
         "name": "B",
         "text": "",
         "type": "scatter",
         "x": [
          -0.10941102931249815,
          -0.8615740729354732,
          2.2191920448516105,
          0.8272024104553013,
          0.09260580476298218,
          -1.760498313088278,
          -1.3580352833088245,
          0.2837646296039586,
          0.9041110135710683,
          1.8963016027309272,
          1.8326035595389771,
          -0.10492725231921943,
          -0.2046535814758173,
          -0.10024462278595839,
          0.09630022741523961,
          -1.6924637530883027,
          -1.827533202226689,
          0.535830442200243,
          -1.9360645912018926,
          -0.8500344647105456,
          -0.05576325053126793,
          -0.23323577819050917,
          -0.6976270715849751,
          1.5307238079283552,
          1.2999535047751662,
          0.3303505037693656,
          -1.000663879444441,
          0.6308438849860508,
          1.3055824565890246,
          -0.40507941245360185,
          -0.3762913856446127,
          -1.7176097901649348,
          0.053400975014509904,
          0.21780304650270754,
          -0.3855545352890779,
          -0.5661844716568739,
          -2.560368808121754,
          0.3407561655250713,
          -0.48386581194026446,
          -1.585339192511962,
          0.02408347448600361,
          -1.2346577797624294,
          0.787854145181569,
          -1.9996732709740686,
          1.1464586983894467,
          1.496126645525582,
          0.5008657636740425,
          0.9484308471915603,
          0.08220806231666754,
          0.16054214225587957,
          0.38751961200206325,
          -0.47077345204718146,
          0.35760076104911215,
          -0.1544322284853308,
          0.7463179133033808,
          -1.502516121508507,
          0.5725392099395142,
          1.3913604236343293,
          2.1210719379328893,
          1.8773383992501935,
          1.2544431720187816,
          -0.694049794215334,
          2.502637085459896,
          -0.2753756798548901,
          -0.004244286821838908,
          0.09242496481751918,
          0.04883874317874036,
          -1.1291816313913836,
          -1.4004908252511359,
          -1.8213043294508382,
          -0.5701748178839355,
          1.0309248997596467,
          0.8003828152110333,
          0.47792794445750864,
          -0.26747921252634377,
          1.3405762679316036,
          -0.7221850291354602,
          1.7212787438610841,
          -1.3063358071403264,
          1.0957687559126097,
          -0.6871292686938323,
          -1.0645803968637746,
          0.7238126783784861,
          -1.9096265686281966,
          -0.6711390977232885,
          0.21744931156823238,
          0.23485404452984696,
          0.6167907699912447,
          0.387826246423899,
          0.9056443724871143,
          -0.35038815349392105,
          -1.069160929980094,
          -0.6957064695988187,
          0.35168615193685204,
          -2.505057701868909,
          0.5038066984983418,
          -2.1427877817529133,
          0.4174077862768109,
          1.0829115331525192,
          -0.9391761272870766
         ],
         "y": [
          -1.1623662874693783,
          -0.832344062710519,
          -2.6889403263457887,
          0.33030460644081305,
          1.1897554957994894,
          -1.8295725952943718,
          -0.31134257611300087,
          -1.1150256707068056,
          1.1293886257293613,
          -0.20946608413393494,
          1.2949281437111222,
          0.7526921284010667,
          -0.3016330292488494,
          -0.03385842274369277,
          1.6780856289595902,
          1.1594910401462286,
          -1.6476591553972537,
          1.008497261373339,
          -0.6225470768959404,
          1.1991325015261836,
          -0.4704071561565932,
          0.8446723097825432,
          -1.2536342767984199,
          -0.9130082305126809,
          0.714353984339348,
          1.751443829854967,
          0.21766931930498662,
          0.6463839680678777,
          -1.7860941457977224,
          0.08881002354599406,
          -1.0678176090017426,
          -0.8816616633014966,
          -0.4480884978479455,
          -0.17539412892110837,
          0.19768867636516496,
          1.141342779188351,
          2.164771524215948,
          -0.016755546990118633,
          -1.7998811328448996,
          0.5442419970493254,
          -1.3562236272994466,
          0.2361511721120601,
          -0.8759959347156709,
          0.9273697244945078,
          -0.993762710016327,
          -0.12916485697785596,
          0.3245348617171941,
          0.8534569933866769,
          0.17396641552513492,
          -0.9579470225201236,
          0.04858908835109987,
          0.8129978238418555,
          -1.139226529424848,
          -0.1847432796748167,
          -1.3413819334330195,
          -0.2619249158317706,
          0.6516947357167101,
          1.675280779975995,
          -0.08984333109714171,
          -1.008464832427633,
          1.4740205657881218,
          0.5898484277272196,
          1.4435777212407885,
          -0.2364445961537404,
          -1.0875497083560146,
          -0.7298597590313212,
          -0.4145246652858039,
          -0.0403125523078092,
          1.8821837770362133,
          0.6523163439049054,
          -0.5319318714142541,
          -0.886569382439567,
          -1.57164561702653,
          -1.000733094004772,
          2.252092004447659,
          -0.9484906947123748,
          -1.5745344460769646,
          -0.1147773069126533,
          0.9570101068451705,
          0.8874610915201626,
          1.299598381237897,
          -1.9866886312472394,
          1.769202555822619,
          0.16318296330031146,
          -1.2255227926674428,
          0.08450632457157951,
          0.6749511586498979,
          0.8059974077581394,
          1.3743939631390771,
          0.6836318367306438,
          -0.8852015947588725,
          0.3855881334460895,
          2.0189809445009406,
          1.8117916079776115,
          -0.35933136617635036,
          -0.0673320225340837,
          -1.3580807726174224,
          0.23268662608029927,
          1.1247466248431852,
          -2.536863370877376
         ]
        }
       ],
       "layout": {
        "legend": {
         "bgcolor": "#F5F6F9",
         "font": {
          "color": "#4D5663"
         }
        },
        "paper_bgcolor": "#F5F6F9",
        "plot_bgcolor": "#F5F6F9",
        "template": {
         "data": {
          "bar": [
           {
            "error_x": {
             "color": "#2a3f5f"
            },
            "error_y": {
             "color": "#2a3f5f"
            },
            "marker": {
             "line": {
              "color": "#E5ECF6",
              "width": 0.5
             }
            },
            "type": "bar"
           }
          ],
          "barpolar": [
           {
            "marker": {
             "line": {
              "color": "#E5ECF6",
              "width": 0.5
             }
            },
            "type": "barpolar"
           }
          ],
          "carpet": [
           {
            "aaxis": {
             "endlinecolor": "#2a3f5f",
             "gridcolor": "white",
             "linecolor": "white",
             "minorgridcolor": "white",
             "startlinecolor": "#2a3f5f"
            },
            "baxis": {
             "endlinecolor": "#2a3f5f",
             "gridcolor": "white",
             "linecolor": "white",
             "minorgridcolor": "white",
             "startlinecolor": "#2a3f5f"
            },
            "type": "carpet"
           }
          ],
          "choropleth": [
           {
            "colorbar": {
             "outlinewidth": 0,
             "ticks": ""
            },
            "type": "choropleth"
           }
          ],
          "contour": [
           {
            "colorbar": {
             "outlinewidth": 0,
             "ticks": ""
            },
            "colorscale": [
             [
              0,
              "#0d0887"
             ],
             [
              0.1111111111111111,
              "#46039f"
             ],
             [
              0.2222222222222222,
              "#7201a8"
             ],
             [
              0.3333333333333333,
              "#9c179e"
             ],
             [
              0.4444444444444444,
              "#bd3786"
             ],
             [
              0.5555555555555556,
              "#d8576b"
             ],
             [
              0.6666666666666666,
              "#ed7953"
             ],
             [
              0.7777777777777778,
              "#fb9f3a"
             ],
             [
              0.8888888888888888,
              "#fdca26"
             ],
             [
              1,
              "#f0f921"
             ]
            ],
            "type": "contour"
           }
          ],
          "contourcarpet": [
           {
            "colorbar": {
             "outlinewidth": 0,
             "ticks": ""
            },
            "type": "contourcarpet"
           }
          ],
          "heatmap": [
           {
            "colorbar": {
             "outlinewidth": 0,
             "ticks": ""
            },
            "colorscale": [
             [
              0,
              "#0d0887"
             ],
             [
              0.1111111111111111,
              "#46039f"
             ],
             [
              0.2222222222222222,
              "#7201a8"
             ],
             [
              0.3333333333333333,
              "#9c179e"
             ],
             [
              0.4444444444444444,
              "#bd3786"
             ],
             [
              0.5555555555555556,
              "#d8576b"
             ],
             [
              0.6666666666666666,
              "#ed7953"
             ],
             [
              0.7777777777777778,
              "#fb9f3a"
             ],
             [
              0.8888888888888888,
              "#fdca26"
             ],
             [
              1,
              "#f0f921"
             ]
            ],
            "type": "heatmap"
           }
          ],
          "heatmapgl": [
           {
            "colorbar": {
             "outlinewidth": 0,
             "ticks": ""
            },
            "colorscale": [
             [
              0,
              "#0d0887"
             ],
             [
              0.1111111111111111,
              "#46039f"
             ],
             [
              0.2222222222222222,
              "#7201a8"
             ],
             [
              0.3333333333333333,
              "#9c179e"
             ],
             [
              0.4444444444444444,
              "#bd3786"
             ],
             [
              0.5555555555555556,
              "#d8576b"
             ],
             [
              0.6666666666666666,
              "#ed7953"
             ],
             [
              0.7777777777777778,
              "#fb9f3a"
             ],
             [
              0.8888888888888888,
              "#fdca26"
             ],
             [
              1,
              "#f0f921"
             ]
            ],
            "type": "heatmapgl"
           }
          ],
          "histogram": [
           {
            "marker": {
             "colorbar": {
              "outlinewidth": 0,
              "ticks": ""
             }
            },
            "type": "histogram"
           }
          ],
          "histogram2d": [
           {
            "colorbar": {
             "outlinewidth": 0,
             "ticks": ""
            },
            "colorscale": [
             [
              0,
              "#0d0887"
             ],
             [
              0.1111111111111111,
              "#46039f"
             ],
             [
              0.2222222222222222,
              "#7201a8"
             ],
             [
              0.3333333333333333,
              "#9c179e"
             ],
             [
              0.4444444444444444,
              "#bd3786"
             ],
             [
              0.5555555555555556,
              "#d8576b"
             ],
             [
              0.6666666666666666,
              "#ed7953"
             ],
             [
              0.7777777777777778,
              "#fb9f3a"
             ],
             [
              0.8888888888888888,
              "#fdca26"
             ],
             [
              1,
              "#f0f921"
             ]
            ],
            "type": "histogram2d"
           }
          ],
          "histogram2dcontour": [
           {
            "colorbar": {
             "outlinewidth": 0,
             "ticks": ""
            },
            "colorscale": [
             [
              0,
              "#0d0887"
             ],
             [
              0.1111111111111111,
              "#46039f"
             ],
             [
              0.2222222222222222,
              "#7201a8"
             ],
             [
              0.3333333333333333,
              "#9c179e"
             ],
             [
              0.4444444444444444,
              "#bd3786"
             ],
             [
              0.5555555555555556,
              "#d8576b"
             ],
             [
              0.6666666666666666,
              "#ed7953"
             ],
             [
              0.7777777777777778,
              "#fb9f3a"
             ],
             [
              0.8888888888888888,
              "#fdca26"
             ],
             [
              1,
              "#f0f921"
             ]
            ],
            "type": "histogram2dcontour"
           }
          ],
          "mesh3d": [
           {
            "colorbar": {
             "outlinewidth": 0,
             "ticks": ""
            },
            "type": "mesh3d"
           }
          ],
          "parcoords": [
           {
            "line": {
             "colorbar": {
              "outlinewidth": 0,
              "ticks": ""
             }
            },
            "type": "parcoords"
           }
          ],
          "pie": [
           {
            "automargin": true,
            "type": "pie"
           }
          ],
          "scatter": [
           {
            "marker": {
             "colorbar": {
              "outlinewidth": 0,
              "ticks": ""
             }
            },
            "type": "scatter"
           }
          ],
          "scatter3d": [
           {
            "line": {
             "colorbar": {
              "outlinewidth": 0,
              "ticks": ""
             }
            },
            "marker": {
             "colorbar": {
              "outlinewidth": 0,
              "ticks": ""
             }
            },
            "type": "scatter3d"
           }
          ],
          "scattercarpet": [
           {
            "marker": {
             "colorbar": {
              "outlinewidth": 0,
              "ticks": ""
             }
            },
            "type": "scattercarpet"
           }
          ],
          "scattergeo": [
           {
            "marker": {
             "colorbar": {
              "outlinewidth": 0,
              "ticks": ""
             }
            },
            "type": "scattergeo"
           }
          ],
          "scattergl": [
           {
            "marker": {
             "colorbar": {
              "outlinewidth": 0,
              "ticks": ""
             }
            },
            "type": "scattergl"
           }
          ],
          "scattermapbox": [
           {
            "marker": {
             "colorbar": {
              "outlinewidth": 0,
              "ticks": ""
             }
            },
            "type": "scattermapbox"
           }
          ],
          "scatterpolar": [
           {
            "marker": {
             "colorbar": {
              "outlinewidth": 0,
              "ticks": ""
             }
            },
            "type": "scatterpolar"
           }
          ],
          "scatterpolargl": [
           {
            "marker": {
             "colorbar": {
              "outlinewidth": 0,
              "ticks": ""
             }
            },
            "type": "scatterpolargl"
           }
          ],
          "scatterternary": [
           {
            "marker": {
             "colorbar": {
              "outlinewidth": 0,
              "ticks": ""
             }
            },
            "type": "scatterternary"
           }
          ],
          "surface": [
           {
            "colorbar": {
             "outlinewidth": 0,
             "ticks": ""
            },
            "colorscale": [
             [
              0,
              "#0d0887"
             ],
             [
              0.1111111111111111,
              "#46039f"
             ],
             [
              0.2222222222222222,
              "#7201a8"
             ],
             [
              0.3333333333333333,
              "#9c179e"
             ],
             [
              0.4444444444444444,
              "#bd3786"
             ],
             [
              0.5555555555555556,
              "#d8576b"
             ],
             [
              0.6666666666666666,
              "#ed7953"
             ],
             [
              0.7777777777777778,
              "#fb9f3a"
             ],
             [
              0.8888888888888888,
              "#fdca26"
             ],
             [
              1,
              "#f0f921"
             ]
            ],
            "type": "surface"
           }
          ],
          "table": [
           {
            "cells": {
             "fill": {
              "color": "#EBF0F8"
             },
             "line": {
              "color": "white"
             }
            },
            "header": {
             "fill": {
              "color": "#C8D4E3"
             },
             "line": {
              "color": "white"
             }
            },
            "type": "table"
           }
          ]
         },
         "layout": {
          "annotationdefaults": {
           "arrowcolor": "#2a3f5f",
           "arrowhead": 0,
           "arrowwidth": 1
          },
          "autotypenumbers": "strict",
          "coloraxis": {
           "colorbar": {
            "outlinewidth": 0,
            "ticks": ""
           }
          },
          "colorscale": {
           "diverging": [
            [
             0,
             "#8e0152"
            ],
            [
             0.1,
             "#c51b7d"
            ],
            [
             0.2,
             "#de77ae"
            ],
            [
             0.3,
             "#f1b6da"
            ],
            [
             0.4,
             "#fde0ef"
            ],
            [
             0.5,
             "#f7f7f7"
            ],
            [
             0.6,
             "#e6f5d0"
            ],
            [
             0.7,
             "#b8e186"
            ],
            [
             0.8,
             "#7fbc41"
            ],
            [
             0.9,
             "#4d9221"
            ],
            [
             1,
             "#276419"
            ]
           ],
           "sequential": [
            [
             0,
             "#0d0887"
            ],
            [
             0.1111111111111111,
             "#46039f"
            ],
            [
             0.2222222222222222,
             "#7201a8"
            ],
            [
             0.3333333333333333,
             "#9c179e"
            ],
            [
             0.4444444444444444,
             "#bd3786"
            ],
            [
             0.5555555555555556,
             "#d8576b"
            ],
            [
             0.6666666666666666,
             "#ed7953"
            ],
            [
             0.7777777777777778,
             "#fb9f3a"
            ],
            [
             0.8888888888888888,
             "#fdca26"
            ],
            [
             1,
             "#f0f921"
            ]
           ],
           "sequentialminus": [
            [
             0,
             "#0d0887"
            ],
            [
             0.1111111111111111,
             "#46039f"
            ],
            [
             0.2222222222222222,
             "#7201a8"
            ],
            [
             0.3333333333333333,
             "#9c179e"
            ],
            [
             0.4444444444444444,
             "#bd3786"
            ],
            [
             0.5555555555555556,
             "#d8576b"
            ],
            [
             0.6666666666666666,
             "#ed7953"
            ],
            [
             0.7777777777777778,
             "#fb9f3a"
            ],
            [
             0.8888888888888888,
             "#fdca26"
            ],
            [
             1,
             "#f0f921"
            ]
           ]
          },
          "colorway": [
           "#636efa",
           "#EF553B",
           "#00cc96",
           "#ab63fa",
           "#FFA15A",
           "#19d3f3",
           "#FF6692",
           "#B6E880",
           "#FF97FF",
           "#FECB52"
          ],
          "font": {
           "color": "#2a3f5f"
          },
          "geo": {
           "bgcolor": "white",
           "lakecolor": "white",
           "landcolor": "#E5ECF6",
           "showlakes": true,
           "showland": true,
           "subunitcolor": "white"
          },
          "hoverlabel": {
           "align": "left"
          },
          "hovermode": "closest",
          "mapbox": {
           "style": "light"
          },
          "paper_bgcolor": "white",
          "plot_bgcolor": "#E5ECF6",
          "polar": {
           "angularaxis": {
            "gridcolor": "white",
            "linecolor": "white",
            "ticks": ""
           },
           "bgcolor": "#E5ECF6",
           "radialaxis": {
            "gridcolor": "white",
            "linecolor": "white",
            "ticks": ""
           }
          },
          "scene": {
           "xaxis": {
            "backgroundcolor": "#E5ECF6",
            "gridcolor": "white",
            "gridwidth": 2,
            "linecolor": "white",
            "showbackground": true,
            "ticks": "",
            "zerolinecolor": "white"
           },
           "yaxis": {
            "backgroundcolor": "#E5ECF6",
            "gridcolor": "white",
            "gridwidth": 2,
            "linecolor": "white",
            "showbackground": true,
            "ticks": "",
            "zerolinecolor": "white"
           },
           "zaxis": {
            "backgroundcolor": "#E5ECF6",
            "gridcolor": "white",
            "gridwidth": 2,
            "linecolor": "white",
            "showbackground": true,
            "ticks": "",
            "zerolinecolor": "white"
           }
          },
          "shapedefaults": {
           "line": {
            "color": "#2a3f5f"
           }
          },
          "ternary": {
           "aaxis": {
            "gridcolor": "white",
            "linecolor": "white",
            "ticks": ""
           },
           "baxis": {
            "gridcolor": "white",
            "linecolor": "white",
            "ticks": ""
           },
           "bgcolor": "#E5ECF6",
           "caxis": {
            "gridcolor": "white",
            "linecolor": "white",
            "ticks": ""
           }
          },
          "title": {
           "x": 0.05
          },
          "xaxis": {
           "automargin": true,
           "gridcolor": "white",
           "linecolor": "white",
           "ticks": "",
           "title": {
            "standoff": 15
           },
           "zerolinecolor": "white",
           "zerolinewidth": 2
          },
          "yaxis": {
           "automargin": true,
           "gridcolor": "white",
           "linecolor": "white",
           "ticks": "",
           "title": {
            "standoff": 15
           },
           "zerolinecolor": "white",
           "zerolinewidth": 2
          }
         }
        },
        "title": {
         "font": {
          "color": "#4D5663"
         }
        },
        "xaxis": {
         "gridcolor": "#E1E5ED",
         "showgrid": true,
         "tickfont": {
          "color": "#4D5663"
         },
         "title": {
          "font": {
           "color": "#4D5663"
          },
          "text": ""
         },
         "zerolinecolor": "#E1E5ED"
        },
        "yaxis": {
         "gridcolor": "#E1E5ED",
         "showgrid": true,
         "tickfont": {
          "color": "#4D5663"
         },
         "title": {
          "font": {
           "color": "#4D5663"
          },
          "text": ""
         },
         "zerolinecolor": "#E1E5ED"
        }
       }
      },
      "text/html": [
       "<div>                            <div id=\"b4ed7843-3979-43d0-97cb-87054ceea3c7\" class=\"plotly-graph-div\" style=\"height:525px; width:100%;\"></div>            <script type=\"text/javascript\">                require([\"plotly\"], function(Plotly) {                    window.PLOTLYENV=window.PLOTLYENV || {};\n",
       "                    window.PLOTLYENV.BASE_URL='https://chart-studio.plotly.com';                                    if (document.getElementById(\"b4ed7843-3979-43d0-97cb-87054ceea3c7\")) {                    Plotly.newPlot(                        \"b4ed7843-3979-43d0-97cb-87054ceea3c7\",                        [{\"line\": {\"color\": \"rgba(255, 153, 51, 1.0)\", \"dash\": \"solid\", \"shape\": \"linear\", \"width\": 1.3}, \"marker\": {\"size\": 10, \"symbol\": \"circle\"}, \"mode\": \"markers\", \"name\": \"B\", \"text\": \"\", \"type\": \"scatter\", \"x\": [-0.10941102931249815, -0.8615740729354732, 2.2191920448516105, 0.8272024104553013, 0.09260580476298218, -1.760498313088278, -1.3580352833088245, 0.2837646296039586, 0.9041110135710683, 1.8963016027309272, 1.8326035595389771, -0.10492725231921943, -0.2046535814758173, -0.10024462278595839, 0.09630022741523961, -1.6924637530883027, -1.827533202226689, 0.535830442200243, -1.9360645912018926, -0.8500344647105456, -0.05576325053126793, -0.23323577819050917, -0.6976270715849751, 1.5307238079283552, 1.2999535047751662, 0.3303505037693656, -1.000663879444441, 0.6308438849860508, 1.3055824565890246, -0.40507941245360185, -0.3762913856446127, -1.7176097901649348, 0.053400975014509904, 0.21780304650270754, -0.3855545352890779, -0.5661844716568739, -2.560368808121754, 0.3407561655250713, -0.48386581194026446, -1.585339192511962, 0.02408347448600361, -1.2346577797624294, 0.787854145181569, -1.9996732709740686, 1.1464586983894467, 1.496126645525582, 0.5008657636740425, 0.9484308471915603, 0.08220806231666754, 0.16054214225587957, 0.38751961200206325, -0.47077345204718146, 0.35760076104911215, -0.1544322284853308, 0.7463179133033808, -1.502516121508507, 0.5725392099395142, 1.3913604236343293, 2.1210719379328893, 1.8773383992501935, 1.2544431720187816, -0.694049794215334, 2.502637085459896, -0.2753756798548901, -0.004244286821838908, 0.09242496481751918, 0.04883874317874036, -1.1291816313913836, -1.4004908252511359, -1.8213043294508382, -0.5701748178839355, 1.0309248997596467, 0.8003828152110333, 0.47792794445750864, -0.26747921252634377, 1.3405762679316036, -0.7221850291354602, 1.7212787438610841, -1.3063358071403264, 1.0957687559126097, -0.6871292686938323, -1.0645803968637746, 0.7238126783784861, -1.9096265686281966, -0.6711390977232885, 0.21744931156823238, 0.23485404452984696, 0.6167907699912447, 0.387826246423899, 0.9056443724871143, -0.35038815349392105, -1.069160929980094, -0.6957064695988187, 0.35168615193685204, -2.505057701868909, 0.5038066984983418, -2.1427877817529133, 0.4174077862768109, 1.0829115331525192, -0.9391761272870766], \"y\": [-1.1623662874693783, -0.832344062710519, -2.6889403263457887, 0.33030460644081305, 1.1897554957994894, -1.8295725952943718, -0.31134257611300087, -1.1150256707068056, 1.1293886257293613, -0.20946608413393494, 1.2949281437111222, 0.7526921284010667, -0.3016330292488494, -0.03385842274369277, 1.6780856289595902, 1.1594910401462286, -1.6476591553972537, 1.008497261373339, -0.6225470768959404, 1.1991325015261836, -0.4704071561565932, 0.8446723097825432, -1.2536342767984199, -0.9130082305126809, 0.714353984339348, 1.751443829854967, 0.21766931930498662, 0.6463839680678777, -1.7860941457977224, 0.08881002354599406, -1.0678176090017426, -0.8816616633014966, -0.4480884978479455, -0.17539412892110837, 0.19768867636516496, 1.141342779188351, 2.164771524215948, -0.016755546990118633, -1.7998811328448996, 0.5442419970493254, -1.3562236272994466, 0.2361511721120601, -0.8759959347156709, 0.9273697244945078, -0.993762710016327, -0.12916485697785596, 0.3245348617171941, 0.8534569933866769, 0.17396641552513492, -0.9579470225201236, 0.04858908835109987, 0.8129978238418555, -1.139226529424848, -0.1847432796748167, -1.3413819334330195, -0.2619249158317706, 0.6516947357167101, 1.675280779975995, -0.08984333109714171, -1.008464832427633, 1.4740205657881218, 0.5898484277272196, 1.4435777212407885, -0.2364445961537404, -1.0875497083560146, -0.7298597590313212, -0.4145246652858039, -0.0403125523078092, 1.8821837770362133, 0.6523163439049054, -0.5319318714142541, -0.886569382439567, -1.57164561702653, -1.000733094004772, 2.252092004447659, -0.9484906947123748, -1.5745344460769646, -0.1147773069126533, 0.9570101068451705, 0.8874610915201626, 1.299598381237897, -1.9866886312472394, 1.769202555822619, 0.16318296330031146, -1.2255227926674428, 0.08450632457157951, 0.6749511586498979, 0.8059974077581394, 1.3743939631390771, 0.6836318367306438, -0.8852015947588725, 0.3855881334460895, 2.0189809445009406, 1.8117916079776115, -0.35933136617635036, -0.0673320225340837, -1.3580807726174224, 0.23268662608029927, 1.1247466248431852, -2.536863370877376]}],                        {\"legend\": {\"bgcolor\": \"#F5F6F9\", \"font\": {\"color\": \"#4D5663\"}}, \"paper_bgcolor\": \"#F5F6F9\", \"plot_bgcolor\": \"#F5F6F9\", \"template\": {\"data\": {\"bar\": [{\"error_x\": {\"color\": \"#2a3f5f\"}, \"error_y\": {\"color\": \"#2a3f5f\"}, \"marker\": {\"line\": {\"color\": \"#E5ECF6\", \"width\": 0.5}}, \"type\": \"bar\"}], \"barpolar\": [{\"marker\": {\"line\": {\"color\": \"#E5ECF6\", \"width\": 0.5}}, \"type\": \"barpolar\"}], \"carpet\": [{\"aaxis\": {\"endlinecolor\": \"#2a3f5f\", \"gridcolor\": \"white\", \"linecolor\": \"white\", \"minorgridcolor\": \"white\", \"startlinecolor\": \"#2a3f5f\"}, \"baxis\": {\"endlinecolor\": \"#2a3f5f\", \"gridcolor\": \"white\", \"linecolor\": \"white\", \"minorgridcolor\": \"white\", \"startlinecolor\": \"#2a3f5f\"}, \"type\": \"carpet\"}], \"choropleth\": [{\"colorbar\": {\"outlinewidth\": 0, \"ticks\": \"\"}, \"type\": \"choropleth\"}], \"contour\": [{\"colorbar\": {\"outlinewidth\": 0, \"ticks\": \"\"}, \"colorscale\": [[0.0, \"#0d0887\"], [0.1111111111111111, \"#46039f\"], [0.2222222222222222, \"#7201a8\"], [0.3333333333333333, \"#9c179e\"], [0.4444444444444444, \"#bd3786\"], [0.5555555555555556, \"#d8576b\"], [0.6666666666666666, \"#ed7953\"], [0.7777777777777778, \"#fb9f3a\"], [0.8888888888888888, \"#fdca26\"], [1.0, \"#f0f921\"]], \"type\": \"contour\"}], \"contourcarpet\": [{\"colorbar\": {\"outlinewidth\": 0, \"ticks\": \"\"}, \"type\": \"contourcarpet\"}], \"heatmap\": [{\"colorbar\": {\"outlinewidth\": 0, \"ticks\": \"\"}, \"colorscale\": [[0.0, \"#0d0887\"], [0.1111111111111111, \"#46039f\"], [0.2222222222222222, \"#7201a8\"], [0.3333333333333333, \"#9c179e\"], [0.4444444444444444, \"#bd3786\"], [0.5555555555555556, \"#d8576b\"], [0.6666666666666666, \"#ed7953\"], [0.7777777777777778, \"#fb9f3a\"], [0.8888888888888888, \"#fdca26\"], [1.0, \"#f0f921\"]], \"type\": \"heatmap\"}], \"heatmapgl\": [{\"colorbar\": {\"outlinewidth\": 0, \"ticks\": \"\"}, \"colorscale\": [[0.0, \"#0d0887\"], [0.1111111111111111, \"#46039f\"], [0.2222222222222222, \"#7201a8\"], [0.3333333333333333, \"#9c179e\"], [0.4444444444444444, \"#bd3786\"], [0.5555555555555556, \"#d8576b\"], [0.6666666666666666, \"#ed7953\"], [0.7777777777777778, \"#fb9f3a\"], [0.8888888888888888, \"#fdca26\"], [1.0, \"#f0f921\"]], \"type\": \"heatmapgl\"}], \"histogram\": [{\"marker\": {\"colorbar\": {\"outlinewidth\": 0, \"ticks\": \"\"}}, \"type\": \"histogram\"}], \"histogram2d\": [{\"colorbar\": {\"outlinewidth\": 0, \"ticks\": \"\"}, \"colorscale\": [[0.0, \"#0d0887\"], [0.1111111111111111, \"#46039f\"], [0.2222222222222222, \"#7201a8\"], [0.3333333333333333, \"#9c179e\"], [0.4444444444444444, \"#bd3786\"], [0.5555555555555556, \"#d8576b\"], [0.6666666666666666, \"#ed7953\"], [0.7777777777777778, \"#fb9f3a\"], [0.8888888888888888, \"#fdca26\"], [1.0, \"#f0f921\"]], \"type\": \"histogram2d\"}], \"histogram2dcontour\": [{\"colorbar\": {\"outlinewidth\": 0, \"ticks\": \"\"}, \"colorscale\": [[0.0, \"#0d0887\"], [0.1111111111111111, \"#46039f\"], [0.2222222222222222, \"#7201a8\"], [0.3333333333333333, \"#9c179e\"], [0.4444444444444444, \"#bd3786\"], [0.5555555555555556, \"#d8576b\"], [0.6666666666666666, \"#ed7953\"], [0.7777777777777778, \"#fb9f3a\"], [0.8888888888888888, \"#fdca26\"], [1.0, \"#f0f921\"]], \"type\": \"histogram2dcontour\"}], \"mesh3d\": [{\"colorbar\": {\"outlinewidth\": 0, \"ticks\": \"\"}, \"type\": \"mesh3d\"}], \"parcoords\": [{\"line\": {\"colorbar\": {\"outlinewidth\": 0, \"ticks\": \"\"}}, \"type\": \"parcoords\"}], \"pie\": [{\"automargin\": true, \"type\": \"pie\"}], \"scatter\": [{\"marker\": {\"colorbar\": {\"outlinewidth\": 0, \"ticks\": \"\"}}, \"type\": \"scatter\"}], \"scatter3d\": [{\"line\": {\"colorbar\": {\"outlinewidth\": 0, \"ticks\": \"\"}}, \"marker\": {\"colorbar\": {\"outlinewidth\": 0, \"ticks\": \"\"}}, \"type\": \"scatter3d\"}], \"scattercarpet\": [{\"marker\": {\"colorbar\": {\"outlinewidth\": 0, \"ticks\": \"\"}}, \"type\": \"scattercarpet\"}], \"scattergeo\": [{\"marker\": {\"colorbar\": {\"outlinewidth\": 0, \"ticks\": \"\"}}, \"type\": \"scattergeo\"}], \"scattergl\": [{\"marker\": {\"colorbar\": {\"outlinewidth\": 0, \"ticks\": \"\"}}, \"type\": \"scattergl\"}], \"scattermapbox\": [{\"marker\": {\"colorbar\": {\"outlinewidth\": 0, \"ticks\": \"\"}}, \"type\": \"scattermapbox\"}], \"scatterpolar\": [{\"marker\": {\"colorbar\": {\"outlinewidth\": 0, \"ticks\": \"\"}}, \"type\": \"scatterpolar\"}], \"scatterpolargl\": [{\"marker\": {\"colorbar\": {\"outlinewidth\": 0, \"ticks\": \"\"}}, \"type\": \"scatterpolargl\"}], \"scatterternary\": [{\"marker\": {\"colorbar\": {\"outlinewidth\": 0, \"ticks\": \"\"}}, \"type\": \"scatterternary\"}], \"surface\": [{\"colorbar\": {\"outlinewidth\": 0, \"ticks\": \"\"}, \"colorscale\": [[0.0, \"#0d0887\"], [0.1111111111111111, \"#46039f\"], [0.2222222222222222, \"#7201a8\"], [0.3333333333333333, \"#9c179e\"], [0.4444444444444444, \"#bd3786\"], [0.5555555555555556, \"#d8576b\"], [0.6666666666666666, \"#ed7953\"], [0.7777777777777778, \"#fb9f3a\"], [0.8888888888888888, \"#fdca26\"], [1.0, \"#f0f921\"]], \"type\": \"surface\"}], \"table\": [{\"cells\": {\"fill\": {\"color\": \"#EBF0F8\"}, \"line\": {\"color\": \"white\"}}, \"header\": {\"fill\": {\"color\": \"#C8D4E3\"}, \"line\": {\"color\": \"white\"}}, \"type\": \"table\"}]}, \"layout\": {\"annotationdefaults\": {\"arrowcolor\": \"#2a3f5f\", \"arrowhead\": 0, \"arrowwidth\": 1}, \"autotypenumbers\": \"strict\", \"coloraxis\": {\"colorbar\": {\"outlinewidth\": 0, \"ticks\": \"\"}}, \"colorscale\": {\"diverging\": [[0, \"#8e0152\"], [0.1, \"#c51b7d\"], [0.2, \"#de77ae\"], [0.3, \"#f1b6da\"], [0.4, \"#fde0ef\"], [0.5, \"#f7f7f7\"], [0.6, \"#e6f5d0\"], [0.7, \"#b8e186\"], [0.8, \"#7fbc41\"], [0.9, \"#4d9221\"], [1, \"#276419\"]], \"sequential\": [[0.0, \"#0d0887\"], [0.1111111111111111, \"#46039f\"], [0.2222222222222222, \"#7201a8\"], [0.3333333333333333, \"#9c179e\"], [0.4444444444444444, \"#bd3786\"], [0.5555555555555556, \"#d8576b\"], [0.6666666666666666, \"#ed7953\"], [0.7777777777777778, \"#fb9f3a\"], [0.8888888888888888, \"#fdca26\"], [1.0, \"#f0f921\"]], \"sequentialminus\": [[0.0, \"#0d0887\"], [0.1111111111111111, \"#46039f\"], [0.2222222222222222, \"#7201a8\"], [0.3333333333333333, \"#9c179e\"], [0.4444444444444444, \"#bd3786\"], [0.5555555555555556, \"#d8576b\"], [0.6666666666666666, \"#ed7953\"], [0.7777777777777778, \"#fb9f3a\"], [0.8888888888888888, \"#fdca26\"], [1.0, \"#f0f921\"]]}, \"colorway\": [\"#636efa\", \"#EF553B\", \"#00cc96\", \"#ab63fa\", \"#FFA15A\", \"#19d3f3\", \"#FF6692\", \"#B6E880\", \"#FF97FF\", \"#FECB52\"], \"font\": {\"color\": \"#2a3f5f\"}, \"geo\": {\"bgcolor\": \"white\", \"lakecolor\": \"white\", \"landcolor\": \"#E5ECF6\", \"showlakes\": true, \"showland\": true, \"subunitcolor\": \"white\"}, \"hoverlabel\": {\"align\": \"left\"}, \"hovermode\": \"closest\", \"mapbox\": {\"style\": \"light\"}, \"paper_bgcolor\": \"white\", \"plot_bgcolor\": \"#E5ECF6\", \"polar\": {\"angularaxis\": {\"gridcolor\": \"white\", \"linecolor\": \"white\", \"ticks\": \"\"}, \"bgcolor\": \"#E5ECF6\", \"radialaxis\": {\"gridcolor\": \"white\", \"linecolor\": \"white\", \"ticks\": \"\"}}, \"scene\": {\"xaxis\": {\"backgroundcolor\": \"#E5ECF6\", \"gridcolor\": \"white\", \"gridwidth\": 2, \"linecolor\": \"white\", \"showbackground\": true, \"ticks\": \"\", \"zerolinecolor\": \"white\"}, \"yaxis\": {\"backgroundcolor\": \"#E5ECF6\", \"gridcolor\": \"white\", \"gridwidth\": 2, \"linecolor\": \"white\", \"showbackground\": true, \"ticks\": \"\", \"zerolinecolor\": \"white\"}, \"zaxis\": {\"backgroundcolor\": \"#E5ECF6\", \"gridcolor\": \"white\", \"gridwidth\": 2, \"linecolor\": \"white\", \"showbackground\": true, \"ticks\": \"\", \"zerolinecolor\": \"white\"}}, \"shapedefaults\": {\"line\": {\"color\": \"#2a3f5f\"}}, \"ternary\": {\"aaxis\": {\"gridcolor\": \"white\", \"linecolor\": \"white\", \"ticks\": \"\"}, \"baxis\": {\"gridcolor\": \"white\", \"linecolor\": \"white\", \"ticks\": \"\"}, \"bgcolor\": \"#E5ECF6\", \"caxis\": {\"gridcolor\": \"white\", \"linecolor\": \"white\", \"ticks\": \"\"}}, \"title\": {\"x\": 0.05}, \"xaxis\": {\"automargin\": true, \"gridcolor\": \"white\", \"linecolor\": \"white\", \"ticks\": \"\", \"title\": {\"standoff\": 15}, \"zerolinecolor\": \"white\", \"zerolinewidth\": 2}, \"yaxis\": {\"automargin\": true, \"gridcolor\": \"white\", \"linecolor\": \"white\", \"ticks\": \"\", \"title\": {\"standoff\": 15}, \"zerolinecolor\": \"white\", \"zerolinewidth\": 2}}}, \"title\": {\"font\": {\"color\": \"#4D5663\"}}, \"xaxis\": {\"gridcolor\": \"#E1E5ED\", \"showgrid\": true, \"tickfont\": {\"color\": \"#4D5663\"}, \"title\": {\"font\": {\"color\": \"#4D5663\"}, \"text\": \"\"}, \"zerolinecolor\": \"#E1E5ED\"}, \"yaxis\": {\"gridcolor\": \"#E1E5ED\", \"showgrid\": true, \"tickfont\": {\"color\": \"#4D5663\"}, \"title\": {\"font\": {\"color\": \"#4D5663\"}, \"text\": \"\"}, \"zerolinecolor\": \"#E1E5ED\"}},                        {\"showLink\": true, \"linkText\": \"Export to chart-studio.plotly.com\", \"plotlyServerURL\": \"https://chart-studio.plotly.com\", \"responsive\": true}                    ).then(function(){\n",
       "                            \n",
       "var gd = document.getElementById('b4ed7843-3979-43d0-97cb-87054ceea3c7');\n",
       "var x = new MutationObserver(function (mutations, observer) {{\n",
       "        var display = window.getComputedStyle(gd).display;\n",
       "        if (!display || display === 'none') {{\n",
       "            console.log([gd, 'removed!']);\n",
       "            Plotly.purge(gd);\n",
       "            observer.disconnect();\n",
       "        }}\n",
       "}});\n",
       "\n",
       "// Listen for the removal of the full notebook cells\n",
       "var notebookContainer = gd.closest('#notebook-container');\n",
       "if (notebookContainer) {{\n",
       "    x.observe(notebookContainer, {childList: true});\n",
       "}}\n",
       "\n",
       "// Listen for the clearing of the current output cell\n",
       "var outputEl = gd.closest('.output');\n",
       "if (outputEl) {{\n",
       "    x.observe(outputEl, {childList: true});\n",
       "}}\n",
       "\n",
       "                        })                };                });            </script>        </div>"
      ]
     },
     "metadata": {},
     "output_type": "display_data"
    }
   ],
   "source": [
    "df.iplot(kind='scatter',x='A',y='B',mode='markers',size=10)"
   ]
  },
  {
   "cell_type": "markdown",
   "metadata": {},
   "source": [
    "## Bar Plots"
   ]
  },
  {
   "cell_type": "code",
   "execution_count": 11,
   "metadata": {},
   "outputs": [
    {
     "data": {
      "application/vnd.plotly.v1+json": {
       "config": {
        "linkText": "Export to chart-studio.plotly.com",
        "plotlyServerURL": "https://chart-studio.plotly.com",
        "showLink": true
       },
       "data": [
        {
         "marker": {
          "color": "rgba(255, 153, 51, 0.6)",
          "line": {
           "color": "rgba(255, 153, 51, 1.0)",
           "width": 1
          }
         },
         "name": "Values",
         "orientation": "v",
         "text": "",
         "type": "bar",
         "x": [
          "A",
          "B",
          "C"
         ],
         "y": [
          32,
          43,
          50
         ]
        }
       ],
       "layout": {
        "legend": {
         "bgcolor": "#F5F6F9",
         "font": {
          "color": "#4D5663"
         }
        },
        "paper_bgcolor": "#F5F6F9",
        "plot_bgcolor": "#F5F6F9",
        "template": {
         "data": {
          "bar": [
           {
            "error_x": {
             "color": "#2a3f5f"
            },
            "error_y": {
             "color": "#2a3f5f"
            },
            "marker": {
             "line": {
              "color": "#E5ECF6",
              "width": 0.5
             }
            },
            "type": "bar"
           }
          ],
          "barpolar": [
           {
            "marker": {
             "line": {
              "color": "#E5ECF6",
              "width": 0.5
             }
            },
            "type": "barpolar"
           }
          ],
          "carpet": [
           {
            "aaxis": {
             "endlinecolor": "#2a3f5f",
             "gridcolor": "white",
             "linecolor": "white",
             "minorgridcolor": "white",
             "startlinecolor": "#2a3f5f"
            },
            "baxis": {
             "endlinecolor": "#2a3f5f",
             "gridcolor": "white",
             "linecolor": "white",
             "minorgridcolor": "white",
             "startlinecolor": "#2a3f5f"
            },
            "type": "carpet"
           }
          ],
          "choropleth": [
           {
            "colorbar": {
             "outlinewidth": 0,
             "ticks": ""
            },
            "type": "choropleth"
           }
          ],
          "contour": [
           {
            "colorbar": {
             "outlinewidth": 0,
             "ticks": ""
            },
            "colorscale": [
             [
              0,
              "#0d0887"
             ],
             [
              0.1111111111111111,
              "#46039f"
             ],
             [
              0.2222222222222222,
              "#7201a8"
             ],
             [
              0.3333333333333333,
              "#9c179e"
             ],
             [
              0.4444444444444444,
              "#bd3786"
             ],
             [
              0.5555555555555556,
              "#d8576b"
             ],
             [
              0.6666666666666666,
              "#ed7953"
             ],
             [
              0.7777777777777778,
              "#fb9f3a"
             ],
             [
              0.8888888888888888,
              "#fdca26"
             ],
             [
              1,
              "#f0f921"
             ]
            ],
            "type": "contour"
           }
          ],
          "contourcarpet": [
           {
            "colorbar": {
             "outlinewidth": 0,
             "ticks": ""
            },
            "type": "contourcarpet"
           }
          ],
          "heatmap": [
           {
            "colorbar": {
             "outlinewidth": 0,
             "ticks": ""
            },
            "colorscale": [
             [
              0,
              "#0d0887"
             ],
             [
              0.1111111111111111,
              "#46039f"
             ],
             [
              0.2222222222222222,
              "#7201a8"
             ],
             [
              0.3333333333333333,
              "#9c179e"
             ],
             [
              0.4444444444444444,
              "#bd3786"
             ],
             [
              0.5555555555555556,
              "#d8576b"
             ],
             [
              0.6666666666666666,
              "#ed7953"
             ],
             [
              0.7777777777777778,
              "#fb9f3a"
             ],
             [
              0.8888888888888888,
              "#fdca26"
             ],
             [
              1,
              "#f0f921"
             ]
            ],
            "type": "heatmap"
           }
          ],
          "heatmapgl": [
           {
            "colorbar": {
             "outlinewidth": 0,
             "ticks": ""
            },
            "colorscale": [
             [
              0,
              "#0d0887"
             ],
             [
              0.1111111111111111,
              "#46039f"
             ],
             [
              0.2222222222222222,
              "#7201a8"
             ],
             [
              0.3333333333333333,
              "#9c179e"
             ],
             [
              0.4444444444444444,
              "#bd3786"
             ],
             [
              0.5555555555555556,
              "#d8576b"
             ],
             [
              0.6666666666666666,
              "#ed7953"
             ],
             [
              0.7777777777777778,
              "#fb9f3a"
             ],
             [
              0.8888888888888888,
              "#fdca26"
             ],
             [
              1,
              "#f0f921"
             ]
            ],
            "type": "heatmapgl"
           }
          ],
          "histogram": [
           {
            "marker": {
             "colorbar": {
              "outlinewidth": 0,
              "ticks": ""
             }
            },
            "type": "histogram"
           }
          ],
          "histogram2d": [
           {
            "colorbar": {
             "outlinewidth": 0,
             "ticks": ""
            },
            "colorscale": [
             [
              0,
              "#0d0887"
             ],
             [
              0.1111111111111111,
              "#46039f"
             ],
             [
              0.2222222222222222,
              "#7201a8"
             ],
             [
              0.3333333333333333,
              "#9c179e"
             ],
             [
              0.4444444444444444,
              "#bd3786"
             ],
             [
              0.5555555555555556,
              "#d8576b"
             ],
             [
              0.6666666666666666,
              "#ed7953"
             ],
             [
              0.7777777777777778,
              "#fb9f3a"
             ],
             [
              0.8888888888888888,
              "#fdca26"
             ],
             [
              1,
              "#f0f921"
             ]
            ],
            "type": "histogram2d"
           }
          ],
          "histogram2dcontour": [
           {
            "colorbar": {
             "outlinewidth": 0,
             "ticks": ""
            },
            "colorscale": [
             [
              0,
              "#0d0887"
             ],
             [
              0.1111111111111111,
              "#46039f"
             ],
             [
              0.2222222222222222,
              "#7201a8"
             ],
             [
              0.3333333333333333,
              "#9c179e"
             ],
             [
              0.4444444444444444,
              "#bd3786"
             ],
             [
              0.5555555555555556,
              "#d8576b"
             ],
             [
              0.6666666666666666,
              "#ed7953"
             ],
             [
              0.7777777777777778,
              "#fb9f3a"
             ],
             [
              0.8888888888888888,
              "#fdca26"
             ],
             [
              1,
              "#f0f921"
             ]
            ],
            "type": "histogram2dcontour"
           }
          ],
          "mesh3d": [
           {
            "colorbar": {
             "outlinewidth": 0,
             "ticks": ""
            },
            "type": "mesh3d"
           }
          ],
          "parcoords": [
           {
            "line": {
             "colorbar": {
              "outlinewidth": 0,
              "ticks": ""
             }
            },
            "type": "parcoords"
           }
          ],
          "pie": [
           {
            "automargin": true,
            "type": "pie"
           }
          ],
          "scatter": [
           {
            "marker": {
             "colorbar": {
              "outlinewidth": 0,
              "ticks": ""
             }
            },
            "type": "scatter"
           }
          ],
          "scatter3d": [
           {
            "line": {
             "colorbar": {
              "outlinewidth": 0,
              "ticks": ""
             }
            },
            "marker": {
             "colorbar": {
              "outlinewidth": 0,
              "ticks": ""
             }
            },
            "type": "scatter3d"
           }
          ],
          "scattercarpet": [
           {
            "marker": {
             "colorbar": {
              "outlinewidth": 0,
              "ticks": ""
             }
            },
            "type": "scattercarpet"
           }
          ],
          "scattergeo": [
           {
            "marker": {
             "colorbar": {
              "outlinewidth": 0,
              "ticks": ""
             }
            },
            "type": "scattergeo"
           }
          ],
          "scattergl": [
           {
            "marker": {
             "colorbar": {
              "outlinewidth": 0,
              "ticks": ""
             }
            },
            "type": "scattergl"
           }
          ],
          "scattermapbox": [
           {
            "marker": {
             "colorbar": {
              "outlinewidth": 0,
              "ticks": ""
             }
            },
            "type": "scattermapbox"
           }
          ],
          "scatterpolar": [
           {
            "marker": {
             "colorbar": {
              "outlinewidth": 0,
              "ticks": ""
             }
            },
            "type": "scatterpolar"
           }
          ],
          "scatterpolargl": [
           {
            "marker": {
             "colorbar": {
              "outlinewidth": 0,
              "ticks": ""
             }
            },
            "type": "scatterpolargl"
           }
          ],
          "scatterternary": [
           {
            "marker": {
             "colorbar": {
              "outlinewidth": 0,
              "ticks": ""
             }
            },
            "type": "scatterternary"
           }
          ],
          "surface": [
           {
            "colorbar": {
             "outlinewidth": 0,
             "ticks": ""
            },
            "colorscale": [
             [
              0,
              "#0d0887"
             ],
             [
              0.1111111111111111,
              "#46039f"
             ],
             [
              0.2222222222222222,
              "#7201a8"
             ],
             [
              0.3333333333333333,
              "#9c179e"
             ],
             [
              0.4444444444444444,
              "#bd3786"
             ],
             [
              0.5555555555555556,
              "#d8576b"
             ],
             [
              0.6666666666666666,
              "#ed7953"
             ],
             [
              0.7777777777777778,
              "#fb9f3a"
             ],
             [
              0.8888888888888888,
              "#fdca26"
             ],
             [
              1,
              "#f0f921"
             ]
            ],
            "type": "surface"
           }
          ],
          "table": [
           {
            "cells": {
             "fill": {
              "color": "#EBF0F8"
             },
             "line": {
              "color": "white"
             }
            },
            "header": {
             "fill": {
              "color": "#C8D4E3"
             },
             "line": {
              "color": "white"
             }
            },
            "type": "table"
           }
          ]
         },
         "layout": {
          "annotationdefaults": {
           "arrowcolor": "#2a3f5f",
           "arrowhead": 0,
           "arrowwidth": 1
          },
          "autotypenumbers": "strict",
          "coloraxis": {
           "colorbar": {
            "outlinewidth": 0,
            "ticks": ""
           }
          },
          "colorscale": {
           "diverging": [
            [
             0,
             "#8e0152"
            ],
            [
             0.1,
             "#c51b7d"
            ],
            [
             0.2,
             "#de77ae"
            ],
            [
             0.3,
             "#f1b6da"
            ],
            [
             0.4,
             "#fde0ef"
            ],
            [
             0.5,
             "#f7f7f7"
            ],
            [
             0.6,
             "#e6f5d0"
            ],
            [
             0.7,
             "#b8e186"
            ],
            [
             0.8,
             "#7fbc41"
            ],
            [
             0.9,
             "#4d9221"
            ],
            [
             1,
             "#276419"
            ]
           ],
           "sequential": [
            [
             0,
             "#0d0887"
            ],
            [
             0.1111111111111111,
             "#46039f"
            ],
            [
             0.2222222222222222,
             "#7201a8"
            ],
            [
             0.3333333333333333,
             "#9c179e"
            ],
            [
             0.4444444444444444,
             "#bd3786"
            ],
            [
             0.5555555555555556,
             "#d8576b"
            ],
            [
             0.6666666666666666,
             "#ed7953"
            ],
            [
             0.7777777777777778,
             "#fb9f3a"
            ],
            [
             0.8888888888888888,
             "#fdca26"
            ],
            [
             1,
             "#f0f921"
            ]
           ],
           "sequentialminus": [
            [
             0,
             "#0d0887"
            ],
            [
             0.1111111111111111,
             "#46039f"
            ],
            [
             0.2222222222222222,
             "#7201a8"
            ],
            [
             0.3333333333333333,
             "#9c179e"
            ],
            [
             0.4444444444444444,
             "#bd3786"
            ],
            [
             0.5555555555555556,
             "#d8576b"
            ],
            [
             0.6666666666666666,
             "#ed7953"
            ],
            [
             0.7777777777777778,
             "#fb9f3a"
            ],
            [
             0.8888888888888888,
             "#fdca26"
            ],
            [
             1,
             "#f0f921"
            ]
           ]
          },
          "colorway": [
           "#636efa",
           "#EF553B",
           "#00cc96",
           "#ab63fa",
           "#FFA15A",
           "#19d3f3",
           "#FF6692",
           "#B6E880",
           "#FF97FF",
           "#FECB52"
          ],
          "font": {
           "color": "#2a3f5f"
          },
          "geo": {
           "bgcolor": "white",
           "lakecolor": "white",
           "landcolor": "#E5ECF6",
           "showlakes": true,
           "showland": true,
           "subunitcolor": "white"
          },
          "hoverlabel": {
           "align": "left"
          },
          "hovermode": "closest",
          "mapbox": {
           "style": "light"
          },
          "paper_bgcolor": "white",
          "plot_bgcolor": "#E5ECF6",
          "polar": {
           "angularaxis": {
            "gridcolor": "white",
            "linecolor": "white",
            "ticks": ""
           },
           "bgcolor": "#E5ECF6",
           "radialaxis": {
            "gridcolor": "white",
            "linecolor": "white",
            "ticks": ""
           }
          },
          "scene": {
           "xaxis": {
            "backgroundcolor": "#E5ECF6",
            "gridcolor": "white",
            "gridwidth": 2,
            "linecolor": "white",
            "showbackground": true,
            "ticks": "",
            "zerolinecolor": "white"
           },
           "yaxis": {
            "backgroundcolor": "#E5ECF6",
            "gridcolor": "white",
            "gridwidth": 2,
            "linecolor": "white",
            "showbackground": true,
            "ticks": "",
            "zerolinecolor": "white"
           },
           "zaxis": {
            "backgroundcolor": "#E5ECF6",
            "gridcolor": "white",
            "gridwidth": 2,
            "linecolor": "white",
            "showbackground": true,
            "ticks": "",
            "zerolinecolor": "white"
           }
          },
          "shapedefaults": {
           "line": {
            "color": "#2a3f5f"
           }
          },
          "ternary": {
           "aaxis": {
            "gridcolor": "white",
            "linecolor": "white",
            "ticks": ""
           },
           "baxis": {
            "gridcolor": "white",
            "linecolor": "white",
            "ticks": ""
           },
           "bgcolor": "#E5ECF6",
           "caxis": {
            "gridcolor": "white",
            "linecolor": "white",
            "ticks": ""
           }
          },
          "title": {
           "x": 0.05
          },
          "xaxis": {
           "automargin": true,
           "gridcolor": "white",
           "linecolor": "white",
           "ticks": "",
           "title": {
            "standoff": 15
           },
           "zerolinecolor": "white",
           "zerolinewidth": 2
          },
          "yaxis": {
           "automargin": true,
           "gridcolor": "white",
           "linecolor": "white",
           "ticks": "",
           "title": {
            "standoff": 15
           },
           "zerolinecolor": "white",
           "zerolinewidth": 2
          }
         }
        },
        "title": {
         "font": {
          "color": "#4D5663"
         }
        },
        "xaxis": {
         "gridcolor": "#E1E5ED",
         "showgrid": true,
         "tickfont": {
          "color": "#4D5663"
         },
         "title": {
          "font": {
           "color": "#4D5663"
          },
          "text": ""
         },
         "zerolinecolor": "#E1E5ED"
        },
        "yaxis": {
         "gridcolor": "#E1E5ED",
         "showgrid": true,
         "tickfont": {
          "color": "#4D5663"
         },
         "title": {
          "font": {
           "color": "#4D5663"
          },
          "text": ""
         },
         "zerolinecolor": "#E1E5ED"
        }
       }
      },
      "text/html": [
       "<div>                            <div id=\"88874227-1b64-4bfb-a713-baf0795b4218\" class=\"plotly-graph-div\" style=\"height:525px; width:100%;\"></div>            <script type=\"text/javascript\">                require([\"plotly\"], function(Plotly) {                    window.PLOTLYENV=window.PLOTLYENV || {};\n",
       "                    window.PLOTLYENV.BASE_URL='https://chart-studio.plotly.com';                                    if (document.getElementById(\"88874227-1b64-4bfb-a713-baf0795b4218\")) {                    Plotly.newPlot(                        \"88874227-1b64-4bfb-a713-baf0795b4218\",                        [{\"marker\": {\"color\": \"rgba(255, 153, 51, 0.6)\", \"line\": {\"color\": \"rgba(255, 153, 51, 1.0)\", \"width\": 1}}, \"name\": \"Values\", \"orientation\": \"v\", \"text\": \"\", \"type\": \"bar\", \"x\": [\"A\", \"B\", \"C\"], \"y\": [32, 43, 50]}],                        {\"legend\": {\"bgcolor\": \"#F5F6F9\", \"font\": {\"color\": \"#4D5663\"}}, \"paper_bgcolor\": \"#F5F6F9\", \"plot_bgcolor\": \"#F5F6F9\", \"template\": {\"data\": {\"bar\": [{\"error_x\": {\"color\": \"#2a3f5f\"}, \"error_y\": {\"color\": \"#2a3f5f\"}, \"marker\": {\"line\": {\"color\": \"#E5ECF6\", \"width\": 0.5}}, \"type\": \"bar\"}], \"barpolar\": [{\"marker\": {\"line\": {\"color\": \"#E5ECF6\", \"width\": 0.5}}, \"type\": \"barpolar\"}], \"carpet\": [{\"aaxis\": {\"endlinecolor\": \"#2a3f5f\", \"gridcolor\": \"white\", \"linecolor\": \"white\", \"minorgridcolor\": \"white\", \"startlinecolor\": \"#2a3f5f\"}, \"baxis\": {\"endlinecolor\": \"#2a3f5f\", \"gridcolor\": \"white\", \"linecolor\": \"white\", \"minorgridcolor\": \"white\", \"startlinecolor\": \"#2a3f5f\"}, \"type\": \"carpet\"}], \"choropleth\": [{\"colorbar\": {\"outlinewidth\": 0, \"ticks\": \"\"}, \"type\": \"choropleth\"}], \"contour\": [{\"colorbar\": {\"outlinewidth\": 0, \"ticks\": \"\"}, \"colorscale\": [[0.0, \"#0d0887\"], [0.1111111111111111, \"#46039f\"], [0.2222222222222222, \"#7201a8\"], [0.3333333333333333, \"#9c179e\"], [0.4444444444444444, \"#bd3786\"], [0.5555555555555556, \"#d8576b\"], [0.6666666666666666, \"#ed7953\"], [0.7777777777777778, \"#fb9f3a\"], [0.8888888888888888, \"#fdca26\"], [1.0, \"#f0f921\"]], \"type\": \"contour\"}], \"contourcarpet\": [{\"colorbar\": {\"outlinewidth\": 0, \"ticks\": \"\"}, \"type\": \"contourcarpet\"}], \"heatmap\": [{\"colorbar\": {\"outlinewidth\": 0, \"ticks\": \"\"}, \"colorscale\": [[0.0, \"#0d0887\"], [0.1111111111111111, \"#46039f\"], [0.2222222222222222, \"#7201a8\"], [0.3333333333333333, \"#9c179e\"], [0.4444444444444444, \"#bd3786\"], [0.5555555555555556, \"#d8576b\"], [0.6666666666666666, \"#ed7953\"], [0.7777777777777778, \"#fb9f3a\"], [0.8888888888888888, \"#fdca26\"], [1.0, \"#f0f921\"]], \"type\": \"heatmap\"}], \"heatmapgl\": [{\"colorbar\": {\"outlinewidth\": 0, \"ticks\": \"\"}, \"colorscale\": [[0.0, \"#0d0887\"], [0.1111111111111111, \"#46039f\"], [0.2222222222222222, \"#7201a8\"], [0.3333333333333333, \"#9c179e\"], [0.4444444444444444, \"#bd3786\"], [0.5555555555555556, \"#d8576b\"], [0.6666666666666666, \"#ed7953\"], [0.7777777777777778, \"#fb9f3a\"], [0.8888888888888888, \"#fdca26\"], [1.0, \"#f0f921\"]], \"type\": \"heatmapgl\"}], \"histogram\": [{\"marker\": {\"colorbar\": {\"outlinewidth\": 0, \"ticks\": \"\"}}, \"type\": \"histogram\"}], \"histogram2d\": [{\"colorbar\": {\"outlinewidth\": 0, \"ticks\": \"\"}, \"colorscale\": [[0.0, \"#0d0887\"], [0.1111111111111111, \"#46039f\"], [0.2222222222222222, \"#7201a8\"], [0.3333333333333333, \"#9c179e\"], [0.4444444444444444, \"#bd3786\"], [0.5555555555555556, \"#d8576b\"], [0.6666666666666666, \"#ed7953\"], [0.7777777777777778, \"#fb9f3a\"], [0.8888888888888888, \"#fdca26\"], [1.0, \"#f0f921\"]], \"type\": \"histogram2d\"}], \"histogram2dcontour\": [{\"colorbar\": {\"outlinewidth\": 0, \"ticks\": \"\"}, \"colorscale\": [[0.0, \"#0d0887\"], [0.1111111111111111, \"#46039f\"], [0.2222222222222222, \"#7201a8\"], [0.3333333333333333, \"#9c179e\"], [0.4444444444444444, \"#bd3786\"], [0.5555555555555556, \"#d8576b\"], [0.6666666666666666, \"#ed7953\"], [0.7777777777777778, \"#fb9f3a\"], [0.8888888888888888, \"#fdca26\"], [1.0, \"#f0f921\"]], \"type\": \"histogram2dcontour\"}], \"mesh3d\": [{\"colorbar\": {\"outlinewidth\": 0, \"ticks\": \"\"}, \"type\": \"mesh3d\"}], \"parcoords\": [{\"line\": {\"colorbar\": {\"outlinewidth\": 0, \"ticks\": \"\"}}, \"type\": \"parcoords\"}], \"pie\": [{\"automargin\": true, \"type\": \"pie\"}], \"scatter\": [{\"marker\": {\"colorbar\": {\"outlinewidth\": 0, \"ticks\": \"\"}}, \"type\": \"scatter\"}], \"scatter3d\": [{\"line\": {\"colorbar\": {\"outlinewidth\": 0, \"ticks\": \"\"}}, \"marker\": {\"colorbar\": {\"outlinewidth\": 0, \"ticks\": \"\"}}, \"type\": \"scatter3d\"}], \"scattercarpet\": [{\"marker\": {\"colorbar\": {\"outlinewidth\": 0, \"ticks\": \"\"}}, \"type\": \"scattercarpet\"}], \"scattergeo\": [{\"marker\": {\"colorbar\": {\"outlinewidth\": 0, \"ticks\": \"\"}}, \"type\": \"scattergeo\"}], \"scattergl\": [{\"marker\": {\"colorbar\": {\"outlinewidth\": 0, \"ticks\": \"\"}}, \"type\": \"scattergl\"}], \"scattermapbox\": [{\"marker\": {\"colorbar\": {\"outlinewidth\": 0, \"ticks\": \"\"}}, \"type\": \"scattermapbox\"}], \"scatterpolar\": [{\"marker\": {\"colorbar\": {\"outlinewidth\": 0, \"ticks\": \"\"}}, \"type\": \"scatterpolar\"}], \"scatterpolargl\": [{\"marker\": {\"colorbar\": {\"outlinewidth\": 0, \"ticks\": \"\"}}, \"type\": \"scatterpolargl\"}], \"scatterternary\": [{\"marker\": {\"colorbar\": {\"outlinewidth\": 0, \"ticks\": \"\"}}, \"type\": \"scatterternary\"}], \"surface\": [{\"colorbar\": {\"outlinewidth\": 0, \"ticks\": \"\"}, \"colorscale\": [[0.0, \"#0d0887\"], [0.1111111111111111, \"#46039f\"], [0.2222222222222222, \"#7201a8\"], [0.3333333333333333, \"#9c179e\"], [0.4444444444444444, \"#bd3786\"], [0.5555555555555556, \"#d8576b\"], [0.6666666666666666, \"#ed7953\"], [0.7777777777777778, \"#fb9f3a\"], [0.8888888888888888, \"#fdca26\"], [1.0, \"#f0f921\"]], \"type\": \"surface\"}], \"table\": [{\"cells\": {\"fill\": {\"color\": \"#EBF0F8\"}, \"line\": {\"color\": \"white\"}}, \"header\": {\"fill\": {\"color\": \"#C8D4E3\"}, \"line\": {\"color\": \"white\"}}, \"type\": \"table\"}]}, \"layout\": {\"annotationdefaults\": {\"arrowcolor\": \"#2a3f5f\", \"arrowhead\": 0, \"arrowwidth\": 1}, \"autotypenumbers\": \"strict\", \"coloraxis\": {\"colorbar\": {\"outlinewidth\": 0, \"ticks\": \"\"}}, \"colorscale\": {\"diverging\": [[0, \"#8e0152\"], [0.1, \"#c51b7d\"], [0.2, \"#de77ae\"], [0.3, \"#f1b6da\"], [0.4, \"#fde0ef\"], [0.5, \"#f7f7f7\"], [0.6, \"#e6f5d0\"], [0.7, \"#b8e186\"], [0.8, \"#7fbc41\"], [0.9, \"#4d9221\"], [1, \"#276419\"]], \"sequential\": [[0.0, \"#0d0887\"], [0.1111111111111111, \"#46039f\"], [0.2222222222222222, \"#7201a8\"], [0.3333333333333333, \"#9c179e\"], [0.4444444444444444, \"#bd3786\"], [0.5555555555555556, \"#d8576b\"], [0.6666666666666666, \"#ed7953\"], [0.7777777777777778, \"#fb9f3a\"], [0.8888888888888888, \"#fdca26\"], [1.0, \"#f0f921\"]], \"sequentialminus\": [[0.0, \"#0d0887\"], [0.1111111111111111, \"#46039f\"], [0.2222222222222222, \"#7201a8\"], [0.3333333333333333, \"#9c179e\"], [0.4444444444444444, \"#bd3786\"], [0.5555555555555556, \"#d8576b\"], [0.6666666666666666, \"#ed7953\"], [0.7777777777777778, \"#fb9f3a\"], [0.8888888888888888, \"#fdca26\"], [1.0, \"#f0f921\"]]}, \"colorway\": [\"#636efa\", \"#EF553B\", \"#00cc96\", \"#ab63fa\", \"#FFA15A\", \"#19d3f3\", \"#FF6692\", \"#B6E880\", \"#FF97FF\", \"#FECB52\"], \"font\": {\"color\": \"#2a3f5f\"}, \"geo\": {\"bgcolor\": \"white\", \"lakecolor\": \"white\", \"landcolor\": \"#E5ECF6\", \"showlakes\": true, \"showland\": true, \"subunitcolor\": \"white\"}, \"hoverlabel\": {\"align\": \"left\"}, \"hovermode\": \"closest\", \"mapbox\": {\"style\": \"light\"}, \"paper_bgcolor\": \"white\", \"plot_bgcolor\": \"#E5ECF6\", \"polar\": {\"angularaxis\": {\"gridcolor\": \"white\", \"linecolor\": \"white\", \"ticks\": \"\"}, \"bgcolor\": \"#E5ECF6\", \"radialaxis\": {\"gridcolor\": \"white\", \"linecolor\": \"white\", \"ticks\": \"\"}}, \"scene\": {\"xaxis\": {\"backgroundcolor\": \"#E5ECF6\", \"gridcolor\": \"white\", \"gridwidth\": 2, \"linecolor\": \"white\", \"showbackground\": true, \"ticks\": \"\", \"zerolinecolor\": \"white\"}, \"yaxis\": {\"backgroundcolor\": \"#E5ECF6\", \"gridcolor\": \"white\", \"gridwidth\": 2, \"linecolor\": \"white\", \"showbackground\": true, \"ticks\": \"\", \"zerolinecolor\": \"white\"}, \"zaxis\": {\"backgroundcolor\": \"#E5ECF6\", \"gridcolor\": \"white\", \"gridwidth\": 2, \"linecolor\": \"white\", \"showbackground\": true, \"ticks\": \"\", \"zerolinecolor\": \"white\"}}, \"shapedefaults\": {\"line\": {\"color\": \"#2a3f5f\"}}, \"ternary\": {\"aaxis\": {\"gridcolor\": \"white\", \"linecolor\": \"white\", \"ticks\": \"\"}, \"baxis\": {\"gridcolor\": \"white\", \"linecolor\": \"white\", \"ticks\": \"\"}, \"bgcolor\": \"#E5ECF6\", \"caxis\": {\"gridcolor\": \"white\", \"linecolor\": \"white\", \"ticks\": \"\"}}, \"title\": {\"x\": 0.05}, \"xaxis\": {\"automargin\": true, \"gridcolor\": \"white\", \"linecolor\": \"white\", \"ticks\": \"\", \"title\": {\"standoff\": 15}, \"zerolinecolor\": \"white\", \"zerolinewidth\": 2}, \"yaxis\": {\"automargin\": true, \"gridcolor\": \"white\", \"linecolor\": \"white\", \"ticks\": \"\", \"title\": {\"standoff\": 15}, \"zerolinecolor\": \"white\", \"zerolinewidth\": 2}}}, \"title\": {\"font\": {\"color\": \"#4D5663\"}}, \"xaxis\": {\"gridcolor\": \"#E1E5ED\", \"showgrid\": true, \"tickfont\": {\"color\": \"#4D5663\"}, \"title\": {\"font\": {\"color\": \"#4D5663\"}, \"text\": \"\"}, \"zerolinecolor\": \"#E1E5ED\"}, \"yaxis\": {\"gridcolor\": \"#E1E5ED\", \"showgrid\": true, \"tickfont\": {\"color\": \"#4D5663\"}, \"title\": {\"font\": {\"color\": \"#4D5663\"}, \"text\": \"\"}, \"zerolinecolor\": \"#E1E5ED\"}},                        {\"showLink\": true, \"linkText\": \"Export to chart-studio.plotly.com\", \"plotlyServerURL\": \"https://chart-studio.plotly.com\", \"responsive\": true}                    ).then(function(){\n",
       "                            \n",
       "var gd = document.getElementById('88874227-1b64-4bfb-a713-baf0795b4218');\n",
       "var x = new MutationObserver(function (mutations, observer) {{\n",
       "        var display = window.getComputedStyle(gd).display;\n",
       "        if (!display || display === 'none') {{\n",
       "            console.log([gd, 'removed!']);\n",
       "            Plotly.purge(gd);\n",
       "            observer.disconnect();\n",
       "        }}\n",
       "}});\n",
       "\n",
       "// Listen for the removal of the full notebook cells\n",
       "var notebookContainer = gd.closest('#notebook-container');\n",
       "if (notebookContainer) {{\n",
       "    x.observe(notebookContainer, {childList: true});\n",
       "}}\n",
       "\n",
       "// Listen for the clearing of the current output cell\n",
       "var outputEl = gd.closest('.output');\n",
       "if (outputEl) {{\n",
       "    x.observe(outputEl, {childList: true});\n",
       "}}\n",
       "\n",
       "                        })                };                });            </script>        </div>"
      ]
     },
     "metadata": {},
     "output_type": "display_data"
    }
   ],
   "source": [
    "df2.iplot(kind='bar',x='Category',y='Values')"
   ]
  },
  {
   "cell_type": "code",
   "execution_count": 12,
   "metadata": {},
   "outputs": [
    {
     "data": {
      "application/vnd.plotly.v1+json": {
       "config": {
        "linkText": "Export to chart-studio.plotly.com",
        "plotlyServerURL": "https://chart-studio.plotly.com",
        "showLink": true
       },
       "data": [
        {
         "marker": {
          "color": "rgba(255, 153, 51, 0.6)",
          "line": {
           "color": "rgba(255, 153, 51, 1.0)",
           "width": 1
          }
         },
         "name": "None",
         "orientation": "v",
         "text": "",
         "type": "bar",
         "x": [
          "A",
          "B",
          "C",
          "D"
         ],
         "y": [
          100,
          100,
          100,
          100
         ]
        }
       ],
       "layout": {
        "legend": {
         "bgcolor": "#F5F6F9",
         "font": {
          "color": "#4D5663"
         }
        },
        "paper_bgcolor": "#F5F6F9",
        "plot_bgcolor": "#F5F6F9",
        "template": {
         "data": {
          "bar": [
           {
            "error_x": {
             "color": "#2a3f5f"
            },
            "error_y": {
             "color": "#2a3f5f"
            },
            "marker": {
             "line": {
              "color": "#E5ECF6",
              "width": 0.5
             }
            },
            "type": "bar"
           }
          ],
          "barpolar": [
           {
            "marker": {
             "line": {
              "color": "#E5ECF6",
              "width": 0.5
             }
            },
            "type": "barpolar"
           }
          ],
          "carpet": [
           {
            "aaxis": {
             "endlinecolor": "#2a3f5f",
             "gridcolor": "white",
             "linecolor": "white",
             "minorgridcolor": "white",
             "startlinecolor": "#2a3f5f"
            },
            "baxis": {
             "endlinecolor": "#2a3f5f",
             "gridcolor": "white",
             "linecolor": "white",
             "minorgridcolor": "white",
             "startlinecolor": "#2a3f5f"
            },
            "type": "carpet"
           }
          ],
          "choropleth": [
           {
            "colorbar": {
             "outlinewidth": 0,
             "ticks": ""
            },
            "type": "choropleth"
           }
          ],
          "contour": [
           {
            "colorbar": {
             "outlinewidth": 0,
             "ticks": ""
            },
            "colorscale": [
             [
              0,
              "#0d0887"
             ],
             [
              0.1111111111111111,
              "#46039f"
             ],
             [
              0.2222222222222222,
              "#7201a8"
             ],
             [
              0.3333333333333333,
              "#9c179e"
             ],
             [
              0.4444444444444444,
              "#bd3786"
             ],
             [
              0.5555555555555556,
              "#d8576b"
             ],
             [
              0.6666666666666666,
              "#ed7953"
             ],
             [
              0.7777777777777778,
              "#fb9f3a"
             ],
             [
              0.8888888888888888,
              "#fdca26"
             ],
             [
              1,
              "#f0f921"
             ]
            ],
            "type": "contour"
           }
          ],
          "contourcarpet": [
           {
            "colorbar": {
             "outlinewidth": 0,
             "ticks": ""
            },
            "type": "contourcarpet"
           }
          ],
          "heatmap": [
           {
            "colorbar": {
             "outlinewidth": 0,
             "ticks": ""
            },
            "colorscale": [
             [
              0,
              "#0d0887"
             ],
             [
              0.1111111111111111,
              "#46039f"
             ],
             [
              0.2222222222222222,
              "#7201a8"
             ],
             [
              0.3333333333333333,
              "#9c179e"
             ],
             [
              0.4444444444444444,
              "#bd3786"
             ],
             [
              0.5555555555555556,
              "#d8576b"
             ],
             [
              0.6666666666666666,
              "#ed7953"
             ],
             [
              0.7777777777777778,
              "#fb9f3a"
             ],
             [
              0.8888888888888888,
              "#fdca26"
             ],
             [
              1,
              "#f0f921"
             ]
            ],
            "type": "heatmap"
           }
          ],
          "heatmapgl": [
           {
            "colorbar": {
             "outlinewidth": 0,
             "ticks": ""
            },
            "colorscale": [
             [
              0,
              "#0d0887"
             ],
             [
              0.1111111111111111,
              "#46039f"
             ],
             [
              0.2222222222222222,
              "#7201a8"
             ],
             [
              0.3333333333333333,
              "#9c179e"
             ],
             [
              0.4444444444444444,
              "#bd3786"
             ],
             [
              0.5555555555555556,
              "#d8576b"
             ],
             [
              0.6666666666666666,
              "#ed7953"
             ],
             [
              0.7777777777777778,
              "#fb9f3a"
             ],
             [
              0.8888888888888888,
              "#fdca26"
             ],
             [
              1,
              "#f0f921"
             ]
            ],
            "type": "heatmapgl"
           }
          ],
          "histogram": [
           {
            "marker": {
             "colorbar": {
              "outlinewidth": 0,
              "ticks": ""
             }
            },
            "type": "histogram"
           }
          ],
          "histogram2d": [
           {
            "colorbar": {
             "outlinewidth": 0,
             "ticks": ""
            },
            "colorscale": [
             [
              0,
              "#0d0887"
             ],
             [
              0.1111111111111111,
              "#46039f"
             ],
             [
              0.2222222222222222,
              "#7201a8"
             ],
             [
              0.3333333333333333,
              "#9c179e"
             ],
             [
              0.4444444444444444,
              "#bd3786"
             ],
             [
              0.5555555555555556,
              "#d8576b"
             ],
             [
              0.6666666666666666,
              "#ed7953"
             ],
             [
              0.7777777777777778,
              "#fb9f3a"
             ],
             [
              0.8888888888888888,
              "#fdca26"
             ],
             [
              1,
              "#f0f921"
             ]
            ],
            "type": "histogram2d"
           }
          ],
          "histogram2dcontour": [
           {
            "colorbar": {
             "outlinewidth": 0,
             "ticks": ""
            },
            "colorscale": [
             [
              0,
              "#0d0887"
             ],
             [
              0.1111111111111111,
              "#46039f"
             ],
             [
              0.2222222222222222,
              "#7201a8"
             ],
             [
              0.3333333333333333,
              "#9c179e"
             ],
             [
              0.4444444444444444,
              "#bd3786"
             ],
             [
              0.5555555555555556,
              "#d8576b"
             ],
             [
              0.6666666666666666,
              "#ed7953"
             ],
             [
              0.7777777777777778,
              "#fb9f3a"
             ],
             [
              0.8888888888888888,
              "#fdca26"
             ],
             [
              1,
              "#f0f921"
             ]
            ],
            "type": "histogram2dcontour"
           }
          ],
          "mesh3d": [
           {
            "colorbar": {
             "outlinewidth": 0,
             "ticks": ""
            },
            "type": "mesh3d"
           }
          ],
          "parcoords": [
           {
            "line": {
             "colorbar": {
              "outlinewidth": 0,
              "ticks": ""
             }
            },
            "type": "parcoords"
           }
          ],
          "pie": [
           {
            "automargin": true,
            "type": "pie"
           }
          ],
          "scatter": [
           {
            "marker": {
             "colorbar": {
              "outlinewidth": 0,
              "ticks": ""
             }
            },
            "type": "scatter"
           }
          ],
          "scatter3d": [
           {
            "line": {
             "colorbar": {
              "outlinewidth": 0,
              "ticks": ""
             }
            },
            "marker": {
             "colorbar": {
              "outlinewidth": 0,
              "ticks": ""
             }
            },
            "type": "scatter3d"
           }
          ],
          "scattercarpet": [
           {
            "marker": {
             "colorbar": {
              "outlinewidth": 0,
              "ticks": ""
             }
            },
            "type": "scattercarpet"
           }
          ],
          "scattergeo": [
           {
            "marker": {
             "colorbar": {
              "outlinewidth": 0,
              "ticks": ""
             }
            },
            "type": "scattergeo"
           }
          ],
          "scattergl": [
           {
            "marker": {
             "colorbar": {
              "outlinewidth": 0,
              "ticks": ""
             }
            },
            "type": "scattergl"
           }
          ],
          "scattermapbox": [
           {
            "marker": {
             "colorbar": {
              "outlinewidth": 0,
              "ticks": ""
             }
            },
            "type": "scattermapbox"
           }
          ],
          "scatterpolar": [
           {
            "marker": {
             "colorbar": {
              "outlinewidth": 0,
              "ticks": ""
             }
            },
            "type": "scatterpolar"
           }
          ],
          "scatterpolargl": [
           {
            "marker": {
             "colorbar": {
              "outlinewidth": 0,
              "ticks": ""
             }
            },
            "type": "scatterpolargl"
           }
          ],
          "scatterternary": [
           {
            "marker": {
             "colorbar": {
              "outlinewidth": 0,
              "ticks": ""
             }
            },
            "type": "scatterternary"
           }
          ],
          "surface": [
           {
            "colorbar": {
             "outlinewidth": 0,
             "ticks": ""
            },
            "colorscale": [
             [
              0,
              "#0d0887"
             ],
             [
              0.1111111111111111,
              "#46039f"
             ],
             [
              0.2222222222222222,
              "#7201a8"
             ],
             [
              0.3333333333333333,
              "#9c179e"
             ],
             [
              0.4444444444444444,
              "#bd3786"
             ],
             [
              0.5555555555555556,
              "#d8576b"
             ],
             [
              0.6666666666666666,
              "#ed7953"
             ],
             [
              0.7777777777777778,
              "#fb9f3a"
             ],
             [
              0.8888888888888888,
              "#fdca26"
             ],
             [
              1,
              "#f0f921"
             ]
            ],
            "type": "surface"
           }
          ],
          "table": [
           {
            "cells": {
             "fill": {
              "color": "#EBF0F8"
             },
             "line": {
              "color": "white"
             }
            },
            "header": {
             "fill": {
              "color": "#C8D4E3"
             },
             "line": {
              "color": "white"
             }
            },
            "type": "table"
           }
          ]
         },
         "layout": {
          "annotationdefaults": {
           "arrowcolor": "#2a3f5f",
           "arrowhead": 0,
           "arrowwidth": 1
          },
          "autotypenumbers": "strict",
          "coloraxis": {
           "colorbar": {
            "outlinewidth": 0,
            "ticks": ""
           }
          },
          "colorscale": {
           "diverging": [
            [
             0,
             "#8e0152"
            ],
            [
             0.1,
             "#c51b7d"
            ],
            [
             0.2,
             "#de77ae"
            ],
            [
             0.3,
             "#f1b6da"
            ],
            [
             0.4,
             "#fde0ef"
            ],
            [
             0.5,
             "#f7f7f7"
            ],
            [
             0.6,
             "#e6f5d0"
            ],
            [
             0.7,
             "#b8e186"
            ],
            [
             0.8,
             "#7fbc41"
            ],
            [
             0.9,
             "#4d9221"
            ],
            [
             1,
             "#276419"
            ]
           ],
           "sequential": [
            [
             0,
             "#0d0887"
            ],
            [
             0.1111111111111111,
             "#46039f"
            ],
            [
             0.2222222222222222,
             "#7201a8"
            ],
            [
             0.3333333333333333,
             "#9c179e"
            ],
            [
             0.4444444444444444,
             "#bd3786"
            ],
            [
             0.5555555555555556,
             "#d8576b"
            ],
            [
             0.6666666666666666,
             "#ed7953"
            ],
            [
             0.7777777777777778,
             "#fb9f3a"
            ],
            [
             0.8888888888888888,
             "#fdca26"
            ],
            [
             1,
             "#f0f921"
            ]
           ],
           "sequentialminus": [
            [
             0,
             "#0d0887"
            ],
            [
             0.1111111111111111,
             "#46039f"
            ],
            [
             0.2222222222222222,
             "#7201a8"
            ],
            [
             0.3333333333333333,
             "#9c179e"
            ],
            [
             0.4444444444444444,
             "#bd3786"
            ],
            [
             0.5555555555555556,
             "#d8576b"
            ],
            [
             0.6666666666666666,
             "#ed7953"
            ],
            [
             0.7777777777777778,
             "#fb9f3a"
            ],
            [
             0.8888888888888888,
             "#fdca26"
            ],
            [
             1,
             "#f0f921"
            ]
           ]
          },
          "colorway": [
           "#636efa",
           "#EF553B",
           "#00cc96",
           "#ab63fa",
           "#FFA15A",
           "#19d3f3",
           "#FF6692",
           "#B6E880",
           "#FF97FF",
           "#FECB52"
          ],
          "font": {
           "color": "#2a3f5f"
          },
          "geo": {
           "bgcolor": "white",
           "lakecolor": "white",
           "landcolor": "#E5ECF6",
           "showlakes": true,
           "showland": true,
           "subunitcolor": "white"
          },
          "hoverlabel": {
           "align": "left"
          },
          "hovermode": "closest",
          "mapbox": {
           "style": "light"
          },
          "paper_bgcolor": "white",
          "plot_bgcolor": "#E5ECF6",
          "polar": {
           "angularaxis": {
            "gridcolor": "white",
            "linecolor": "white",
            "ticks": ""
           },
           "bgcolor": "#E5ECF6",
           "radialaxis": {
            "gridcolor": "white",
            "linecolor": "white",
            "ticks": ""
           }
          },
          "scene": {
           "xaxis": {
            "backgroundcolor": "#E5ECF6",
            "gridcolor": "white",
            "gridwidth": 2,
            "linecolor": "white",
            "showbackground": true,
            "ticks": "",
            "zerolinecolor": "white"
           },
           "yaxis": {
            "backgroundcolor": "#E5ECF6",
            "gridcolor": "white",
            "gridwidth": 2,
            "linecolor": "white",
            "showbackground": true,
            "ticks": "",
            "zerolinecolor": "white"
           },
           "zaxis": {
            "backgroundcolor": "#E5ECF6",
            "gridcolor": "white",
            "gridwidth": 2,
            "linecolor": "white",
            "showbackground": true,
            "ticks": "",
            "zerolinecolor": "white"
           }
          },
          "shapedefaults": {
           "line": {
            "color": "#2a3f5f"
           }
          },
          "ternary": {
           "aaxis": {
            "gridcolor": "white",
            "linecolor": "white",
            "ticks": ""
           },
           "baxis": {
            "gridcolor": "white",
            "linecolor": "white",
            "ticks": ""
           },
           "bgcolor": "#E5ECF6",
           "caxis": {
            "gridcolor": "white",
            "linecolor": "white",
            "ticks": ""
           }
          },
          "title": {
           "x": 0.05
          },
          "xaxis": {
           "automargin": true,
           "gridcolor": "white",
           "linecolor": "white",
           "ticks": "",
           "title": {
            "standoff": 15
           },
           "zerolinecolor": "white",
           "zerolinewidth": 2
          },
          "yaxis": {
           "automargin": true,
           "gridcolor": "white",
           "linecolor": "white",
           "ticks": "",
           "title": {
            "standoff": 15
           },
           "zerolinecolor": "white",
           "zerolinewidth": 2
          }
         }
        },
        "title": {
         "font": {
          "color": "#4D5663"
         }
        },
        "xaxis": {
         "gridcolor": "#E1E5ED",
         "showgrid": true,
         "tickfont": {
          "color": "#4D5663"
         },
         "title": {
          "font": {
           "color": "#4D5663"
          },
          "text": ""
         },
         "zerolinecolor": "#E1E5ED"
        },
        "yaxis": {
         "gridcolor": "#E1E5ED",
         "showgrid": true,
         "tickfont": {
          "color": "#4D5663"
         },
         "title": {
          "font": {
           "color": "#4D5663"
          },
          "text": ""
         },
         "zerolinecolor": "#E1E5ED"
        }
       }
      },
      "text/html": [
       "<div>                            <div id=\"e523cd54-5043-4fef-92ae-261003cd46df\" class=\"plotly-graph-div\" style=\"height:525px; width:100%;\"></div>            <script type=\"text/javascript\">                require([\"plotly\"], function(Plotly) {                    window.PLOTLYENV=window.PLOTLYENV || {};\n",
       "                    window.PLOTLYENV.BASE_URL='https://chart-studio.plotly.com';                                    if (document.getElementById(\"e523cd54-5043-4fef-92ae-261003cd46df\")) {                    Plotly.newPlot(                        \"e523cd54-5043-4fef-92ae-261003cd46df\",                        [{\"marker\": {\"color\": \"rgba(255, 153, 51, 0.6)\", \"line\": {\"color\": \"rgba(255, 153, 51, 1.0)\", \"width\": 1}}, \"name\": \"None\", \"orientation\": \"v\", \"text\": \"\", \"type\": \"bar\", \"x\": [\"A\", \"B\", \"C\", \"D\"], \"y\": [100, 100, 100, 100]}],                        {\"legend\": {\"bgcolor\": \"#F5F6F9\", \"font\": {\"color\": \"#4D5663\"}}, \"paper_bgcolor\": \"#F5F6F9\", \"plot_bgcolor\": \"#F5F6F9\", \"template\": {\"data\": {\"bar\": [{\"error_x\": {\"color\": \"#2a3f5f\"}, \"error_y\": {\"color\": \"#2a3f5f\"}, \"marker\": {\"line\": {\"color\": \"#E5ECF6\", \"width\": 0.5}}, \"type\": \"bar\"}], \"barpolar\": [{\"marker\": {\"line\": {\"color\": \"#E5ECF6\", \"width\": 0.5}}, \"type\": \"barpolar\"}], \"carpet\": [{\"aaxis\": {\"endlinecolor\": \"#2a3f5f\", \"gridcolor\": \"white\", \"linecolor\": \"white\", \"minorgridcolor\": \"white\", \"startlinecolor\": \"#2a3f5f\"}, \"baxis\": {\"endlinecolor\": \"#2a3f5f\", \"gridcolor\": \"white\", \"linecolor\": \"white\", \"minorgridcolor\": \"white\", \"startlinecolor\": \"#2a3f5f\"}, \"type\": \"carpet\"}], \"choropleth\": [{\"colorbar\": {\"outlinewidth\": 0, \"ticks\": \"\"}, \"type\": \"choropleth\"}], \"contour\": [{\"colorbar\": {\"outlinewidth\": 0, \"ticks\": \"\"}, \"colorscale\": [[0.0, \"#0d0887\"], [0.1111111111111111, \"#46039f\"], [0.2222222222222222, \"#7201a8\"], [0.3333333333333333, \"#9c179e\"], [0.4444444444444444, \"#bd3786\"], [0.5555555555555556, \"#d8576b\"], [0.6666666666666666, \"#ed7953\"], [0.7777777777777778, \"#fb9f3a\"], [0.8888888888888888, \"#fdca26\"], [1.0, \"#f0f921\"]], \"type\": \"contour\"}], \"contourcarpet\": [{\"colorbar\": {\"outlinewidth\": 0, \"ticks\": \"\"}, \"type\": \"contourcarpet\"}], \"heatmap\": [{\"colorbar\": {\"outlinewidth\": 0, \"ticks\": \"\"}, \"colorscale\": [[0.0, \"#0d0887\"], [0.1111111111111111, \"#46039f\"], [0.2222222222222222, \"#7201a8\"], [0.3333333333333333, \"#9c179e\"], [0.4444444444444444, \"#bd3786\"], [0.5555555555555556, \"#d8576b\"], [0.6666666666666666, \"#ed7953\"], [0.7777777777777778, \"#fb9f3a\"], [0.8888888888888888, \"#fdca26\"], [1.0, \"#f0f921\"]], \"type\": \"heatmap\"}], \"heatmapgl\": [{\"colorbar\": {\"outlinewidth\": 0, \"ticks\": \"\"}, \"colorscale\": [[0.0, \"#0d0887\"], [0.1111111111111111, \"#46039f\"], [0.2222222222222222, \"#7201a8\"], [0.3333333333333333, \"#9c179e\"], [0.4444444444444444, \"#bd3786\"], [0.5555555555555556, \"#d8576b\"], [0.6666666666666666, \"#ed7953\"], [0.7777777777777778, \"#fb9f3a\"], [0.8888888888888888, \"#fdca26\"], [1.0, \"#f0f921\"]], \"type\": \"heatmapgl\"}], \"histogram\": [{\"marker\": {\"colorbar\": {\"outlinewidth\": 0, \"ticks\": \"\"}}, \"type\": \"histogram\"}], \"histogram2d\": [{\"colorbar\": {\"outlinewidth\": 0, \"ticks\": \"\"}, \"colorscale\": [[0.0, \"#0d0887\"], [0.1111111111111111, \"#46039f\"], [0.2222222222222222, \"#7201a8\"], [0.3333333333333333, \"#9c179e\"], [0.4444444444444444, \"#bd3786\"], [0.5555555555555556, \"#d8576b\"], [0.6666666666666666, \"#ed7953\"], [0.7777777777777778, \"#fb9f3a\"], [0.8888888888888888, \"#fdca26\"], [1.0, \"#f0f921\"]], \"type\": \"histogram2d\"}], \"histogram2dcontour\": [{\"colorbar\": {\"outlinewidth\": 0, \"ticks\": \"\"}, \"colorscale\": [[0.0, \"#0d0887\"], [0.1111111111111111, \"#46039f\"], [0.2222222222222222, \"#7201a8\"], [0.3333333333333333, \"#9c179e\"], [0.4444444444444444, \"#bd3786\"], [0.5555555555555556, \"#d8576b\"], [0.6666666666666666, \"#ed7953\"], [0.7777777777777778, \"#fb9f3a\"], [0.8888888888888888, \"#fdca26\"], [1.0, \"#f0f921\"]], \"type\": \"histogram2dcontour\"}], \"mesh3d\": [{\"colorbar\": {\"outlinewidth\": 0, \"ticks\": \"\"}, \"type\": \"mesh3d\"}], \"parcoords\": [{\"line\": {\"colorbar\": {\"outlinewidth\": 0, \"ticks\": \"\"}}, \"type\": \"parcoords\"}], \"pie\": [{\"automargin\": true, \"type\": \"pie\"}], \"scatter\": [{\"marker\": {\"colorbar\": {\"outlinewidth\": 0, \"ticks\": \"\"}}, \"type\": \"scatter\"}], \"scatter3d\": [{\"line\": {\"colorbar\": {\"outlinewidth\": 0, \"ticks\": \"\"}}, \"marker\": {\"colorbar\": {\"outlinewidth\": 0, \"ticks\": \"\"}}, \"type\": \"scatter3d\"}], \"scattercarpet\": [{\"marker\": {\"colorbar\": {\"outlinewidth\": 0, \"ticks\": \"\"}}, \"type\": \"scattercarpet\"}], \"scattergeo\": [{\"marker\": {\"colorbar\": {\"outlinewidth\": 0, \"ticks\": \"\"}}, \"type\": \"scattergeo\"}], \"scattergl\": [{\"marker\": {\"colorbar\": {\"outlinewidth\": 0, \"ticks\": \"\"}}, \"type\": \"scattergl\"}], \"scattermapbox\": [{\"marker\": {\"colorbar\": {\"outlinewidth\": 0, \"ticks\": \"\"}}, \"type\": \"scattermapbox\"}], \"scatterpolar\": [{\"marker\": {\"colorbar\": {\"outlinewidth\": 0, \"ticks\": \"\"}}, \"type\": \"scatterpolar\"}], \"scatterpolargl\": [{\"marker\": {\"colorbar\": {\"outlinewidth\": 0, \"ticks\": \"\"}}, \"type\": \"scatterpolargl\"}], \"scatterternary\": [{\"marker\": {\"colorbar\": {\"outlinewidth\": 0, \"ticks\": \"\"}}, \"type\": \"scatterternary\"}], \"surface\": [{\"colorbar\": {\"outlinewidth\": 0, \"ticks\": \"\"}, \"colorscale\": [[0.0, \"#0d0887\"], [0.1111111111111111, \"#46039f\"], [0.2222222222222222, \"#7201a8\"], [0.3333333333333333, \"#9c179e\"], [0.4444444444444444, \"#bd3786\"], [0.5555555555555556, \"#d8576b\"], [0.6666666666666666, \"#ed7953\"], [0.7777777777777778, \"#fb9f3a\"], [0.8888888888888888, \"#fdca26\"], [1.0, \"#f0f921\"]], \"type\": \"surface\"}], \"table\": [{\"cells\": {\"fill\": {\"color\": \"#EBF0F8\"}, \"line\": {\"color\": \"white\"}}, \"header\": {\"fill\": {\"color\": \"#C8D4E3\"}, \"line\": {\"color\": \"white\"}}, \"type\": \"table\"}]}, \"layout\": {\"annotationdefaults\": {\"arrowcolor\": \"#2a3f5f\", \"arrowhead\": 0, \"arrowwidth\": 1}, \"autotypenumbers\": \"strict\", \"coloraxis\": {\"colorbar\": {\"outlinewidth\": 0, \"ticks\": \"\"}}, \"colorscale\": {\"diverging\": [[0, \"#8e0152\"], [0.1, \"#c51b7d\"], [0.2, \"#de77ae\"], [0.3, \"#f1b6da\"], [0.4, \"#fde0ef\"], [0.5, \"#f7f7f7\"], [0.6, \"#e6f5d0\"], [0.7, \"#b8e186\"], [0.8, \"#7fbc41\"], [0.9, \"#4d9221\"], [1, \"#276419\"]], \"sequential\": [[0.0, \"#0d0887\"], [0.1111111111111111, \"#46039f\"], [0.2222222222222222, \"#7201a8\"], [0.3333333333333333, \"#9c179e\"], [0.4444444444444444, \"#bd3786\"], [0.5555555555555556, \"#d8576b\"], [0.6666666666666666, \"#ed7953\"], [0.7777777777777778, \"#fb9f3a\"], [0.8888888888888888, \"#fdca26\"], [1.0, \"#f0f921\"]], \"sequentialminus\": [[0.0, \"#0d0887\"], [0.1111111111111111, \"#46039f\"], [0.2222222222222222, \"#7201a8\"], [0.3333333333333333, \"#9c179e\"], [0.4444444444444444, \"#bd3786\"], [0.5555555555555556, \"#d8576b\"], [0.6666666666666666, \"#ed7953\"], [0.7777777777777778, \"#fb9f3a\"], [0.8888888888888888, \"#fdca26\"], [1.0, \"#f0f921\"]]}, \"colorway\": [\"#636efa\", \"#EF553B\", \"#00cc96\", \"#ab63fa\", \"#FFA15A\", \"#19d3f3\", \"#FF6692\", \"#B6E880\", \"#FF97FF\", \"#FECB52\"], \"font\": {\"color\": \"#2a3f5f\"}, \"geo\": {\"bgcolor\": \"white\", \"lakecolor\": \"white\", \"landcolor\": \"#E5ECF6\", \"showlakes\": true, \"showland\": true, \"subunitcolor\": \"white\"}, \"hoverlabel\": {\"align\": \"left\"}, \"hovermode\": \"closest\", \"mapbox\": {\"style\": \"light\"}, \"paper_bgcolor\": \"white\", \"plot_bgcolor\": \"#E5ECF6\", \"polar\": {\"angularaxis\": {\"gridcolor\": \"white\", \"linecolor\": \"white\", \"ticks\": \"\"}, \"bgcolor\": \"#E5ECF6\", \"radialaxis\": {\"gridcolor\": \"white\", \"linecolor\": \"white\", \"ticks\": \"\"}}, \"scene\": {\"xaxis\": {\"backgroundcolor\": \"#E5ECF6\", \"gridcolor\": \"white\", \"gridwidth\": 2, \"linecolor\": \"white\", \"showbackground\": true, \"ticks\": \"\", \"zerolinecolor\": \"white\"}, \"yaxis\": {\"backgroundcolor\": \"#E5ECF6\", \"gridcolor\": \"white\", \"gridwidth\": 2, \"linecolor\": \"white\", \"showbackground\": true, \"ticks\": \"\", \"zerolinecolor\": \"white\"}, \"zaxis\": {\"backgroundcolor\": \"#E5ECF6\", \"gridcolor\": \"white\", \"gridwidth\": 2, \"linecolor\": \"white\", \"showbackground\": true, \"ticks\": \"\", \"zerolinecolor\": \"white\"}}, \"shapedefaults\": {\"line\": {\"color\": \"#2a3f5f\"}}, \"ternary\": {\"aaxis\": {\"gridcolor\": \"white\", \"linecolor\": \"white\", \"ticks\": \"\"}, \"baxis\": {\"gridcolor\": \"white\", \"linecolor\": \"white\", \"ticks\": \"\"}, \"bgcolor\": \"#E5ECF6\", \"caxis\": {\"gridcolor\": \"white\", \"linecolor\": \"white\", \"ticks\": \"\"}}, \"title\": {\"x\": 0.05}, \"xaxis\": {\"automargin\": true, \"gridcolor\": \"white\", \"linecolor\": \"white\", \"ticks\": \"\", \"title\": {\"standoff\": 15}, \"zerolinecolor\": \"white\", \"zerolinewidth\": 2}, \"yaxis\": {\"automargin\": true, \"gridcolor\": \"white\", \"linecolor\": \"white\", \"ticks\": \"\", \"title\": {\"standoff\": 15}, \"zerolinecolor\": \"white\", \"zerolinewidth\": 2}}}, \"title\": {\"font\": {\"color\": \"#4D5663\"}}, \"xaxis\": {\"gridcolor\": \"#E1E5ED\", \"showgrid\": true, \"tickfont\": {\"color\": \"#4D5663\"}, \"title\": {\"font\": {\"color\": \"#4D5663\"}, \"text\": \"\"}, \"zerolinecolor\": \"#E1E5ED\"}, \"yaxis\": {\"gridcolor\": \"#E1E5ED\", \"showgrid\": true, \"tickfont\": {\"color\": \"#4D5663\"}, \"title\": {\"font\": {\"color\": \"#4D5663\"}, \"text\": \"\"}, \"zerolinecolor\": \"#E1E5ED\"}},                        {\"showLink\": true, \"linkText\": \"Export to chart-studio.plotly.com\", \"plotlyServerURL\": \"https://chart-studio.plotly.com\", \"responsive\": true}                    ).then(function(){\n",
       "                            \n",
       "var gd = document.getElementById('e523cd54-5043-4fef-92ae-261003cd46df');\n",
       "var x = new MutationObserver(function (mutations, observer) {{\n",
       "        var display = window.getComputedStyle(gd).display;\n",
       "        if (!display || display === 'none') {{\n",
       "            console.log([gd, 'removed!']);\n",
       "            Plotly.purge(gd);\n",
       "            observer.disconnect();\n",
       "        }}\n",
       "}});\n",
       "\n",
       "// Listen for the removal of the full notebook cells\n",
       "var notebookContainer = gd.closest('#notebook-container');\n",
       "if (notebookContainer) {{\n",
       "    x.observe(notebookContainer, {childList: true});\n",
       "}}\n",
       "\n",
       "// Listen for the clearing of the current output cell\n",
       "var outputEl = gd.closest('.output');\n",
       "if (outputEl) {{\n",
       "    x.observe(outputEl, {childList: true});\n",
       "}}\n",
       "\n",
       "                        })                };                });            </script>        </div>"
      ]
     },
     "metadata": {},
     "output_type": "display_data"
    }
   ],
   "source": [
    "df.count().iplot(kind='bar')"
   ]
  },
  {
   "cell_type": "markdown",
   "metadata": {},
   "source": [
    "## Boxplots"
   ]
  },
  {
   "cell_type": "code",
   "execution_count": 13,
   "metadata": {},
   "outputs": [
    {
     "data": {
      "application/vnd.plotly.v1+json": {
       "config": {
        "linkText": "Export to chart-studio.plotly.com",
        "plotlyServerURL": "https://chart-studio.plotly.com",
        "showLink": true
       },
       "data": [
        {
         "boxpoints": false,
         "line": {
          "width": 1.3
         },
         "marker": {
          "color": "rgba(255, 153, 51, 1.0)"
         },
         "name": "A",
         "orientation": "v",
         "type": "box",
         "y": [
          -0.10941102931249815,
          -0.8615740729354732,
          2.2191920448516105,
          0.8272024104553013,
          0.09260580476298218,
          -1.760498313088278,
          -1.3580352833088245,
          0.2837646296039586,
          0.9041110135710683,
          1.8963016027309272,
          1.8326035595389771,
          -0.10492725231921943,
          -0.2046535814758173,
          -0.10024462278595839,
          0.09630022741523961,
          -1.6924637530883027,
          -1.827533202226689,
          0.535830442200243,
          -1.9360645912018926,
          -0.8500344647105456,
          -0.05576325053126793,
          -0.23323577819050917,
          -0.6976270715849751,
          1.5307238079283552,
          1.2999535047751662,
          0.3303505037693656,
          -1.000663879444441,
          0.6308438849860508,
          1.3055824565890246,
          -0.40507941245360185,
          -0.3762913856446127,
          -1.7176097901649348,
          0.053400975014509904,
          0.21780304650270754,
          -0.3855545352890779,
          -0.5661844716568739,
          -2.560368808121754,
          0.3407561655250713,
          -0.48386581194026446,
          -1.585339192511962,
          0.02408347448600361,
          -1.2346577797624294,
          0.787854145181569,
          -1.9996732709740686,
          1.1464586983894467,
          1.496126645525582,
          0.5008657636740425,
          0.9484308471915603,
          0.08220806231666754,
          0.16054214225587957,
          0.38751961200206325,
          -0.47077345204718146,
          0.35760076104911215,
          -0.1544322284853308,
          0.7463179133033808,
          -1.502516121508507,
          0.5725392099395142,
          1.3913604236343293,
          2.1210719379328893,
          1.8773383992501935,
          1.2544431720187816,
          -0.694049794215334,
          2.502637085459896,
          -0.2753756798548901,
          -0.004244286821838908,
          0.09242496481751918,
          0.04883874317874036,
          -1.1291816313913836,
          -1.4004908252511359,
          -1.8213043294508382,
          -0.5701748178839355,
          1.0309248997596467,
          0.8003828152110333,
          0.47792794445750864,
          -0.26747921252634377,
          1.3405762679316036,
          -0.7221850291354602,
          1.7212787438610841,
          -1.3063358071403264,
          1.0957687559126097,
          -0.6871292686938323,
          -1.0645803968637746,
          0.7238126783784861,
          -1.9096265686281966,
          -0.6711390977232885,
          0.21744931156823238,
          0.23485404452984696,
          0.6167907699912447,
          0.387826246423899,
          0.9056443724871143,
          -0.35038815349392105,
          -1.069160929980094,
          -0.6957064695988187,
          0.35168615193685204,
          -2.505057701868909,
          0.5038066984983418,
          -2.1427877817529133,
          0.4174077862768109,
          1.0829115331525192,
          -0.9391761272870766
         ]
        },
        {
         "boxpoints": false,
         "line": {
          "width": 1.3
         },
         "marker": {
          "color": "rgba(55, 128, 191, 1.0)"
         },
         "name": "B",
         "orientation": "v",
         "type": "box",
         "y": [
          -1.1623662874693783,
          -0.832344062710519,
          -2.6889403263457887,
          0.33030460644081305,
          1.1897554957994894,
          -1.8295725952943718,
          -0.31134257611300087,
          -1.1150256707068056,
          1.1293886257293613,
          -0.20946608413393494,
          1.2949281437111222,
          0.7526921284010667,
          -0.3016330292488494,
          -0.03385842274369277,
          1.6780856289595902,
          1.1594910401462286,
          -1.6476591553972537,
          1.008497261373339,
          -0.6225470768959404,
          1.1991325015261836,
          -0.4704071561565932,
          0.8446723097825432,
          -1.2536342767984199,
          -0.9130082305126809,
          0.714353984339348,
          1.751443829854967,
          0.21766931930498662,
          0.6463839680678777,
          -1.7860941457977224,
          0.08881002354599406,
          -1.0678176090017426,
          -0.8816616633014966,
          -0.4480884978479455,
          -0.17539412892110837,
          0.19768867636516496,
          1.141342779188351,
          2.164771524215948,
          -0.016755546990118633,
          -1.7998811328448996,
          0.5442419970493254,
          -1.3562236272994466,
          0.2361511721120601,
          -0.8759959347156709,
          0.9273697244945078,
          -0.993762710016327,
          -0.12916485697785596,
          0.3245348617171941,
          0.8534569933866769,
          0.17396641552513492,
          -0.9579470225201236,
          0.04858908835109987,
          0.8129978238418555,
          -1.139226529424848,
          -0.1847432796748167,
          -1.3413819334330195,
          -0.2619249158317706,
          0.6516947357167101,
          1.675280779975995,
          -0.08984333109714171,
          -1.008464832427633,
          1.4740205657881218,
          0.5898484277272196,
          1.4435777212407885,
          -0.2364445961537404,
          -1.0875497083560146,
          -0.7298597590313212,
          -0.4145246652858039,
          -0.0403125523078092,
          1.8821837770362133,
          0.6523163439049054,
          -0.5319318714142541,
          -0.886569382439567,
          -1.57164561702653,
          -1.000733094004772,
          2.252092004447659,
          -0.9484906947123748,
          -1.5745344460769646,
          -0.1147773069126533,
          0.9570101068451705,
          0.8874610915201626,
          1.299598381237897,
          -1.9866886312472394,
          1.769202555822619,
          0.16318296330031146,
          -1.2255227926674428,
          0.08450632457157951,
          0.6749511586498979,
          0.8059974077581394,
          1.3743939631390771,
          0.6836318367306438,
          -0.8852015947588725,
          0.3855881334460895,
          2.0189809445009406,
          1.8117916079776115,
          -0.35933136617635036,
          -0.0673320225340837,
          -1.3580807726174224,
          0.23268662608029927,
          1.1247466248431852,
          -2.536863370877376
         ]
        },
        {
         "boxpoints": false,
         "line": {
          "width": 1.3
         },
         "marker": {
          "color": "rgba(50, 171, 96, 1.0)"
         },
         "name": "C",
         "orientation": "v",
         "type": "box",
         "y": [
          -0.4248277594985564,
          0.1513504151850946,
          -2.058306232463962,
          -1.0436072080846233,
          -0.6859620625913935,
          1.323324310854215,
          -0.6078577908285538,
          -0.8706351467472986,
          -1.032104121118313,
          1.104288900893966,
          1.1521443061400312,
          0.6258457496373017,
          -1.2991461654159133,
          0.20827155978124595,
          0.8126572250640745,
          -0.6400599004589999,
          2.5935153583099835,
          1.228663466587346,
          1.5487171552875663,
          0.9587987606710893,
          0.7836971828426463,
          2.698706022201188,
          0.18305424339508325,
          -0.06408520177085475,
          0.22964815043954506,
          -0.020151643537278646,
          -0.9314824271831205,
          0.014046970767866433,
          -1.642586812768221,
          -1.0598398638444377,
          -0.0007243105853715013,
          -0.8563550533914012,
          0.2541177109277807,
          -0.24965993985917798,
          2.0537542135667524,
          -0.08564796052704814,
          -1.087726351552115,
          -0.7533347973663863,
          -0.003277530037427063,
          0.7941140085094741,
          0.8930342883893841,
          -1.6789226349302377,
          -0.27900686819110787,
          0.9892349099096447,
          -1.298302309466238,
          0.30026649691242957,
          0.03444557202459019,
          0.6198193067399229,
          -1.393736516029622,
          -0.06331737942628961,
          -0.4947697956483195,
          2.0471358983548584,
          -0.11544240972834664,
          -0.07951266948470047,
          -1.5289180753904092,
          -0.3986908510146972,
          -0.39241606507134763,
          -1.397261729630864,
          -0.707382639792071,
          0.3132597386888826,
          -0.16749651101451493,
          -0.08886801592228395,
          0.1674365070605715,
          -0.31035165933701586,
          0.9612214537332486,
          0.25809665367328244,
          -1.546689400288278,
          -0.36716793334771874,
          0.6941773139996782,
          0.5716586284309948,
          -1.3154639457671933,
          0.039345274639484416,
          -0.19433445698592616,
          -1.1899433081174855,
          -1.8193503171050316,
          -0.2109110529440668,
          0.5864334575385997,
          0.26941716141690847,
          -0.008809772933606595,
          -0.936920852657209,
          0.9096280091903483,
          -1.739385395410571,
          0.8175700943676584,
          -0.949389670910661,
          0.4124323173999115,
          -1.5911419325692113,
          -0.3253505363773546,
          -0.9062836368367618,
          -0.6913909430260369,
          -0.49253138813355235,
          -0.03603281948359051,
          -0.21193029956885384,
          0.4724652726250642,
          0.7941883661128908,
          0.26273025780225867,
          -0.637180057546623,
          0.12980384330559883,
          0.05515973343473459,
          0.6424659230666038,
          -0.23688937286412992
         ]
        },
        {
         "boxpoints": false,
         "line": {
          "width": 1.3
         },
         "marker": {
          "color": "rgba(128, 0, 128, 1.0)"
         },
         "name": "D",
         "orientation": "v",
         "type": "box",
         "y": [
          -1.3668378895233886,
          1.0487448577880742,
          -0.2780814513852549,
          -1.2202610479942235,
          0.9227036438758959,
          0.5185505064813577,
          -0.5175472664587596,
          -1.420949527219002,
          1.0457905031395038,
          0.7054065280654733,
          0.2655120071878172,
          1.9149149246153476,
          1.1952456979194794,
          -1.5207725254086575,
          0.7289369935826845,
          -0.09606571285760698,
          1.8392220246268107,
          -0.14238701711042007,
          -0.3978400499144386,
          -2.1504970604376226,
          -0.9567172835412164,
          -0.20235146523728237,
          0.6383229581079899,
          -0.5823541322299404,
          -0.783262547296239,
          1.4755782225853598,
          0.17867775435975977,
          -2.2553604707979313,
          -0.9410969736956488,
          -1.0282883308914732,
          0.01931161519015419,
          -0.3383882634365259,
          0.3236055713728934,
          1.2058993344815825,
          -0.6167286837530893,
          -0.8250115663994755,
          0.3024113919853573,
          -0.6757853063650004,
          1.1688504157238322,
          -1.8704037502636932,
          -2.254604403213826,
          -0.3742229416521997,
          -0.034665618115568446,
          -0.870737565518343,
          1.0908310678469997,
          -0.9342417520458451,
          -0.5855183383530895,
          -0.733227306921073,
          2.3699546815345416,
          -0.4297432317515213,
          -0.893230053115751,
          0.09734081425183469,
          -0.9801604228873065,
          -0.7007679117901868,
          -1.1196281458004769,
          0.8325500389794176,
          1.1911357585965776,
          0.75911476208043,
          -1.7881704413577488,
          -1.4685496599258525,
          -0.2634789970247127,
          -2.0340851924543273,
          0.07962702650411135,
          0.10968422073910697,
          -0.8937387742897317,
          -1.510326512166877,
          -0.6307157216379593,
          0.23101621260922875,
          0.9658507298710426,
          -0.14582676612986797,
          0.24435391392993489,
          0.19988226546743493,
          -1.6864182483270802,
          -0.179565648317836,
          1.5790587268194936,
          1.1405837222497026,
          -1.002542239598847,
          -0.2848553496664866,
          0.22016891217967116,
          -0.14300651044375284,
          -2.7373269324359235,
          -2.538343494779956,
          3.04676387515265,
          -1.7214792981001903,
          0.3315444518238859,
          -2.1173049474469625,
          -0.9955560567688762,
          1.5384651549137196,
          -1.192188411694422,
          -0.19873328339923366,
          0.2463568803027659,
          -1.582529421336658,
          0.9705880808884735,
          -0.36394075916775437,
          1.8694994508609717,
          -1.8607920321206797,
          -0.2144291853983574,
          1.0260638450581705,
          -0.13123875075991048,
          1.100593205622243
         ]
        }
       ],
       "layout": {
        "legend": {
         "bgcolor": "#F5F6F9",
         "font": {
          "color": "#4D5663"
         }
        },
        "paper_bgcolor": "#F5F6F9",
        "plot_bgcolor": "#F5F6F9",
        "template": {
         "data": {
          "bar": [
           {
            "error_x": {
             "color": "#2a3f5f"
            },
            "error_y": {
             "color": "#2a3f5f"
            },
            "marker": {
             "line": {
              "color": "#E5ECF6",
              "width": 0.5
             }
            },
            "type": "bar"
           }
          ],
          "barpolar": [
           {
            "marker": {
             "line": {
              "color": "#E5ECF6",
              "width": 0.5
             }
            },
            "type": "barpolar"
           }
          ],
          "carpet": [
           {
            "aaxis": {
             "endlinecolor": "#2a3f5f",
             "gridcolor": "white",
             "linecolor": "white",
             "minorgridcolor": "white",
             "startlinecolor": "#2a3f5f"
            },
            "baxis": {
             "endlinecolor": "#2a3f5f",
             "gridcolor": "white",
             "linecolor": "white",
             "minorgridcolor": "white",
             "startlinecolor": "#2a3f5f"
            },
            "type": "carpet"
           }
          ],
          "choropleth": [
           {
            "colorbar": {
             "outlinewidth": 0,
             "ticks": ""
            },
            "type": "choropleth"
           }
          ],
          "contour": [
           {
            "colorbar": {
             "outlinewidth": 0,
             "ticks": ""
            },
            "colorscale": [
             [
              0,
              "#0d0887"
             ],
             [
              0.1111111111111111,
              "#46039f"
             ],
             [
              0.2222222222222222,
              "#7201a8"
             ],
             [
              0.3333333333333333,
              "#9c179e"
             ],
             [
              0.4444444444444444,
              "#bd3786"
             ],
             [
              0.5555555555555556,
              "#d8576b"
             ],
             [
              0.6666666666666666,
              "#ed7953"
             ],
             [
              0.7777777777777778,
              "#fb9f3a"
             ],
             [
              0.8888888888888888,
              "#fdca26"
             ],
             [
              1,
              "#f0f921"
             ]
            ],
            "type": "contour"
           }
          ],
          "contourcarpet": [
           {
            "colorbar": {
             "outlinewidth": 0,
             "ticks": ""
            },
            "type": "contourcarpet"
           }
          ],
          "heatmap": [
           {
            "colorbar": {
             "outlinewidth": 0,
             "ticks": ""
            },
            "colorscale": [
             [
              0,
              "#0d0887"
             ],
             [
              0.1111111111111111,
              "#46039f"
             ],
             [
              0.2222222222222222,
              "#7201a8"
             ],
             [
              0.3333333333333333,
              "#9c179e"
             ],
             [
              0.4444444444444444,
              "#bd3786"
             ],
             [
              0.5555555555555556,
              "#d8576b"
             ],
             [
              0.6666666666666666,
              "#ed7953"
             ],
             [
              0.7777777777777778,
              "#fb9f3a"
             ],
             [
              0.8888888888888888,
              "#fdca26"
             ],
             [
              1,
              "#f0f921"
             ]
            ],
            "type": "heatmap"
           }
          ],
          "heatmapgl": [
           {
            "colorbar": {
             "outlinewidth": 0,
             "ticks": ""
            },
            "colorscale": [
             [
              0,
              "#0d0887"
             ],
             [
              0.1111111111111111,
              "#46039f"
             ],
             [
              0.2222222222222222,
              "#7201a8"
             ],
             [
              0.3333333333333333,
              "#9c179e"
             ],
             [
              0.4444444444444444,
              "#bd3786"
             ],
             [
              0.5555555555555556,
              "#d8576b"
             ],
             [
              0.6666666666666666,
              "#ed7953"
             ],
             [
              0.7777777777777778,
              "#fb9f3a"
             ],
             [
              0.8888888888888888,
              "#fdca26"
             ],
             [
              1,
              "#f0f921"
             ]
            ],
            "type": "heatmapgl"
           }
          ],
          "histogram": [
           {
            "marker": {
             "colorbar": {
              "outlinewidth": 0,
              "ticks": ""
             }
            },
            "type": "histogram"
           }
          ],
          "histogram2d": [
           {
            "colorbar": {
             "outlinewidth": 0,
             "ticks": ""
            },
            "colorscale": [
             [
              0,
              "#0d0887"
             ],
             [
              0.1111111111111111,
              "#46039f"
             ],
             [
              0.2222222222222222,
              "#7201a8"
             ],
             [
              0.3333333333333333,
              "#9c179e"
             ],
             [
              0.4444444444444444,
              "#bd3786"
             ],
             [
              0.5555555555555556,
              "#d8576b"
             ],
             [
              0.6666666666666666,
              "#ed7953"
             ],
             [
              0.7777777777777778,
              "#fb9f3a"
             ],
             [
              0.8888888888888888,
              "#fdca26"
             ],
             [
              1,
              "#f0f921"
             ]
            ],
            "type": "histogram2d"
           }
          ],
          "histogram2dcontour": [
           {
            "colorbar": {
             "outlinewidth": 0,
             "ticks": ""
            },
            "colorscale": [
             [
              0,
              "#0d0887"
             ],
             [
              0.1111111111111111,
              "#46039f"
             ],
             [
              0.2222222222222222,
              "#7201a8"
             ],
             [
              0.3333333333333333,
              "#9c179e"
             ],
             [
              0.4444444444444444,
              "#bd3786"
             ],
             [
              0.5555555555555556,
              "#d8576b"
             ],
             [
              0.6666666666666666,
              "#ed7953"
             ],
             [
              0.7777777777777778,
              "#fb9f3a"
             ],
             [
              0.8888888888888888,
              "#fdca26"
             ],
             [
              1,
              "#f0f921"
             ]
            ],
            "type": "histogram2dcontour"
           }
          ],
          "mesh3d": [
           {
            "colorbar": {
             "outlinewidth": 0,
             "ticks": ""
            },
            "type": "mesh3d"
           }
          ],
          "parcoords": [
           {
            "line": {
             "colorbar": {
              "outlinewidth": 0,
              "ticks": ""
             }
            },
            "type": "parcoords"
           }
          ],
          "pie": [
           {
            "automargin": true,
            "type": "pie"
           }
          ],
          "scatter": [
           {
            "marker": {
             "colorbar": {
              "outlinewidth": 0,
              "ticks": ""
             }
            },
            "type": "scatter"
           }
          ],
          "scatter3d": [
           {
            "line": {
             "colorbar": {
              "outlinewidth": 0,
              "ticks": ""
             }
            },
            "marker": {
             "colorbar": {
              "outlinewidth": 0,
              "ticks": ""
             }
            },
            "type": "scatter3d"
           }
          ],
          "scattercarpet": [
           {
            "marker": {
             "colorbar": {
              "outlinewidth": 0,
              "ticks": ""
             }
            },
            "type": "scattercarpet"
           }
          ],
          "scattergeo": [
           {
            "marker": {
             "colorbar": {
              "outlinewidth": 0,
              "ticks": ""
             }
            },
            "type": "scattergeo"
           }
          ],
          "scattergl": [
           {
            "marker": {
             "colorbar": {
              "outlinewidth": 0,
              "ticks": ""
             }
            },
            "type": "scattergl"
           }
          ],
          "scattermapbox": [
           {
            "marker": {
             "colorbar": {
              "outlinewidth": 0,
              "ticks": ""
             }
            },
            "type": "scattermapbox"
           }
          ],
          "scatterpolar": [
           {
            "marker": {
             "colorbar": {
              "outlinewidth": 0,
              "ticks": ""
             }
            },
            "type": "scatterpolar"
           }
          ],
          "scatterpolargl": [
           {
            "marker": {
             "colorbar": {
              "outlinewidth": 0,
              "ticks": ""
             }
            },
            "type": "scatterpolargl"
           }
          ],
          "scatterternary": [
           {
            "marker": {
             "colorbar": {
              "outlinewidth": 0,
              "ticks": ""
             }
            },
            "type": "scatterternary"
           }
          ],
          "surface": [
           {
            "colorbar": {
             "outlinewidth": 0,
             "ticks": ""
            },
            "colorscale": [
             [
              0,
              "#0d0887"
             ],
             [
              0.1111111111111111,
              "#46039f"
             ],
             [
              0.2222222222222222,
              "#7201a8"
             ],
             [
              0.3333333333333333,
              "#9c179e"
             ],
             [
              0.4444444444444444,
              "#bd3786"
             ],
             [
              0.5555555555555556,
              "#d8576b"
             ],
             [
              0.6666666666666666,
              "#ed7953"
             ],
             [
              0.7777777777777778,
              "#fb9f3a"
             ],
             [
              0.8888888888888888,
              "#fdca26"
             ],
             [
              1,
              "#f0f921"
             ]
            ],
            "type": "surface"
           }
          ],
          "table": [
           {
            "cells": {
             "fill": {
              "color": "#EBF0F8"
             },
             "line": {
              "color": "white"
             }
            },
            "header": {
             "fill": {
              "color": "#C8D4E3"
             },
             "line": {
              "color": "white"
             }
            },
            "type": "table"
           }
          ]
         },
         "layout": {
          "annotationdefaults": {
           "arrowcolor": "#2a3f5f",
           "arrowhead": 0,
           "arrowwidth": 1
          },
          "autotypenumbers": "strict",
          "coloraxis": {
           "colorbar": {
            "outlinewidth": 0,
            "ticks": ""
           }
          },
          "colorscale": {
           "diverging": [
            [
             0,
             "#8e0152"
            ],
            [
             0.1,
             "#c51b7d"
            ],
            [
             0.2,
             "#de77ae"
            ],
            [
             0.3,
             "#f1b6da"
            ],
            [
             0.4,
             "#fde0ef"
            ],
            [
             0.5,
             "#f7f7f7"
            ],
            [
             0.6,
             "#e6f5d0"
            ],
            [
             0.7,
             "#b8e186"
            ],
            [
             0.8,
             "#7fbc41"
            ],
            [
             0.9,
             "#4d9221"
            ],
            [
             1,
             "#276419"
            ]
           ],
           "sequential": [
            [
             0,
             "#0d0887"
            ],
            [
             0.1111111111111111,
             "#46039f"
            ],
            [
             0.2222222222222222,
             "#7201a8"
            ],
            [
             0.3333333333333333,
             "#9c179e"
            ],
            [
             0.4444444444444444,
             "#bd3786"
            ],
            [
             0.5555555555555556,
             "#d8576b"
            ],
            [
             0.6666666666666666,
             "#ed7953"
            ],
            [
             0.7777777777777778,
             "#fb9f3a"
            ],
            [
             0.8888888888888888,
             "#fdca26"
            ],
            [
             1,
             "#f0f921"
            ]
           ],
           "sequentialminus": [
            [
             0,
             "#0d0887"
            ],
            [
             0.1111111111111111,
             "#46039f"
            ],
            [
             0.2222222222222222,
             "#7201a8"
            ],
            [
             0.3333333333333333,
             "#9c179e"
            ],
            [
             0.4444444444444444,
             "#bd3786"
            ],
            [
             0.5555555555555556,
             "#d8576b"
            ],
            [
             0.6666666666666666,
             "#ed7953"
            ],
            [
             0.7777777777777778,
             "#fb9f3a"
            ],
            [
             0.8888888888888888,
             "#fdca26"
            ],
            [
             1,
             "#f0f921"
            ]
           ]
          },
          "colorway": [
           "#636efa",
           "#EF553B",
           "#00cc96",
           "#ab63fa",
           "#FFA15A",
           "#19d3f3",
           "#FF6692",
           "#B6E880",
           "#FF97FF",
           "#FECB52"
          ],
          "font": {
           "color": "#2a3f5f"
          },
          "geo": {
           "bgcolor": "white",
           "lakecolor": "white",
           "landcolor": "#E5ECF6",
           "showlakes": true,
           "showland": true,
           "subunitcolor": "white"
          },
          "hoverlabel": {
           "align": "left"
          },
          "hovermode": "closest",
          "mapbox": {
           "style": "light"
          },
          "paper_bgcolor": "white",
          "plot_bgcolor": "#E5ECF6",
          "polar": {
           "angularaxis": {
            "gridcolor": "white",
            "linecolor": "white",
            "ticks": ""
           },
           "bgcolor": "#E5ECF6",
           "radialaxis": {
            "gridcolor": "white",
            "linecolor": "white",
            "ticks": ""
           }
          },
          "scene": {
           "xaxis": {
            "backgroundcolor": "#E5ECF6",
            "gridcolor": "white",
            "gridwidth": 2,
            "linecolor": "white",
            "showbackground": true,
            "ticks": "",
            "zerolinecolor": "white"
           },
           "yaxis": {
            "backgroundcolor": "#E5ECF6",
            "gridcolor": "white",
            "gridwidth": 2,
            "linecolor": "white",
            "showbackground": true,
            "ticks": "",
            "zerolinecolor": "white"
           },
           "zaxis": {
            "backgroundcolor": "#E5ECF6",
            "gridcolor": "white",
            "gridwidth": 2,
            "linecolor": "white",
            "showbackground": true,
            "ticks": "",
            "zerolinecolor": "white"
           }
          },
          "shapedefaults": {
           "line": {
            "color": "#2a3f5f"
           }
          },
          "ternary": {
           "aaxis": {
            "gridcolor": "white",
            "linecolor": "white",
            "ticks": ""
           },
           "baxis": {
            "gridcolor": "white",
            "linecolor": "white",
            "ticks": ""
           },
           "bgcolor": "#E5ECF6",
           "caxis": {
            "gridcolor": "white",
            "linecolor": "white",
            "ticks": ""
           }
          },
          "title": {
           "x": 0.05
          },
          "xaxis": {
           "automargin": true,
           "gridcolor": "white",
           "linecolor": "white",
           "ticks": "",
           "title": {
            "standoff": 15
           },
           "zerolinecolor": "white",
           "zerolinewidth": 2
          },
          "yaxis": {
           "automargin": true,
           "gridcolor": "white",
           "linecolor": "white",
           "ticks": "",
           "title": {
            "standoff": 15
           },
           "zerolinecolor": "white",
           "zerolinewidth": 2
          }
         }
        },
        "title": {
         "font": {
          "color": "#4D5663"
         }
        },
        "xaxis": {
         "gridcolor": "#E1E5ED",
         "showgrid": true,
         "tickfont": {
          "color": "#4D5663"
         },
         "title": {
          "font": {
           "color": "#4D5663"
          },
          "text": ""
         },
         "zerolinecolor": "#E1E5ED"
        },
        "yaxis": {
         "gridcolor": "#E1E5ED",
         "showgrid": true,
         "tickfont": {
          "color": "#4D5663"
         },
         "title": {
          "font": {
           "color": "#4D5663"
          },
          "text": ""
         },
         "zerolinecolor": "#E1E5ED"
        }
       }
      },
      "text/html": [
       "<div>                            <div id=\"bbd55252-695c-455b-88b4-57069a02c436\" class=\"plotly-graph-div\" style=\"height:525px; width:100%;\"></div>            <script type=\"text/javascript\">                require([\"plotly\"], function(Plotly) {                    window.PLOTLYENV=window.PLOTLYENV || {};\n",
       "                    window.PLOTLYENV.BASE_URL='https://chart-studio.plotly.com';                                    if (document.getElementById(\"bbd55252-695c-455b-88b4-57069a02c436\")) {                    Plotly.newPlot(                        \"bbd55252-695c-455b-88b4-57069a02c436\",                        [{\"boxpoints\": false, \"line\": {\"width\": 1.3}, \"marker\": {\"color\": \"rgba(255, 153, 51, 1.0)\"}, \"name\": \"A\", \"orientation\": \"v\", \"type\": \"box\", \"y\": [-0.10941102931249815, -0.8615740729354732, 2.2191920448516105, 0.8272024104553013, 0.09260580476298218, -1.760498313088278, -1.3580352833088245, 0.2837646296039586, 0.9041110135710683, 1.8963016027309272, 1.8326035595389771, -0.10492725231921943, -0.2046535814758173, -0.10024462278595839, 0.09630022741523961, -1.6924637530883027, -1.827533202226689, 0.535830442200243, -1.9360645912018926, -0.8500344647105456, -0.05576325053126793, -0.23323577819050917, -0.6976270715849751, 1.5307238079283552, 1.2999535047751662, 0.3303505037693656, -1.000663879444441, 0.6308438849860508, 1.3055824565890246, -0.40507941245360185, -0.3762913856446127, -1.7176097901649348, 0.053400975014509904, 0.21780304650270754, -0.3855545352890779, -0.5661844716568739, -2.560368808121754, 0.3407561655250713, -0.48386581194026446, -1.585339192511962, 0.02408347448600361, -1.2346577797624294, 0.787854145181569, -1.9996732709740686, 1.1464586983894467, 1.496126645525582, 0.5008657636740425, 0.9484308471915603, 0.08220806231666754, 0.16054214225587957, 0.38751961200206325, -0.47077345204718146, 0.35760076104911215, -0.1544322284853308, 0.7463179133033808, -1.502516121508507, 0.5725392099395142, 1.3913604236343293, 2.1210719379328893, 1.8773383992501935, 1.2544431720187816, -0.694049794215334, 2.502637085459896, -0.2753756798548901, -0.004244286821838908, 0.09242496481751918, 0.04883874317874036, -1.1291816313913836, -1.4004908252511359, -1.8213043294508382, -0.5701748178839355, 1.0309248997596467, 0.8003828152110333, 0.47792794445750864, -0.26747921252634377, 1.3405762679316036, -0.7221850291354602, 1.7212787438610841, -1.3063358071403264, 1.0957687559126097, -0.6871292686938323, -1.0645803968637746, 0.7238126783784861, -1.9096265686281966, -0.6711390977232885, 0.21744931156823238, 0.23485404452984696, 0.6167907699912447, 0.387826246423899, 0.9056443724871143, -0.35038815349392105, -1.069160929980094, -0.6957064695988187, 0.35168615193685204, -2.505057701868909, 0.5038066984983418, -2.1427877817529133, 0.4174077862768109, 1.0829115331525192, -0.9391761272870766]}, {\"boxpoints\": false, \"line\": {\"width\": 1.3}, \"marker\": {\"color\": \"rgba(55, 128, 191, 1.0)\"}, \"name\": \"B\", \"orientation\": \"v\", \"type\": \"box\", \"y\": [-1.1623662874693783, -0.832344062710519, -2.6889403263457887, 0.33030460644081305, 1.1897554957994894, -1.8295725952943718, -0.31134257611300087, -1.1150256707068056, 1.1293886257293613, -0.20946608413393494, 1.2949281437111222, 0.7526921284010667, -0.3016330292488494, -0.03385842274369277, 1.6780856289595902, 1.1594910401462286, -1.6476591553972537, 1.008497261373339, -0.6225470768959404, 1.1991325015261836, -0.4704071561565932, 0.8446723097825432, -1.2536342767984199, -0.9130082305126809, 0.714353984339348, 1.751443829854967, 0.21766931930498662, 0.6463839680678777, -1.7860941457977224, 0.08881002354599406, -1.0678176090017426, -0.8816616633014966, -0.4480884978479455, -0.17539412892110837, 0.19768867636516496, 1.141342779188351, 2.164771524215948, -0.016755546990118633, -1.7998811328448996, 0.5442419970493254, -1.3562236272994466, 0.2361511721120601, -0.8759959347156709, 0.9273697244945078, -0.993762710016327, -0.12916485697785596, 0.3245348617171941, 0.8534569933866769, 0.17396641552513492, -0.9579470225201236, 0.04858908835109987, 0.8129978238418555, -1.139226529424848, -0.1847432796748167, -1.3413819334330195, -0.2619249158317706, 0.6516947357167101, 1.675280779975995, -0.08984333109714171, -1.008464832427633, 1.4740205657881218, 0.5898484277272196, 1.4435777212407885, -0.2364445961537404, -1.0875497083560146, -0.7298597590313212, -0.4145246652858039, -0.0403125523078092, 1.8821837770362133, 0.6523163439049054, -0.5319318714142541, -0.886569382439567, -1.57164561702653, -1.000733094004772, 2.252092004447659, -0.9484906947123748, -1.5745344460769646, -0.1147773069126533, 0.9570101068451705, 0.8874610915201626, 1.299598381237897, -1.9866886312472394, 1.769202555822619, 0.16318296330031146, -1.2255227926674428, 0.08450632457157951, 0.6749511586498979, 0.8059974077581394, 1.3743939631390771, 0.6836318367306438, -0.8852015947588725, 0.3855881334460895, 2.0189809445009406, 1.8117916079776115, -0.35933136617635036, -0.0673320225340837, -1.3580807726174224, 0.23268662608029927, 1.1247466248431852, -2.536863370877376]}, {\"boxpoints\": false, \"line\": {\"width\": 1.3}, \"marker\": {\"color\": \"rgba(50, 171, 96, 1.0)\"}, \"name\": \"C\", \"orientation\": \"v\", \"type\": \"box\", \"y\": [-0.4248277594985564, 0.1513504151850946, -2.058306232463962, -1.0436072080846233, -0.6859620625913935, 1.323324310854215, -0.6078577908285538, -0.8706351467472986, -1.032104121118313, 1.104288900893966, 1.1521443061400312, 0.6258457496373017, -1.2991461654159133, 0.20827155978124595, 0.8126572250640745, -0.6400599004589999, 2.5935153583099835, 1.228663466587346, 1.5487171552875663, 0.9587987606710893, 0.7836971828426463, 2.698706022201188, 0.18305424339508325, -0.06408520177085475, 0.22964815043954506, -0.020151643537278646, -0.9314824271831205, 0.014046970767866433, -1.642586812768221, -1.0598398638444377, -0.0007243105853715013, -0.8563550533914012, 0.2541177109277807, -0.24965993985917798, 2.0537542135667524, -0.08564796052704814, -1.087726351552115, -0.7533347973663863, -0.003277530037427063, 0.7941140085094741, 0.8930342883893841, -1.6789226349302377, -0.27900686819110787, 0.9892349099096447, -1.298302309466238, 0.30026649691242957, 0.03444557202459019, 0.6198193067399229, -1.393736516029622, -0.06331737942628961, -0.4947697956483195, 2.0471358983548584, -0.11544240972834664, -0.07951266948470047, -1.5289180753904092, -0.3986908510146972, -0.39241606507134763, -1.397261729630864, -0.707382639792071, 0.3132597386888826, -0.16749651101451493, -0.08886801592228395, 0.1674365070605715, -0.31035165933701586, 0.9612214537332486, 0.25809665367328244, -1.546689400288278, -0.36716793334771874, 0.6941773139996782, 0.5716586284309948, -1.3154639457671933, 0.039345274639484416, -0.19433445698592616, -1.1899433081174855, -1.8193503171050316, -0.2109110529440668, 0.5864334575385997, 0.26941716141690847, -0.008809772933606595, -0.936920852657209, 0.9096280091903483, -1.739385395410571, 0.8175700943676584, -0.949389670910661, 0.4124323173999115, -1.5911419325692113, -0.3253505363773546, -0.9062836368367618, -0.6913909430260369, -0.49253138813355235, -0.03603281948359051, -0.21193029956885384, 0.4724652726250642, 0.7941883661128908, 0.26273025780225867, -0.637180057546623, 0.12980384330559883, 0.05515973343473459, 0.6424659230666038, -0.23688937286412992]}, {\"boxpoints\": false, \"line\": {\"width\": 1.3}, \"marker\": {\"color\": \"rgba(128, 0, 128, 1.0)\"}, \"name\": \"D\", \"orientation\": \"v\", \"type\": \"box\", \"y\": [-1.3668378895233886, 1.0487448577880742, -0.2780814513852549, -1.2202610479942235, 0.9227036438758959, 0.5185505064813577, -0.5175472664587596, -1.420949527219002, 1.0457905031395038, 0.7054065280654733, 0.2655120071878172, 1.9149149246153476, 1.1952456979194794, -1.5207725254086575, 0.7289369935826845, -0.09606571285760698, 1.8392220246268107, -0.14238701711042007, -0.3978400499144386, -2.1504970604376226, -0.9567172835412164, -0.20235146523728237, 0.6383229581079899, -0.5823541322299404, -0.783262547296239, 1.4755782225853598, 0.17867775435975977, -2.2553604707979313, -0.9410969736956488, -1.0282883308914732, 0.01931161519015419, -0.3383882634365259, 0.3236055713728934, 1.2058993344815825, -0.6167286837530893, -0.8250115663994755, 0.3024113919853573, -0.6757853063650004, 1.1688504157238322, -1.8704037502636932, -2.254604403213826, -0.3742229416521997, -0.034665618115568446, -0.870737565518343, 1.0908310678469997, -0.9342417520458451, -0.5855183383530895, -0.733227306921073, 2.3699546815345416, -0.4297432317515213, -0.893230053115751, 0.09734081425183469, -0.9801604228873065, -0.7007679117901868, -1.1196281458004769, 0.8325500389794176, 1.1911357585965776, 0.75911476208043, -1.7881704413577488, -1.4685496599258525, -0.2634789970247127, -2.0340851924543273, 0.07962702650411135, 0.10968422073910697, -0.8937387742897317, -1.510326512166877, -0.6307157216379593, 0.23101621260922875, 0.9658507298710426, -0.14582676612986797, 0.24435391392993489, 0.19988226546743493, -1.6864182483270802, -0.179565648317836, 1.5790587268194936, 1.1405837222497026, -1.002542239598847, -0.2848553496664866, 0.22016891217967116, -0.14300651044375284, -2.7373269324359235, -2.538343494779956, 3.04676387515265, -1.7214792981001903, 0.3315444518238859, -2.1173049474469625, -0.9955560567688762, 1.5384651549137196, -1.192188411694422, -0.19873328339923366, 0.2463568803027659, -1.582529421336658, 0.9705880808884735, -0.36394075916775437, 1.8694994508609717, -1.8607920321206797, -0.2144291853983574, 1.0260638450581705, -0.13123875075991048, 1.100593205622243]}],                        {\"legend\": {\"bgcolor\": \"#F5F6F9\", \"font\": {\"color\": \"#4D5663\"}}, \"paper_bgcolor\": \"#F5F6F9\", \"plot_bgcolor\": \"#F5F6F9\", \"template\": {\"data\": {\"bar\": [{\"error_x\": {\"color\": \"#2a3f5f\"}, \"error_y\": {\"color\": \"#2a3f5f\"}, \"marker\": {\"line\": {\"color\": \"#E5ECF6\", \"width\": 0.5}}, \"type\": \"bar\"}], \"barpolar\": [{\"marker\": {\"line\": {\"color\": \"#E5ECF6\", \"width\": 0.5}}, \"type\": \"barpolar\"}], \"carpet\": [{\"aaxis\": {\"endlinecolor\": \"#2a3f5f\", \"gridcolor\": \"white\", \"linecolor\": \"white\", \"minorgridcolor\": \"white\", \"startlinecolor\": \"#2a3f5f\"}, \"baxis\": {\"endlinecolor\": \"#2a3f5f\", \"gridcolor\": \"white\", \"linecolor\": \"white\", \"minorgridcolor\": \"white\", \"startlinecolor\": \"#2a3f5f\"}, \"type\": \"carpet\"}], \"choropleth\": [{\"colorbar\": {\"outlinewidth\": 0, \"ticks\": \"\"}, \"type\": \"choropleth\"}], \"contour\": [{\"colorbar\": {\"outlinewidth\": 0, \"ticks\": \"\"}, \"colorscale\": [[0.0, \"#0d0887\"], [0.1111111111111111, \"#46039f\"], [0.2222222222222222, \"#7201a8\"], [0.3333333333333333, \"#9c179e\"], [0.4444444444444444, \"#bd3786\"], [0.5555555555555556, \"#d8576b\"], [0.6666666666666666, \"#ed7953\"], [0.7777777777777778, \"#fb9f3a\"], [0.8888888888888888, \"#fdca26\"], [1.0, \"#f0f921\"]], \"type\": \"contour\"}], \"contourcarpet\": [{\"colorbar\": {\"outlinewidth\": 0, \"ticks\": \"\"}, \"type\": \"contourcarpet\"}], \"heatmap\": [{\"colorbar\": {\"outlinewidth\": 0, \"ticks\": \"\"}, \"colorscale\": [[0.0, \"#0d0887\"], [0.1111111111111111, \"#46039f\"], [0.2222222222222222, \"#7201a8\"], [0.3333333333333333, \"#9c179e\"], [0.4444444444444444, \"#bd3786\"], [0.5555555555555556, \"#d8576b\"], [0.6666666666666666, \"#ed7953\"], [0.7777777777777778, \"#fb9f3a\"], [0.8888888888888888, \"#fdca26\"], [1.0, \"#f0f921\"]], \"type\": \"heatmap\"}], \"heatmapgl\": [{\"colorbar\": {\"outlinewidth\": 0, \"ticks\": \"\"}, \"colorscale\": [[0.0, \"#0d0887\"], [0.1111111111111111, \"#46039f\"], [0.2222222222222222, \"#7201a8\"], [0.3333333333333333, \"#9c179e\"], [0.4444444444444444, \"#bd3786\"], [0.5555555555555556, \"#d8576b\"], [0.6666666666666666, \"#ed7953\"], [0.7777777777777778, \"#fb9f3a\"], [0.8888888888888888, \"#fdca26\"], [1.0, \"#f0f921\"]], \"type\": \"heatmapgl\"}], \"histogram\": [{\"marker\": {\"colorbar\": {\"outlinewidth\": 0, \"ticks\": \"\"}}, \"type\": \"histogram\"}], \"histogram2d\": [{\"colorbar\": {\"outlinewidth\": 0, \"ticks\": \"\"}, \"colorscale\": [[0.0, \"#0d0887\"], [0.1111111111111111, \"#46039f\"], [0.2222222222222222, \"#7201a8\"], [0.3333333333333333, \"#9c179e\"], [0.4444444444444444, \"#bd3786\"], [0.5555555555555556, \"#d8576b\"], [0.6666666666666666, \"#ed7953\"], [0.7777777777777778, \"#fb9f3a\"], [0.8888888888888888, \"#fdca26\"], [1.0, \"#f0f921\"]], \"type\": \"histogram2d\"}], \"histogram2dcontour\": [{\"colorbar\": {\"outlinewidth\": 0, \"ticks\": \"\"}, \"colorscale\": [[0.0, \"#0d0887\"], [0.1111111111111111, \"#46039f\"], [0.2222222222222222, \"#7201a8\"], [0.3333333333333333, \"#9c179e\"], [0.4444444444444444, \"#bd3786\"], [0.5555555555555556, \"#d8576b\"], [0.6666666666666666, \"#ed7953\"], [0.7777777777777778, \"#fb9f3a\"], [0.8888888888888888, \"#fdca26\"], [1.0, \"#f0f921\"]], \"type\": \"histogram2dcontour\"}], \"mesh3d\": [{\"colorbar\": {\"outlinewidth\": 0, \"ticks\": \"\"}, \"type\": \"mesh3d\"}], \"parcoords\": [{\"line\": {\"colorbar\": {\"outlinewidth\": 0, \"ticks\": \"\"}}, \"type\": \"parcoords\"}], \"pie\": [{\"automargin\": true, \"type\": \"pie\"}], \"scatter\": [{\"marker\": {\"colorbar\": {\"outlinewidth\": 0, \"ticks\": \"\"}}, \"type\": \"scatter\"}], \"scatter3d\": [{\"line\": {\"colorbar\": {\"outlinewidth\": 0, \"ticks\": \"\"}}, \"marker\": {\"colorbar\": {\"outlinewidth\": 0, \"ticks\": \"\"}}, \"type\": \"scatter3d\"}], \"scattercarpet\": [{\"marker\": {\"colorbar\": {\"outlinewidth\": 0, \"ticks\": \"\"}}, \"type\": \"scattercarpet\"}], \"scattergeo\": [{\"marker\": {\"colorbar\": {\"outlinewidth\": 0, \"ticks\": \"\"}}, \"type\": \"scattergeo\"}], \"scattergl\": [{\"marker\": {\"colorbar\": {\"outlinewidth\": 0, \"ticks\": \"\"}}, \"type\": \"scattergl\"}], \"scattermapbox\": [{\"marker\": {\"colorbar\": {\"outlinewidth\": 0, \"ticks\": \"\"}}, \"type\": \"scattermapbox\"}], \"scatterpolar\": [{\"marker\": {\"colorbar\": {\"outlinewidth\": 0, \"ticks\": \"\"}}, \"type\": \"scatterpolar\"}], \"scatterpolargl\": [{\"marker\": {\"colorbar\": {\"outlinewidth\": 0, \"ticks\": \"\"}}, \"type\": \"scatterpolargl\"}], \"scatterternary\": [{\"marker\": {\"colorbar\": {\"outlinewidth\": 0, \"ticks\": \"\"}}, \"type\": \"scatterternary\"}], \"surface\": [{\"colorbar\": {\"outlinewidth\": 0, \"ticks\": \"\"}, \"colorscale\": [[0.0, \"#0d0887\"], [0.1111111111111111, \"#46039f\"], [0.2222222222222222, \"#7201a8\"], [0.3333333333333333, \"#9c179e\"], [0.4444444444444444, \"#bd3786\"], [0.5555555555555556, \"#d8576b\"], [0.6666666666666666, \"#ed7953\"], [0.7777777777777778, \"#fb9f3a\"], [0.8888888888888888, \"#fdca26\"], [1.0, \"#f0f921\"]], \"type\": \"surface\"}], \"table\": [{\"cells\": {\"fill\": {\"color\": \"#EBF0F8\"}, \"line\": {\"color\": \"white\"}}, \"header\": {\"fill\": {\"color\": \"#C8D4E3\"}, \"line\": {\"color\": \"white\"}}, \"type\": \"table\"}]}, \"layout\": {\"annotationdefaults\": {\"arrowcolor\": \"#2a3f5f\", \"arrowhead\": 0, \"arrowwidth\": 1}, \"autotypenumbers\": \"strict\", \"coloraxis\": {\"colorbar\": {\"outlinewidth\": 0, \"ticks\": \"\"}}, \"colorscale\": {\"diverging\": [[0, \"#8e0152\"], [0.1, \"#c51b7d\"], [0.2, \"#de77ae\"], [0.3, \"#f1b6da\"], [0.4, \"#fde0ef\"], [0.5, \"#f7f7f7\"], [0.6, \"#e6f5d0\"], [0.7, \"#b8e186\"], [0.8, \"#7fbc41\"], [0.9, \"#4d9221\"], [1, \"#276419\"]], \"sequential\": [[0.0, \"#0d0887\"], [0.1111111111111111, \"#46039f\"], [0.2222222222222222, \"#7201a8\"], [0.3333333333333333, \"#9c179e\"], [0.4444444444444444, \"#bd3786\"], [0.5555555555555556, \"#d8576b\"], [0.6666666666666666, \"#ed7953\"], [0.7777777777777778, \"#fb9f3a\"], [0.8888888888888888, \"#fdca26\"], [1.0, \"#f0f921\"]], \"sequentialminus\": [[0.0, \"#0d0887\"], [0.1111111111111111, \"#46039f\"], [0.2222222222222222, \"#7201a8\"], [0.3333333333333333, \"#9c179e\"], [0.4444444444444444, \"#bd3786\"], [0.5555555555555556, \"#d8576b\"], [0.6666666666666666, \"#ed7953\"], [0.7777777777777778, \"#fb9f3a\"], [0.8888888888888888, \"#fdca26\"], [1.0, \"#f0f921\"]]}, \"colorway\": [\"#636efa\", \"#EF553B\", \"#00cc96\", \"#ab63fa\", \"#FFA15A\", \"#19d3f3\", \"#FF6692\", \"#B6E880\", \"#FF97FF\", \"#FECB52\"], \"font\": {\"color\": \"#2a3f5f\"}, \"geo\": {\"bgcolor\": \"white\", \"lakecolor\": \"white\", \"landcolor\": \"#E5ECF6\", \"showlakes\": true, \"showland\": true, \"subunitcolor\": \"white\"}, \"hoverlabel\": {\"align\": \"left\"}, \"hovermode\": \"closest\", \"mapbox\": {\"style\": \"light\"}, \"paper_bgcolor\": \"white\", \"plot_bgcolor\": \"#E5ECF6\", \"polar\": {\"angularaxis\": {\"gridcolor\": \"white\", \"linecolor\": \"white\", \"ticks\": \"\"}, \"bgcolor\": \"#E5ECF6\", \"radialaxis\": {\"gridcolor\": \"white\", \"linecolor\": \"white\", \"ticks\": \"\"}}, \"scene\": {\"xaxis\": {\"backgroundcolor\": \"#E5ECF6\", \"gridcolor\": \"white\", \"gridwidth\": 2, \"linecolor\": \"white\", \"showbackground\": true, \"ticks\": \"\", \"zerolinecolor\": \"white\"}, \"yaxis\": {\"backgroundcolor\": \"#E5ECF6\", \"gridcolor\": \"white\", \"gridwidth\": 2, \"linecolor\": \"white\", \"showbackground\": true, \"ticks\": \"\", \"zerolinecolor\": \"white\"}, \"zaxis\": {\"backgroundcolor\": \"#E5ECF6\", \"gridcolor\": \"white\", \"gridwidth\": 2, \"linecolor\": \"white\", \"showbackground\": true, \"ticks\": \"\", \"zerolinecolor\": \"white\"}}, \"shapedefaults\": {\"line\": {\"color\": \"#2a3f5f\"}}, \"ternary\": {\"aaxis\": {\"gridcolor\": \"white\", \"linecolor\": \"white\", \"ticks\": \"\"}, \"baxis\": {\"gridcolor\": \"white\", \"linecolor\": \"white\", \"ticks\": \"\"}, \"bgcolor\": \"#E5ECF6\", \"caxis\": {\"gridcolor\": \"white\", \"linecolor\": \"white\", \"ticks\": \"\"}}, \"title\": {\"x\": 0.05}, \"xaxis\": {\"automargin\": true, \"gridcolor\": \"white\", \"linecolor\": \"white\", \"ticks\": \"\", \"title\": {\"standoff\": 15}, \"zerolinecolor\": \"white\", \"zerolinewidth\": 2}, \"yaxis\": {\"automargin\": true, \"gridcolor\": \"white\", \"linecolor\": \"white\", \"ticks\": \"\", \"title\": {\"standoff\": 15}, \"zerolinecolor\": \"white\", \"zerolinewidth\": 2}}}, \"title\": {\"font\": {\"color\": \"#4D5663\"}}, \"xaxis\": {\"gridcolor\": \"#E1E5ED\", \"showgrid\": true, \"tickfont\": {\"color\": \"#4D5663\"}, \"title\": {\"font\": {\"color\": \"#4D5663\"}, \"text\": \"\"}, \"zerolinecolor\": \"#E1E5ED\"}, \"yaxis\": {\"gridcolor\": \"#E1E5ED\", \"showgrid\": true, \"tickfont\": {\"color\": \"#4D5663\"}, \"title\": {\"font\": {\"color\": \"#4D5663\"}, \"text\": \"\"}, \"zerolinecolor\": \"#E1E5ED\"}},                        {\"showLink\": true, \"linkText\": \"Export to chart-studio.plotly.com\", \"plotlyServerURL\": \"https://chart-studio.plotly.com\", \"responsive\": true}                    ).then(function(){\n",
       "                            \n",
       "var gd = document.getElementById('bbd55252-695c-455b-88b4-57069a02c436');\n",
       "var x = new MutationObserver(function (mutations, observer) {{\n",
       "        var display = window.getComputedStyle(gd).display;\n",
       "        if (!display || display === 'none') {{\n",
       "            console.log([gd, 'removed!']);\n",
       "            Plotly.purge(gd);\n",
       "            observer.disconnect();\n",
       "        }}\n",
       "}});\n",
       "\n",
       "// Listen for the removal of the full notebook cells\n",
       "var notebookContainer = gd.closest('#notebook-container');\n",
       "if (notebookContainer) {{\n",
       "    x.observe(notebookContainer, {childList: true});\n",
       "}}\n",
       "\n",
       "// Listen for the clearing of the current output cell\n",
       "var outputEl = gd.closest('.output');\n",
       "if (outputEl) {{\n",
       "    x.observe(outputEl, {childList: true});\n",
       "}}\n",
       "\n",
       "                        })                };                });            </script>        </div>"
      ]
     },
     "metadata": {},
     "output_type": "display_data"
    }
   ],
   "source": [
    "df.iplot(kind='box')"
   ]
  },
  {
   "cell_type": "markdown",
   "metadata": {},
   "source": [
    "## 3d Surface"
   ]
  },
  {
   "cell_type": "code",
   "execution_count": 14,
   "metadata": {},
   "outputs": [
    {
     "data": {
      "application/vnd.plotly.v1+json": {
       "config": {
        "linkText": "Export to chart-studio.plotly.com",
        "plotlyServerURL": "https://chart-studio.plotly.com",
        "showLink": true
       },
       "data": [
        {
         "colorscale": [
          [
           0,
           "rgb(165,0,38)"
          ],
          [
           0.1,
           "rgb(215,48,39)"
          ],
          [
           0.2,
           "rgb(244,109,67)"
          ],
          [
           0.3,
           "rgb(253,174,97)"
          ],
          [
           0.4,
           "rgb(254,224,144)"
          ],
          [
           0.5,
           "rgb(255,255,191)"
          ],
          [
           0.6,
           "rgb(224,243,248)"
          ],
          [
           0.7,
           "rgb(171,217,233)"
          ],
          [
           0.8,
           "rgb(116,173,209)"
          ],
          [
           0.9,
           "rgb(69,117,180)"
          ],
          [
           1,
           "rgb(49,54,149)"
          ]
         ],
         "type": "surface",
         "x": [
          0,
          1,
          2,
          3,
          4
         ],
         "y": [
          "x",
          "y",
          "z"
         ],
         "z": [
          [
           1,
           2,
           3,
           4,
           5
          ],
          [
           10,
           20,
           30,
           20,
           10
          ],
          [
           5,
           4,
           3,
           2,
           1
          ]
         ]
        }
       ],
       "layout": {
        "legend": {
         "bgcolor": "#F5F6F9",
         "font": {
          "color": "#4D5663"
         }
        },
        "paper_bgcolor": "#F5F6F9",
        "plot_bgcolor": "#F5F6F9",
        "template": {
         "data": {
          "bar": [
           {
            "error_x": {
             "color": "#2a3f5f"
            },
            "error_y": {
             "color": "#2a3f5f"
            },
            "marker": {
             "line": {
              "color": "#E5ECF6",
              "width": 0.5
             }
            },
            "type": "bar"
           }
          ],
          "barpolar": [
           {
            "marker": {
             "line": {
              "color": "#E5ECF6",
              "width": 0.5
             }
            },
            "type": "barpolar"
           }
          ],
          "carpet": [
           {
            "aaxis": {
             "endlinecolor": "#2a3f5f",
             "gridcolor": "white",
             "linecolor": "white",
             "minorgridcolor": "white",
             "startlinecolor": "#2a3f5f"
            },
            "baxis": {
             "endlinecolor": "#2a3f5f",
             "gridcolor": "white",
             "linecolor": "white",
             "minorgridcolor": "white",
             "startlinecolor": "#2a3f5f"
            },
            "type": "carpet"
           }
          ],
          "choropleth": [
           {
            "colorbar": {
             "outlinewidth": 0,
             "ticks": ""
            },
            "type": "choropleth"
           }
          ],
          "contour": [
           {
            "colorbar": {
             "outlinewidth": 0,
             "ticks": ""
            },
            "colorscale": [
             [
              0,
              "#0d0887"
             ],
             [
              0.1111111111111111,
              "#46039f"
             ],
             [
              0.2222222222222222,
              "#7201a8"
             ],
             [
              0.3333333333333333,
              "#9c179e"
             ],
             [
              0.4444444444444444,
              "#bd3786"
             ],
             [
              0.5555555555555556,
              "#d8576b"
             ],
             [
              0.6666666666666666,
              "#ed7953"
             ],
             [
              0.7777777777777778,
              "#fb9f3a"
             ],
             [
              0.8888888888888888,
              "#fdca26"
             ],
             [
              1,
              "#f0f921"
             ]
            ],
            "type": "contour"
           }
          ],
          "contourcarpet": [
           {
            "colorbar": {
             "outlinewidth": 0,
             "ticks": ""
            },
            "type": "contourcarpet"
           }
          ],
          "heatmap": [
           {
            "colorbar": {
             "outlinewidth": 0,
             "ticks": ""
            },
            "colorscale": [
             [
              0,
              "#0d0887"
             ],
             [
              0.1111111111111111,
              "#46039f"
             ],
             [
              0.2222222222222222,
              "#7201a8"
             ],
             [
              0.3333333333333333,
              "#9c179e"
             ],
             [
              0.4444444444444444,
              "#bd3786"
             ],
             [
              0.5555555555555556,
              "#d8576b"
             ],
             [
              0.6666666666666666,
              "#ed7953"
             ],
             [
              0.7777777777777778,
              "#fb9f3a"
             ],
             [
              0.8888888888888888,
              "#fdca26"
             ],
             [
              1,
              "#f0f921"
             ]
            ],
            "type": "heatmap"
           }
          ],
          "heatmapgl": [
           {
            "colorbar": {
             "outlinewidth": 0,
             "ticks": ""
            },
            "colorscale": [
             [
              0,
              "#0d0887"
             ],
             [
              0.1111111111111111,
              "#46039f"
             ],
             [
              0.2222222222222222,
              "#7201a8"
             ],
             [
              0.3333333333333333,
              "#9c179e"
             ],
             [
              0.4444444444444444,
              "#bd3786"
             ],
             [
              0.5555555555555556,
              "#d8576b"
             ],
             [
              0.6666666666666666,
              "#ed7953"
             ],
             [
              0.7777777777777778,
              "#fb9f3a"
             ],
             [
              0.8888888888888888,
              "#fdca26"
             ],
             [
              1,
              "#f0f921"
             ]
            ],
            "type": "heatmapgl"
           }
          ],
          "histogram": [
           {
            "marker": {
             "colorbar": {
              "outlinewidth": 0,
              "ticks": ""
             }
            },
            "type": "histogram"
           }
          ],
          "histogram2d": [
           {
            "colorbar": {
             "outlinewidth": 0,
             "ticks": ""
            },
            "colorscale": [
             [
              0,
              "#0d0887"
             ],
             [
              0.1111111111111111,
              "#46039f"
             ],
             [
              0.2222222222222222,
              "#7201a8"
             ],
             [
              0.3333333333333333,
              "#9c179e"
             ],
             [
              0.4444444444444444,
              "#bd3786"
             ],
             [
              0.5555555555555556,
              "#d8576b"
             ],
             [
              0.6666666666666666,
              "#ed7953"
             ],
             [
              0.7777777777777778,
              "#fb9f3a"
             ],
             [
              0.8888888888888888,
              "#fdca26"
             ],
             [
              1,
              "#f0f921"
             ]
            ],
            "type": "histogram2d"
           }
          ],
          "histogram2dcontour": [
           {
            "colorbar": {
             "outlinewidth": 0,
             "ticks": ""
            },
            "colorscale": [
             [
              0,
              "#0d0887"
             ],
             [
              0.1111111111111111,
              "#46039f"
             ],
             [
              0.2222222222222222,
              "#7201a8"
             ],
             [
              0.3333333333333333,
              "#9c179e"
             ],
             [
              0.4444444444444444,
              "#bd3786"
             ],
             [
              0.5555555555555556,
              "#d8576b"
             ],
             [
              0.6666666666666666,
              "#ed7953"
             ],
             [
              0.7777777777777778,
              "#fb9f3a"
             ],
             [
              0.8888888888888888,
              "#fdca26"
             ],
             [
              1,
              "#f0f921"
             ]
            ],
            "type": "histogram2dcontour"
           }
          ],
          "mesh3d": [
           {
            "colorbar": {
             "outlinewidth": 0,
             "ticks": ""
            },
            "type": "mesh3d"
           }
          ],
          "parcoords": [
           {
            "line": {
             "colorbar": {
              "outlinewidth": 0,
              "ticks": ""
             }
            },
            "type": "parcoords"
           }
          ],
          "pie": [
           {
            "automargin": true,
            "type": "pie"
           }
          ],
          "scatter": [
           {
            "marker": {
             "colorbar": {
              "outlinewidth": 0,
              "ticks": ""
             }
            },
            "type": "scatter"
           }
          ],
          "scatter3d": [
           {
            "line": {
             "colorbar": {
              "outlinewidth": 0,
              "ticks": ""
             }
            },
            "marker": {
             "colorbar": {
              "outlinewidth": 0,
              "ticks": ""
             }
            },
            "type": "scatter3d"
           }
          ],
          "scattercarpet": [
           {
            "marker": {
             "colorbar": {
              "outlinewidth": 0,
              "ticks": ""
             }
            },
            "type": "scattercarpet"
           }
          ],
          "scattergeo": [
           {
            "marker": {
             "colorbar": {
              "outlinewidth": 0,
              "ticks": ""
             }
            },
            "type": "scattergeo"
           }
          ],
          "scattergl": [
           {
            "marker": {
             "colorbar": {
              "outlinewidth": 0,
              "ticks": ""
             }
            },
            "type": "scattergl"
           }
          ],
          "scattermapbox": [
           {
            "marker": {
             "colorbar": {
              "outlinewidth": 0,
              "ticks": ""
             }
            },
            "type": "scattermapbox"
           }
          ],
          "scatterpolar": [
           {
            "marker": {
             "colorbar": {
              "outlinewidth": 0,
              "ticks": ""
             }
            },
            "type": "scatterpolar"
           }
          ],
          "scatterpolargl": [
           {
            "marker": {
             "colorbar": {
              "outlinewidth": 0,
              "ticks": ""
             }
            },
            "type": "scatterpolargl"
           }
          ],
          "scatterternary": [
           {
            "marker": {
             "colorbar": {
              "outlinewidth": 0,
              "ticks": ""
             }
            },
            "type": "scatterternary"
           }
          ],
          "surface": [
           {
            "colorbar": {
             "outlinewidth": 0,
             "ticks": ""
            },
            "colorscale": [
             [
              0,
              "#0d0887"
             ],
             [
              0.1111111111111111,
              "#46039f"
             ],
             [
              0.2222222222222222,
              "#7201a8"
             ],
             [
              0.3333333333333333,
              "#9c179e"
             ],
             [
              0.4444444444444444,
              "#bd3786"
             ],
             [
              0.5555555555555556,
              "#d8576b"
             ],
             [
              0.6666666666666666,
              "#ed7953"
             ],
             [
              0.7777777777777778,
              "#fb9f3a"
             ],
             [
              0.8888888888888888,
              "#fdca26"
             ],
             [
              1,
              "#f0f921"
             ]
            ],
            "type": "surface"
           }
          ],
          "table": [
           {
            "cells": {
             "fill": {
              "color": "#EBF0F8"
             },
             "line": {
              "color": "white"
             }
            },
            "header": {
             "fill": {
              "color": "#C8D4E3"
             },
             "line": {
              "color": "white"
             }
            },
            "type": "table"
           }
          ]
         },
         "layout": {
          "annotationdefaults": {
           "arrowcolor": "#2a3f5f",
           "arrowhead": 0,
           "arrowwidth": 1
          },
          "autotypenumbers": "strict",
          "coloraxis": {
           "colorbar": {
            "outlinewidth": 0,
            "ticks": ""
           }
          },
          "colorscale": {
           "diverging": [
            [
             0,
             "#8e0152"
            ],
            [
             0.1,
             "#c51b7d"
            ],
            [
             0.2,
             "#de77ae"
            ],
            [
             0.3,
             "#f1b6da"
            ],
            [
             0.4,
             "#fde0ef"
            ],
            [
             0.5,
             "#f7f7f7"
            ],
            [
             0.6,
             "#e6f5d0"
            ],
            [
             0.7,
             "#b8e186"
            ],
            [
             0.8,
             "#7fbc41"
            ],
            [
             0.9,
             "#4d9221"
            ],
            [
             1,
             "#276419"
            ]
           ],
           "sequential": [
            [
             0,
             "#0d0887"
            ],
            [
             0.1111111111111111,
             "#46039f"
            ],
            [
             0.2222222222222222,
             "#7201a8"
            ],
            [
             0.3333333333333333,
             "#9c179e"
            ],
            [
             0.4444444444444444,
             "#bd3786"
            ],
            [
             0.5555555555555556,
             "#d8576b"
            ],
            [
             0.6666666666666666,
             "#ed7953"
            ],
            [
             0.7777777777777778,
             "#fb9f3a"
            ],
            [
             0.8888888888888888,
             "#fdca26"
            ],
            [
             1,
             "#f0f921"
            ]
           ],
           "sequentialminus": [
            [
             0,
             "#0d0887"
            ],
            [
             0.1111111111111111,
             "#46039f"
            ],
            [
             0.2222222222222222,
             "#7201a8"
            ],
            [
             0.3333333333333333,
             "#9c179e"
            ],
            [
             0.4444444444444444,
             "#bd3786"
            ],
            [
             0.5555555555555556,
             "#d8576b"
            ],
            [
             0.6666666666666666,
             "#ed7953"
            ],
            [
             0.7777777777777778,
             "#fb9f3a"
            ],
            [
             0.8888888888888888,
             "#fdca26"
            ],
            [
             1,
             "#f0f921"
            ]
           ]
          },
          "colorway": [
           "#636efa",
           "#EF553B",
           "#00cc96",
           "#ab63fa",
           "#FFA15A",
           "#19d3f3",
           "#FF6692",
           "#B6E880",
           "#FF97FF",
           "#FECB52"
          ],
          "font": {
           "color": "#2a3f5f"
          },
          "geo": {
           "bgcolor": "white",
           "lakecolor": "white",
           "landcolor": "#E5ECF6",
           "showlakes": true,
           "showland": true,
           "subunitcolor": "white"
          },
          "hoverlabel": {
           "align": "left"
          },
          "hovermode": "closest",
          "mapbox": {
           "style": "light"
          },
          "paper_bgcolor": "white",
          "plot_bgcolor": "#E5ECF6",
          "polar": {
           "angularaxis": {
            "gridcolor": "white",
            "linecolor": "white",
            "ticks": ""
           },
           "bgcolor": "#E5ECF6",
           "radialaxis": {
            "gridcolor": "white",
            "linecolor": "white",
            "ticks": ""
           }
          },
          "scene": {
           "xaxis": {
            "backgroundcolor": "#E5ECF6",
            "gridcolor": "white",
            "gridwidth": 2,
            "linecolor": "white",
            "showbackground": true,
            "ticks": "",
            "zerolinecolor": "white"
           },
           "yaxis": {
            "backgroundcolor": "#E5ECF6",
            "gridcolor": "white",
            "gridwidth": 2,
            "linecolor": "white",
            "showbackground": true,
            "ticks": "",
            "zerolinecolor": "white"
           },
           "zaxis": {
            "backgroundcolor": "#E5ECF6",
            "gridcolor": "white",
            "gridwidth": 2,
            "linecolor": "white",
            "showbackground": true,
            "ticks": "",
            "zerolinecolor": "white"
           }
          },
          "shapedefaults": {
           "line": {
            "color": "#2a3f5f"
           }
          },
          "ternary": {
           "aaxis": {
            "gridcolor": "white",
            "linecolor": "white",
            "ticks": ""
           },
           "baxis": {
            "gridcolor": "white",
            "linecolor": "white",
            "ticks": ""
           },
           "bgcolor": "#E5ECF6",
           "caxis": {
            "gridcolor": "white",
            "linecolor": "white",
            "ticks": ""
           }
          },
          "title": {
           "x": 0.05
          },
          "xaxis": {
           "automargin": true,
           "gridcolor": "white",
           "linecolor": "white",
           "ticks": "",
           "title": {
            "standoff": 15
           },
           "zerolinecolor": "white",
           "zerolinewidth": 2
          },
          "yaxis": {
           "automargin": true,
           "gridcolor": "white",
           "linecolor": "white",
           "ticks": "",
           "title": {
            "standoff": 15
           },
           "zerolinecolor": "white",
           "zerolinewidth": 2
          }
         }
        },
        "title": {
         "font": {
          "color": "#4D5663"
         }
        },
        "xaxis": {
         "gridcolor": "#E1E5ED",
         "showgrid": true,
         "tickfont": {
          "color": "#4D5663"
         },
         "title": {
          "font": {
           "color": "#4D5663"
          },
          "text": ""
         },
         "zerolinecolor": "#E1E5ED"
        },
        "yaxis": {
         "gridcolor": "#E1E5ED",
         "showgrid": true,
         "tickfont": {
          "color": "#4D5663"
         },
         "title": {
          "font": {
           "color": "#4D5663"
          },
          "text": ""
         },
         "zerolinecolor": "#E1E5ED"
        }
       }
      },
      "text/html": [
       "<div>                            <div id=\"1730677b-5019-443b-bf2e-a3edf57fef1b\" class=\"plotly-graph-div\" style=\"height:525px; width:100%;\"></div>            <script type=\"text/javascript\">                require([\"plotly\"], function(Plotly) {                    window.PLOTLYENV=window.PLOTLYENV || {};\n",
       "                    window.PLOTLYENV.BASE_URL='https://chart-studio.plotly.com';                                    if (document.getElementById(\"1730677b-5019-443b-bf2e-a3edf57fef1b\")) {                    Plotly.newPlot(                        \"1730677b-5019-443b-bf2e-a3edf57fef1b\",                        [{\"colorscale\": [[0.0, \"rgb(165,0,38)\"], [0.1, \"rgb(215,48,39)\"], [0.2, \"rgb(244,109,67)\"], [0.3, \"rgb(253,174,97)\"], [0.4, \"rgb(254,224,144)\"], [0.5, \"rgb(255,255,191)\"], [0.6, \"rgb(224,243,248)\"], [0.7, \"rgb(171,217,233)\"], [0.8, \"rgb(116,173,209)\"], [0.9, \"rgb(69,117,180)\"], [1.0, \"rgb(49,54,149)\"]], \"type\": \"surface\", \"x\": [0, 1, 2, 3, 4], \"y\": [\"x\", \"y\", \"z\"], \"z\": [[1, 2, 3, 4, 5], [10, 20, 30, 20, 10], [5, 4, 3, 2, 1]]}],                        {\"legend\": {\"bgcolor\": \"#F5F6F9\", \"font\": {\"color\": \"#4D5663\"}}, \"paper_bgcolor\": \"#F5F6F9\", \"plot_bgcolor\": \"#F5F6F9\", \"template\": {\"data\": {\"bar\": [{\"error_x\": {\"color\": \"#2a3f5f\"}, \"error_y\": {\"color\": \"#2a3f5f\"}, \"marker\": {\"line\": {\"color\": \"#E5ECF6\", \"width\": 0.5}}, \"type\": \"bar\"}], \"barpolar\": [{\"marker\": {\"line\": {\"color\": \"#E5ECF6\", \"width\": 0.5}}, \"type\": \"barpolar\"}], \"carpet\": [{\"aaxis\": {\"endlinecolor\": \"#2a3f5f\", \"gridcolor\": \"white\", \"linecolor\": \"white\", \"minorgridcolor\": \"white\", \"startlinecolor\": \"#2a3f5f\"}, \"baxis\": {\"endlinecolor\": \"#2a3f5f\", \"gridcolor\": \"white\", \"linecolor\": \"white\", \"minorgridcolor\": \"white\", \"startlinecolor\": \"#2a3f5f\"}, \"type\": \"carpet\"}], \"choropleth\": [{\"colorbar\": {\"outlinewidth\": 0, \"ticks\": \"\"}, \"type\": \"choropleth\"}], \"contour\": [{\"colorbar\": {\"outlinewidth\": 0, \"ticks\": \"\"}, \"colorscale\": [[0.0, \"#0d0887\"], [0.1111111111111111, \"#46039f\"], [0.2222222222222222, \"#7201a8\"], [0.3333333333333333, \"#9c179e\"], [0.4444444444444444, \"#bd3786\"], [0.5555555555555556, \"#d8576b\"], [0.6666666666666666, \"#ed7953\"], [0.7777777777777778, \"#fb9f3a\"], [0.8888888888888888, \"#fdca26\"], [1.0, \"#f0f921\"]], \"type\": \"contour\"}], \"contourcarpet\": [{\"colorbar\": {\"outlinewidth\": 0, \"ticks\": \"\"}, \"type\": \"contourcarpet\"}], \"heatmap\": [{\"colorbar\": {\"outlinewidth\": 0, \"ticks\": \"\"}, \"colorscale\": [[0.0, \"#0d0887\"], [0.1111111111111111, \"#46039f\"], [0.2222222222222222, \"#7201a8\"], [0.3333333333333333, \"#9c179e\"], [0.4444444444444444, \"#bd3786\"], [0.5555555555555556, \"#d8576b\"], [0.6666666666666666, \"#ed7953\"], [0.7777777777777778, \"#fb9f3a\"], [0.8888888888888888, \"#fdca26\"], [1.0, \"#f0f921\"]], \"type\": \"heatmap\"}], \"heatmapgl\": [{\"colorbar\": {\"outlinewidth\": 0, \"ticks\": \"\"}, \"colorscale\": [[0.0, \"#0d0887\"], [0.1111111111111111, \"#46039f\"], [0.2222222222222222, \"#7201a8\"], [0.3333333333333333, \"#9c179e\"], [0.4444444444444444, \"#bd3786\"], [0.5555555555555556, \"#d8576b\"], [0.6666666666666666, \"#ed7953\"], [0.7777777777777778, \"#fb9f3a\"], [0.8888888888888888, \"#fdca26\"], [1.0, \"#f0f921\"]], \"type\": \"heatmapgl\"}], \"histogram\": [{\"marker\": {\"colorbar\": {\"outlinewidth\": 0, \"ticks\": \"\"}}, \"type\": \"histogram\"}], \"histogram2d\": [{\"colorbar\": {\"outlinewidth\": 0, \"ticks\": \"\"}, \"colorscale\": [[0.0, \"#0d0887\"], [0.1111111111111111, \"#46039f\"], [0.2222222222222222, \"#7201a8\"], [0.3333333333333333, \"#9c179e\"], [0.4444444444444444, \"#bd3786\"], [0.5555555555555556, \"#d8576b\"], [0.6666666666666666, \"#ed7953\"], [0.7777777777777778, \"#fb9f3a\"], [0.8888888888888888, \"#fdca26\"], [1.0, \"#f0f921\"]], \"type\": \"histogram2d\"}], \"histogram2dcontour\": [{\"colorbar\": {\"outlinewidth\": 0, \"ticks\": \"\"}, \"colorscale\": [[0.0, \"#0d0887\"], [0.1111111111111111, \"#46039f\"], [0.2222222222222222, \"#7201a8\"], [0.3333333333333333, \"#9c179e\"], [0.4444444444444444, \"#bd3786\"], [0.5555555555555556, \"#d8576b\"], [0.6666666666666666, \"#ed7953\"], [0.7777777777777778, \"#fb9f3a\"], [0.8888888888888888, \"#fdca26\"], [1.0, \"#f0f921\"]], \"type\": \"histogram2dcontour\"}], \"mesh3d\": [{\"colorbar\": {\"outlinewidth\": 0, \"ticks\": \"\"}, \"type\": \"mesh3d\"}], \"parcoords\": [{\"line\": {\"colorbar\": {\"outlinewidth\": 0, \"ticks\": \"\"}}, \"type\": \"parcoords\"}], \"pie\": [{\"automargin\": true, \"type\": \"pie\"}], \"scatter\": [{\"marker\": {\"colorbar\": {\"outlinewidth\": 0, \"ticks\": \"\"}}, \"type\": \"scatter\"}], \"scatter3d\": [{\"line\": {\"colorbar\": {\"outlinewidth\": 0, \"ticks\": \"\"}}, \"marker\": {\"colorbar\": {\"outlinewidth\": 0, \"ticks\": \"\"}}, \"type\": \"scatter3d\"}], \"scattercarpet\": [{\"marker\": {\"colorbar\": {\"outlinewidth\": 0, \"ticks\": \"\"}}, \"type\": \"scattercarpet\"}], \"scattergeo\": [{\"marker\": {\"colorbar\": {\"outlinewidth\": 0, \"ticks\": \"\"}}, \"type\": \"scattergeo\"}], \"scattergl\": [{\"marker\": {\"colorbar\": {\"outlinewidth\": 0, \"ticks\": \"\"}}, \"type\": \"scattergl\"}], \"scattermapbox\": [{\"marker\": {\"colorbar\": {\"outlinewidth\": 0, \"ticks\": \"\"}}, \"type\": \"scattermapbox\"}], \"scatterpolar\": [{\"marker\": {\"colorbar\": {\"outlinewidth\": 0, \"ticks\": \"\"}}, \"type\": \"scatterpolar\"}], \"scatterpolargl\": [{\"marker\": {\"colorbar\": {\"outlinewidth\": 0, \"ticks\": \"\"}}, \"type\": \"scatterpolargl\"}], \"scatterternary\": [{\"marker\": {\"colorbar\": {\"outlinewidth\": 0, \"ticks\": \"\"}}, \"type\": \"scatterternary\"}], \"surface\": [{\"colorbar\": {\"outlinewidth\": 0, \"ticks\": \"\"}, \"colorscale\": [[0.0, \"#0d0887\"], [0.1111111111111111, \"#46039f\"], [0.2222222222222222, \"#7201a8\"], [0.3333333333333333, \"#9c179e\"], [0.4444444444444444, \"#bd3786\"], [0.5555555555555556, \"#d8576b\"], [0.6666666666666666, \"#ed7953\"], [0.7777777777777778, \"#fb9f3a\"], [0.8888888888888888, \"#fdca26\"], [1.0, \"#f0f921\"]], \"type\": \"surface\"}], \"table\": [{\"cells\": {\"fill\": {\"color\": \"#EBF0F8\"}, \"line\": {\"color\": \"white\"}}, \"header\": {\"fill\": {\"color\": \"#C8D4E3\"}, \"line\": {\"color\": \"white\"}}, \"type\": \"table\"}]}, \"layout\": {\"annotationdefaults\": {\"arrowcolor\": \"#2a3f5f\", \"arrowhead\": 0, \"arrowwidth\": 1}, \"autotypenumbers\": \"strict\", \"coloraxis\": {\"colorbar\": {\"outlinewidth\": 0, \"ticks\": \"\"}}, \"colorscale\": {\"diverging\": [[0, \"#8e0152\"], [0.1, \"#c51b7d\"], [0.2, \"#de77ae\"], [0.3, \"#f1b6da\"], [0.4, \"#fde0ef\"], [0.5, \"#f7f7f7\"], [0.6, \"#e6f5d0\"], [0.7, \"#b8e186\"], [0.8, \"#7fbc41\"], [0.9, \"#4d9221\"], [1, \"#276419\"]], \"sequential\": [[0.0, \"#0d0887\"], [0.1111111111111111, \"#46039f\"], [0.2222222222222222, \"#7201a8\"], [0.3333333333333333, \"#9c179e\"], [0.4444444444444444, \"#bd3786\"], [0.5555555555555556, \"#d8576b\"], [0.6666666666666666, \"#ed7953\"], [0.7777777777777778, \"#fb9f3a\"], [0.8888888888888888, \"#fdca26\"], [1.0, \"#f0f921\"]], \"sequentialminus\": [[0.0, \"#0d0887\"], [0.1111111111111111, \"#46039f\"], [0.2222222222222222, \"#7201a8\"], [0.3333333333333333, \"#9c179e\"], [0.4444444444444444, \"#bd3786\"], [0.5555555555555556, \"#d8576b\"], [0.6666666666666666, \"#ed7953\"], [0.7777777777777778, \"#fb9f3a\"], [0.8888888888888888, \"#fdca26\"], [1.0, \"#f0f921\"]]}, \"colorway\": [\"#636efa\", \"#EF553B\", \"#00cc96\", \"#ab63fa\", \"#FFA15A\", \"#19d3f3\", \"#FF6692\", \"#B6E880\", \"#FF97FF\", \"#FECB52\"], \"font\": {\"color\": \"#2a3f5f\"}, \"geo\": {\"bgcolor\": \"white\", \"lakecolor\": \"white\", \"landcolor\": \"#E5ECF6\", \"showlakes\": true, \"showland\": true, \"subunitcolor\": \"white\"}, \"hoverlabel\": {\"align\": \"left\"}, \"hovermode\": \"closest\", \"mapbox\": {\"style\": \"light\"}, \"paper_bgcolor\": \"white\", \"plot_bgcolor\": \"#E5ECF6\", \"polar\": {\"angularaxis\": {\"gridcolor\": \"white\", \"linecolor\": \"white\", \"ticks\": \"\"}, \"bgcolor\": \"#E5ECF6\", \"radialaxis\": {\"gridcolor\": \"white\", \"linecolor\": \"white\", \"ticks\": \"\"}}, \"scene\": {\"xaxis\": {\"backgroundcolor\": \"#E5ECF6\", \"gridcolor\": \"white\", \"gridwidth\": 2, \"linecolor\": \"white\", \"showbackground\": true, \"ticks\": \"\", \"zerolinecolor\": \"white\"}, \"yaxis\": {\"backgroundcolor\": \"#E5ECF6\", \"gridcolor\": \"white\", \"gridwidth\": 2, \"linecolor\": \"white\", \"showbackground\": true, \"ticks\": \"\", \"zerolinecolor\": \"white\"}, \"zaxis\": {\"backgroundcolor\": \"#E5ECF6\", \"gridcolor\": \"white\", \"gridwidth\": 2, \"linecolor\": \"white\", \"showbackground\": true, \"ticks\": \"\", \"zerolinecolor\": \"white\"}}, \"shapedefaults\": {\"line\": {\"color\": \"#2a3f5f\"}}, \"ternary\": {\"aaxis\": {\"gridcolor\": \"white\", \"linecolor\": \"white\", \"ticks\": \"\"}, \"baxis\": {\"gridcolor\": \"white\", \"linecolor\": \"white\", \"ticks\": \"\"}, \"bgcolor\": \"#E5ECF6\", \"caxis\": {\"gridcolor\": \"white\", \"linecolor\": \"white\", \"ticks\": \"\"}}, \"title\": {\"x\": 0.05}, \"xaxis\": {\"automargin\": true, \"gridcolor\": \"white\", \"linecolor\": \"white\", \"ticks\": \"\", \"title\": {\"standoff\": 15}, \"zerolinecolor\": \"white\", \"zerolinewidth\": 2}, \"yaxis\": {\"automargin\": true, \"gridcolor\": \"white\", \"linecolor\": \"white\", \"ticks\": \"\", \"title\": {\"standoff\": 15}, \"zerolinecolor\": \"white\", \"zerolinewidth\": 2}}}, \"title\": {\"font\": {\"color\": \"#4D5663\"}}, \"xaxis\": {\"gridcolor\": \"#E1E5ED\", \"showgrid\": true, \"tickfont\": {\"color\": \"#4D5663\"}, \"title\": {\"font\": {\"color\": \"#4D5663\"}, \"text\": \"\"}, \"zerolinecolor\": \"#E1E5ED\"}, \"yaxis\": {\"gridcolor\": \"#E1E5ED\", \"showgrid\": true, \"tickfont\": {\"color\": \"#4D5663\"}, \"title\": {\"font\": {\"color\": \"#4D5663\"}, \"text\": \"\"}, \"zerolinecolor\": \"#E1E5ED\"}},                        {\"showLink\": true, \"linkText\": \"Export to chart-studio.plotly.com\", \"plotlyServerURL\": \"https://chart-studio.plotly.com\", \"responsive\": true}                    ).then(function(){\n",
       "                            \n",
       "var gd = document.getElementById('1730677b-5019-443b-bf2e-a3edf57fef1b');\n",
       "var x = new MutationObserver(function (mutations, observer) {{\n",
       "        var display = window.getComputedStyle(gd).display;\n",
       "        if (!display || display === 'none') {{\n",
       "            console.log([gd, 'removed!']);\n",
       "            Plotly.purge(gd);\n",
       "            observer.disconnect();\n",
       "        }}\n",
       "}});\n",
       "\n",
       "// Listen for the removal of the full notebook cells\n",
       "var notebookContainer = gd.closest('#notebook-container');\n",
       "if (notebookContainer) {{\n",
       "    x.observe(notebookContainer, {childList: true});\n",
       "}}\n",
       "\n",
       "// Listen for the clearing of the current output cell\n",
       "var outputEl = gd.closest('.output');\n",
       "if (outputEl) {{\n",
       "    x.observe(outputEl, {childList: true});\n",
       "}}\n",
       "\n",
       "                        })                };                });            </script>        </div>"
      ]
     },
     "metadata": {},
     "output_type": "display_data"
    }
   ],
   "source": [
    "df3 = pd.DataFrame({'x':[1,2,3,4,5],'y':[10,20,30,20,10],'z':[5,4,3,2,1]})\n",
    "df3.iplot(kind='surface',colorscale='rdylbu')"
   ]
  },
  {
   "cell_type": "markdown",
   "metadata": {},
   "source": [
    "## Spread"
   ]
  },
  {
   "cell_type": "code",
   "execution_count": 15,
   "metadata": {},
   "outputs": [
    {
     "name": "stderr",
     "output_type": "stream",
     "text": [
      "C:\\Users\\yulil\\Anaconda3\\lib\\site-packages\\cufflinks\\plotlytools.py:849: FutureWarning:\n",
      "\n",
      "The pandas.np module is deprecated and will be removed from pandas in a future version. Import numpy directly instead\n",
      "\n",
      "C:\\Users\\yulil\\Anaconda3\\lib\\site-packages\\cufflinks\\plotlytools.py:850: FutureWarning:\n",
      "\n",
      "The pandas.np module is deprecated and will be removed from pandas in a future version. Import numpy directly instead\n",
      "\n"
     ]
    },
    {
     "data": {
      "application/vnd.plotly.v1+json": {
       "config": {
        "linkText": "Export to chart-studio.plotly.com",
        "plotlyServerURL": "https://chart-studio.plotly.com",
        "showLink": true
       },
       "data": [
        {
         "line": {
          "color": "rgba(255, 153, 51, 1.0)",
          "dash": "solid",
          "shape": "linear",
          "width": 1.3
         },
         "mode": "lines",
         "name": "A",
         "text": "",
         "type": "scatter",
         "x": [
          0,
          1,
          2,
          3,
          4,
          5,
          6,
          7,
          8,
          9,
          10,
          11,
          12,
          13,
          14,
          15,
          16,
          17,
          18,
          19,
          20,
          21,
          22,
          23,
          24,
          25,
          26,
          27,
          28,
          29,
          30,
          31,
          32,
          33,
          34,
          35,
          36,
          37,
          38,
          39,
          40,
          41,
          42,
          43,
          44,
          45,
          46,
          47,
          48,
          49,
          50,
          51,
          52,
          53,
          54,
          55,
          56,
          57,
          58,
          59,
          60,
          61,
          62,
          63,
          64,
          65,
          66,
          67,
          68,
          69,
          70,
          71,
          72,
          73,
          74,
          75,
          76,
          77,
          78,
          79,
          80,
          81,
          82,
          83,
          84,
          85,
          86,
          87,
          88,
          89,
          90,
          91,
          92,
          93,
          94,
          95,
          96,
          97,
          98,
          99
         ],
         "y": [
          -0.10941102931249815,
          -0.8615740729354732,
          2.2191920448516105,
          0.8272024104553013,
          0.09260580476298218,
          -1.760498313088278,
          -1.3580352833088245,
          0.2837646296039586,
          0.9041110135710683,
          1.8963016027309272,
          1.8326035595389771,
          -0.10492725231921943,
          -0.2046535814758173,
          -0.10024462278595839,
          0.09630022741523961,
          -1.6924637530883027,
          -1.827533202226689,
          0.535830442200243,
          -1.9360645912018926,
          -0.8500344647105456,
          -0.05576325053126793,
          -0.23323577819050917,
          -0.6976270715849751,
          1.5307238079283552,
          1.2999535047751662,
          0.3303505037693656,
          -1.000663879444441,
          0.6308438849860508,
          1.3055824565890246,
          -0.40507941245360185,
          -0.3762913856446127,
          -1.7176097901649348,
          0.053400975014509904,
          0.21780304650270754,
          -0.3855545352890779,
          -0.5661844716568739,
          -2.560368808121754,
          0.3407561655250713,
          -0.48386581194026446,
          -1.585339192511962,
          0.02408347448600361,
          -1.2346577797624294,
          0.787854145181569,
          -1.9996732709740686,
          1.1464586983894467,
          1.496126645525582,
          0.5008657636740425,
          0.9484308471915603,
          0.08220806231666754,
          0.16054214225587957,
          0.38751961200206325,
          -0.47077345204718146,
          0.35760076104911215,
          -0.1544322284853308,
          0.7463179133033808,
          -1.502516121508507,
          0.5725392099395142,
          1.3913604236343293,
          2.1210719379328893,
          1.8773383992501935,
          1.2544431720187816,
          -0.694049794215334,
          2.502637085459896,
          -0.2753756798548901,
          -0.004244286821838908,
          0.09242496481751918,
          0.04883874317874036,
          -1.1291816313913836,
          -1.4004908252511359,
          -1.8213043294508382,
          -0.5701748178839355,
          1.0309248997596467,
          0.8003828152110333,
          0.47792794445750864,
          -0.26747921252634377,
          1.3405762679316036,
          -0.7221850291354602,
          1.7212787438610841,
          -1.3063358071403264,
          1.0957687559126097,
          -0.6871292686938323,
          -1.0645803968637746,
          0.7238126783784861,
          -1.9096265686281966,
          -0.6711390977232885,
          0.21744931156823238,
          0.23485404452984696,
          0.6167907699912447,
          0.387826246423899,
          0.9056443724871143,
          -0.35038815349392105,
          -1.069160929980094,
          -0.6957064695988187,
          0.35168615193685204,
          -2.505057701868909,
          0.5038066984983418,
          -2.1427877817529133,
          0.4174077862768109,
          1.0829115331525192,
          -0.9391761272870766
         ]
        },
        {
         "line": {
          "color": "rgba(55, 128, 191, 1.0)",
          "dash": "solid",
          "shape": "linear",
          "width": 1.3
         },
         "mode": "lines",
         "name": "B",
         "text": "",
         "type": "scatter",
         "x": [
          0,
          1,
          2,
          3,
          4,
          5,
          6,
          7,
          8,
          9,
          10,
          11,
          12,
          13,
          14,
          15,
          16,
          17,
          18,
          19,
          20,
          21,
          22,
          23,
          24,
          25,
          26,
          27,
          28,
          29,
          30,
          31,
          32,
          33,
          34,
          35,
          36,
          37,
          38,
          39,
          40,
          41,
          42,
          43,
          44,
          45,
          46,
          47,
          48,
          49,
          50,
          51,
          52,
          53,
          54,
          55,
          56,
          57,
          58,
          59,
          60,
          61,
          62,
          63,
          64,
          65,
          66,
          67,
          68,
          69,
          70,
          71,
          72,
          73,
          74,
          75,
          76,
          77,
          78,
          79,
          80,
          81,
          82,
          83,
          84,
          85,
          86,
          87,
          88,
          89,
          90,
          91,
          92,
          93,
          94,
          95,
          96,
          97,
          98,
          99
         ],
         "y": [
          -1.1623662874693783,
          -0.832344062710519,
          -2.6889403263457887,
          0.33030460644081305,
          1.1897554957994894,
          -1.8295725952943718,
          -0.31134257611300087,
          -1.1150256707068056,
          1.1293886257293613,
          -0.20946608413393494,
          1.2949281437111222,
          0.7526921284010667,
          -0.3016330292488494,
          -0.03385842274369277,
          1.6780856289595902,
          1.1594910401462286,
          -1.6476591553972537,
          1.008497261373339,
          -0.6225470768959404,
          1.1991325015261836,
          -0.4704071561565932,
          0.8446723097825432,
          -1.2536342767984199,
          -0.9130082305126809,
          0.714353984339348,
          1.751443829854967,
          0.21766931930498662,
          0.6463839680678777,
          -1.7860941457977224,
          0.08881002354599406,
          -1.0678176090017426,
          -0.8816616633014966,
          -0.4480884978479455,
          -0.17539412892110837,
          0.19768867636516496,
          1.141342779188351,
          2.164771524215948,
          -0.016755546990118633,
          -1.7998811328448996,
          0.5442419970493254,
          -1.3562236272994466,
          0.2361511721120601,
          -0.8759959347156709,
          0.9273697244945078,
          -0.993762710016327,
          -0.12916485697785596,
          0.3245348617171941,
          0.8534569933866769,
          0.17396641552513492,
          -0.9579470225201236,
          0.04858908835109987,
          0.8129978238418555,
          -1.139226529424848,
          -0.1847432796748167,
          -1.3413819334330195,
          -0.2619249158317706,
          0.6516947357167101,
          1.675280779975995,
          -0.08984333109714171,
          -1.008464832427633,
          1.4740205657881218,
          0.5898484277272196,
          1.4435777212407885,
          -0.2364445961537404,
          -1.0875497083560146,
          -0.7298597590313212,
          -0.4145246652858039,
          -0.0403125523078092,
          1.8821837770362133,
          0.6523163439049054,
          -0.5319318714142541,
          -0.886569382439567,
          -1.57164561702653,
          -1.000733094004772,
          2.252092004447659,
          -0.9484906947123748,
          -1.5745344460769646,
          -0.1147773069126533,
          0.9570101068451705,
          0.8874610915201626,
          1.299598381237897,
          -1.9866886312472394,
          1.769202555822619,
          0.16318296330031146,
          -1.2255227926674428,
          0.08450632457157951,
          0.6749511586498979,
          0.8059974077581394,
          1.3743939631390771,
          0.6836318367306438,
          -0.8852015947588725,
          0.3855881334460895,
          2.0189809445009406,
          1.8117916079776115,
          -0.35933136617635036,
          -0.0673320225340837,
          -1.3580807726174224,
          0.23268662608029927,
          1.1247466248431852,
          -2.536863370877376
         ]
        },
        {
         "connectgaps": false,
         "fill": "tozeroy",
         "line": {
          "color": "green",
          "dash": "solid",
          "shape": "linear",
          "width": 0.5
         },
         "mode": "lines",
         "name": "Spread",
         "showlegend": false,
         "type": "scatter",
         "x": [
          0,
          1,
          2,
          3,
          4,
          5,
          6,
          7,
          8,
          9,
          10,
          11,
          12,
          13,
          14,
          15,
          16,
          17,
          18,
          19,
          20,
          21,
          22,
          23,
          24,
          25,
          26,
          27,
          28,
          29,
          30,
          31,
          32,
          33,
          34,
          35,
          36,
          37,
          38,
          39,
          40,
          41,
          42,
          43,
          44,
          45,
          46,
          47,
          48,
          49,
          50,
          51,
          52,
          53,
          54,
          55,
          56,
          57,
          58,
          59,
          60,
          61,
          62,
          63,
          64,
          65,
          66,
          67,
          68,
          69,
          70,
          71,
          72,
          73,
          74,
          75,
          76,
          77,
          78,
          79,
          80,
          81,
          82,
          83,
          84,
          85,
          86,
          87,
          88,
          89,
          90,
          91,
          92,
          93,
          94,
          95,
          96,
          97,
          98,
          99
         ],
         "xaxis": "x2",
         "y": [
          1.0529552581568802,
          "",
          4.908132371197399,
          0.49689780401448824,
          "",
          0.06907428220609368,
          "",
          1.3987903003107642,
          "",
          2.105767686864862,
          0.5376754158278549,
          "",
          0.09697944777303208,
          "",
          "",
          "",
          "",
          "",
          "",
          "",
          0.41464390562532527,
          "",
          0.5560072052134448,
          2.443732038441036,
          0.5855995204358182,
          "",
          "",
          "",
          3.0916766023867472,
          "",
          0.69152622335713,
          "",
          0.5014894728624554,
          0.39319717542381594,
          "",
          "",
          "",
          0.35751171251518993,
          1.316015320904635,
          "",
          1.3803071017854502,
          "",
          1.66385007989724,
          "",
          2.1402214084057736,
          1.6252915025034378,
          0.17633090195684836,
          0.09497385380488343,
          "",
          1.1184891647760031,
          0.3389305236509634,
          "",
          1.4968272904739601,
          0.030311051189485905,
          2.0876998467364003,
          "",
          "",
          "",
          2.210915269030031,
          2.8858032316778264,
          "",
          "",
          1.0590593642191075,
          "",
          1.0833054215341757,
          0.8222847238488403,
          0.46336340846454427,
          "",
          "",
          "",
          "",
          1.9174942821992138,
          2.3720284322375633,
          1.4786610384622807,
          "",
          2.2890669626439784,
          0.8523494169415043,
          1.8360560507737373,
          "",
          0.20830766439244708,
          "",
          0.9221082343834648,
          "",
          "",
          0.5543836949441543,
          0.13294298699665286,
          "",
          "",
          "",
          0.2220125357564705,
          0.5348134412649515,
          "",
          "",
          "",
          "",
          0.5711387210324255,
          "",
          0.18472116019651164,
          "",
          1.5976872435902991
         ],
         "yaxis": "y2"
        },
        {
         "connectgaps": false,
         "fill": "tozeroy",
         "line": {
          "color": "red",
          "dash": "solid",
          "shape": "linear",
          "width": 0.5
         },
         "mode": "lines",
         "name": "Spread",
         "showlegend": false,
         "type": "scatter",
         "x": [
          0,
          1,
          2,
          3,
          4,
          5,
          6,
          7,
          8,
          9,
          10,
          11,
          12,
          13,
          14,
          15,
          16,
          17,
          18,
          19,
          20,
          21,
          22,
          23,
          24,
          25,
          26,
          27,
          28,
          29,
          30,
          31,
          32,
          33,
          34,
          35,
          36,
          37,
          38,
          39,
          40,
          41,
          42,
          43,
          44,
          45,
          46,
          47,
          48,
          49,
          50,
          51,
          52,
          53,
          54,
          55,
          56,
          57,
          58,
          59,
          60,
          61,
          62,
          63,
          64,
          65,
          66,
          67,
          68,
          69,
          70,
          71,
          72,
          73,
          74,
          75,
          76,
          77,
          78,
          79,
          80,
          81,
          82,
          83,
          84,
          85,
          86,
          87,
          88,
          89,
          90,
          91,
          92,
          93,
          94,
          95,
          96,
          97,
          98,
          99
         ],
         "xaxis": "x2",
         "y": [
          "",
          -0.029230010224954195,
          "",
          "",
          -1.0971496910365073,
          "",
          -1.0466927071958236,
          "",
          -0.225277612158293,
          "",
          "",
          -0.8576193807202861,
          "",
          -0.06638620004226561,
          -1.5817854015443507,
          -2.8519547932345315,
          -0.1798740468294353,
          -0.47266681917309594,
          -1.313517514305952,
          -2.0491669662367293,
          "",
          -1.0779080879730523,
          "",
          "",
          "",
          -1.4210933260856016,
          -1.2183331987494275,
          -0.015540083081826861,
          "",
          -0.4938894359995959,
          "",
          -0.8359481268634381,
          "",
          "",
          -0.5832432116542429,
          -1.7075272508452248,
          -4.725140332337702,
          "",
          "",
          -2.1295811895612875,
          "",
          -1.4708089518744896,
          "",
          -2.927042995468576,
          "",
          "",
          "",
          "",
          -0.09175835320846738,
          "",
          "",
          -1.283771275889037,
          "",
          "",
          "",
          -1.2405912056767363,
          -0.07915552577719587,
          -0.2839203563416657,
          "",
          "",
          -0.21957739376934016,
          -1.2838982219425534,
          "",
          -0.0389310837011497,
          "",
          "",
          "",
          -1.0888690790835744,
          -3.282674602287349,
          -2.4736206733557435,
          -0.038242946469681405,
          "",
          "",
          "",
          -2.5195712169740028,
          "",
          "",
          "",
          -2.263345913985497,
          "",
          -1.9867276499317295,
          "",
          -1.045389877444133,
          -2.072809531928508,
          "",
          "",
          -0.4400971141200509,
          -0.18920663776689473,
          -0.9865677167151781,
          "",
          "",
          -1.4547490634261835,
          -2.7146874140997594,
          -1.4601054560407594,
          -2.145726335692559,
          "",
          -0.7847070091354909,
          "",
          -0.041835091690666015,
          ""
         ],
         "yaxis": "y2"
        }
       ],
       "layout": {
        "hovermode": "x",
        "legend": {
         "bgcolor": "#F5F6F9",
         "font": {
          "color": "#4D5663"
         }
        },
        "paper_bgcolor": "#F5F6F9",
        "plot_bgcolor": "#F5F6F9",
        "template": {
         "data": {
          "bar": [
           {
            "error_x": {
             "color": "#2a3f5f"
            },
            "error_y": {
             "color": "#2a3f5f"
            },
            "marker": {
             "line": {
              "color": "#E5ECF6",
              "width": 0.5
             }
            },
            "type": "bar"
           }
          ],
          "barpolar": [
           {
            "marker": {
             "line": {
              "color": "#E5ECF6",
              "width": 0.5
             }
            },
            "type": "barpolar"
           }
          ],
          "carpet": [
           {
            "aaxis": {
             "endlinecolor": "#2a3f5f",
             "gridcolor": "white",
             "linecolor": "white",
             "minorgridcolor": "white",
             "startlinecolor": "#2a3f5f"
            },
            "baxis": {
             "endlinecolor": "#2a3f5f",
             "gridcolor": "white",
             "linecolor": "white",
             "minorgridcolor": "white",
             "startlinecolor": "#2a3f5f"
            },
            "type": "carpet"
           }
          ],
          "choropleth": [
           {
            "colorbar": {
             "outlinewidth": 0,
             "ticks": ""
            },
            "type": "choropleth"
           }
          ],
          "contour": [
           {
            "colorbar": {
             "outlinewidth": 0,
             "ticks": ""
            },
            "colorscale": [
             [
              0,
              "#0d0887"
             ],
             [
              0.1111111111111111,
              "#46039f"
             ],
             [
              0.2222222222222222,
              "#7201a8"
             ],
             [
              0.3333333333333333,
              "#9c179e"
             ],
             [
              0.4444444444444444,
              "#bd3786"
             ],
             [
              0.5555555555555556,
              "#d8576b"
             ],
             [
              0.6666666666666666,
              "#ed7953"
             ],
             [
              0.7777777777777778,
              "#fb9f3a"
             ],
             [
              0.8888888888888888,
              "#fdca26"
             ],
             [
              1,
              "#f0f921"
             ]
            ],
            "type": "contour"
           }
          ],
          "contourcarpet": [
           {
            "colorbar": {
             "outlinewidth": 0,
             "ticks": ""
            },
            "type": "contourcarpet"
           }
          ],
          "heatmap": [
           {
            "colorbar": {
             "outlinewidth": 0,
             "ticks": ""
            },
            "colorscale": [
             [
              0,
              "#0d0887"
             ],
             [
              0.1111111111111111,
              "#46039f"
             ],
             [
              0.2222222222222222,
              "#7201a8"
             ],
             [
              0.3333333333333333,
              "#9c179e"
             ],
             [
              0.4444444444444444,
              "#bd3786"
             ],
             [
              0.5555555555555556,
              "#d8576b"
             ],
             [
              0.6666666666666666,
              "#ed7953"
             ],
             [
              0.7777777777777778,
              "#fb9f3a"
             ],
             [
              0.8888888888888888,
              "#fdca26"
             ],
             [
              1,
              "#f0f921"
             ]
            ],
            "type": "heatmap"
           }
          ],
          "heatmapgl": [
           {
            "colorbar": {
             "outlinewidth": 0,
             "ticks": ""
            },
            "colorscale": [
             [
              0,
              "#0d0887"
             ],
             [
              0.1111111111111111,
              "#46039f"
             ],
             [
              0.2222222222222222,
              "#7201a8"
             ],
             [
              0.3333333333333333,
              "#9c179e"
             ],
             [
              0.4444444444444444,
              "#bd3786"
             ],
             [
              0.5555555555555556,
              "#d8576b"
             ],
             [
              0.6666666666666666,
              "#ed7953"
             ],
             [
              0.7777777777777778,
              "#fb9f3a"
             ],
             [
              0.8888888888888888,
              "#fdca26"
             ],
             [
              1,
              "#f0f921"
             ]
            ],
            "type": "heatmapgl"
           }
          ],
          "histogram": [
           {
            "marker": {
             "colorbar": {
              "outlinewidth": 0,
              "ticks": ""
             }
            },
            "type": "histogram"
           }
          ],
          "histogram2d": [
           {
            "colorbar": {
             "outlinewidth": 0,
             "ticks": ""
            },
            "colorscale": [
             [
              0,
              "#0d0887"
             ],
             [
              0.1111111111111111,
              "#46039f"
             ],
             [
              0.2222222222222222,
              "#7201a8"
             ],
             [
              0.3333333333333333,
              "#9c179e"
             ],
             [
              0.4444444444444444,
              "#bd3786"
             ],
             [
              0.5555555555555556,
              "#d8576b"
             ],
             [
              0.6666666666666666,
              "#ed7953"
             ],
             [
              0.7777777777777778,
              "#fb9f3a"
             ],
             [
              0.8888888888888888,
              "#fdca26"
             ],
             [
              1,
              "#f0f921"
             ]
            ],
            "type": "histogram2d"
           }
          ],
          "histogram2dcontour": [
           {
            "colorbar": {
             "outlinewidth": 0,
             "ticks": ""
            },
            "colorscale": [
             [
              0,
              "#0d0887"
             ],
             [
              0.1111111111111111,
              "#46039f"
             ],
             [
              0.2222222222222222,
              "#7201a8"
             ],
             [
              0.3333333333333333,
              "#9c179e"
             ],
             [
              0.4444444444444444,
              "#bd3786"
             ],
             [
              0.5555555555555556,
              "#d8576b"
             ],
             [
              0.6666666666666666,
              "#ed7953"
             ],
             [
              0.7777777777777778,
              "#fb9f3a"
             ],
             [
              0.8888888888888888,
              "#fdca26"
             ],
             [
              1,
              "#f0f921"
             ]
            ],
            "type": "histogram2dcontour"
           }
          ],
          "mesh3d": [
           {
            "colorbar": {
             "outlinewidth": 0,
             "ticks": ""
            },
            "type": "mesh3d"
           }
          ],
          "parcoords": [
           {
            "line": {
             "colorbar": {
              "outlinewidth": 0,
              "ticks": ""
             }
            },
            "type": "parcoords"
           }
          ],
          "pie": [
           {
            "automargin": true,
            "type": "pie"
           }
          ],
          "scatter": [
           {
            "marker": {
             "colorbar": {
              "outlinewidth": 0,
              "ticks": ""
             }
            },
            "type": "scatter"
           }
          ],
          "scatter3d": [
           {
            "line": {
             "colorbar": {
              "outlinewidth": 0,
              "ticks": ""
             }
            },
            "marker": {
             "colorbar": {
              "outlinewidth": 0,
              "ticks": ""
             }
            },
            "type": "scatter3d"
           }
          ],
          "scattercarpet": [
           {
            "marker": {
             "colorbar": {
              "outlinewidth": 0,
              "ticks": ""
             }
            },
            "type": "scattercarpet"
           }
          ],
          "scattergeo": [
           {
            "marker": {
             "colorbar": {
              "outlinewidth": 0,
              "ticks": ""
             }
            },
            "type": "scattergeo"
           }
          ],
          "scattergl": [
           {
            "marker": {
             "colorbar": {
              "outlinewidth": 0,
              "ticks": ""
             }
            },
            "type": "scattergl"
           }
          ],
          "scattermapbox": [
           {
            "marker": {
             "colorbar": {
              "outlinewidth": 0,
              "ticks": ""
             }
            },
            "type": "scattermapbox"
           }
          ],
          "scatterpolar": [
           {
            "marker": {
             "colorbar": {
              "outlinewidth": 0,
              "ticks": ""
             }
            },
            "type": "scatterpolar"
           }
          ],
          "scatterpolargl": [
           {
            "marker": {
             "colorbar": {
              "outlinewidth": 0,
              "ticks": ""
             }
            },
            "type": "scatterpolargl"
           }
          ],
          "scatterternary": [
           {
            "marker": {
             "colorbar": {
              "outlinewidth": 0,
              "ticks": ""
             }
            },
            "type": "scatterternary"
           }
          ],
          "surface": [
           {
            "colorbar": {
             "outlinewidth": 0,
             "ticks": ""
            },
            "colorscale": [
             [
              0,
              "#0d0887"
             ],
             [
              0.1111111111111111,
              "#46039f"
             ],
             [
              0.2222222222222222,
              "#7201a8"
             ],
             [
              0.3333333333333333,
              "#9c179e"
             ],
             [
              0.4444444444444444,
              "#bd3786"
             ],
             [
              0.5555555555555556,
              "#d8576b"
             ],
             [
              0.6666666666666666,
              "#ed7953"
             ],
             [
              0.7777777777777778,
              "#fb9f3a"
             ],
             [
              0.8888888888888888,
              "#fdca26"
             ],
             [
              1,
              "#f0f921"
             ]
            ],
            "type": "surface"
           }
          ],
          "table": [
           {
            "cells": {
             "fill": {
              "color": "#EBF0F8"
             },
             "line": {
              "color": "white"
             }
            },
            "header": {
             "fill": {
              "color": "#C8D4E3"
             },
             "line": {
              "color": "white"
             }
            },
            "type": "table"
           }
          ]
         },
         "layout": {
          "annotationdefaults": {
           "arrowcolor": "#2a3f5f",
           "arrowhead": 0,
           "arrowwidth": 1
          },
          "autotypenumbers": "strict",
          "coloraxis": {
           "colorbar": {
            "outlinewidth": 0,
            "ticks": ""
           }
          },
          "colorscale": {
           "diverging": [
            [
             0,
             "#8e0152"
            ],
            [
             0.1,
             "#c51b7d"
            ],
            [
             0.2,
             "#de77ae"
            ],
            [
             0.3,
             "#f1b6da"
            ],
            [
             0.4,
             "#fde0ef"
            ],
            [
             0.5,
             "#f7f7f7"
            ],
            [
             0.6,
             "#e6f5d0"
            ],
            [
             0.7,
             "#b8e186"
            ],
            [
             0.8,
             "#7fbc41"
            ],
            [
             0.9,
             "#4d9221"
            ],
            [
             1,
             "#276419"
            ]
           ],
           "sequential": [
            [
             0,
             "#0d0887"
            ],
            [
             0.1111111111111111,
             "#46039f"
            ],
            [
             0.2222222222222222,
             "#7201a8"
            ],
            [
             0.3333333333333333,
             "#9c179e"
            ],
            [
             0.4444444444444444,
             "#bd3786"
            ],
            [
             0.5555555555555556,
             "#d8576b"
            ],
            [
             0.6666666666666666,
             "#ed7953"
            ],
            [
             0.7777777777777778,
             "#fb9f3a"
            ],
            [
             0.8888888888888888,
             "#fdca26"
            ],
            [
             1,
             "#f0f921"
            ]
           ],
           "sequentialminus": [
            [
             0,
             "#0d0887"
            ],
            [
             0.1111111111111111,
             "#46039f"
            ],
            [
             0.2222222222222222,
             "#7201a8"
            ],
            [
             0.3333333333333333,
             "#9c179e"
            ],
            [
             0.4444444444444444,
             "#bd3786"
            ],
            [
             0.5555555555555556,
             "#d8576b"
            ],
            [
             0.6666666666666666,
             "#ed7953"
            ],
            [
             0.7777777777777778,
             "#fb9f3a"
            ],
            [
             0.8888888888888888,
             "#fdca26"
            ],
            [
             1,
             "#f0f921"
            ]
           ]
          },
          "colorway": [
           "#636efa",
           "#EF553B",
           "#00cc96",
           "#ab63fa",
           "#FFA15A",
           "#19d3f3",
           "#FF6692",
           "#B6E880",
           "#FF97FF",
           "#FECB52"
          ],
          "font": {
           "color": "#2a3f5f"
          },
          "geo": {
           "bgcolor": "white",
           "lakecolor": "white",
           "landcolor": "#E5ECF6",
           "showlakes": true,
           "showland": true,
           "subunitcolor": "white"
          },
          "hoverlabel": {
           "align": "left"
          },
          "hovermode": "closest",
          "mapbox": {
           "style": "light"
          },
          "paper_bgcolor": "white",
          "plot_bgcolor": "#E5ECF6",
          "polar": {
           "angularaxis": {
            "gridcolor": "white",
            "linecolor": "white",
            "ticks": ""
           },
           "bgcolor": "#E5ECF6",
           "radialaxis": {
            "gridcolor": "white",
            "linecolor": "white",
            "ticks": ""
           }
          },
          "scene": {
           "xaxis": {
            "backgroundcolor": "#E5ECF6",
            "gridcolor": "white",
            "gridwidth": 2,
            "linecolor": "white",
            "showbackground": true,
            "ticks": "",
            "zerolinecolor": "white"
           },
           "yaxis": {
            "backgroundcolor": "#E5ECF6",
            "gridcolor": "white",
            "gridwidth": 2,
            "linecolor": "white",
            "showbackground": true,
            "ticks": "",
            "zerolinecolor": "white"
           },
           "zaxis": {
            "backgroundcolor": "#E5ECF6",
            "gridcolor": "white",
            "gridwidth": 2,
            "linecolor": "white",
            "showbackground": true,
            "ticks": "",
            "zerolinecolor": "white"
           }
          },
          "shapedefaults": {
           "line": {
            "color": "#2a3f5f"
           }
          },
          "ternary": {
           "aaxis": {
            "gridcolor": "white",
            "linecolor": "white",
            "ticks": ""
           },
           "baxis": {
            "gridcolor": "white",
            "linecolor": "white",
            "ticks": ""
           },
           "bgcolor": "#E5ECF6",
           "caxis": {
            "gridcolor": "white",
            "linecolor": "white",
            "ticks": ""
           }
          },
          "title": {
           "x": 0.05
          },
          "xaxis": {
           "automargin": true,
           "gridcolor": "white",
           "linecolor": "white",
           "ticks": "",
           "title": {
            "standoff": 15
           },
           "zerolinecolor": "white",
           "zerolinewidth": 2
          },
          "yaxis": {
           "automargin": true,
           "gridcolor": "white",
           "linecolor": "white",
           "ticks": "",
           "title": {
            "standoff": 15
           },
           "zerolinecolor": "white",
           "zerolinewidth": 2
          }
         }
        },
        "title": {
         "font": {
          "color": "#4D5663"
         }
        },
        "xaxis": {
         "gridcolor": "#E1E5ED",
         "showgrid": true,
         "tickfont": {
          "color": "#4D5663"
         },
         "title": {
          "font": {
           "color": "#4D5663"
          },
          "text": ""
         },
         "zerolinecolor": "#E1E5ED"
        },
        "xaxis2": {
         "anchor": "y2",
         "gridcolor": "#E1E5ED",
         "showgrid": true,
         "showticklabels": false,
         "tickfont": {
          "color": "#4D5663"
         },
         "title": {
          "font": {
           "color": "#4D5663"
          },
          "text": ""
         },
         "zerolinecolor": "#E1E5ED"
        },
        "yaxis": {
         "domain": [
          0.3,
          1
         ],
         "gridcolor": "#E1E5ED",
         "showgrid": true,
         "tickfont": {
          "color": "#4D5663"
         },
         "title": {
          "font": {
           "color": "#4D5663"
          },
          "text": ""
         },
         "zerolinecolor": "#E1E5ED"
        },
        "yaxis2": {
         "domain": [
          0,
          0.25
         ],
         "gridcolor": "#E1E5ED",
         "showgrid": true,
         "tickfont": {
          "color": "#4D5663"
         },
         "title": {
          "font": {
           "color": "#4D5663"
          },
          "text": "Spread"
         },
         "zerolinecolor": "#E1E5ED"
        }
       }
      },
      "text/html": [
       "<div>                            <div id=\"0d194e9f-1d7c-4926-b65a-dc67da50ac7e\" class=\"plotly-graph-div\" style=\"height:525px; width:100%;\"></div>            <script type=\"text/javascript\">                require([\"plotly\"], function(Plotly) {                    window.PLOTLYENV=window.PLOTLYENV || {};\n",
       "                    window.PLOTLYENV.BASE_URL='https://chart-studio.plotly.com';                                    if (document.getElementById(\"0d194e9f-1d7c-4926-b65a-dc67da50ac7e\")) {                    Plotly.newPlot(                        \"0d194e9f-1d7c-4926-b65a-dc67da50ac7e\",                        [{\"line\": {\"color\": \"rgba(255, 153, 51, 1.0)\", \"dash\": \"solid\", \"shape\": \"linear\", \"width\": 1.3}, \"mode\": \"lines\", \"name\": \"A\", \"text\": \"\", \"type\": \"scatter\", \"x\": [0, 1, 2, 3, 4, 5, 6, 7, 8, 9, 10, 11, 12, 13, 14, 15, 16, 17, 18, 19, 20, 21, 22, 23, 24, 25, 26, 27, 28, 29, 30, 31, 32, 33, 34, 35, 36, 37, 38, 39, 40, 41, 42, 43, 44, 45, 46, 47, 48, 49, 50, 51, 52, 53, 54, 55, 56, 57, 58, 59, 60, 61, 62, 63, 64, 65, 66, 67, 68, 69, 70, 71, 72, 73, 74, 75, 76, 77, 78, 79, 80, 81, 82, 83, 84, 85, 86, 87, 88, 89, 90, 91, 92, 93, 94, 95, 96, 97, 98, 99], \"y\": [-0.10941102931249815, -0.8615740729354732, 2.2191920448516105, 0.8272024104553013, 0.09260580476298218, -1.760498313088278, -1.3580352833088245, 0.2837646296039586, 0.9041110135710683, 1.8963016027309272, 1.8326035595389771, -0.10492725231921943, -0.2046535814758173, -0.10024462278595839, 0.09630022741523961, -1.6924637530883027, -1.827533202226689, 0.535830442200243, -1.9360645912018926, -0.8500344647105456, -0.05576325053126793, -0.23323577819050917, -0.6976270715849751, 1.5307238079283552, 1.2999535047751662, 0.3303505037693656, -1.000663879444441, 0.6308438849860508, 1.3055824565890246, -0.40507941245360185, -0.3762913856446127, -1.7176097901649348, 0.053400975014509904, 0.21780304650270754, -0.3855545352890779, -0.5661844716568739, -2.560368808121754, 0.3407561655250713, -0.48386581194026446, -1.585339192511962, 0.02408347448600361, -1.2346577797624294, 0.787854145181569, -1.9996732709740686, 1.1464586983894467, 1.496126645525582, 0.5008657636740425, 0.9484308471915603, 0.08220806231666754, 0.16054214225587957, 0.38751961200206325, -0.47077345204718146, 0.35760076104911215, -0.1544322284853308, 0.7463179133033808, -1.502516121508507, 0.5725392099395142, 1.3913604236343293, 2.1210719379328893, 1.8773383992501935, 1.2544431720187816, -0.694049794215334, 2.502637085459896, -0.2753756798548901, -0.004244286821838908, 0.09242496481751918, 0.04883874317874036, -1.1291816313913836, -1.4004908252511359, -1.8213043294508382, -0.5701748178839355, 1.0309248997596467, 0.8003828152110333, 0.47792794445750864, -0.26747921252634377, 1.3405762679316036, -0.7221850291354602, 1.7212787438610841, -1.3063358071403264, 1.0957687559126097, -0.6871292686938323, -1.0645803968637746, 0.7238126783784861, -1.9096265686281966, -0.6711390977232885, 0.21744931156823238, 0.23485404452984696, 0.6167907699912447, 0.387826246423899, 0.9056443724871143, -0.35038815349392105, -1.069160929980094, -0.6957064695988187, 0.35168615193685204, -2.505057701868909, 0.5038066984983418, -2.1427877817529133, 0.4174077862768109, 1.0829115331525192, -0.9391761272870766]}, {\"line\": {\"color\": \"rgba(55, 128, 191, 1.0)\", \"dash\": \"solid\", \"shape\": \"linear\", \"width\": 1.3}, \"mode\": \"lines\", \"name\": \"B\", \"text\": \"\", \"type\": \"scatter\", \"x\": [0, 1, 2, 3, 4, 5, 6, 7, 8, 9, 10, 11, 12, 13, 14, 15, 16, 17, 18, 19, 20, 21, 22, 23, 24, 25, 26, 27, 28, 29, 30, 31, 32, 33, 34, 35, 36, 37, 38, 39, 40, 41, 42, 43, 44, 45, 46, 47, 48, 49, 50, 51, 52, 53, 54, 55, 56, 57, 58, 59, 60, 61, 62, 63, 64, 65, 66, 67, 68, 69, 70, 71, 72, 73, 74, 75, 76, 77, 78, 79, 80, 81, 82, 83, 84, 85, 86, 87, 88, 89, 90, 91, 92, 93, 94, 95, 96, 97, 98, 99], \"y\": [-1.1623662874693783, -0.832344062710519, -2.6889403263457887, 0.33030460644081305, 1.1897554957994894, -1.8295725952943718, -0.31134257611300087, -1.1150256707068056, 1.1293886257293613, -0.20946608413393494, 1.2949281437111222, 0.7526921284010667, -0.3016330292488494, -0.03385842274369277, 1.6780856289595902, 1.1594910401462286, -1.6476591553972537, 1.008497261373339, -0.6225470768959404, 1.1991325015261836, -0.4704071561565932, 0.8446723097825432, -1.2536342767984199, -0.9130082305126809, 0.714353984339348, 1.751443829854967, 0.21766931930498662, 0.6463839680678777, -1.7860941457977224, 0.08881002354599406, -1.0678176090017426, -0.8816616633014966, -0.4480884978479455, -0.17539412892110837, 0.19768867636516496, 1.141342779188351, 2.164771524215948, -0.016755546990118633, -1.7998811328448996, 0.5442419970493254, -1.3562236272994466, 0.2361511721120601, -0.8759959347156709, 0.9273697244945078, -0.993762710016327, -0.12916485697785596, 0.3245348617171941, 0.8534569933866769, 0.17396641552513492, -0.9579470225201236, 0.04858908835109987, 0.8129978238418555, -1.139226529424848, -0.1847432796748167, -1.3413819334330195, -0.2619249158317706, 0.6516947357167101, 1.675280779975995, -0.08984333109714171, -1.008464832427633, 1.4740205657881218, 0.5898484277272196, 1.4435777212407885, -0.2364445961537404, -1.0875497083560146, -0.7298597590313212, -0.4145246652858039, -0.0403125523078092, 1.8821837770362133, 0.6523163439049054, -0.5319318714142541, -0.886569382439567, -1.57164561702653, -1.000733094004772, 2.252092004447659, -0.9484906947123748, -1.5745344460769646, -0.1147773069126533, 0.9570101068451705, 0.8874610915201626, 1.299598381237897, -1.9866886312472394, 1.769202555822619, 0.16318296330031146, -1.2255227926674428, 0.08450632457157951, 0.6749511586498979, 0.8059974077581394, 1.3743939631390771, 0.6836318367306438, -0.8852015947588725, 0.3855881334460895, 2.0189809445009406, 1.8117916079776115, -0.35933136617635036, -0.0673320225340837, -1.3580807726174224, 0.23268662608029927, 1.1247466248431852, -2.536863370877376]}, {\"connectgaps\": false, \"fill\": \"tozeroy\", \"line\": {\"color\": \"green\", \"dash\": \"solid\", \"shape\": \"linear\", \"width\": 0.5}, \"mode\": \"lines\", \"name\": \"Spread\", \"showlegend\": false, \"type\": \"scatter\", \"x\": [0, 1, 2, 3, 4, 5, 6, 7, 8, 9, 10, 11, 12, 13, 14, 15, 16, 17, 18, 19, 20, 21, 22, 23, 24, 25, 26, 27, 28, 29, 30, 31, 32, 33, 34, 35, 36, 37, 38, 39, 40, 41, 42, 43, 44, 45, 46, 47, 48, 49, 50, 51, 52, 53, 54, 55, 56, 57, 58, 59, 60, 61, 62, 63, 64, 65, 66, 67, 68, 69, 70, 71, 72, 73, 74, 75, 76, 77, 78, 79, 80, 81, 82, 83, 84, 85, 86, 87, 88, 89, 90, 91, 92, 93, 94, 95, 96, 97, 98, 99], \"xaxis\": \"x2\", \"y\": [1.0529552581568802, \"\", 4.908132371197399, 0.49689780401448824, \"\", 0.06907428220609368, \"\", 1.3987903003107642, \"\", 2.105767686864862, 0.5376754158278549, \"\", 0.09697944777303208, \"\", \"\", \"\", \"\", \"\", \"\", \"\", 0.41464390562532527, \"\", 0.5560072052134448, 2.443732038441036, 0.5855995204358182, \"\", \"\", \"\", 3.0916766023867472, \"\", 0.69152622335713, \"\", 0.5014894728624554, 0.39319717542381594, \"\", \"\", \"\", 0.35751171251518993, 1.316015320904635, \"\", 1.3803071017854502, \"\", 1.66385007989724, \"\", 2.1402214084057736, 1.6252915025034378, 0.17633090195684836, 0.09497385380488343, \"\", 1.1184891647760031, 0.3389305236509634, \"\", 1.4968272904739601, 0.030311051189485905, 2.0876998467364003, \"\", \"\", \"\", 2.210915269030031, 2.8858032316778264, \"\", \"\", 1.0590593642191075, \"\", 1.0833054215341757, 0.8222847238488403, 0.46336340846454427, \"\", \"\", \"\", \"\", 1.9174942821992138, 2.3720284322375633, 1.4786610384622807, \"\", 2.2890669626439784, 0.8523494169415043, 1.8360560507737373, \"\", 0.20830766439244708, \"\", 0.9221082343834648, \"\", \"\", 0.5543836949441543, 0.13294298699665286, \"\", \"\", \"\", 0.2220125357564705, 0.5348134412649515, \"\", \"\", \"\", \"\", 0.5711387210324255, \"\", 0.18472116019651164, \"\", 1.5976872435902991], \"yaxis\": \"y2\"}, {\"connectgaps\": false, \"fill\": \"tozeroy\", \"line\": {\"color\": \"red\", \"dash\": \"solid\", \"shape\": \"linear\", \"width\": 0.5}, \"mode\": \"lines\", \"name\": \"Spread\", \"showlegend\": false, \"type\": \"scatter\", \"x\": [0, 1, 2, 3, 4, 5, 6, 7, 8, 9, 10, 11, 12, 13, 14, 15, 16, 17, 18, 19, 20, 21, 22, 23, 24, 25, 26, 27, 28, 29, 30, 31, 32, 33, 34, 35, 36, 37, 38, 39, 40, 41, 42, 43, 44, 45, 46, 47, 48, 49, 50, 51, 52, 53, 54, 55, 56, 57, 58, 59, 60, 61, 62, 63, 64, 65, 66, 67, 68, 69, 70, 71, 72, 73, 74, 75, 76, 77, 78, 79, 80, 81, 82, 83, 84, 85, 86, 87, 88, 89, 90, 91, 92, 93, 94, 95, 96, 97, 98, 99], \"xaxis\": \"x2\", \"y\": [\"\", -0.029230010224954195, \"\", \"\", -1.0971496910365073, \"\", -1.0466927071958236, \"\", -0.225277612158293, \"\", \"\", -0.8576193807202861, \"\", -0.06638620004226561, -1.5817854015443507, -2.8519547932345315, -0.1798740468294353, -0.47266681917309594, -1.313517514305952, -2.0491669662367293, \"\", -1.0779080879730523, \"\", \"\", \"\", -1.4210933260856016, -1.2183331987494275, -0.015540083081826861, \"\", -0.4938894359995959, \"\", -0.8359481268634381, \"\", \"\", -0.5832432116542429, -1.7075272508452248, -4.725140332337702, \"\", \"\", -2.1295811895612875, \"\", -1.4708089518744896, \"\", -2.927042995468576, \"\", \"\", \"\", \"\", -0.09175835320846738, \"\", \"\", -1.283771275889037, \"\", \"\", \"\", -1.2405912056767363, -0.07915552577719587, -0.2839203563416657, \"\", \"\", -0.21957739376934016, -1.2838982219425534, \"\", -0.0389310837011497, \"\", \"\", \"\", -1.0888690790835744, -3.282674602287349, -2.4736206733557435, -0.038242946469681405, \"\", \"\", \"\", -2.5195712169740028, \"\", \"\", \"\", -2.263345913985497, \"\", -1.9867276499317295, \"\", -1.045389877444133, -2.072809531928508, \"\", \"\", -0.4400971141200509, -0.18920663776689473, -0.9865677167151781, \"\", \"\", -1.4547490634261835, -2.7146874140997594, -1.4601054560407594, -2.145726335692559, \"\", -0.7847070091354909, \"\", -0.041835091690666015, \"\"], \"yaxis\": \"y2\"}],                        {\"hovermode\": \"x\", \"legend\": {\"bgcolor\": \"#F5F6F9\", \"font\": {\"color\": \"#4D5663\"}}, \"paper_bgcolor\": \"#F5F6F9\", \"plot_bgcolor\": \"#F5F6F9\", \"template\": {\"data\": {\"bar\": [{\"error_x\": {\"color\": \"#2a3f5f\"}, \"error_y\": {\"color\": \"#2a3f5f\"}, \"marker\": {\"line\": {\"color\": \"#E5ECF6\", \"width\": 0.5}}, \"type\": \"bar\"}], \"barpolar\": [{\"marker\": {\"line\": {\"color\": \"#E5ECF6\", \"width\": 0.5}}, \"type\": \"barpolar\"}], \"carpet\": [{\"aaxis\": {\"endlinecolor\": \"#2a3f5f\", \"gridcolor\": \"white\", \"linecolor\": \"white\", \"minorgridcolor\": \"white\", \"startlinecolor\": \"#2a3f5f\"}, \"baxis\": {\"endlinecolor\": \"#2a3f5f\", \"gridcolor\": \"white\", \"linecolor\": \"white\", \"minorgridcolor\": \"white\", \"startlinecolor\": \"#2a3f5f\"}, \"type\": \"carpet\"}], \"choropleth\": [{\"colorbar\": {\"outlinewidth\": 0, \"ticks\": \"\"}, \"type\": \"choropleth\"}], \"contour\": [{\"colorbar\": {\"outlinewidth\": 0, \"ticks\": \"\"}, \"colorscale\": [[0.0, \"#0d0887\"], [0.1111111111111111, \"#46039f\"], [0.2222222222222222, \"#7201a8\"], [0.3333333333333333, \"#9c179e\"], [0.4444444444444444, \"#bd3786\"], [0.5555555555555556, \"#d8576b\"], [0.6666666666666666, \"#ed7953\"], [0.7777777777777778, \"#fb9f3a\"], [0.8888888888888888, \"#fdca26\"], [1.0, \"#f0f921\"]], \"type\": \"contour\"}], \"contourcarpet\": [{\"colorbar\": {\"outlinewidth\": 0, \"ticks\": \"\"}, \"type\": \"contourcarpet\"}], \"heatmap\": [{\"colorbar\": {\"outlinewidth\": 0, \"ticks\": \"\"}, \"colorscale\": [[0.0, \"#0d0887\"], [0.1111111111111111, \"#46039f\"], [0.2222222222222222, \"#7201a8\"], [0.3333333333333333, \"#9c179e\"], [0.4444444444444444, \"#bd3786\"], [0.5555555555555556, \"#d8576b\"], [0.6666666666666666, \"#ed7953\"], [0.7777777777777778, \"#fb9f3a\"], [0.8888888888888888, \"#fdca26\"], [1.0, \"#f0f921\"]], \"type\": \"heatmap\"}], \"heatmapgl\": [{\"colorbar\": {\"outlinewidth\": 0, \"ticks\": \"\"}, \"colorscale\": [[0.0, \"#0d0887\"], [0.1111111111111111, \"#46039f\"], [0.2222222222222222, \"#7201a8\"], [0.3333333333333333, \"#9c179e\"], [0.4444444444444444, \"#bd3786\"], [0.5555555555555556, \"#d8576b\"], [0.6666666666666666, \"#ed7953\"], [0.7777777777777778, \"#fb9f3a\"], [0.8888888888888888, \"#fdca26\"], [1.0, \"#f0f921\"]], \"type\": \"heatmapgl\"}], \"histogram\": [{\"marker\": {\"colorbar\": {\"outlinewidth\": 0, \"ticks\": \"\"}}, \"type\": \"histogram\"}], \"histogram2d\": [{\"colorbar\": {\"outlinewidth\": 0, \"ticks\": \"\"}, \"colorscale\": [[0.0, \"#0d0887\"], [0.1111111111111111, \"#46039f\"], [0.2222222222222222, \"#7201a8\"], [0.3333333333333333, \"#9c179e\"], [0.4444444444444444, \"#bd3786\"], [0.5555555555555556, \"#d8576b\"], [0.6666666666666666, \"#ed7953\"], [0.7777777777777778, \"#fb9f3a\"], [0.8888888888888888, \"#fdca26\"], [1.0, \"#f0f921\"]], \"type\": \"histogram2d\"}], \"histogram2dcontour\": [{\"colorbar\": {\"outlinewidth\": 0, \"ticks\": \"\"}, \"colorscale\": [[0.0, \"#0d0887\"], [0.1111111111111111, \"#46039f\"], [0.2222222222222222, \"#7201a8\"], [0.3333333333333333, \"#9c179e\"], [0.4444444444444444, \"#bd3786\"], [0.5555555555555556, \"#d8576b\"], [0.6666666666666666, \"#ed7953\"], [0.7777777777777778, \"#fb9f3a\"], [0.8888888888888888, \"#fdca26\"], [1.0, \"#f0f921\"]], \"type\": \"histogram2dcontour\"}], \"mesh3d\": [{\"colorbar\": {\"outlinewidth\": 0, \"ticks\": \"\"}, \"type\": \"mesh3d\"}], \"parcoords\": [{\"line\": {\"colorbar\": {\"outlinewidth\": 0, \"ticks\": \"\"}}, \"type\": \"parcoords\"}], \"pie\": [{\"automargin\": true, \"type\": \"pie\"}], \"scatter\": [{\"marker\": {\"colorbar\": {\"outlinewidth\": 0, \"ticks\": \"\"}}, \"type\": \"scatter\"}], \"scatter3d\": [{\"line\": {\"colorbar\": {\"outlinewidth\": 0, \"ticks\": \"\"}}, \"marker\": {\"colorbar\": {\"outlinewidth\": 0, \"ticks\": \"\"}}, \"type\": \"scatter3d\"}], \"scattercarpet\": [{\"marker\": {\"colorbar\": {\"outlinewidth\": 0, \"ticks\": \"\"}}, \"type\": \"scattercarpet\"}], \"scattergeo\": [{\"marker\": {\"colorbar\": {\"outlinewidth\": 0, \"ticks\": \"\"}}, \"type\": \"scattergeo\"}], \"scattergl\": [{\"marker\": {\"colorbar\": {\"outlinewidth\": 0, \"ticks\": \"\"}}, \"type\": \"scattergl\"}], \"scattermapbox\": [{\"marker\": {\"colorbar\": {\"outlinewidth\": 0, \"ticks\": \"\"}}, \"type\": \"scattermapbox\"}], \"scatterpolar\": [{\"marker\": {\"colorbar\": {\"outlinewidth\": 0, \"ticks\": \"\"}}, \"type\": \"scatterpolar\"}], \"scatterpolargl\": [{\"marker\": {\"colorbar\": {\"outlinewidth\": 0, \"ticks\": \"\"}}, \"type\": \"scatterpolargl\"}], \"scatterternary\": [{\"marker\": {\"colorbar\": {\"outlinewidth\": 0, \"ticks\": \"\"}}, \"type\": \"scatterternary\"}], \"surface\": [{\"colorbar\": {\"outlinewidth\": 0, \"ticks\": \"\"}, \"colorscale\": [[0.0, \"#0d0887\"], [0.1111111111111111, \"#46039f\"], [0.2222222222222222, \"#7201a8\"], [0.3333333333333333, \"#9c179e\"], [0.4444444444444444, \"#bd3786\"], [0.5555555555555556, \"#d8576b\"], [0.6666666666666666, \"#ed7953\"], [0.7777777777777778, \"#fb9f3a\"], [0.8888888888888888, \"#fdca26\"], [1.0, \"#f0f921\"]], \"type\": \"surface\"}], \"table\": [{\"cells\": {\"fill\": {\"color\": \"#EBF0F8\"}, \"line\": {\"color\": \"white\"}}, \"header\": {\"fill\": {\"color\": \"#C8D4E3\"}, \"line\": {\"color\": \"white\"}}, \"type\": \"table\"}]}, \"layout\": {\"annotationdefaults\": {\"arrowcolor\": \"#2a3f5f\", \"arrowhead\": 0, \"arrowwidth\": 1}, \"autotypenumbers\": \"strict\", \"coloraxis\": {\"colorbar\": {\"outlinewidth\": 0, \"ticks\": \"\"}}, \"colorscale\": {\"diverging\": [[0, \"#8e0152\"], [0.1, \"#c51b7d\"], [0.2, \"#de77ae\"], [0.3, \"#f1b6da\"], [0.4, \"#fde0ef\"], [0.5, \"#f7f7f7\"], [0.6, \"#e6f5d0\"], [0.7, \"#b8e186\"], [0.8, \"#7fbc41\"], [0.9, \"#4d9221\"], [1, \"#276419\"]], \"sequential\": [[0.0, \"#0d0887\"], [0.1111111111111111, \"#46039f\"], [0.2222222222222222, \"#7201a8\"], [0.3333333333333333, \"#9c179e\"], [0.4444444444444444, \"#bd3786\"], [0.5555555555555556, \"#d8576b\"], [0.6666666666666666, \"#ed7953\"], [0.7777777777777778, \"#fb9f3a\"], [0.8888888888888888, \"#fdca26\"], [1.0, \"#f0f921\"]], \"sequentialminus\": [[0.0, \"#0d0887\"], [0.1111111111111111, \"#46039f\"], [0.2222222222222222, \"#7201a8\"], [0.3333333333333333, \"#9c179e\"], [0.4444444444444444, \"#bd3786\"], [0.5555555555555556, \"#d8576b\"], [0.6666666666666666, \"#ed7953\"], [0.7777777777777778, \"#fb9f3a\"], [0.8888888888888888, \"#fdca26\"], [1.0, \"#f0f921\"]]}, \"colorway\": [\"#636efa\", \"#EF553B\", \"#00cc96\", \"#ab63fa\", \"#FFA15A\", \"#19d3f3\", \"#FF6692\", \"#B6E880\", \"#FF97FF\", \"#FECB52\"], \"font\": {\"color\": \"#2a3f5f\"}, \"geo\": {\"bgcolor\": \"white\", \"lakecolor\": \"white\", \"landcolor\": \"#E5ECF6\", \"showlakes\": true, \"showland\": true, \"subunitcolor\": \"white\"}, \"hoverlabel\": {\"align\": \"left\"}, \"hovermode\": \"closest\", \"mapbox\": {\"style\": \"light\"}, \"paper_bgcolor\": \"white\", \"plot_bgcolor\": \"#E5ECF6\", \"polar\": {\"angularaxis\": {\"gridcolor\": \"white\", \"linecolor\": \"white\", \"ticks\": \"\"}, \"bgcolor\": \"#E5ECF6\", \"radialaxis\": {\"gridcolor\": \"white\", \"linecolor\": \"white\", \"ticks\": \"\"}}, \"scene\": {\"xaxis\": {\"backgroundcolor\": \"#E5ECF6\", \"gridcolor\": \"white\", \"gridwidth\": 2, \"linecolor\": \"white\", \"showbackground\": true, \"ticks\": \"\", \"zerolinecolor\": \"white\"}, \"yaxis\": {\"backgroundcolor\": \"#E5ECF6\", \"gridcolor\": \"white\", \"gridwidth\": 2, \"linecolor\": \"white\", \"showbackground\": true, \"ticks\": \"\", \"zerolinecolor\": \"white\"}, \"zaxis\": {\"backgroundcolor\": \"#E5ECF6\", \"gridcolor\": \"white\", \"gridwidth\": 2, \"linecolor\": \"white\", \"showbackground\": true, \"ticks\": \"\", \"zerolinecolor\": \"white\"}}, \"shapedefaults\": {\"line\": {\"color\": \"#2a3f5f\"}}, \"ternary\": {\"aaxis\": {\"gridcolor\": \"white\", \"linecolor\": \"white\", \"ticks\": \"\"}, \"baxis\": {\"gridcolor\": \"white\", \"linecolor\": \"white\", \"ticks\": \"\"}, \"bgcolor\": \"#E5ECF6\", \"caxis\": {\"gridcolor\": \"white\", \"linecolor\": \"white\", \"ticks\": \"\"}}, \"title\": {\"x\": 0.05}, \"xaxis\": {\"automargin\": true, \"gridcolor\": \"white\", \"linecolor\": \"white\", \"ticks\": \"\", \"title\": {\"standoff\": 15}, \"zerolinecolor\": \"white\", \"zerolinewidth\": 2}, \"yaxis\": {\"automargin\": true, \"gridcolor\": \"white\", \"linecolor\": \"white\", \"ticks\": \"\", \"title\": {\"standoff\": 15}, \"zerolinecolor\": \"white\", \"zerolinewidth\": 2}}}, \"title\": {\"font\": {\"color\": \"#4D5663\"}}, \"xaxis\": {\"gridcolor\": \"#E1E5ED\", \"showgrid\": true, \"tickfont\": {\"color\": \"#4D5663\"}, \"title\": {\"font\": {\"color\": \"#4D5663\"}, \"text\": \"\"}, \"zerolinecolor\": \"#E1E5ED\"}, \"xaxis2\": {\"anchor\": \"y2\", \"gridcolor\": \"#E1E5ED\", \"showgrid\": true, \"showticklabels\": false, \"tickfont\": {\"color\": \"#4D5663\"}, \"title\": {\"font\": {\"color\": \"#4D5663\"}, \"text\": \"\"}, \"zerolinecolor\": \"#E1E5ED\"}, \"yaxis\": {\"domain\": [0.3, 1], \"gridcolor\": \"#E1E5ED\", \"showgrid\": true, \"tickfont\": {\"color\": \"#4D5663\"}, \"title\": {\"font\": {\"color\": \"#4D5663\"}, \"text\": \"\"}, \"zerolinecolor\": \"#E1E5ED\"}, \"yaxis2\": {\"domain\": [0, 0.25], \"gridcolor\": \"#E1E5ED\", \"showgrid\": true, \"tickfont\": {\"color\": \"#4D5663\"}, \"title\": {\"font\": {\"color\": \"#4D5663\"}, \"text\": \"Spread\"}, \"zerolinecolor\": \"#E1E5ED\"}},                        {\"showLink\": true, \"linkText\": \"Export to chart-studio.plotly.com\", \"plotlyServerURL\": \"https://chart-studio.plotly.com\", \"responsive\": true}                    ).then(function(){\n",
       "                            \n",
       "var gd = document.getElementById('0d194e9f-1d7c-4926-b65a-dc67da50ac7e');\n",
       "var x = new MutationObserver(function (mutations, observer) {{\n",
       "        var display = window.getComputedStyle(gd).display;\n",
       "        if (!display || display === 'none') {{\n",
       "            console.log([gd, 'removed!']);\n",
       "            Plotly.purge(gd);\n",
       "            observer.disconnect();\n",
       "        }}\n",
       "}});\n",
       "\n",
       "// Listen for the removal of the full notebook cells\n",
       "var notebookContainer = gd.closest('#notebook-container');\n",
       "if (notebookContainer) {{\n",
       "    x.observe(notebookContainer, {childList: true});\n",
       "}}\n",
       "\n",
       "// Listen for the clearing of the current output cell\n",
       "var outputEl = gd.closest('.output');\n",
       "if (outputEl) {{\n",
       "    x.observe(outputEl, {childList: true});\n",
       "}}\n",
       "\n",
       "                        })                };                });            </script>        </div>"
      ]
     },
     "metadata": {},
     "output_type": "display_data"
    }
   ],
   "source": [
    "df[['A','B']].iplot(kind='spread')"
   ]
  },
  {
   "cell_type": "markdown",
   "metadata": {},
   "source": [
    "## histogram"
   ]
  },
  {
   "cell_type": "code",
   "execution_count": 16,
   "metadata": {},
   "outputs": [
    {
     "data": {
      "application/vnd.plotly.v1+json": {
       "config": {
        "linkText": "Export to chart-studio.plotly.com",
        "plotlyServerURL": "https://chart-studio.plotly.com",
        "showLink": true
       },
       "data": [
        {
         "histfunc": "count",
         "histnorm": "",
         "marker": {
          "color": "rgba(255, 153, 51, 1.0)",
          "line": {
           "color": "#4D5663",
           "width": 1.3
          }
         },
         "name": "A",
         "nbinsx": 25,
         "opacity": 0.8,
         "orientation": "v",
         "type": "histogram",
         "x": [
          -0.10941102931249815,
          -0.8615740729354732,
          2.2191920448516105,
          0.8272024104553013,
          0.09260580476298218,
          -1.760498313088278,
          -1.3580352833088245,
          0.2837646296039586,
          0.9041110135710683,
          1.8963016027309272,
          1.8326035595389771,
          -0.10492725231921943,
          -0.2046535814758173,
          -0.10024462278595839,
          0.09630022741523961,
          -1.6924637530883027,
          -1.827533202226689,
          0.535830442200243,
          -1.9360645912018926,
          -0.8500344647105456,
          -0.05576325053126793,
          -0.23323577819050917,
          -0.6976270715849751,
          1.5307238079283552,
          1.2999535047751662,
          0.3303505037693656,
          -1.000663879444441,
          0.6308438849860508,
          1.3055824565890246,
          -0.40507941245360185,
          -0.3762913856446127,
          -1.7176097901649348,
          0.053400975014509904,
          0.21780304650270754,
          -0.3855545352890779,
          -0.5661844716568739,
          -2.560368808121754,
          0.3407561655250713,
          -0.48386581194026446,
          -1.585339192511962,
          0.02408347448600361,
          -1.2346577797624294,
          0.787854145181569,
          -1.9996732709740686,
          1.1464586983894467,
          1.496126645525582,
          0.5008657636740425,
          0.9484308471915603,
          0.08220806231666754,
          0.16054214225587957,
          0.38751961200206325,
          -0.47077345204718146,
          0.35760076104911215,
          -0.1544322284853308,
          0.7463179133033808,
          -1.502516121508507,
          0.5725392099395142,
          1.3913604236343293,
          2.1210719379328893,
          1.8773383992501935,
          1.2544431720187816,
          -0.694049794215334,
          2.502637085459896,
          -0.2753756798548901,
          -0.004244286821838908,
          0.09242496481751918,
          0.04883874317874036,
          -1.1291816313913836,
          -1.4004908252511359,
          -1.8213043294508382,
          -0.5701748178839355,
          1.0309248997596467,
          0.8003828152110333,
          0.47792794445750864,
          -0.26747921252634377,
          1.3405762679316036,
          -0.7221850291354602,
          1.7212787438610841,
          -1.3063358071403264,
          1.0957687559126097,
          -0.6871292686938323,
          -1.0645803968637746,
          0.7238126783784861,
          -1.9096265686281966,
          -0.6711390977232885,
          0.21744931156823238,
          0.23485404452984696,
          0.6167907699912447,
          0.387826246423899,
          0.9056443724871143,
          -0.35038815349392105,
          -1.069160929980094,
          -0.6957064695988187,
          0.35168615193685204,
          -2.505057701868909,
          0.5038066984983418,
          -2.1427877817529133,
          0.4174077862768109,
          1.0829115331525192,
          -0.9391761272870766
         ]
        }
       ],
       "layout": {
        "barmode": "overlay",
        "legend": {
         "bgcolor": "#F5F6F9",
         "font": {
          "color": "#4D5663"
         }
        },
        "paper_bgcolor": "#F5F6F9",
        "plot_bgcolor": "#F5F6F9",
        "template": {
         "data": {
          "bar": [
           {
            "error_x": {
             "color": "#2a3f5f"
            },
            "error_y": {
             "color": "#2a3f5f"
            },
            "marker": {
             "line": {
              "color": "#E5ECF6",
              "width": 0.5
             }
            },
            "type": "bar"
           }
          ],
          "barpolar": [
           {
            "marker": {
             "line": {
              "color": "#E5ECF6",
              "width": 0.5
             }
            },
            "type": "barpolar"
           }
          ],
          "carpet": [
           {
            "aaxis": {
             "endlinecolor": "#2a3f5f",
             "gridcolor": "white",
             "linecolor": "white",
             "minorgridcolor": "white",
             "startlinecolor": "#2a3f5f"
            },
            "baxis": {
             "endlinecolor": "#2a3f5f",
             "gridcolor": "white",
             "linecolor": "white",
             "minorgridcolor": "white",
             "startlinecolor": "#2a3f5f"
            },
            "type": "carpet"
           }
          ],
          "choropleth": [
           {
            "colorbar": {
             "outlinewidth": 0,
             "ticks": ""
            },
            "type": "choropleth"
           }
          ],
          "contour": [
           {
            "colorbar": {
             "outlinewidth": 0,
             "ticks": ""
            },
            "colorscale": [
             [
              0,
              "#0d0887"
             ],
             [
              0.1111111111111111,
              "#46039f"
             ],
             [
              0.2222222222222222,
              "#7201a8"
             ],
             [
              0.3333333333333333,
              "#9c179e"
             ],
             [
              0.4444444444444444,
              "#bd3786"
             ],
             [
              0.5555555555555556,
              "#d8576b"
             ],
             [
              0.6666666666666666,
              "#ed7953"
             ],
             [
              0.7777777777777778,
              "#fb9f3a"
             ],
             [
              0.8888888888888888,
              "#fdca26"
             ],
             [
              1,
              "#f0f921"
             ]
            ],
            "type": "contour"
           }
          ],
          "contourcarpet": [
           {
            "colorbar": {
             "outlinewidth": 0,
             "ticks": ""
            },
            "type": "contourcarpet"
           }
          ],
          "heatmap": [
           {
            "colorbar": {
             "outlinewidth": 0,
             "ticks": ""
            },
            "colorscale": [
             [
              0,
              "#0d0887"
             ],
             [
              0.1111111111111111,
              "#46039f"
             ],
             [
              0.2222222222222222,
              "#7201a8"
             ],
             [
              0.3333333333333333,
              "#9c179e"
             ],
             [
              0.4444444444444444,
              "#bd3786"
             ],
             [
              0.5555555555555556,
              "#d8576b"
             ],
             [
              0.6666666666666666,
              "#ed7953"
             ],
             [
              0.7777777777777778,
              "#fb9f3a"
             ],
             [
              0.8888888888888888,
              "#fdca26"
             ],
             [
              1,
              "#f0f921"
             ]
            ],
            "type": "heatmap"
           }
          ],
          "heatmapgl": [
           {
            "colorbar": {
             "outlinewidth": 0,
             "ticks": ""
            },
            "colorscale": [
             [
              0,
              "#0d0887"
             ],
             [
              0.1111111111111111,
              "#46039f"
             ],
             [
              0.2222222222222222,
              "#7201a8"
             ],
             [
              0.3333333333333333,
              "#9c179e"
             ],
             [
              0.4444444444444444,
              "#bd3786"
             ],
             [
              0.5555555555555556,
              "#d8576b"
             ],
             [
              0.6666666666666666,
              "#ed7953"
             ],
             [
              0.7777777777777778,
              "#fb9f3a"
             ],
             [
              0.8888888888888888,
              "#fdca26"
             ],
             [
              1,
              "#f0f921"
             ]
            ],
            "type": "heatmapgl"
           }
          ],
          "histogram": [
           {
            "marker": {
             "colorbar": {
              "outlinewidth": 0,
              "ticks": ""
             }
            },
            "type": "histogram"
           }
          ],
          "histogram2d": [
           {
            "colorbar": {
             "outlinewidth": 0,
             "ticks": ""
            },
            "colorscale": [
             [
              0,
              "#0d0887"
             ],
             [
              0.1111111111111111,
              "#46039f"
             ],
             [
              0.2222222222222222,
              "#7201a8"
             ],
             [
              0.3333333333333333,
              "#9c179e"
             ],
             [
              0.4444444444444444,
              "#bd3786"
             ],
             [
              0.5555555555555556,
              "#d8576b"
             ],
             [
              0.6666666666666666,
              "#ed7953"
             ],
             [
              0.7777777777777778,
              "#fb9f3a"
             ],
             [
              0.8888888888888888,
              "#fdca26"
             ],
             [
              1,
              "#f0f921"
             ]
            ],
            "type": "histogram2d"
           }
          ],
          "histogram2dcontour": [
           {
            "colorbar": {
             "outlinewidth": 0,
             "ticks": ""
            },
            "colorscale": [
             [
              0,
              "#0d0887"
             ],
             [
              0.1111111111111111,
              "#46039f"
             ],
             [
              0.2222222222222222,
              "#7201a8"
             ],
             [
              0.3333333333333333,
              "#9c179e"
             ],
             [
              0.4444444444444444,
              "#bd3786"
             ],
             [
              0.5555555555555556,
              "#d8576b"
             ],
             [
              0.6666666666666666,
              "#ed7953"
             ],
             [
              0.7777777777777778,
              "#fb9f3a"
             ],
             [
              0.8888888888888888,
              "#fdca26"
             ],
             [
              1,
              "#f0f921"
             ]
            ],
            "type": "histogram2dcontour"
           }
          ],
          "mesh3d": [
           {
            "colorbar": {
             "outlinewidth": 0,
             "ticks": ""
            },
            "type": "mesh3d"
           }
          ],
          "parcoords": [
           {
            "line": {
             "colorbar": {
              "outlinewidth": 0,
              "ticks": ""
             }
            },
            "type": "parcoords"
           }
          ],
          "pie": [
           {
            "automargin": true,
            "type": "pie"
           }
          ],
          "scatter": [
           {
            "marker": {
             "colorbar": {
              "outlinewidth": 0,
              "ticks": ""
             }
            },
            "type": "scatter"
           }
          ],
          "scatter3d": [
           {
            "line": {
             "colorbar": {
              "outlinewidth": 0,
              "ticks": ""
             }
            },
            "marker": {
             "colorbar": {
              "outlinewidth": 0,
              "ticks": ""
             }
            },
            "type": "scatter3d"
           }
          ],
          "scattercarpet": [
           {
            "marker": {
             "colorbar": {
              "outlinewidth": 0,
              "ticks": ""
             }
            },
            "type": "scattercarpet"
           }
          ],
          "scattergeo": [
           {
            "marker": {
             "colorbar": {
              "outlinewidth": 0,
              "ticks": ""
             }
            },
            "type": "scattergeo"
           }
          ],
          "scattergl": [
           {
            "marker": {
             "colorbar": {
              "outlinewidth": 0,
              "ticks": ""
             }
            },
            "type": "scattergl"
           }
          ],
          "scattermapbox": [
           {
            "marker": {
             "colorbar": {
              "outlinewidth": 0,
              "ticks": ""
             }
            },
            "type": "scattermapbox"
           }
          ],
          "scatterpolar": [
           {
            "marker": {
             "colorbar": {
              "outlinewidth": 0,
              "ticks": ""
             }
            },
            "type": "scatterpolar"
           }
          ],
          "scatterpolargl": [
           {
            "marker": {
             "colorbar": {
              "outlinewidth": 0,
              "ticks": ""
             }
            },
            "type": "scatterpolargl"
           }
          ],
          "scatterternary": [
           {
            "marker": {
             "colorbar": {
              "outlinewidth": 0,
              "ticks": ""
             }
            },
            "type": "scatterternary"
           }
          ],
          "surface": [
           {
            "colorbar": {
             "outlinewidth": 0,
             "ticks": ""
            },
            "colorscale": [
             [
              0,
              "#0d0887"
             ],
             [
              0.1111111111111111,
              "#46039f"
             ],
             [
              0.2222222222222222,
              "#7201a8"
             ],
             [
              0.3333333333333333,
              "#9c179e"
             ],
             [
              0.4444444444444444,
              "#bd3786"
             ],
             [
              0.5555555555555556,
              "#d8576b"
             ],
             [
              0.6666666666666666,
              "#ed7953"
             ],
             [
              0.7777777777777778,
              "#fb9f3a"
             ],
             [
              0.8888888888888888,
              "#fdca26"
             ],
             [
              1,
              "#f0f921"
             ]
            ],
            "type": "surface"
           }
          ],
          "table": [
           {
            "cells": {
             "fill": {
              "color": "#EBF0F8"
             },
             "line": {
              "color": "white"
             }
            },
            "header": {
             "fill": {
              "color": "#C8D4E3"
             },
             "line": {
              "color": "white"
             }
            },
            "type": "table"
           }
          ]
         },
         "layout": {
          "annotationdefaults": {
           "arrowcolor": "#2a3f5f",
           "arrowhead": 0,
           "arrowwidth": 1
          },
          "autotypenumbers": "strict",
          "coloraxis": {
           "colorbar": {
            "outlinewidth": 0,
            "ticks": ""
           }
          },
          "colorscale": {
           "diverging": [
            [
             0,
             "#8e0152"
            ],
            [
             0.1,
             "#c51b7d"
            ],
            [
             0.2,
             "#de77ae"
            ],
            [
             0.3,
             "#f1b6da"
            ],
            [
             0.4,
             "#fde0ef"
            ],
            [
             0.5,
             "#f7f7f7"
            ],
            [
             0.6,
             "#e6f5d0"
            ],
            [
             0.7,
             "#b8e186"
            ],
            [
             0.8,
             "#7fbc41"
            ],
            [
             0.9,
             "#4d9221"
            ],
            [
             1,
             "#276419"
            ]
           ],
           "sequential": [
            [
             0,
             "#0d0887"
            ],
            [
             0.1111111111111111,
             "#46039f"
            ],
            [
             0.2222222222222222,
             "#7201a8"
            ],
            [
             0.3333333333333333,
             "#9c179e"
            ],
            [
             0.4444444444444444,
             "#bd3786"
            ],
            [
             0.5555555555555556,
             "#d8576b"
            ],
            [
             0.6666666666666666,
             "#ed7953"
            ],
            [
             0.7777777777777778,
             "#fb9f3a"
            ],
            [
             0.8888888888888888,
             "#fdca26"
            ],
            [
             1,
             "#f0f921"
            ]
           ],
           "sequentialminus": [
            [
             0,
             "#0d0887"
            ],
            [
             0.1111111111111111,
             "#46039f"
            ],
            [
             0.2222222222222222,
             "#7201a8"
            ],
            [
             0.3333333333333333,
             "#9c179e"
            ],
            [
             0.4444444444444444,
             "#bd3786"
            ],
            [
             0.5555555555555556,
             "#d8576b"
            ],
            [
             0.6666666666666666,
             "#ed7953"
            ],
            [
             0.7777777777777778,
             "#fb9f3a"
            ],
            [
             0.8888888888888888,
             "#fdca26"
            ],
            [
             1,
             "#f0f921"
            ]
           ]
          },
          "colorway": [
           "#636efa",
           "#EF553B",
           "#00cc96",
           "#ab63fa",
           "#FFA15A",
           "#19d3f3",
           "#FF6692",
           "#B6E880",
           "#FF97FF",
           "#FECB52"
          ],
          "font": {
           "color": "#2a3f5f"
          },
          "geo": {
           "bgcolor": "white",
           "lakecolor": "white",
           "landcolor": "#E5ECF6",
           "showlakes": true,
           "showland": true,
           "subunitcolor": "white"
          },
          "hoverlabel": {
           "align": "left"
          },
          "hovermode": "closest",
          "mapbox": {
           "style": "light"
          },
          "paper_bgcolor": "white",
          "plot_bgcolor": "#E5ECF6",
          "polar": {
           "angularaxis": {
            "gridcolor": "white",
            "linecolor": "white",
            "ticks": ""
           },
           "bgcolor": "#E5ECF6",
           "radialaxis": {
            "gridcolor": "white",
            "linecolor": "white",
            "ticks": ""
           }
          },
          "scene": {
           "xaxis": {
            "backgroundcolor": "#E5ECF6",
            "gridcolor": "white",
            "gridwidth": 2,
            "linecolor": "white",
            "showbackground": true,
            "ticks": "",
            "zerolinecolor": "white"
           },
           "yaxis": {
            "backgroundcolor": "#E5ECF6",
            "gridcolor": "white",
            "gridwidth": 2,
            "linecolor": "white",
            "showbackground": true,
            "ticks": "",
            "zerolinecolor": "white"
           },
           "zaxis": {
            "backgroundcolor": "#E5ECF6",
            "gridcolor": "white",
            "gridwidth": 2,
            "linecolor": "white",
            "showbackground": true,
            "ticks": "",
            "zerolinecolor": "white"
           }
          },
          "shapedefaults": {
           "line": {
            "color": "#2a3f5f"
           }
          },
          "ternary": {
           "aaxis": {
            "gridcolor": "white",
            "linecolor": "white",
            "ticks": ""
           },
           "baxis": {
            "gridcolor": "white",
            "linecolor": "white",
            "ticks": ""
           },
           "bgcolor": "#E5ECF6",
           "caxis": {
            "gridcolor": "white",
            "linecolor": "white",
            "ticks": ""
           }
          },
          "title": {
           "x": 0.05
          },
          "xaxis": {
           "automargin": true,
           "gridcolor": "white",
           "linecolor": "white",
           "ticks": "",
           "title": {
            "standoff": 15
           },
           "zerolinecolor": "white",
           "zerolinewidth": 2
          },
          "yaxis": {
           "automargin": true,
           "gridcolor": "white",
           "linecolor": "white",
           "ticks": "",
           "title": {
            "standoff": 15
           },
           "zerolinecolor": "white",
           "zerolinewidth": 2
          }
         }
        },
        "title": {
         "font": {
          "color": "#4D5663"
         }
        },
        "xaxis": {
         "gridcolor": "#E1E5ED",
         "showgrid": true,
         "tickfont": {
          "color": "#4D5663"
         },
         "title": {
          "font": {
           "color": "#4D5663"
          },
          "text": ""
         },
         "zerolinecolor": "#E1E5ED"
        },
        "yaxis": {
         "gridcolor": "#E1E5ED",
         "showgrid": true,
         "tickfont": {
          "color": "#4D5663"
         },
         "title": {
          "font": {
           "color": "#4D5663"
          },
          "text": ""
         },
         "zerolinecolor": "#E1E5ED"
        }
       }
      },
      "text/html": [
       "<div>                            <div id=\"0f1015b7-fd37-4e2c-abd5-9ea77bd27979\" class=\"plotly-graph-div\" style=\"height:525px; width:100%;\"></div>            <script type=\"text/javascript\">                require([\"plotly\"], function(Plotly) {                    window.PLOTLYENV=window.PLOTLYENV || {};\n",
       "                    window.PLOTLYENV.BASE_URL='https://chart-studio.plotly.com';                                    if (document.getElementById(\"0f1015b7-fd37-4e2c-abd5-9ea77bd27979\")) {                    Plotly.newPlot(                        \"0f1015b7-fd37-4e2c-abd5-9ea77bd27979\",                        [{\"histfunc\": \"count\", \"histnorm\": \"\", \"marker\": {\"color\": \"rgba(255, 153, 51, 1.0)\", \"line\": {\"color\": \"#4D5663\", \"width\": 1.3}}, \"name\": \"A\", \"nbinsx\": 25, \"opacity\": 0.8, \"orientation\": \"v\", \"type\": \"histogram\", \"x\": [-0.10941102931249815, -0.8615740729354732, 2.2191920448516105, 0.8272024104553013, 0.09260580476298218, -1.760498313088278, -1.3580352833088245, 0.2837646296039586, 0.9041110135710683, 1.8963016027309272, 1.8326035595389771, -0.10492725231921943, -0.2046535814758173, -0.10024462278595839, 0.09630022741523961, -1.6924637530883027, -1.827533202226689, 0.535830442200243, -1.9360645912018926, -0.8500344647105456, -0.05576325053126793, -0.23323577819050917, -0.6976270715849751, 1.5307238079283552, 1.2999535047751662, 0.3303505037693656, -1.000663879444441, 0.6308438849860508, 1.3055824565890246, -0.40507941245360185, -0.3762913856446127, -1.7176097901649348, 0.053400975014509904, 0.21780304650270754, -0.3855545352890779, -0.5661844716568739, -2.560368808121754, 0.3407561655250713, -0.48386581194026446, -1.585339192511962, 0.02408347448600361, -1.2346577797624294, 0.787854145181569, -1.9996732709740686, 1.1464586983894467, 1.496126645525582, 0.5008657636740425, 0.9484308471915603, 0.08220806231666754, 0.16054214225587957, 0.38751961200206325, -0.47077345204718146, 0.35760076104911215, -0.1544322284853308, 0.7463179133033808, -1.502516121508507, 0.5725392099395142, 1.3913604236343293, 2.1210719379328893, 1.8773383992501935, 1.2544431720187816, -0.694049794215334, 2.502637085459896, -0.2753756798548901, -0.004244286821838908, 0.09242496481751918, 0.04883874317874036, -1.1291816313913836, -1.4004908252511359, -1.8213043294508382, -0.5701748178839355, 1.0309248997596467, 0.8003828152110333, 0.47792794445750864, -0.26747921252634377, 1.3405762679316036, -0.7221850291354602, 1.7212787438610841, -1.3063358071403264, 1.0957687559126097, -0.6871292686938323, -1.0645803968637746, 0.7238126783784861, -1.9096265686281966, -0.6711390977232885, 0.21744931156823238, 0.23485404452984696, 0.6167907699912447, 0.387826246423899, 0.9056443724871143, -0.35038815349392105, -1.069160929980094, -0.6957064695988187, 0.35168615193685204, -2.505057701868909, 0.5038066984983418, -2.1427877817529133, 0.4174077862768109, 1.0829115331525192, -0.9391761272870766]}],                        {\"barmode\": \"overlay\", \"legend\": {\"bgcolor\": \"#F5F6F9\", \"font\": {\"color\": \"#4D5663\"}}, \"paper_bgcolor\": \"#F5F6F9\", \"plot_bgcolor\": \"#F5F6F9\", \"template\": {\"data\": {\"bar\": [{\"error_x\": {\"color\": \"#2a3f5f\"}, \"error_y\": {\"color\": \"#2a3f5f\"}, \"marker\": {\"line\": {\"color\": \"#E5ECF6\", \"width\": 0.5}}, \"type\": \"bar\"}], \"barpolar\": [{\"marker\": {\"line\": {\"color\": \"#E5ECF6\", \"width\": 0.5}}, \"type\": \"barpolar\"}], \"carpet\": [{\"aaxis\": {\"endlinecolor\": \"#2a3f5f\", \"gridcolor\": \"white\", \"linecolor\": \"white\", \"minorgridcolor\": \"white\", \"startlinecolor\": \"#2a3f5f\"}, \"baxis\": {\"endlinecolor\": \"#2a3f5f\", \"gridcolor\": \"white\", \"linecolor\": \"white\", \"minorgridcolor\": \"white\", \"startlinecolor\": \"#2a3f5f\"}, \"type\": \"carpet\"}], \"choropleth\": [{\"colorbar\": {\"outlinewidth\": 0, \"ticks\": \"\"}, \"type\": \"choropleth\"}], \"contour\": [{\"colorbar\": {\"outlinewidth\": 0, \"ticks\": \"\"}, \"colorscale\": [[0.0, \"#0d0887\"], [0.1111111111111111, \"#46039f\"], [0.2222222222222222, \"#7201a8\"], [0.3333333333333333, \"#9c179e\"], [0.4444444444444444, \"#bd3786\"], [0.5555555555555556, \"#d8576b\"], [0.6666666666666666, \"#ed7953\"], [0.7777777777777778, \"#fb9f3a\"], [0.8888888888888888, \"#fdca26\"], [1.0, \"#f0f921\"]], \"type\": \"contour\"}], \"contourcarpet\": [{\"colorbar\": {\"outlinewidth\": 0, \"ticks\": \"\"}, \"type\": \"contourcarpet\"}], \"heatmap\": [{\"colorbar\": {\"outlinewidth\": 0, \"ticks\": \"\"}, \"colorscale\": [[0.0, \"#0d0887\"], [0.1111111111111111, \"#46039f\"], [0.2222222222222222, \"#7201a8\"], [0.3333333333333333, \"#9c179e\"], [0.4444444444444444, \"#bd3786\"], [0.5555555555555556, \"#d8576b\"], [0.6666666666666666, \"#ed7953\"], [0.7777777777777778, \"#fb9f3a\"], [0.8888888888888888, \"#fdca26\"], [1.0, \"#f0f921\"]], \"type\": \"heatmap\"}], \"heatmapgl\": [{\"colorbar\": {\"outlinewidth\": 0, \"ticks\": \"\"}, \"colorscale\": [[0.0, \"#0d0887\"], [0.1111111111111111, \"#46039f\"], [0.2222222222222222, \"#7201a8\"], [0.3333333333333333, \"#9c179e\"], [0.4444444444444444, \"#bd3786\"], [0.5555555555555556, \"#d8576b\"], [0.6666666666666666, \"#ed7953\"], [0.7777777777777778, \"#fb9f3a\"], [0.8888888888888888, \"#fdca26\"], [1.0, \"#f0f921\"]], \"type\": \"heatmapgl\"}], \"histogram\": [{\"marker\": {\"colorbar\": {\"outlinewidth\": 0, \"ticks\": \"\"}}, \"type\": \"histogram\"}], \"histogram2d\": [{\"colorbar\": {\"outlinewidth\": 0, \"ticks\": \"\"}, \"colorscale\": [[0.0, \"#0d0887\"], [0.1111111111111111, \"#46039f\"], [0.2222222222222222, \"#7201a8\"], [0.3333333333333333, \"#9c179e\"], [0.4444444444444444, \"#bd3786\"], [0.5555555555555556, \"#d8576b\"], [0.6666666666666666, \"#ed7953\"], [0.7777777777777778, \"#fb9f3a\"], [0.8888888888888888, \"#fdca26\"], [1.0, \"#f0f921\"]], \"type\": \"histogram2d\"}], \"histogram2dcontour\": [{\"colorbar\": {\"outlinewidth\": 0, \"ticks\": \"\"}, \"colorscale\": [[0.0, \"#0d0887\"], [0.1111111111111111, \"#46039f\"], [0.2222222222222222, \"#7201a8\"], [0.3333333333333333, \"#9c179e\"], [0.4444444444444444, \"#bd3786\"], [0.5555555555555556, \"#d8576b\"], [0.6666666666666666, \"#ed7953\"], [0.7777777777777778, \"#fb9f3a\"], [0.8888888888888888, \"#fdca26\"], [1.0, \"#f0f921\"]], \"type\": \"histogram2dcontour\"}], \"mesh3d\": [{\"colorbar\": {\"outlinewidth\": 0, \"ticks\": \"\"}, \"type\": \"mesh3d\"}], \"parcoords\": [{\"line\": {\"colorbar\": {\"outlinewidth\": 0, \"ticks\": \"\"}}, \"type\": \"parcoords\"}], \"pie\": [{\"automargin\": true, \"type\": \"pie\"}], \"scatter\": [{\"marker\": {\"colorbar\": {\"outlinewidth\": 0, \"ticks\": \"\"}}, \"type\": \"scatter\"}], \"scatter3d\": [{\"line\": {\"colorbar\": {\"outlinewidth\": 0, \"ticks\": \"\"}}, \"marker\": {\"colorbar\": {\"outlinewidth\": 0, \"ticks\": \"\"}}, \"type\": \"scatter3d\"}], \"scattercarpet\": [{\"marker\": {\"colorbar\": {\"outlinewidth\": 0, \"ticks\": \"\"}}, \"type\": \"scattercarpet\"}], \"scattergeo\": [{\"marker\": {\"colorbar\": {\"outlinewidth\": 0, \"ticks\": \"\"}}, \"type\": \"scattergeo\"}], \"scattergl\": [{\"marker\": {\"colorbar\": {\"outlinewidth\": 0, \"ticks\": \"\"}}, \"type\": \"scattergl\"}], \"scattermapbox\": [{\"marker\": {\"colorbar\": {\"outlinewidth\": 0, \"ticks\": \"\"}}, \"type\": \"scattermapbox\"}], \"scatterpolar\": [{\"marker\": {\"colorbar\": {\"outlinewidth\": 0, \"ticks\": \"\"}}, \"type\": \"scatterpolar\"}], \"scatterpolargl\": [{\"marker\": {\"colorbar\": {\"outlinewidth\": 0, \"ticks\": \"\"}}, \"type\": \"scatterpolargl\"}], \"scatterternary\": [{\"marker\": {\"colorbar\": {\"outlinewidth\": 0, \"ticks\": \"\"}}, \"type\": \"scatterternary\"}], \"surface\": [{\"colorbar\": {\"outlinewidth\": 0, \"ticks\": \"\"}, \"colorscale\": [[0.0, \"#0d0887\"], [0.1111111111111111, \"#46039f\"], [0.2222222222222222, \"#7201a8\"], [0.3333333333333333, \"#9c179e\"], [0.4444444444444444, \"#bd3786\"], [0.5555555555555556, \"#d8576b\"], [0.6666666666666666, \"#ed7953\"], [0.7777777777777778, \"#fb9f3a\"], [0.8888888888888888, \"#fdca26\"], [1.0, \"#f0f921\"]], \"type\": \"surface\"}], \"table\": [{\"cells\": {\"fill\": {\"color\": \"#EBF0F8\"}, \"line\": {\"color\": \"white\"}}, \"header\": {\"fill\": {\"color\": \"#C8D4E3\"}, \"line\": {\"color\": \"white\"}}, \"type\": \"table\"}]}, \"layout\": {\"annotationdefaults\": {\"arrowcolor\": \"#2a3f5f\", \"arrowhead\": 0, \"arrowwidth\": 1}, \"autotypenumbers\": \"strict\", \"coloraxis\": {\"colorbar\": {\"outlinewidth\": 0, \"ticks\": \"\"}}, \"colorscale\": {\"diverging\": [[0, \"#8e0152\"], [0.1, \"#c51b7d\"], [0.2, \"#de77ae\"], [0.3, \"#f1b6da\"], [0.4, \"#fde0ef\"], [0.5, \"#f7f7f7\"], [0.6, \"#e6f5d0\"], [0.7, \"#b8e186\"], [0.8, \"#7fbc41\"], [0.9, \"#4d9221\"], [1, \"#276419\"]], \"sequential\": [[0.0, \"#0d0887\"], [0.1111111111111111, \"#46039f\"], [0.2222222222222222, \"#7201a8\"], [0.3333333333333333, \"#9c179e\"], [0.4444444444444444, \"#bd3786\"], [0.5555555555555556, \"#d8576b\"], [0.6666666666666666, \"#ed7953\"], [0.7777777777777778, \"#fb9f3a\"], [0.8888888888888888, \"#fdca26\"], [1.0, \"#f0f921\"]], \"sequentialminus\": [[0.0, \"#0d0887\"], [0.1111111111111111, \"#46039f\"], [0.2222222222222222, \"#7201a8\"], [0.3333333333333333, \"#9c179e\"], [0.4444444444444444, \"#bd3786\"], [0.5555555555555556, \"#d8576b\"], [0.6666666666666666, \"#ed7953\"], [0.7777777777777778, \"#fb9f3a\"], [0.8888888888888888, \"#fdca26\"], [1.0, \"#f0f921\"]]}, \"colorway\": [\"#636efa\", \"#EF553B\", \"#00cc96\", \"#ab63fa\", \"#FFA15A\", \"#19d3f3\", \"#FF6692\", \"#B6E880\", \"#FF97FF\", \"#FECB52\"], \"font\": {\"color\": \"#2a3f5f\"}, \"geo\": {\"bgcolor\": \"white\", \"lakecolor\": \"white\", \"landcolor\": \"#E5ECF6\", \"showlakes\": true, \"showland\": true, \"subunitcolor\": \"white\"}, \"hoverlabel\": {\"align\": \"left\"}, \"hovermode\": \"closest\", \"mapbox\": {\"style\": \"light\"}, \"paper_bgcolor\": \"white\", \"plot_bgcolor\": \"#E5ECF6\", \"polar\": {\"angularaxis\": {\"gridcolor\": \"white\", \"linecolor\": \"white\", \"ticks\": \"\"}, \"bgcolor\": \"#E5ECF6\", \"radialaxis\": {\"gridcolor\": \"white\", \"linecolor\": \"white\", \"ticks\": \"\"}}, \"scene\": {\"xaxis\": {\"backgroundcolor\": \"#E5ECF6\", \"gridcolor\": \"white\", \"gridwidth\": 2, \"linecolor\": \"white\", \"showbackground\": true, \"ticks\": \"\", \"zerolinecolor\": \"white\"}, \"yaxis\": {\"backgroundcolor\": \"#E5ECF6\", \"gridcolor\": \"white\", \"gridwidth\": 2, \"linecolor\": \"white\", \"showbackground\": true, \"ticks\": \"\", \"zerolinecolor\": \"white\"}, \"zaxis\": {\"backgroundcolor\": \"#E5ECF6\", \"gridcolor\": \"white\", \"gridwidth\": 2, \"linecolor\": \"white\", \"showbackground\": true, \"ticks\": \"\", \"zerolinecolor\": \"white\"}}, \"shapedefaults\": {\"line\": {\"color\": \"#2a3f5f\"}}, \"ternary\": {\"aaxis\": {\"gridcolor\": \"white\", \"linecolor\": \"white\", \"ticks\": \"\"}, \"baxis\": {\"gridcolor\": \"white\", \"linecolor\": \"white\", \"ticks\": \"\"}, \"bgcolor\": \"#E5ECF6\", \"caxis\": {\"gridcolor\": \"white\", \"linecolor\": \"white\", \"ticks\": \"\"}}, \"title\": {\"x\": 0.05}, \"xaxis\": {\"automargin\": true, \"gridcolor\": \"white\", \"linecolor\": \"white\", \"ticks\": \"\", \"title\": {\"standoff\": 15}, \"zerolinecolor\": \"white\", \"zerolinewidth\": 2}, \"yaxis\": {\"automargin\": true, \"gridcolor\": \"white\", \"linecolor\": \"white\", \"ticks\": \"\", \"title\": {\"standoff\": 15}, \"zerolinecolor\": \"white\", \"zerolinewidth\": 2}}}, \"title\": {\"font\": {\"color\": \"#4D5663\"}}, \"xaxis\": {\"gridcolor\": \"#E1E5ED\", \"showgrid\": true, \"tickfont\": {\"color\": \"#4D5663\"}, \"title\": {\"font\": {\"color\": \"#4D5663\"}, \"text\": \"\"}, \"zerolinecolor\": \"#E1E5ED\"}, \"yaxis\": {\"gridcolor\": \"#E1E5ED\", \"showgrid\": true, \"tickfont\": {\"color\": \"#4D5663\"}, \"title\": {\"font\": {\"color\": \"#4D5663\"}, \"text\": \"\"}, \"zerolinecolor\": \"#E1E5ED\"}},                        {\"showLink\": true, \"linkText\": \"Export to chart-studio.plotly.com\", \"plotlyServerURL\": \"https://chart-studio.plotly.com\", \"responsive\": true}                    ).then(function(){\n",
       "                            \n",
       "var gd = document.getElementById('0f1015b7-fd37-4e2c-abd5-9ea77bd27979');\n",
       "var x = new MutationObserver(function (mutations, observer) {{\n",
       "        var display = window.getComputedStyle(gd).display;\n",
       "        if (!display || display === 'none') {{\n",
       "            console.log([gd, 'removed!']);\n",
       "            Plotly.purge(gd);\n",
       "            observer.disconnect();\n",
       "        }}\n",
       "}});\n",
       "\n",
       "// Listen for the removal of the full notebook cells\n",
       "var notebookContainer = gd.closest('#notebook-container');\n",
       "if (notebookContainer) {{\n",
       "    x.observe(notebookContainer, {childList: true});\n",
       "}}\n",
       "\n",
       "// Listen for the clearing of the current output cell\n",
       "var outputEl = gd.closest('.output');\n",
       "if (outputEl) {{\n",
       "    x.observe(outputEl, {childList: true});\n",
       "}}\n",
       "\n",
       "                        })                };                });            </script>        </div>"
      ]
     },
     "metadata": {},
     "output_type": "display_data"
    }
   ],
   "source": [
    "df['A'].iplot(kind='hist',bins=25)"
   ]
  },
  {
   "cell_type": "code",
   "execution_count": 17,
   "metadata": {},
   "outputs": [
    {
     "data": {
      "application/vnd.plotly.v1+json": {
       "config": {
        "linkText": "Export to chart-studio.plotly.com",
        "plotlyServerURL": "https://chart-studio.plotly.com",
        "showLink": true
       },
       "data": [
        {
         "marker": {
          "color": [
           "rgb(255, 153, 51)",
           "rgb(55, 128, 191)",
           "rgb(50, 171, 96)",
           "rgb(128, 0, 128)",
           "rgb(219, 64, 82)",
           "rgb(0, 128, 128)",
           "rgb(255, 255, 51)",
           "rgb(128, 128, 0)",
           "rgb(251, 128, 114)",
           "rgb(128, 177, 211)"
          ],
          "line": {
           "width": 1.3
          },
          "size": [
           46,
           58,
           12,
           33,
           40,
           83,
           42,
           36,
           33,
           78,
           79,
           68,
           27,
           59,
           72,
           41,
           109,
           81,
           87,
           75,
           71,
           112,
           59,
           53,
           60,
           54,
           35,
           55,
           20,
           32,
           55,
           37,
           60,
           50,
           98,
           53,
           32,
           39,
           55,
           71,
           74,
           19,
           49,
           76,
           27,
           61,
           55,
           68,
           25,
           53,
           44,
           98,
           52,
           53,
           23,
           46,
           47,
           25,
           40,
           61,
           51,
           53,
           58,
           48,
           75,
           60,
           22,
           47,
           69,
           67,
           27,
           56,
           51,
           30,
           17,
           50,
           67,
           60,
           55,
           35,
           74,
           18,
           72,
           35,
           63,
           21,
           48,
           36,
           40,
           44,
           54,
           50,
           65,
           71,
           60,
           41,
           57,
           56,
           68,
           50
          ],
          "symbol": "circle"
         },
         "mode": "markers",
         "text": "",
         "type": "scatter",
         "x": [
          -0.10941102931249815,
          -0.8615740729354732,
          2.2191920448516105,
          0.8272024104553013,
          0.09260580476298218,
          -1.760498313088278,
          -1.3580352833088245,
          0.2837646296039586,
          0.9041110135710683,
          1.8963016027309272,
          1.8326035595389771,
          -0.10492725231921943,
          -0.2046535814758173,
          -0.10024462278595839,
          0.09630022741523961,
          -1.6924637530883027,
          -1.827533202226689,
          0.535830442200243,
          -1.9360645912018926,
          -0.8500344647105456,
          -0.05576325053126793,
          -0.23323577819050917,
          -0.6976270715849751,
          1.5307238079283552,
          1.2999535047751662,
          0.3303505037693656,
          -1.000663879444441,
          0.6308438849860508,
          1.3055824565890246,
          -0.40507941245360185,
          -0.3762913856446127,
          -1.7176097901649348,
          0.053400975014509904,
          0.21780304650270754,
          -0.3855545352890779,
          -0.5661844716568739,
          -2.560368808121754,
          0.3407561655250713,
          -0.48386581194026446,
          -1.585339192511962,
          0.02408347448600361,
          -1.2346577797624294,
          0.787854145181569,
          -1.9996732709740686,
          1.1464586983894467,
          1.496126645525582,
          0.5008657636740425,
          0.9484308471915603,
          0.08220806231666754,
          0.16054214225587957,
          0.38751961200206325,
          -0.47077345204718146,
          0.35760076104911215,
          -0.1544322284853308,
          0.7463179133033808,
          -1.502516121508507,
          0.5725392099395142,
          1.3913604236343293,
          2.1210719379328893,
          1.8773383992501935,
          1.2544431720187816,
          -0.694049794215334,
          2.502637085459896,
          -0.2753756798548901,
          -0.004244286821838908,
          0.09242496481751918,
          0.04883874317874036,
          -1.1291816313913836,
          -1.4004908252511359,
          -1.8213043294508382,
          -0.5701748178839355,
          1.0309248997596467,
          0.8003828152110333,
          0.47792794445750864,
          -0.26747921252634377,
          1.3405762679316036,
          -0.7221850291354602,
          1.7212787438610841,
          -1.3063358071403264,
          1.0957687559126097,
          -0.6871292686938323,
          -1.0645803968637746,
          0.7238126783784861,
          -1.9096265686281966,
          -0.6711390977232885,
          0.21744931156823238,
          0.23485404452984696,
          0.6167907699912447,
          0.387826246423899,
          0.9056443724871143,
          -0.35038815349392105,
          -1.069160929980094,
          -0.6957064695988187,
          0.35168615193685204,
          -2.505057701868909,
          0.5038066984983418,
          -2.1427877817529133,
          0.4174077862768109,
          1.0829115331525192,
          -0.9391761272870766
         ],
         "y": [
          -1.1623662874693783,
          -0.832344062710519,
          -2.6889403263457887,
          0.33030460644081305,
          1.1897554957994894,
          -1.8295725952943718,
          -0.31134257611300087,
          -1.1150256707068056,
          1.1293886257293613,
          -0.20946608413393494,
          1.2949281437111222,
          0.7526921284010667,
          -0.3016330292488494,
          -0.03385842274369277,
          1.6780856289595902,
          1.1594910401462286,
          -1.6476591553972537,
          1.008497261373339,
          -0.6225470768959404,
          1.1991325015261836,
          -0.4704071561565932,
          0.8446723097825432,
          -1.2536342767984199,
          -0.9130082305126809,
          0.714353984339348,
          1.751443829854967,
          0.21766931930498662,
          0.6463839680678777,
          -1.7860941457977224,
          0.08881002354599406,
          -1.0678176090017426,
          -0.8816616633014966,
          -0.4480884978479455,
          -0.17539412892110837,
          0.19768867636516496,
          1.141342779188351,
          2.164771524215948,
          -0.016755546990118633,
          -1.7998811328448996,
          0.5442419970493254,
          -1.3562236272994466,
          0.2361511721120601,
          -0.8759959347156709,
          0.9273697244945078,
          -0.993762710016327,
          -0.12916485697785596,
          0.3245348617171941,
          0.8534569933866769,
          0.17396641552513492,
          -0.9579470225201236,
          0.04858908835109987,
          0.8129978238418555,
          -1.139226529424848,
          -0.1847432796748167,
          -1.3413819334330195,
          -0.2619249158317706,
          0.6516947357167101,
          1.675280779975995,
          -0.08984333109714171,
          -1.008464832427633,
          1.4740205657881218,
          0.5898484277272196,
          1.4435777212407885,
          -0.2364445961537404,
          -1.0875497083560146,
          -0.7298597590313212,
          -0.4145246652858039,
          -0.0403125523078092,
          1.8821837770362133,
          0.6523163439049054,
          -0.5319318714142541,
          -0.886569382439567,
          -1.57164561702653,
          -1.000733094004772,
          2.252092004447659,
          -0.9484906947123748,
          -1.5745344460769646,
          -0.1147773069126533,
          0.9570101068451705,
          0.8874610915201626,
          1.299598381237897,
          -1.9866886312472394,
          1.769202555822619,
          0.16318296330031146,
          -1.2255227926674428,
          0.08450632457157951,
          0.6749511586498979,
          0.8059974077581394,
          1.3743939631390771,
          0.6836318367306438,
          -0.8852015947588725,
          0.3855881334460895,
          2.0189809445009406,
          1.8117916079776115,
          -0.35933136617635036,
          -0.0673320225340837,
          -1.3580807726174224,
          0.23268662608029927,
          1.1247466248431852,
          -2.536863370877376
         ]
        }
       ],
       "layout": {
        "legend": {
         "bgcolor": "#F5F6F9",
         "font": {
          "color": "#4D5663"
         }
        },
        "paper_bgcolor": "#F5F6F9",
        "plot_bgcolor": "#F5F6F9",
        "template": {
         "data": {
          "bar": [
           {
            "error_x": {
             "color": "#2a3f5f"
            },
            "error_y": {
             "color": "#2a3f5f"
            },
            "marker": {
             "line": {
              "color": "#E5ECF6",
              "width": 0.5
             }
            },
            "type": "bar"
           }
          ],
          "barpolar": [
           {
            "marker": {
             "line": {
              "color": "#E5ECF6",
              "width": 0.5
             }
            },
            "type": "barpolar"
           }
          ],
          "carpet": [
           {
            "aaxis": {
             "endlinecolor": "#2a3f5f",
             "gridcolor": "white",
             "linecolor": "white",
             "minorgridcolor": "white",
             "startlinecolor": "#2a3f5f"
            },
            "baxis": {
             "endlinecolor": "#2a3f5f",
             "gridcolor": "white",
             "linecolor": "white",
             "minorgridcolor": "white",
             "startlinecolor": "#2a3f5f"
            },
            "type": "carpet"
           }
          ],
          "choropleth": [
           {
            "colorbar": {
             "outlinewidth": 0,
             "ticks": ""
            },
            "type": "choropleth"
           }
          ],
          "contour": [
           {
            "colorbar": {
             "outlinewidth": 0,
             "ticks": ""
            },
            "colorscale": [
             [
              0,
              "#0d0887"
             ],
             [
              0.1111111111111111,
              "#46039f"
             ],
             [
              0.2222222222222222,
              "#7201a8"
             ],
             [
              0.3333333333333333,
              "#9c179e"
             ],
             [
              0.4444444444444444,
              "#bd3786"
             ],
             [
              0.5555555555555556,
              "#d8576b"
             ],
             [
              0.6666666666666666,
              "#ed7953"
             ],
             [
              0.7777777777777778,
              "#fb9f3a"
             ],
             [
              0.8888888888888888,
              "#fdca26"
             ],
             [
              1,
              "#f0f921"
             ]
            ],
            "type": "contour"
           }
          ],
          "contourcarpet": [
           {
            "colorbar": {
             "outlinewidth": 0,
             "ticks": ""
            },
            "type": "contourcarpet"
           }
          ],
          "heatmap": [
           {
            "colorbar": {
             "outlinewidth": 0,
             "ticks": ""
            },
            "colorscale": [
             [
              0,
              "#0d0887"
             ],
             [
              0.1111111111111111,
              "#46039f"
             ],
             [
              0.2222222222222222,
              "#7201a8"
             ],
             [
              0.3333333333333333,
              "#9c179e"
             ],
             [
              0.4444444444444444,
              "#bd3786"
             ],
             [
              0.5555555555555556,
              "#d8576b"
             ],
             [
              0.6666666666666666,
              "#ed7953"
             ],
             [
              0.7777777777777778,
              "#fb9f3a"
             ],
             [
              0.8888888888888888,
              "#fdca26"
             ],
             [
              1,
              "#f0f921"
             ]
            ],
            "type": "heatmap"
           }
          ],
          "heatmapgl": [
           {
            "colorbar": {
             "outlinewidth": 0,
             "ticks": ""
            },
            "colorscale": [
             [
              0,
              "#0d0887"
             ],
             [
              0.1111111111111111,
              "#46039f"
             ],
             [
              0.2222222222222222,
              "#7201a8"
             ],
             [
              0.3333333333333333,
              "#9c179e"
             ],
             [
              0.4444444444444444,
              "#bd3786"
             ],
             [
              0.5555555555555556,
              "#d8576b"
             ],
             [
              0.6666666666666666,
              "#ed7953"
             ],
             [
              0.7777777777777778,
              "#fb9f3a"
             ],
             [
              0.8888888888888888,
              "#fdca26"
             ],
             [
              1,
              "#f0f921"
             ]
            ],
            "type": "heatmapgl"
           }
          ],
          "histogram": [
           {
            "marker": {
             "colorbar": {
              "outlinewidth": 0,
              "ticks": ""
             }
            },
            "type": "histogram"
           }
          ],
          "histogram2d": [
           {
            "colorbar": {
             "outlinewidth": 0,
             "ticks": ""
            },
            "colorscale": [
             [
              0,
              "#0d0887"
             ],
             [
              0.1111111111111111,
              "#46039f"
             ],
             [
              0.2222222222222222,
              "#7201a8"
             ],
             [
              0.3333333333333333,
              "#9c179e"
             ],
             [
              0.4444444444444444,
              "#bd3786"
             ],
             [
              0.5555555555555556,
              "#d8576b"
             ],
             [
              0.6666666666666666,
              "#ed7953"
             ],
             [
              0.7777777777777778,
              "#fb9f3a"
             ],
             [
              0.8888888888888888,
              "#fdca26"
             ],
             [
              1,
              "#f0f921"
             ]
            ],
            "type": "histogram2d"
           }
          ],
          "histogram2dcontour": [
           {
            "colorbar": {
             "outlinewidth": 0,
             "ticks": ""
            },
            "colorscale": [
             [
              0,
              "#0d0887"
             ],
             [
              0.1111111111111111,
              "#46039f"
             ],
             [
              0.2222222222222222,
              "#7201a8"
             ],
             [
              0.3333333333333333,
              "#9c179e"
             ],
             [
              0.4444444444444444,
              "#bd3786"
             ],
             [
              0.5555555555555556,
              "#d8576b"
             ],
             [
              0.6666666666666666,
              "#ed7953"
             ],
             [
              0.7777777777777778,
              "#fb9f3a"
             ],
             [
              0.8888888888888888,
              "#fdca26"
             ],
             [
              1,
              "#f0f921"
             ]
            ],
            "type": "histogram2dcontour"
           }
          ],
          "mesh3d": [
           {
            "colorbar": {
             "outlinewidth": 0,
             "ticks": ""
            },
            "type": "mesh3d"
           }
          ],
          "parcoords": [
           {
            "line": {
             "colorbar": {
              "outlinewidth": 0,
              "ticks": ""
             }
            },
            "type": "parcoords"
           }
          ],
          "pie": [
           {
            "automargin": true,
            "type": "pie"
           }
          ],
          "scatter": [
           {
            "marker": {
             "colorbar": {
              "outlinewidth": 0,
              "ticks": ""
             }
            },
            "type": "scatter"
           }
          ],
          "scatter3d": [
           {
            "line": {
             "colorbar": {
              "outlinewidth": 0,
              "ticks": ""
             }
            },
            "marker": {
             "colorbar": {
              "outlinewidth": 0,
              "ticks": ""
             }
            },
            "type": "scatter3d"
           }
          ],
          "scattercarpet": [
           {
            "marker": {
             "colorbar": {
              "outlinewidth": 0,
              "ticks": ""
             }
            },
            "type": "scattercarpet"
           }
          ],
          "scattergeo": [
           {
            "marker": {
             "colorbar": {
              "outlinewidth": 0,
              "ticks": ""
             }
            },
            "type": "scattergeo"
           }
          ],
          "scattergl": [
           {
            "marker": {
             "colorbar": {
              "outlinewidth": 0,
              "ticks": ""
             }
            },
            "type": "scattergl"
           }
          ],
          "scattermapbox": [
           {
            "marker": {
             "colorbar": {
              "outlinewidth": 0,
              "ticks": ""
             }
            },
            "type": "scattermapbox"
           }
          ],
          "scatterpolar": [
           {
            "marker": {
             "colorbar": {
              "outlinewidth": 0,
              "ticks": ""
             }
            },
            "type": "scatterpolar"
           }
          ],
          "scatterpolargl": [
           {
            "marker": {
             "colorbar": {
              "outlinewidth": 0,
              "ticks": ""
             }
            },
            "type": "scatterpolargl"
           }
          ],
          "scatterternary": [
           {
            "marker": {
             "colorbar": {
              "outlinewidth": 0,
              "ticks": ""
             }
            },
            "type": "scatterternary"
           }
          ],
          "surface": [
           {
            "colorbar": {
             "outlinewidth": 0,
             "ticks": ""
            },
            "colorscale": [
             [
              0,
              "#0d0887"
             ],
             [
              0.1111111111111111,
              "#46039f"
             ],
             [
              0.2222222222222222,
              "#7201a8"
             ],
             [
              0.3333333333333333,
              "#9c179e"
             ],
             [
              0.4444444444444444,
              "#bd3786"
             ],
             [
              0.5555555555555556,
              "#d8576b"
             ],
             [
              0.6666666666666666,
              "#ed7953"
             ],
             [
              0.7777777777777778,
              "#fb9f3a"
             ],
             [
              0.8888888888888888,
              "#fdca26"
             ],
             [
              1,
              "#f0f921"
             ]
            ],
            "type": "surface"
           }
          ],
          "table": [
           {
            "cells": {
             "fill": {
              "color": "#EBF0F8"
             },
             "line": {
              "color": "white"
             }
            },
            "header": {
             "fill": {
              "color": "#C8D4E3"
             },
             "line": {
              "color": "white"
             }
            },
            "type": "table"
           }
          ]
         },
         "layout": {
          "annotationdefaults": {
           "arrowcolor": "#2a3f5f",
           "arrowhead": 0,
           "arrowwidth": 1
          },
          "autotypenumbers": "strict",
          "coloraxis": {
           "colorbar": {
            "outlinewidth": 0,
            "ticks": ""
           }
          },
          "colorscale": {
           "diverging": [
            [
             0,
             "#8e0152"
            ],
            [
             0.1,
             "#c51b7d"
            ],
            [
             0.2,
             "#de77ae"
            ],
            [
             0.3,
             "#f1b6da"
            ],
            [
             0.4,
             "#fde0ef"
            ],
            [
             0.5,
             "#f7f7f7"
            ],
            [
             0.6,
             "#e6f5d0"
            ],
            [
             0.7,
             "#b8e186"
            ],
            [
             0.8,
             "#7fbc41"
            ],
            [
             0.9,
             "#4d9221"
            ],
            [
             1,
             "#276419"
            ]
           ],
           "sequential": [
            [
             0,
             "#0d0887"
            ],
            [
             0.1111111111111111,
             "#46039f"
            ],
            [
             0.2222222222222222,
             "#7201a8"
            ],
            [
             0.3333333333333333,
             "#9c179e"
            ],
            [
             0.4444444444444444,
             "#bd3786"
            ],
            [
             0.5555555555555556,
             "#d8576b"
            ],
            [
             0.6666666666666666,
             "#ed7953"
            ],
            [
             0.7777777777777778,
             "#fb9f3a"
            ],
            [
             0.8888888888888888,
             "#fdca26"
            ],
            [
             1,
             "#f0f921"
            ]
           ],
           "sequentialminus": [
            [
             0,
             "#0d0887"
            ],
            [
             0.1111111111111111,
             "#46039f"
            ],
            [
             0.2222222222222222,
             "#7201a8"
            ],
            [
             0.3333333333333333,
             "#9c179e"
            ],
            [
             0.4444444444444444,
             "#bd3786"
            ],
            [
             0.5555555555555556,
             "#d8576b"
            ],
            [
             0.6666666666666666,
             "#ed7953"
            ],
            [
             0.7777777777777778,
             "#fb9f3a"
            ],
            [
             0.8888888888888888,
             "#fdca26"
            ],
            [
             1,
             "#f0f921"
            ]
           ]
          },
          "colorway": [
           "#636efa",
           "#EF553B",
           "#00cc96",
           "#ab63fa",
           "#FFA15A",
           "#19d3f3",
           "#FF6692",
           "#B6E880",
           "#FF97FF",
           "#FECB52"
          ],
          "font": {
           "color": "#2a3f5f"
          },
          "geo": {
           "bgcolor": "white",
           "lakecolor": "white",
           "landcolor": "#E5ECF6",
           "showlakes": true,
           "showland": true,
           "subunitcolor": "white"
          },
          "hoverlabel": {
           "align": "left"
          },
          "hovermode": "closest",
          "mapbox": {
           "style": "light"
          },
          "paper_bgcolor": "white",
          "plot_bgcolor": "#E5ECF6",
          "polar": {
           "angularaxis": {
            "gridcolor": "white",
            "linecolor": "white",
            "ticks": ""
           },
           "bgcolor": "#E5ECF6",
           "radialaxis": {
            "gridcolor": "white",
            "linecolor": "white",
            "ticks": ""
           }
          },
          "scene": {
           "xaxis": {
            "backgroundcolor": "#E5ECF6",
            "gridcolor": "white",
            "gridwidth": 2,
            "linecolor": "white",
            "showbackground": true,
            "ticks": "",
            "zerolinecolor": "white"
           },
           "yaxis": {
            "backgroundcolor": "#E5ECF6",
            "gridcolor": "white",
            "gridwidth": 2,
            "linecolor": "white",
            "showbackground": true,
            "ticks": "",
            "zerolinecolor": "white"
           },
           "zaxis": {
            "backgroundcolor": "#E5ECF6",
            "gridcolor": "white",
            "gridwidth": 2,
            "linecolor": "white",
            "showbackground": true,
            "ticks": "",
            "zerolinecolor": "white"
           }
          },
          "shapedefaults": {
           "line": {
            "color": "#2a3f5f"
           }
          },
          "ternary": {
           "aaxis": {
            "gridcolor": "white",
            "linecolor": "white",
            "ticks": ""
           },
           "baxis": {
            "gridcolor": "white",
            "linecolor": "white",
            "ticks": ""
           },
           "bgcolor": "#E5ECF6",
           "caxis": {
            "gridcolor": "white",
            "linecolor": "white",
            "ticks": ""
           }
          },
          "title": {
           "x": 0.05
          },
          "xaxis": {
           "automargin": true,
           "gridcolor": "white",
           "linecolor": "white",
           "ticks": "",
           "title": {
            "standoff": 15
           },
           "zerolinecolor": "white",
           "zerolinewidth": 2
          },
          "yaxis": {
           "automargin": true,
           "gridcolor": "white",
           "linecolor": "white",
           "ticks": "",
           "title": {
            "standoff": 15
           },
           "zerolinecolor": "white",
           "zerolinewidth": 2
          }
         }
        },
        "title": {
         "font": {
          "color": "#4D5663"
         }
        },
        "xaxis": {
         "gridcolor": "#E1E5ED",
         "showgrid": true,
         "tickfont": {
          "color": "#4D5663"
         },
         "title": {
          "font": {
           "color": "#4D5663"
          },
          "text": ""
         },
         "zerolinecolor": "#E1E5ED"
        },
        "yaxis": {
         "gridcolor": "#E1E5ED",
         "showgrid": true,
         "tickfont": {
          "color": "#4D5663"
         },
         "title": {
          "font": {
           "color": "#4D5663"
          },
          "text": ""
         },
         "zerolinecolor": "#E1E5ED"
        }
       }
      },
      "text/html": [
       "<div>                            <div id=\"b76c328f-2d93-44dd-ac5b-edbc9f2fb63e\" class=\"plotly-graph-div\" style=\"height:525px; width:100%;\"></div>            <script type=\"text/javascript\">                require([\"plotly\"], function(Plotly) {                    window.PLOTLYENV=window.PLOTLYENV || {};\n",
       "                    window.PLOTLYENV.BASE_URL='https://chart-studio.plotly.com';                                    if (document.getElementById(\"b76c328f-2d93-44dd-ac5b-edbc9f2fb63e\")) {                    Plotly.newPlot(                        \"b76c328f-2d93-44dd-ac5b-edbc9f2fb63e\",                        [{\"marker\": {\"color\": [\"rgb(255, 153, 51)\", \"rgb(55, 128, 191)\", \"rgb(50, 171, 96)\", \"rgb(128, 0, 128)\", \"rgb(219, 64, 82)\", \"rgb(0, 128, 128)\", \"rgb(255, 255, 51)\", \"rgb(128, 128, 0)\", \"rgb(251, 128, 114)\", \"rgb(128, 177, 211)\"], \"line\": {\"width\": 1.3}, \"size\": [46, 58, 12, 33, 40, 83, 42, 36, 33, 78, 79, 68, 27, 59, 72, 41, 109, 81, 87, 75, 71, 112, 59, 53, 60, 54, 35, 55, 20, 32, 55, 37, 60, 50, 98, 53, 32, 39, 55, 71, 74, 19, 49, 76, 27, 61, 55, 68, 25, 53, 44, 98, 52, 53, 23, 46, 47, 25, 40, 61, 51, 53, 58, 48, 75, 60, 22, 47, 69, 67, 27, 56, 51, 30, 17, 50, 67, 60, 55, 35, 74, 18, 72, 35, 63, 21, 48, 36, 40, 44, 54, 50, 65, 71, 60, 41, 57, 56, 68, 50], \"symbol\": \"circle\"}, \"mode\": \"markers\", \"text\": \"\", \"type\": \"scatter\", \"x\": [-0.10941102931249815, -0.8615740729354732, 2.2191920448516105, 0.8272024104553013, 0.09260580476298218, -1.760498313088278, -1.3580352833088245, 0.2837646296039586, 0.9041110135710683, 1.8963016027309272, 1.8326035595389771, -0.10492725231921943, -0.2046535814758173, -0.10024462278595839, 0.09630022741523961, -1.6924637530883027, -1.827533202226689, 0.535830442200243, -1.9360645912018926, -0.8500344647105456, -0.05576325053126793, -0.23323577819050917, -0.6976270715849751, 1.5307238079283552, 1.2999535047751662, 0.3303505037693656, -1.000663879444441, 0.6308438849860508, 1.3055824565890246, -0.40507941245360185, -0.3762913856446127, -1.7176097901649348, 0.053400975014509904, 0.21780304650270754, -0.3855545352890779, -0.5661844716568739, -2.560368808121754, 0.3407561655250713, -0.48386581194026446, -1.585339192511962, 0.02408347448600361, -1.2346577797624294, 0.787854145181569, -1.9996732709740686, 1.1464586983894467, 1.496126645525582, 0.5008657636740425, 0.9484308471915603, 0.08220806231666754, 0.16054214225587957, 0.38751961200206325, -0.47077345204718146, 0.35760076104911215, -0.1544322284853308, 0.7463179133033808, -1.502516121508507, 0.5725392099395142, 1.3913604236343293, 2.1210719379328893, 1.8773383992501935, 1.2544431720187816, -0.694049794215334, 2.502637085459896, -0.2753756798548901, -0.004244286821838908, 0.09242496481751918, 0.04883874317874036, -1.1291816313913836, -1.4004908252511359, -1.8213043294508382, -0.5701748178839355, 1.0309248997596467, 0.8003828152110333, 0.47792794445750864, -0.26747921252634377, 1.3405762679316036, -0.7221850291354602, 1.7212787438610841, -1.3063358071403264, 1.0957687559126097, -0.6871292686938323, -1.0645803968637746, 0.7238126783784861, -1.9096265686281966, -0.6711390977232885, 0.21744931156823238, 0.23485404452984696, 0.6167907699912447, 0.387826246423899, 0.9056443724871143, -0.35038815349392105, -1.069160929980094, -0.6957064695988187, 0.35168615193685204, -2.505057701868909, 0.5038066984983418, -2.1427877817529133, 0.4174077862768109, 1.0829115331525192, -0.9391761272870766], \"y\": [-1.1623662874693783, -0.832344062710519, -2.6889403263457887, 0.33030460644081305, 1.1897554957994894, -1.8295725952943718, -0.31134257611300087, -1.1150256707068056, 1.1293886257293613, -0.20946608413393494, 1.2949281437111222, 0.7526921284010667, -0.3016330292488494, -0.03385842274369277, 1.6780856289595902, 1.1594910401462286, -1.6476591553972537, 1.008497261373339, -0.6225470768959404, 1.1991325015261836, -0.4704071561565932, 0.8446723097825432, -1.2536342767984199, -0.9130082305126809, 0.714353984339348, 1.751443829854967, 0.21766931930498662, 0.6463839680678777, -1.7860941457977224, 0.08881002354599406, -1.0678176090017426, -0.8816616633014966, -0.4480884978479455, -0.17539412892110837, 0.19768867636516496, 1.141342779188351, 2.164771524215948, -0.016755546990118633, -1.7998811328448996, 0.5442419970493254, -1.3562236272994466, 0.2361511721120601, -0.8759959347156709, 0.9273697244945078, -0.993762710016327, -0.12916485697785596, 0.3245348617171941, 0.8534569933866769, 0.17396641552513492, -0.9579470225201236, 0.04858908835109987, 0.8129978238418555, -1.139226529424848, -0.1847432796748167, -1.3413819334330195, -0.2619249158317706, 0.6516947357167101, 1.675280779975995, -0.08984333109714171, -1.008464832427633, 1.4740205657881218, 0.5898484277272196, 1.4435777212407885, -0.2364445961537404, -1.0875497083560146, -0.7298597590313212, -0.4145246652858039, -0.0403125523078092, 1.8821837770362133, 0.6523163439049054, -0.5319318714142541, -0.886569382439567, -1.57164561702653, -1.000733094004772, 2.252092004447659, -0.9484906947123748, -1.5745344460769646, -0.1147773069126533, 0.9570101068451705, 0.8874610915201626, 1.299598381237897, -1.9866886312472394, 1.769202555822619, 0.16318296330031146, -1.2255227926674428, 0.08450632457157951, 0.6749511586498979, 0.8059974077581394, 1.3743939631390771, 0.6836318367306438, -0.8852015947588725, 0.3855881334460895, 2.0189809445009406, 1.8117916079776115, -0.35933136617635036, -0.0673320225340837, -1.3580807726174224, 0.23268662608029927, 1.1247466248431852, -2.536863370877376]}],                        {\"legend\": {\"bgcolor\": \"#F5F6F9\", \"font\": {\"color\": \"#4D5663\"}}, \"paper_bgcolor\": \"#F5F6F9\", \"plot_bgcolor\": \"#F5F6F9\", \"template\": {\"data\": {\"bar\": [{\"error_x\": {\"color\": \"#2a3f5f\"}, \"error_y\": {\"color\": \"#2a3f5f\"}, \"marker\": {\"line\": {\"color\": \"#E5ECF6\", \"width\": 0.5}}, \"type\": \"bar\"}], \"barpolar\": [{\"marker\": {\"line\": {\"color\": \"#E5ECF6\", \"width\": 0.5}}, \"type\": \"barpolar\"}], \"carpet\": [{\"aaxis\": {\"endlinecolor\": \"#2a3f5f\", \"gridcolor\": \"white\", \"linecolor\": \"white\", \"minorgridcolor\": \"white\", \"startlinecolor\": \"#2a3f5f\"}, \"baxis\": {\"endlinecolor\": \"#2a3f5f\", \"gridcolor\": \"white\", \"linecolor\": \"white\", \"minorgridcolor\": \"white\", \"startlinecolor\": \"#2a3f5f\"}, \"type\": \"carpet\"}], \"choropleth\": [{\"colorbar\": {\"outlinewidth\": 0, \"ticks\": \"\"}, \"type\": \"choropleth\"}], \"contour\": [{\"colorbar\": {\"outlinewidth\": 0, \"ticks\": \"\"}, \"colorscale\": [[0.0, \"#0d0887\"], [0.1111111111111111, \"#46039f\"], [0.2222222222222222, \"#7201a8\"], [0.3333333333333333, \"#9c179e\"], [0.4444444444444444, \"#bd3786\"], [0.5555555555555556, \"#d8576b\"], [0.6666666666666666, \"#ed7953\"], [0.7777777777777778, \"#fb9f3a\"], [0.8888888888888888, \"#fdca26\"], [1.0, \"#f0f921\"]], \"type\": \"contour\"}], \"contourcarpet\": [{\"colorbar\": {\"outlinewidth\": 0, \"ticks\": \"\"}, \"type\": \"contourcarpet\"}], \"heatmap\": [{\"colorbar\": {\"outlinewidth\": 0, \"ticks\": \"\"}, \"colorscale\": [[0.0, \"#0d0887\"], [0.1111111111111111, \"#46039f\"], [0.2222222222222222, \"#7201a8\"], [0.3333333333333333, \"#9c179e\"], [0.4444444444444444, \"#bd3786\"], [0.5555555555555556, \"#d8576b\"], [0.6666666666666666, \"#ed7953\"], [0.7777777777777778, \"#fb9f3a\"], [0.8888888888888888, \"#fdca26\"], [1.0, \"#f0f921\"]], \"type\": \"heatmap\"}], \"heatmapgl\": [{\"colorbar\": {\"outlinewidth\": 0, \"ticks\": \"\"}, \"colorscale\": [[0.0, \"#0d0887\"], [0.1111111111111111, \"#46039f\"], [0.2222222222222222, \"#7201a8\"], [0.3333333333333333, \"#9c179e\"], [0.4444444444444444, \"#bd3786\"], [0.5555555555555556, \"#d8576b\"], [0.6666666666666666, \"#ed7953\"], [0.7777777777777778, \"#fb9f3a\"], [0.8888888888888888, \"#fdca26\"], [1.0, \"#f0f921\"]], \"type\": \"heatmapgl\"}], \"histogram\": [{\"marker\": {\"colorbar\": {\"outlinewidth\": 0, \"ticks\": \"\"}}, \"type\": \"histogram\"}], \"histogram2d\": [{\"colorbar\": {\"outlinewidth\": 0, \"ticks\": \"\"}, \"colorscale\": [[0.0, \"#0d0887\"], [0.1111111111111111, \"#46039f\"], [0.2222222222222222, \"#7201a8\"], [0.3333333333333333, \"#9c179e\"], [0.4444444444444444, \"#bd3786\"], [0.5555555555555556, \"#d8576b\"], [0.6666666666666666, \"#ed7953\"], [0.7777777777777778, \"#fb9f3a\"], [0.8888888888888888, \"#fdca26\"], [1.0, \"#f0f921\"]], \"type\": \"histogram2d\"}], \"histogram2dcontour\": [{\"colorbar\": {\"outlinewidth\": 0, \"ticks\": \"\"}, \"colorscale\": [[0.0, \"#0d0887\"], [0.1111111111111111, \"#46039f\"], [0.2222222222222222, \"#7201a8\"], [0.3333333333333333, \"#9c179e\"], [0.4444444444444444, \"#bd3786\"], [0.5555555555555556, \"#d8576b\"], [0.6666666666666666, \"#ed7953\"], [0.7777777777777778, \"#fb9f3a\"], [0.8888888888888888, \"#fdca26\"], [1.0, \"#f0f921\"]], \"type\": \"histogram2dcontour\"}], \"mesh3d\": [{\"colorbar\": {\"outlinewidth\": 0, \"ticks\": \"\"}, \"type\": \"mesh3d\"}], \"parcoords\": [{\"line\": {\"colorbar\": {\"outlinewidth\": 0, \"ticks\": \"\"}}, \"type\": \"parcoords\"}], \"pie\": [{\"automargin\": true, \"type\": \"pie\"}], \"scatter\": [{\"marker\": {\"colorbar\": {\"outlinewidth\": 0, \"ticks\": \"\"}}, \"type\": \"scatter\"}], \"scatter3d\": [{\"line\": {\"colorbar\": {\"outlinewidth\": 0, \"ticks\": \"\"}}, \"marker\": {\"colorbar\": {\"outlinewidth\": 0, \"ticks\": \"\"}}, \"type\": \"scatter3d\"}], \"scattercarpet\": [{\"marker\": {\"colorbar\": {\"outlinewidth\": 0, \"ticks\": \"\"}}, \"type\": \"scattercarpet\"}], \"scattergeo\": [{\"marker\": {\"colorbar\": {\"outlinewidth\": 0, \"ticks\": \"\"}}, \"type\": \"scattergeo\"}], \"scattergl\": [{\"marker\": {\"colorbar\": {\"outlinewidth\": 0, \"ticks\": \"\"}}, \"type\": \"scattergl\"}], \"scattermapbox\": [{\"marker\": {\"colorbar\": {\"outlinewidth\": 0, \"ticks\": \"\"}}, \"type\": \"scattermapbox\"}], \"scatterpolar\": [{\"marker\": {\"colorbar\": {\"outlinewidth\": 0, \"ticks\": \"\"}}, \"type\": \"scatterpolar\"}], \"scatterpolargl\": [{\"marker\": {\"colorbar\": {\"outlinewidth\": 0, \"ticks\": \"\"}}, \"type\": \"scatterpolargl\"}], \"scatterternary\": [{\"marker\": {\"colorbar\": {\"outlinewidth\": 0, \"ticks\": \"\"}}, \"type\": \"scatterternary\"}], \"surface\": [{\"colorbar\": {\"outlinewidth\": 0, \"ticks\": \"\"}, \"colorscale\": [[0.0, \"#0d0887\"], [0.1111111111111111, \"#46039f\"], [0.2222222222222222, \"#7201a8\"], [0.3333333333333333, \"#9c179e\"], [0.4444444444444444, \"#bd3786\"], [0.5555555555555556, \"#d8576b\"], [0.6666666666666666, \"#ed7953\"], [0.7777777777777778, \"#fb9f3a\"], [0.8888888888888888, \"#fdca26\"], [1.0, \"#f0f921\"]], \"type\": \"surface\"}], \"table\": [{\"cells\": {\"fill\": {\"color\": \"#EBF0F8\"}, \"line\": {\"color\": \"white\"}}, \"header\": {\"fill\": {\"color\": \"#C8D4E3\"}, \"line\": {\"color\": \"white\"}}, \"type\": \"table\"}]}, \"layout\": {\"annotationdefaults\": {\"arrowcolor\": \"#2a3f5f\", \"arrowhead\": 0, \"arrowwidth\": 1}, \"autotypenumbers\": \"strict\", \"coloraxis\": {\"colorbar\": {\"outlinewidth\": 0, \"ticks\": \"\"}}, \"colorscale\": {\"diverging\": [[0, \"#8e0152\"], [0.1, \"#c51b7d\"], [0.2, \"#de77ae\"], [0.3, \"#f1b6da\"], [0.4, \"#fde0ef\"], [0.5, \"#f7f7f7\"], [0.6, \"#e6f5d0\"], [0.7, \"#b8e186\"], [0.8, \"#7fbc41\"], [0.9, \"#4d9221\"], [1, \"#276419\"]], \"sequential\": [[0.0, \"#0d0887\"], [0.1111111111111111, \"#46039f\"], [0.2222222222222222, \"#7201a8\"], [0.3333333333333333, \"#9c179e\"], [0.4444444444444444, \"#bd3786\"], [0.5555555555555556, \"#d8576b\"], [0.6666666666666666, \"#ed7953\"], [0.7777777777777778, \"#fb9f3a\"], [0.8888888888888888, \"#fdca26\"], [1.0, \"#f0f921\"]], \"sequentialminus\": [[0.0, \"#0d0887\"], [0.1111111111111111, \"#46039f\"], [0.2222222222222222, \"#7201a8\"], [0.3333333333333333, \"#9c179e\"], [0.4444444444444444, \"#bd3786\"], [0.5555555555555556, \"#d8576b\"], [0.6666666666666666, \"#ed7953\"], [0.7777777777777778, \"#fb9f3a\"], [0.8888888888888888, \"#fdca26\"], [1.0, \"#f0f921\"]]}, \"colorway\": [\"#636efa\", \"#EF553B\", \"#00cc96\", \"#ab63fa\", \"#FFA15A\", \"#19d3f3\", \"#FF6692\", \"#B6E880\", \"#FF97FF\", \"#FECB52\"], \"font\": {\"color\": \"#2a3f5f\"}, \"geo\": {\"bgcolor\": \"white\", \"lakecolor\": \"white\", \"landcolor\": \"#E5ECF6\", \"showlakes\": true, \"showland\": true, \"subunitcolor\": \"white\"}, \"hoverlabel\": {\"align\": \"left\"}, \"hovermode\": \"closest\", \"mapbox\": {\"style\": \"light\"}, \"paper_bgcolor\": \"white\", \"plot_bgcolor\": \"#E5ECF6\", \"polar\": {\"angularaxis\": {\"gridcolor\": \"white\", \"linecolor\": \"white\", \"ticks\": \"\"}, \"bgcolor\": \"#E5ECF6\", \"radialaxis\": {\"gridcolor\": \"white\", \"linecolor\": \"white\", \"ticks\": \"\"}}, \"scene\": {\"xaxis\": {\"backgroundcolor\": \"#E5ECF6\", \"gridcolor\": \"white\", \"gridwidth\": 2, \"linecolor\": \"white\", \"showbackground\": true, \"ticks\": \"\", \"zerolinecolor\": \"white\"}, \"yaxis\": {\"backgroundcolor\": \"#E5ECF6\", \"gridcolor\": \"white\", \"gridwidth\": 2, \"linecolor\": \"white\", \"showbackground\": true, \"ticks\": \"\", \"zerolinecolor\": \"white\"}, \"zaxis\": {\"backgroundcolor\": \"#E5ECF6\", \"gridcolor\": \"white\", \"gridwidth\": 2, \"linecolor\": \"white\", \"showbackground\": true, \"ticks\": \"\", \"zerolinecolor\": \"white\"}}, \"shapedefaults\": {\"line\": {\"color\": \"#2a3f5f\"}}, \"ternary\": {\"aaxis\": {\"gridcolor\": \"white\", \"linecolor\": \"white\", \"ticks\": \"\"}, \"baxis\": {\"gridcolor\": \"white\", \"linecolor\": \"white\", \"ticks\": \"\"}, \"bgcolor\": \"#E5ECF6\", \"caxis\": {\"gridcolor\": \"white\", \"linecolor\": \"white\", \"ticks\": \"\"}}, \"title\": {\"x\": 0.05}, \"xaxis\": {\"automargin\": true, \"gridcolor\": \"white\", \"linecolor\": \"white\", \"ticks\": \"\", \"title\": {\"standoff\": 15}, \"zerolinecolor\": \"white\", \"zerolinewidth\": 2}, \"yaxis\": {\"automargin\": true, \"gridcolor\": \"white\", \"linecolor\": \"white\", \"ticks\": \"\", \"title\": {\"standoff\": 15}, \"zerolinecolor\": \"white\", \"zerolinewidth\": 2}}}, \"title\": {\"font\": {\"color\": \"#4D5663\"}}, \"xaxis\": {\"gridcolor\": \"#E1E5ED\", \"showgrid\": true, \"tickfont\": {\"color\": \"#4D5663\"}, \"title\": {\"font\": {\"color\": \"#4D5663\"}, \"text\": \"\"}, \"zerolinecolor\": \"#E1E5ED\"}, \"yaxis\": {\"gridcolor\": \"#E1E5ED\", \"showgrid\": true, \"tickfont\": {\"color\": \"#4D5663\"}, \"title\": {\"font\": {\"color\": \"#4D5663\"}, \"text\": \"\"}, \"zerolinecolor\": \"#E1E5ED\"}},                        {\"showLink\": true, \"linkText\": \"Export to chart-studio.plotly.com\", \"plotlyServerURL\": \"https://chart-studio.plotly.com\", \"responsive\": true}                    ).then(function(){\n",
       "                            \n",
       "var gd = document.getElementById('b76c328f-2d93-44dd-ac5b-edbc9f2fb63e');\n",
       "var x = new MutationObserver(function (mutations, observer) {{\n",
       "        var display = window.getComputedStyle(gd).display;\n",
       "        if (!display || display === 'none') {{\n",
       "            console.log([gd, 'removed!']);\n",
       "            Plotly.purge(gd);\n",
       "            observer.disconnect();\n",
       "        }}\n",
       "}});\n",
       "\n",
       "// Listen for the removal of the full notebook cells\n",
       "var notebookContainer = gd.closest('#notebook-container');\n",
       "if (notebookContainer) {{\n",
       "    x.observe(notebookContainer, {childList: true});\n",
       "}}\n",
       "\n",
       "// Listen for the clearing of the current output cell\n",
       "var outputEl = gd.closest('.output');\n",
       "if (outputEl) {{\n",
       "    x.observe(outputEl, {childList: true});\n",
       "}}\n",
       "\n",
       "                        })                };                });            </script>        </div>"
      ]
     },
     "metadata": {},
     "output_type": "display_data"
    }
   ],
   "source": [
    "df.iplot(kind='bubble',x='A',y='B',size='C')"
   ]
  },
  {
   "cell_type": "markdown",
   "metadata": {},
   "source": [
    "## scatter_matrix()\n",
    "\n",
    "Similar to sns.pairplot()"
   ]
  },
  {
   "cell_type": "code",
   "execution_count": 18,
   "metadata": {},
   "outputs": [
    {
     "data": {
      "application/vnd.plotly.v1+json": {
       "config": {
        "linkText": "Export to chart-studio.plotly.com",
        "plotlyServerURL": "https://chart-studio.plotly.com",
        "showLink": true
       },
       "data": [
        {
         "histfunc": "count",
         "histnorm": "",
         "marker": {
          "color": "rgba(255, 153, 51, 1.0)",
          "line": {
           "color": "#4D5663",
           "width": 1.3
          }
         },
         "name": "A",
         "nbinsx": 10,
         "opacity": 0.8,
         "orientation": "v",
         "type": "histogram",
         "x": [
          -0.10941102931249815,
          -0.8615740729354732,
          2.2191920448516105,
          0.8272024104553013,
          0.09260580476298218,
          -1.760498313088278,
          -1.3580352833088245,
          0.2837646296039586,
          0.9041110135710683,
          1.8963016027309272,
          1.8326035595389771,
          -0.10492725231921943,
          -0.2046535814758173,
          -0.10024462278595839,
          0.09630022741523961,
          -1.6924637530883027,
          -1.827533202226689,
          0.535830442200243,
          -1.9360645912018926,
          -0.8500344647105456,
          -0.05576325053126793,
          -0.23323577819050917,
          -0.6976270715849751,
          1.5307238079283552,
          1.2999535047751662,
          0.3303505037693656,
          -1.000663879444441,
          0.6308438849860508,
          1.3055824565890246,
          -0.40507941245360185,
          -0.3762913856446127,
          -1.7176097901649348,
          0.053400975014509904,
          0.21780304650270754,
          -0.3855545352890779,
          -0.5661844716568739,
          -2.560368808121754,
          0.3407561655250713,
          -0.48386581194026446,
          -1.585339192511962,
          0.02408347448600361,
          -1.2346577797624294,
          0.787854145181569,
          -1.9996732709740686,
          1.1464586983894467,
          1.496126645525582,
          0.5008657636740425,
          0.9484308471915603,
          0.08220806231666754,
          0.16054214225587957,
          0.38751961200206325,
          -0.47077345204718146,
          0.35760076104911215,
          -0.1544322284853308,
          0.7463179133033808,
          -1.502516121508507,
          0.5725392099395142,
          1.3913604236343293,
          2.1210719379328893,
          1.8773383992501935,
          1.2544431720187816,
          -0.694049794215334,
          2.502637085459896,
          -0.2753756798548901,
          -0.004244286821838908,
          0.09242496481751918,
          0.04883874317874036,
          -1.1291816313913836,
          -1.4004908252511359,
          -1.8213043294508382,
          -0.5701748178839355,
          1.0309248997596467,
          0.8003828152110333,
          0.47792794445750864,
          -0.26747921252634377,
          1.3405762679316036,
          -0.7221850291354602,
          1.7212787438610841,
          -1.3063358071403264,
          1.0957687559126097,
          -0.6871292686938323,
          -1.0645803968637746,
          0.7238126783784861,
          -1.9096265686281966,
          -0.6711390977232885,
          0.21744931156823238,
          0.23485404452984696,
          0.6167907699912447,
          0.387826246423899,
          0.9056443724871143,
          -0.35038815349392105,
          -1.069160929980094,
          -0.6957064695988187,
          0.35168615193685204,
          -2.505057701868909,
          0.5038066984983418,
          -2.1427877817529133,
          0.4174077862768109,
          1.0829115331525192,
          -0.9391761272870766
         ],
         "xaxis": "x",
         "yaxis": "y"
        },
        {
         "line": {
          "color": "rgba(128, 128, 128, 1.0)",
          "dash": "solid",
          "shape": "linear",
          "width": 1.3
         },
         "marker": {
          "size": 2,
          "symbol": "circle"
         },
         "mode": "markers",
         "name": "A",
         "text": "",
         "type": "scatter",
         "x": [
          -1.1623662874693783,
          -0.832344062710519,
          -2.6889403263457887,
          0.33030460644081305,
          1.1897554957994894,
          -1.8295725952943718,
          -0.31134257611300087,
          -1.1150256707068056,
          1.1293886257293613,
          -0.20946608413393494,
          1.2949281437111222,
          0.7526921284010667,
          -0.3016330292488494,
          -0.03385842274369277,
          1.6780856289595902,
          1.1594910401462286,
          -1.6476591553972537,
          1.008497261373339,
          -0.6225470768959404,
          1.1991325015261836,
          -0.4704071561565932,
          0.8446723097825432,
          -1.2536342767984199,
          -0.9130082305126809,
          0.714353984339348,
          1.751443829854967,
          0.21766931930498662,
          0.6463839680678777,
          -1.7860941457977224,
          0.08881002354599406,
          -1.0678176090017426,
          -0.8816616633014966,
          -0.4480884978479455,
          -0.17539412892110837,
          0.19768867636516496,
          1.141342779188351,
          2.164771524215948,
          -0.016755546990118633,
          -1.7998811328448996,
          0.5442419970493254,
          -1.3562236272994466,
          0.2361511721120601,
          -0.8759959347156709,
          0.9273697244945078,
          -0.993762710016327,
          -0.12916485697785596,
          0.3245348617171941,
          0.8534569933866769,
          0.17396641552513492,
          -0.9579470225201236,
          0.04858908835109987,
          0.8129978238418555,
          -1.139226529424848,
          -0.1847432796748167,
          -1.3413819334330195,
          -0.2619249158317706,
          0.6516947357167101,
          1.675280779975995,
          -0.08984333109714171,
          -1.008464832427633,
          1.4740205657881218,
          0.5898484277272196,
          1.4435777212407885,
          -0.2364445961537404,
          -1.0875497083560146,
          -0.7298597590313212,
          -0.4145246652858039,
          -0.0403125523078092,
          1.8821837770362133,
          0.6523163439049054,
          -0.5319318714142541,
          -0.886569382439567,
          -1.57164561702653,
          -1.000733094004772,
          2.252092004447659,
          -0.9484906947123748,
          -1.5745344460769646,
          -0.1147773069126533,
          0.9570101068451705,
          0.8874610915201626,
          1.299598381237897,
          -1.9866886312472394,
          1.769202555822619,
          0.16318296330031146,
          -1.2255227926674428,
          0.08450632457157951,
          0.6749511586498979,
          0.8059974077581394,
          1.3743939631390771,
          0.6836318367306438,
          -0.8852015947588725,
          0.3855881334460895,
          2.0189809445009406,
          1.8117916079776115,
          -0.35933136617635036,
          -0.0673320225340837,
          -1.3580807726174224,
          0.23268662608029927,
          1.1247466248431852,
          -2.536863370877376
         ],
         "xaxis": "x2",
         "y": [
          -0.10941102931249815,
          -0.8615740729354732,
          2.2191920448516105,
          0.8272024104553013,
          0.09260580476298218,
          -1.760498313088278,
          -1.3580352833088245,
          0.2837646296039586,
          0.9041110135710683,
          1.8963016027309272,
          1.8326035595389771,
          -0.10492725231921943,
          -0.2046535814758173,
          -0.10024462278595839,
          0.09630022741523961,
          -1.6924637530883027,
          -1.827533202226689,
          0.535830442200243,
          -1.9360645912018926,
          -0.8500344647105456,
          -0.05576325053126793,
          -0.23323577819050917,
          -0.6976270715849751,
          1.5307238079283552,
          1.2999535047751662,
          0.3303505037693656,
          -1.000663879444441,
          0.6308438849860508,
          1.3055824565890246,
          -0.40507941245360185,
          -0.3762913856446127,
          -1.7176097901649348,
          0.053400975014509904,
          0.21780304650270754,
          -0.3855545352890779,
          -0.5661844716568739,
          -2.560368808121754,
          0.3407561655250713,
          -0.48386581194026446,
          -1.585339192511962,
          0.02408347448600361,
          -1.2346577797624294,
          0.787854145181569,
          -1.9996732709740686,
          1.1464586983894467,
          1.496126645525582,
          0.5008657636740425,
          0.9484308471915603,
          0.08220806231666754,
          0.16054214225587957,
          0.38751961200206325,
          -0.47077345204718146,
          0.35760076104911215,
          -0.1544322284853308,
          0.7463179133033808,
          -1.502516121508507,
          0.5725392099395142,
          1.3913604236343293,
          2.1210719379328893,
          1.8773383992501935,
          1.2544431720187816,
          -0.694049794215334,
          2.502637085459896,
          -0.2753756798548901,
          -0.004244286821838908,
          0.09242496481751918,
          0.04883874317874036,
          -1.1291816313913836,
          -1.4004908252511359,
          -1.8213043294508382,
          -0.5701748178839355,
          1.0309248997596467,
          0.8003828152110333,
          0.47792794445750864,
          -0.26747921252634377,
          1.3405762679316036,
          -0.7221850291354602,
          1.7212787438610841,
          -1.3063358071403264,
          1.0957687559126097,
          -0.6871292686938323,
          -1.0645803968637746,
          0.7238126783784861,
          -1.9096265686281966,
          -0.6711390977232885,
          0.21744931156823238,
          0.23485404452984696,
          0.6167907699912447,
          0.387826246423899,
          0.9056443724871143,
          -0.35038815349392105,
          -1.069160929980094,
          -0.6957064695988187,
          0.35168615193685204,
          -2.505057701868909,
          0.5038066984983418,
          -2.1427877817529133,
          0.4174077862768109,
          1.0829115331525192,
          -0.9391761272870766
         ],
         "yaxis": "y2"
        },
        {
         "line": {
          "color": "rgba(128, 128, 128, 1.0)",
          "dash": "solid",
          "shape": "linear",
          "width": 1.3
         },
         "marker": {
          "size": 2,
          "symbol": "circle"
         },
         "mode": "markers",
         "name": "A",
         "text": "",
         "type": "scatter",
         "x": [
          -0.4248277594985564,
          0.1513504151850946,
          -2.058306232463962,
          -1.0436072080846233,
          -0.6859620625913935,
          1.323324310854215,
          -0.6078577908285538,
          -0.8706351467472986,
          -1.032104121118313,
          1.104288900893966,
          1.1521443061400312,
          0.6258457496373017,
          -1.2991461654159133,
          0.20827155978124595,
          0.8126572250640745,
          -0.6400599004589999,
          2.5935153583099835,
          1.228663466587346,
          1.5487171552875663,
          0.9587987606710893,
          0.7836971828426463,
          2.698706022201188,
          0.18305424339508325,
          -0.06408520177085475,
          0.22964815043954506,
          -0.020151643537278646,
          -0.9314824271831205,
          0.014046970767866433,
          -1.642586812768221,
          -1.0598398638444377,
          -0.0007243105853715013,
          -0.8563550533914012,
          0.2541177109277807,
          -0.24965993985917798,
          2.0537542135667524,
          -0.08564796052704814,
          -1.087726351552115,
          -0.7533347973663863,
          -0.003277530037427063,
          0.7941140085094741,
          0.8930342883893841,
          -1.6789226349302377,
          -0.27900686819110787,
          0.9892349099096447,
          -1.298302309466238,
          0.30026649691242957,
          0.03444557202459019,
          0.6198193067399229,
          -1.393736516029622,
          -0.06331737942628961,
          -0.4947697956483195,
          2.0471358983548584,
          -0.11544240972834664,
          -0.07951266948470047,
          -1.5289180753904092,
          -0.3986908510146972,
          -0.39241606507134763,
          -1.397261729630864,
          -0.707382639792071,
          0.3132597386888826,
          -0.16749651101451493,
          -0.08886801592228395,
          0.1674365070605715,
          -0.31035165933701586,
          0.9612214537332486,
          0.25809665367328244,
          -1.546689400288278,
          -0.36716793334771874,
          0.6941773139996782,
          0.5716586284309948,
          -1.3154639457671933,
          0.039345274639484416,
          -0.19433445698592616,
          -1.1899433081174855,
          -1.8193503171050316,
          -0.2109110529440668,
          0.5864334575385997,
          0.26941716141690847,
          -0.008809772933606595,
          -0.936920852657209,
          0.9096280091903483,
          -1.739385395410571,
          0.8175700943676584,
          -0.949389670910661,
          0.4124323173999115,
          -1.5911419325692113,
          -0.3253505363773546,
          -0.9062836368367618,
          -0.6913909430260369,
          -0.49253138813355235,
          -0.03603281948359051,
          -0.21193029956885384,
          0.4724652726250642,
          0.7941883661128908,
          0.26273025780225867,
          -0.637180057546623,
          0.12980384330559883,
          0.05515973343473459,
          0.6424659230666038,
          -0.23688937286412992
         ],
         "xaxis": "x3",
         "y": [
          -0.10941102931249815,
          -0.8615740729354732,
          2.2191920448516105,
          0.8272024104553013,
          0.09260580476298218,
          -1.760498313088278,
          -1.3580352833088245,
          0.2837646296039586,
          0.9041110135710683,
          1.8963016027309272,
          1.8326035595389771,
          -0.10492725231921943,
          -0.2046535814758173,
          -0.10024462278595839,
          0.09630022741523961,
          -1.6924637530883027,
          -1.827533202226689,
          0.535830442200243,
          -1.9360645912018926,
          -0.8500344647105456,
          -0.05576325053126793,
          -0.23323577819050917,
          -0.6976270715849751,
          1.5307238079283552,
          1.2999535047751662,
          0.3303505037693656,
          -1.000663879444441,
          0.6308438849860508,
          1.3055824565890246,
          -0.40507941245360185,
          -0.3762913856446127,
          -1.7176097901649348,
          0.053400975014509904,
          0.21780304650270754,
          -0.3855545352890779,
          -0.5661844716568739,
          -2.560368808121754,
          0.3407561655250713,
          -0.48386581194026446,
          -1.585339192511962,
          0.02408347448600361,
          -1.2346577797624294,
          0.787854145181569,
          -1.9996732709740686,
          1.1464586983894467,
          1.496126645525582,
          0.5008657636740425,
          0.9484308471915603,
          0.08220806231666754,
          0.16054214225587957,
          0.38751961200206325,
          -0.47077345204718146,
          0.35760076104911215,
          -0.1544322284853308,
          0.7463179133033808,
          -1.502516121508507,
          0.5725392099395142,
          1.3913604236343293,
          2.1210719379328893,
          1.8773383992501935,
          1.2544431720187816,
          -0.694049794215334,
          2.502637085459896,
          -0.2753756798548901,
          -0.004244286821838908,
          0.09242496481751918,
          0.04883874317874036,
          -1.1291816313913836,
          -1.4004908252511359,
          -1.8213043294508382,
          -0.5701748178839355,
          1.0309248997596467,
          0.8003828152110333,
          0.47792794445750864,
          -0.26747921252634377,
          1.3405762679316036,
          -0.7221850291354602,
          1.7212787438610841,
          -1.3063358071403264,
          1.0957687559126097,
          -0.6871292686938323,
          -1.0645803968637746,
          0.7238126783784861,
          -1.9096265686281966,
          -0.6711390977232885,
          0.21744931156823238,
          0.23485404452984696,
          0.6167907699912447,
          0.387826246423899,
          0.9056443724871143,
          -0.35038815349392105,
          -1.069160929980094,
          -0.6957064695988187,
          0.35168615193685204,
          -2.505057701868909,
          0.5038066984983418,
          -2.1427877817529133,
          0.4174077862768109,
          1.0829115331525192,
          -0.9391761272870766
         ],
         "yaxis": "y3"
        },
        {
         "line": {
          "color": "rgba(128, 128, 128, 1.0)",
          "dash": "solid",
          "shape": "linear",
          "width": 1.3
         },
         "marker": {
          "size": 2,
          "symbol": "circle"
         },
         "mode": "markers",
         "name": "A",
         "text": "",
         "type": "scatter",
         "x": [
          -1.3668378895233886,
          1.0487448577880742,
          -0.2780814513852549,
          -1.2202610479942235,
          0.9227036438758959,
          0.5185505064813577,
          -0.5175472664587596,
          -1.420949527219002,
          1.0457905031395038,
          0.7054065280654733,
          0.2655120071878172,
          1.9149149246153476,
          1.1952456979194794,
          -1.5207725254086575,
          0.7289369935826845,
          -0.09606571285760698,
          1.8392220246268107,
          -0.14238701711042007,
          -0.3978400499144386,
          -2.1504970604376226,
          -0.9567172835412164,
          -0.20235146523728237,
          0.6383229581079899,
          -0.5823541322299404,
          -0.783262547296239,
          1.4755782225853598,
          0.17867775435975977,
          -2.2553604707979313,
          -0.9410969736956488,
          -1.0282883308914732,
          0.01931161519015419,
          -0.3383882634365259,
          0.3236055713728934,
          1.2058993344815825,
          -0.6167286837530893,
          -0.8250115663994755,
          0.3024113919853573,
          -0.6757853063650004,
          1.1688504157238322,
          -1.8704037502636932,
          -2.254604403213826,
          -0.3742229416521997,
          -0.034665618115568446,
          -0.870737565518343,
          1.0908310678469997,
          -0.9342417520458451,
          -0.5855183383530895,
          -0.733227306921073,
          2.3699546815345416,
          -0.4297432317515213,
          -0.893230053115751,
          0.09734081425183469,
          -0.9801604228873065,
          -0.7007679117901868,
          -1.1196281458004769,
          0.8325500389794176,
          1.1911357585965776,
          0.75911476208043,
          -1.7881704413577488,
          -1.4685496599258525,
          -0.2634789970247127,
          -2.0340851924543273,
          0.07962702650411135,
          0.10968422073910697,
          -0.8937387742897317,
          -1.510326512166877,
          -0.6307157216379593,
          0.23101621260922875,
          0.9658507298710426,
          -0.14582676612986797,
          0.24435391392993489,
          0.19988226546743493,
          -1.6864182483270802,
          -0.179565648317836,
          1.5790587268194936,
          1.1405837222497026,
          -1.002542239598847,
          -0.2848553496664866,
          0.22016891217967116,
          -0.14300651044375284,
          -2.7373269324359235,
          -2.538343494779956,
          3.04676387515265,
          -1.7214792981001903,
          0.3315444518238859,
          -2.1173049474469625,
          -0.9955560567688762,
          1.5384651549137196,
          -1.192188411694422,
          -0.19873328339923366,
          0.2463568803027659,
          -1.582529421336658,
          0.9705880808884735,
          -0.36394075916775437,
          1.8694994508609717,
          -1.8607920321206797,
          -0.2144291853983574,
          1.0260638450581705,
          -0.13123875075991048,
          1.100593205622243
         ],
         "xaxis": "x4",
         "y": [
          -0.10941102931249815,
          -0.8615740729354732,
          2.2191920448516105,
          0.8272024104553013,
          0.09260580476298218,
          -1.760498313088278,
          -1.3580352833088245,
          0.2837646296039586,
          0.9041110135710683,
          1.8963016027309272,
          1.8326035595389771,
          -0.10492725231921943,
          -0.2046535814758173,
          -0.10024462278595839,
          0.09630022741523961,
          -1.6924637530883027,
          -1.827533202226689,
          0.535830442200243,
          -1.9360645912018926,
          -0.8500344647105456,
          -0.05576325053126793,
          -0.23323577819050917,
          -0.6976270715849751,
          1.5307238079283552,
          1.2999535047751662,
          0.3303505037693656,
          -1.000663879444441,
          0.6308438849860508,
          1.3055824565890246,
          -0.40507941245360185,
          -0.3762913856446127,
          -1.7176097901649348,
          0.053400975014509904,
          0.21780304650270754,
          -0.3855545352890779,
          -0.5661844716568739,
          -2.560368808121754,
          0.3407561655250713,
          -0.48386581194026446,
          -1.585339192511962,
          0.02408347448600361,
          -1.2346577797624294,
          0.787854145181569,
          -1.9996732709740686,
          1.1464586983894467,
          1.496126645525582,
          0.5008657636740425,
          0.9484308471915603,
          0.08220806231666754,
          0.16054214225587957,
          0.38751961200206325,
          -0.47077345204718146,
          0.35760076104911215,
          -0.1544322284853308,
          0.7463179133033808,
          -1.502516121508507,
          0.5725392099395142,
          1.3913604236343293,
          2.1210719379328893,
          1.8773383992501935,
          1.2544431720187816,
          -0.694049794215334,
          2.502637085459896,
          -0.2753756798548901,
          -0.004244286821838908,
          0.09242496481751918,
          0.04883874317874036,
          -1.1291816313913836,
          -1.4004908252511359,
          -1.8213043294508382,
          -0.5701748178839355,
          1.0309248997596467,
          0.8003828152110333,
          0.47792794445750864,
          -0.26747921252634377,
          1.3405762679316036,
          -0.7221850291354602,
          1.7212787438610841,
          -1.3063358071403264,
          1.0957687559126097,
          -0.6871292686938323,
          -1.0645803968637746,
          0.7238126783784861,
          -1.9096265686281966,
          -0.6711390977232885,
          0.21744931156823238,
          0.23485404452984696,
          0.6167907699912447,
          0.387826246423899,
          0.9056443724871143,
          -0.35038815349392105,
          -1.069160929980094,
          -0.6957064695988187,
          0.35168615193685204,
          -2.505057701868909,
          0.5038066984983418,
          -2.1427877817529133,
          0.4174077862768109,
          1.0829115331525192,
          -0.9391761272870766
         ],
         "yaxis": "y4"
        },
        {
         "line": {
          "color": "rgba(128, 128, 128, 1.0)",
          "dash": "solid",
          "shape": "linear",
          "width": 1.3
         },
         "marker": {
          "size": 2,
          "symbol": "circle"
         },
         "mode": "markers",
         "name": "B",
         "text": "",
         "type": "scatter",
         "x": [
          -0.10941102931249815,
          -0.8615740729354732,
          2.2191920448516105,
          0.8272024104553013,
          0.09260580476298218,
          -1.760498313088278,
          -1.3580352833088245,
          0.2837646296039586,
          0.9041110135710683,
          1.8963016027309272,
          1.8326035595389771,
          -0.10492725231921943,
          -0.2046535814758173,
          -0.10024462278595839,
          0.09630022741523961,
          -1.6924637530883027,
          -1.827533202226689,
          0.535830442200243,
          -1.9360645912018926,
          -0.8500344647105456,
          -0.05576325053126793,
          -0.23323577819050917,
          -0.6976270715849751,
          1.5307238079283552,
          1.2999535047751662,
          0.3303505037693656,
          -1.000663879444441,
          0.6308438849860508,
          1.3055824565890246,
          -0.40507941245360185,
          -0.3762913856446127,
          -1.7176097901649348,
          0.053400975014509904,
          0.21780304650270754,
          -0.3855545352890779,
          -0.5661844716568739,
          -2.560368808121754,
          0.3407561655250713,
          -0.48386581194026446,
          -1.585339192511962,
          0.02408347448600361,
          -1.2346577797624294,
          0.787854145181569,
          -1.9996732709740686,
          1.1464586983894467,
          1.496126645525582,
          0.5008657636740425,
          0.9484308471915603,
          0.08220806231666754,
          0.16054214225587957,
          0.38751961200206325,
          -0.47077345204718146,
          0.35760076104911215,
          -0.1544322284853308,
          0.7463179133033808,
          -1.502516121508507,
          0.5725392099395142,
          1.3913604236343293,
          2.1210719379328893,
          1.8773383992501935,
          1.2544431720187816,
          -0.694049794215334,
          2.502637085459896,
          -0.2753756798548901,
          -0.004244286821838908,
          0.09242496481751918,
          0.04883874317874036,
          -1.1291816313913836,
          -1.4004908252511359,
          -1.8213043294508382,
          -0.5701748178839355,
          1.0309248997596467,
          0.8003828152110333,
          0.47792794445750864,
          -0.26747921252634377,
          1.3405762679316036,
          -0.7221850291354602,
          1.7212787438610841,
          -1.3063358071403264,
          1.0957687559126097,
          -0.6871292686938323,
          -1.0645803968637746,
          0.7238126783784861,
          -1.9096265686281966,
          -0.6711390977232885,
          0.21744931156823238,
          0.23485404452984696,
          0.6167907699912447,
          0.387826246423899,
          0.9056443724871143,
          -0.35038815349392105,
          -1.069160929980094,
          -0.6957064695988187,
          0.35168615193685204,
          -2.505057701868909,
          0.5038066984983418,
          -2.1427877817529133,
          0.4174077862768109,
          1.0829115331525192,
          -0.9391761272870766
         ],
         "xaxis": "x5",
         "y": [
          -1.1623662874693783,
          -0.832344062710519,
          -2.6889403263457887,
          0.33030460644081305,
          1.1897554957994894,
          -1.8295725952943718,
          -0.31134257611300087,
          -1.1150256707068056,
          1.1293886257293613,
          -0.20946608413393494,
          1.2949281437111222,
          0.7526921284010667,
          -0.3016330292488494,
          -0.03385842274369277,
          1.6780856289595902,
          1.1594910401462286,
          -1.6476591553972537,
          1.008497261373339,
          -0.6225470768959404,
          1.1991325015261836,
          -0.4704071561565932,
          0.8446723097825432,
          -1.2536342767984199,
          -0.9130082305126809,
          0.714353984339348,
          1.751443829854967,
          0.21766931930498662,
          0.6463839680678777,
          -1.7860941457977224,
          0.08881002354599406,
          -1.0678176090017426,
          -0.8816616633014966,
          -0.4480884978479455,
          -0.17539412892110837,
          0.19768867636516496,
          1.141342779188351,
          2.164771524215948,
          -0.016755546990118633,
          -1.7998811328448996,
          0.5442419970493254,
          -1.3562236272994466,
          0.2361511721120601,
          -0.8759959347156709,
          0.9273697244945078,
          -0.993762710016327,
          -0.12916485697785596,
          0.3245348617171941,
          0.8534569933866769,
          0.17396641552513492,
          -0.9579470225201236,
          0.04858908835109987,
          0.8129978238418555,
          -1.139226529424848,
          -0.1847432796748167,
          -1.3413819334330195,
          -0.2619249158317706,
          0.6516947357167101,
          1.675280779975995,
          -0.08984333109714171,
          -1.008464832427633,
          1.4740205657881218,
          0.5898484277272196,
          1.4435777212407885,
          -0.2364445961537404,
          -1.0875497083560146,
          -0.7298597590313212,
          -0.4145246652858039,
          -0.0403125523078092,
          1.8821837770362133,
          0.6523163439049054,
          -0.5319318714142541,
          -0.886569382439567,
          -1.57164561702653,
          -1.000733094004772,
          2.252092004447659,
          -0.9484906947123748,
          -1.5745344460769646,
          -0.1147773069126533,
          0.9570101068451705,
          0.8874610915201626,
          1.299598381237897,
          -1.9866886312472394,
          1.769202555822619,
          0.16318296330031146,
          -1.2255227926674428,
          0.08450632457157951,
          0.6749511586498979,
          0.8059974077581394,
          1.3743939631390771,
          0.6836318367306438,
          -0.8852015947588725,
          0.3855881334460895,
          2.0189809445009406,
          1.8117916079776115,
          -0.35933136617635036,
          -0.0673320225340837,
          -1.3580807726174224,
          0.23268662608029927,
          1.1247466248431852,
          -2.536863370877376
         ],
         "yaxis": "y5"
        },
        {
         "histfunc": "count",
         "histnorm": "",
         "marker": {
          "color": "rgba(55, 128, 191, 1.0)",
          "line": {
           "color": "#4D5663",
           "width": 1.3
          }
         },
         "name": "B",
         "nbinsx": 10,
         "opacity": 0.8,
         "orientation": "v",
         "type": "histogram",
         "x": [
          -1.1623662874693783,
          -0.832344062710519,
          -2.6889403263457887,
          0.33030460644081305,
          1.1897554957994894,
          -1.8295725952943718,
          -0.31134257611300087,
          -1.1150256707068056,
          1.1293886257293613,
          -0.20946608413393494,
          1.2949281437111222,
          0.7526921284010667,
          -0.3016330292488494,
          -0.03385842274369277,
          1.6780856289595902,
          1.1594910401462286,
          -1.6476591553972537,
          1.008497261373339,
          -0.6225470768959404,
          1.1991325015261836,
          -0.4704071561565932,
          0.8446723097825432,
          -1.2536342767984199,
          -0.9130082305126809,
          0.714353984339348,
          1.751443829854967,
          0.21766931930498662,
          0.6463839680678777,
          -1.7860941457977224,
          0.08881002354599406,
          -1.0678176090017426,
          -0.8816616633014966,
          -0.4480884978479455,
          -0.17539412892110837,
          0.19768867636516496,
          1.141342779188351,
          2.164771524215948,
          -0.016755546990118633,
          -1.7998811328448996,
          0.5442419970493254,
          -1.3562236272994466,
          0.2361511721120601,
          -0.8759959347156709,
          0.9273697244945078,
          -0.993762710016327,
          -0.12916485697785596,
          0.3245348617171941,
          0.8534569933866769,
          0.17396641552513492,
          -0.9579470225201236,
          0.04858908835109987,
          0.8129978238418555,
          -1.139226529424848,
          -0.1847432796748167,
          -1.3413819334330195,
          -0.2619249158317706,
          0.6516947357167101,
          1.675280779975995,
          -0.08984333109714171,
          -1.008464832427633,
          1.4740205657881218,
          0.5898484277272196,
          1.4435777212407885,
          -0.2364445961537404,
          -1.0875497083560146,
          -0.7298597590313212,
          -0.4145246652858039,
          -0.0403125523078092,
          1.8821837770362133,
          0.6523163439049054,
          -0.5319318714142541,
          -0.886569382439567,
          -1.57164561702653,
          -1.000733094004772,
          2.252092004447659,
          -0.9484906947123748,
          -1.5745344460769646,
          -0.1147773069126533,
          0.9570101068451705,
          0.8874610915201626,
          1.299598381237897,
          -1.9866886312472394,
          1.769202555822619,
          0.16318296330031146,
          -1.2255227926674428,
          0.08450632457157951,
          0.6749511586498979,
          0.8059974077581394,
          1.3743939631390771,
          0.6836318367306438,
          -0.8852015947588725,
          0.3855881334460895,
          2.0189809445009406,
          1.8117916079776115,
          -0.35933136617635036,
          -0.0673320225340837,
          -1.3580807726174224,
          0.23268662608029927,
          1.1247466248431852,
          -2.536863370877376
         ],
         "xaxis": "x6",
         "yaxis": "y6"
        },
        {
         "line": {
          "color": "rgba(128, 128, 128, 1.0)",
          "dash": "solid",
          "shape": "linear",
          "width": 1.3
         },
         "marker": {
          "size": 2,
          "symbol": "circle"
         },
         "mode": "markers",
         "name": "B",
         "text": "",
         "type": "scatter",
         "x": [
          -0.4248277594985564,
          0.1513504151850946,
          -2.058306232463962,
          -1.0436072080846233,
          -0.6859620625913935,
          1.323324310854215,
          -0.6078577908285538,
          -0.8706351467472986,
          -1.032104121118313,
          1.104288900893966,
          1.1521443061400312,
          0.6258457496373017,
          -1.2991461654159133,
          0.20827155978124595,
          0.8126572250640745,
          -0.6400599004589999,
          2.5935153583099835,
          1.228663466587346,
          1.5487171552875663,
          0.9587987606710893,
          0.7836971828426463,
          2.698706022201188,
          0.18305424339508325,
          -0.06408520177085475,
          0.22964815043954506,
          -0.020151643537278646,
          -0.9314824271831205,
          0.014046970767866433,
          -1.642586812768221,
          -1.0598398638444377,
          -0.0007243105853715013,
          -0.8563550533914012,
          0.2541177109277807,
          -0.24965993985917798,
          2.0537542135667524,
          -0.08564796052704814,
          -1.087726351552115,
          -0.7533347973663863,
          -0.003277530037427063,
          0.7941140085094741,
          0.8930342883893841,
          -1.6789226349302377,
          -0.27900686819110787,
          0.9892349099096447,
          -1.298302309466238,
          0.30026649691242957,
          0.03444557202459019,
          0.6198193067399229,
          -1.393736516029622,
          -0.06331737942628961,
          -0.4947697956483195,
          2.0471358983548584,
          -0.11544240972834664,
          -0.07951266948470047,
          -1.5289180753904092,
          -0.3986908510146972,
          -0.39241606507134763,
          -1.397261729630864,
          -0.707382639792071,
          0.3132597386888826,
          -0.16749651101451493,
          -0.08886801592228395,
          0.1674365070605715,
          -0.31035165933701586,
          0.9612214537332486,
          0.25809665367328244,
          -1.546689400288278,
          -0.36716793334771874,
          0.6941773139996782,
          0.5716586284309948,
          -1.3154639457671933,
          0.039345274639484416,
          -0.19433445698592616,
          -1.1899433081174855,
          -1.8193503171050316,
          -0.2109110529440668,
          0.5864334575385997,
          0.26941716141690847,
          -0.008809772933606595,
          -0.936920852657209,
          0.9096280091903483,
          -1.739385395410571,
          0.8175700943676584,
          -0.949389670910661,
          0.4124323173999115,
          -1.5911419325692113,
          -0.3253505363773546,
          -0.9062836368367618,
          -0.6913909430260369,
          -0.49253138813355235,
          -0.03603281948359051,
          -0.21193029956885384,
          0.4724652726250642,
          0.7941883661128908,
          0.26273025780225867,
          -0.637180057546623,
          0.12980384330559883,
          0.05515973343473459,
          0.6424659230666038,
          -0.23688937286412992
         ],
         "xaxis": "x7",
         "y": [
          -1.1623662874693783,
          -0.832344062710519,
          -2.6889403263457887,
          0.33030460644081305,
          1.1897554957994894,
          -1.8295725952943718,
          -0.31134257611300087,
          -1.1150256707068056,
          1.1293886257293613,
          -0.20946608413393494,
          1.2949281437111222,
          0.7526921284010667,
          -0.3016330292488494,
          -0.03385842274369277,
          1.6780856289595902,
          1.1594910401462286,
          -1.6476591553972537,
          1.008497261373339,
          -0.6225470768959404,
          1.1991325015261836,
          -0.4704071561565932,
          0.8446723097825432,
          -1.2536342767984199,
          -0.9130082305126809,
          0.714353984339348,
          1.751443829854967,
          0.21766931930498662,
          0.6463839680678777,
          -1.7860941457977224,
          0.08881002354599406,
          -1.0678176090017426,
          -0.8816616633014966,
          -0.4480884978479455,
          -0.17539412892110837,
          0.19768867636516496,
          1.141342779188351,
          2.164771524215948,
          -0.016755546990118633,
          -1.7998811328448996,
          0.5442419970493254,
          -1.3562236272994466,
          0.2361511721120601,
          -0.8759959347156709,
          0.9273697244945078,
          -0.993762710016327,
          -0.12916485697785596,
          0.3245348617171941,
          0.8534569933866769,
          0.17396641552513492,
          -0.9579470225201236,
          0.04858908835109987,
          0.8129978238418555,
          -1.139226529424848,
          -0.1847432796748167,
          -1.3413819334330195,
          -0.2619249158317706,
          0.6516947357167101,
          1.675280779975995,
          -0.08984333109714171,
          -1.008464832427633,
          1.4740205657881218,
          0.5898484277272196,
          1.4435777212407885,
          -0.2364445961537404,
          -1.0875497083560146,
          -0.7298597590313212,
          -0.4145246652858039,
          -0.0403125523078092,
          1.8821837770362133,
          0.6523163439049054,
          -0.5319318714142541,
          -0.886569382439567,
          -1.57164561702653,
          -1.000733094004772,
          2.252092004447659,
          -0.9484906947123748,
          -1.5745344460769646,
          -0.1147773069126533,
          0.9570101068451705,
          0.8874610915201626,
          1.299598381237897,
          -1.9866886312472394,
          1.769202555822619,
          0.16318296330031146,
          -1.2255227926674428,
          0.08450632457157951,
          0.6749511586498979,
          0.8059974077581394,
          1.3743939631390771,
          0.6836318367306438,
          -0.8852015947588725,
          0.3855881334460895,
          2.0189809445009406,
          1.8117916079776115,
          -0.35933136617635036,
          -0.0673320225340837,
          -1.3580807726174224,
          0.23268662608029927,
          1.1247466248431852,
          -2.536863370877376
         ],
         "yaxis": "y7"
        },
        {
         "line": {
          "color": "rgba(128, 128, 128, 1.0)",
          "dash": "solid",
          "shape": "linear",
          "width": 1.3
         },
         "marker": {
          "size": 2,
          "symbol": "circle"
         },
         "mode": "markers",
         "name": "B",
         "text": "",
         "type": "scatter",
         "x": [
          -1.3668378895233886,
          1.0487448577880742,
          -0.2780814513852549,
          -1.2202610479942235,
          0.9227036438758959,
          0.5185505064813577,
          -0.5175472664587596,
          -1.420949527219002,
          1.0457905031395038,
          0.7054065280654733,
          0.2655120071878172,
          1.9149149246153476,
          1.1952456979194794,
          -1.5207725254086575,
          0.7289369935826845,
          -0.09606571285760698,
          1.8392220246268107,
          -0.14238701711042007,
          -0.3978400499144386,
          -2.1504970604376226,
          -0.9567172835412164,
          -0.20235146523728237,
          0.6383229581079899,
          -0.5823541322299404,
          -0.783262547296239,
          1.4755782225853598,
          0.17867775435975977,
          -2.2553604707979313,
          -0.9410969736956488,
          -1.0282883308914732,
          0.01931161519015419,
          -0.3383882634365259,
          0.3236055713728934,
          1.2058993344815825,
          -0.6167286837530893,
          -0.8250115663994755,
          0.3024113919853573,
          -0.6757853063650004,
          1.1688504157238322,
          -1.8704037502636932,
          -2.254604403213826,
          -0.3742229416521997,
          -0.034665618115568446,
          -0.870737565518343,
          1.0908310678469997,
          -0.9342417520458451,
          -0.5855183383530895,
          -0.733227306921073,
          2.3699546815345416,
          -0.4297432317515213,
          -0.893230053115751,
          0.09734081425183469,
          -0.9801604228873065,
          -0.7007679117901868,
          -1.1196281458004769,
          0.8325500389794176,
          1.1911357585965776,
          0.75911476208043,
          -1.7881704413577488,
          -1.4685496599258525,
          -0.2634789970247127,
          -2.0340851924543273,
          0.07962702650411135,
          0.10968422073910697,
          -0.8937387742897317,
          -1.510326512166877,
          -0.6307157216379593,
          0.23101621260922875,
          0.9658507298710426,
          -0.14582676612986797,
          0.24435391392993489,
          0.19988226546743493,
          -1.6864182483270802,
          -0.179565648317836,
          1.5790587268194936,
          1.1405837222497026,
          -1.002542239598847,
          -0.2848553496664866,
          0.22016891217967116,
          -0.14300651044375284,
          -2.7373269324359235,
          -2.538343494779956,
          3.04676387515265,
          -1.7214792981001903,
          0.3315444518238859,
          -2.1173049474469625,
          -0.9955560567688762,
          1.5384651549137196,
          -1.192188411694422,
          -0.19873328339923366,
          0.2463568803027659,
          -1.582529421336658,
          0.9705880808884735,
          -0.36394075916775437,
          1.8694994508609717,
          -1.8607920321206797,
          -0.2144291853983574,
          1.0260638450581705,
          -0.13123875075991048,
          1.100593205622243
         ],
         "xaxis": "x8",
         "y": [
          -1.1623662874693783,
          -0.832344062710519,
          -2.6889403263457887,
          0.33030460644081305,
          1.1897554957994894,
          -1.8295725952943718,
          -0.31134257611300087,
          -1.1150256707068056,
          1.1293886257293613,
          -0.20946608413393494,
          1.2949281437111222,
          0.7526921284010667,
          -0.3016330292488494,
          -0.03385842274369277,
          1.6780856289595902,
          1.1594910401462286,
          -1.6476591553972537,
          1.008497261373339,
          -0.6225470768959404,
          1.1991325015261836,
          -0.4704071561565932,
          0.8446723097825432,
          -1.2536342767984199,
          -0.9130082305126809,
          0.714353984339348,
          1.751443829854967,
          0.21766931930498662,
          0.6463839680678777,
          -1.7860941457977224,
          0.08881002354599406,
          -1.0678176090017426,
          -0.8816616633014966,
          -0.4480884978479455,
          -0.17539412892110837,
          0.19768867636516496,
          1.141342779188351,
          2.164771524215948,
          -0.016755546990118633,
          -1.7998811328448996,
          0.5442419970493254,
          -1.3562236272994466,
          0.2361511721120601,
          -0.8759959347156709,
          0.9273697244945078,
          -0.993762710016327,
          -0.12916485697785596,
          0.3245348617171941,
          0.8534569933866769,
          0.17396641552513492,
          -0.9579470225201236,
          0.04858908835109987,
          0.8129978238418555,
          -1.139226529424848,
          -0.1847432796748167,
          -1.3413819334330195,
          -0.2619249158317706,
          0.6516947357167101,
          1.675280779975995,
          -0.08984333109714171,
          -1.008464832427633,
          1.4740205657881218,
          0.5898484277272196,
          1.4435777212407885,
          -0.2364445961537404,
          -1.0875497083560146,
          -0.7298597590313212,
          -0.4145246652858039,
          -0.0403125523078092,
          1.8821837770362133,
          0.6523163439049054,
          -0.5319318714142541,
          -0.886569382439567,
          -1.57164561702653,
          -1.000733094004772,
          2.252092004447659,
          -0.9484906947123748,
          -1.5745344460769646,
          -0.1147773069126533,
          0.9570101068451705,
          0.8874610915201626,
          1.299598381237897,
          -1.9866886312472394,
          1.769202555822619,
          0.16318296330031146,
          -1.2255227926674428,
          0.08450632457157951,
          0.6749511586498979,
          0.8059974077581394,
          1.3743939631390771,
          0.6836318367306438,
          -0.8852015947588725,
          0.3855881334460895,
          2.0189809445009406,
          1.8117916079776115,
          -0.35933136617635036,
          -0.0673320225340837,
          -1.3580807726174224,
          0.23268662608029927,
          1.1247466248431852,
          -2.536863370877376
         ],
         "yaxis": "y8"
        },
        {
         "line": {
          "color": "rgba(128, 128, 128, 1.0)",
          "dash": "solid",
          "shape": "linear",
          "width": 1.3
         },
         "marker": {
          "size": 2,
          "symbol": "circle"
         },
         "mode": "markers",
         "name": "C",
         "text": "",
         "type": "scatter",
         "x": [
          -0.10941102931249815,
          -0.8615740729354732,
          2.2191920448516105,
          0.8272024104553013,
          0.09260580476298218,
          -1.760498313088278,
          -1.3580352833088245,
          0.2837646296039586,
          0.9041110135710683,
          1.8963016027309272,
          1.8326035595389771,
          -0.10492725231921943,
          -0.2046535814758173,
          -0.10024462278595839,
          0.09630022741523961,
          -1.6924637530883027,
          -1.827533202226689,
          0.535830442200243,
          -1.9360645912018926,
          -0.8500344647105456,
          -0.05576325053126793,
          -0.23323577819050917,
          -0.6976270715849751,
          1.5307238079283552,
          1.2999535047751662,
          0.3303505037693656,
          -1.000663879444441,
          0.6308438849860508,
          1.3055824565890246,
          -0.40507941245360185,
          -0.3762913856446127,
          -1.7176097901649348,
          0.053400975014509904,
          0.21780304650270754,
          -0.3855545352890779,
          -0.5661844716568739,
          -2.560368808121754,
          0.3407561655250713,
          -0.48386581194026446,
          -1.585339192511962,
          0.02408347448600361,
          -1.2346577797624294,
          0.787854145181569,
          -1.9996732709740686,
          1.1464586983894467,
          1.496126645525582,
          0.5008657636740425,
          0.9484308471915603,
          0.08220806231666754,
          0.16054214225587957,
          0.38751961200206325,
          -0.47077345204718146,
          0.35760076104911215,
          -0.1544322284853308,
          0.7463179133033808,
          -1.502516121508507,
          0.5725392099395142,
          1.3913604236343293,
          2.1210719379328893,
          1.8773383992501935,
          1.2544431720187816,
          -0.694049794215334,
          2.502637085459896,
          -0.2753756798548901,
          -0.004244286821838908,
          0.09242496481751918,
          0.04883874317874036,
          -1.1291816313913836,
          -1.4004908252511359,
          -1.8213043294508382,
          -0.5701748178839355,
          1.0309248997596467,
          0.8003828152110333,
          0.47792794445750864,
          -0.26747921252634377,
          1.3405762679316036,
          -0.7221850291354602,
          1.7212787438610841,
          -1.3063358071403264,
          1.0957687559126097,
          -0.6871292686938323,
          -1.0645803968637746,
          0.7238126783784861,
          -1.9096265686281966,
          -0.6711390977232885,
          0.21744931156823238,
          0.23485404452984696,
          0.6167907699912447,
          0.387826246423899,
          0.9056443724871143,
          -0.35038815349392105,
          -1.069160929980094,
          -0.6957064695988187,
          0.35168615193685204,
          -2.505057701868909,
          0.5038066984983418,
          -2.1427877817529133,
          0.4174077862768109,
          1.0829115331525192,
          -0.9391761272870766
         ],
         "xaxis": "x9",
         "y": [
          -0.4248277594985564,
          0.1513504151850946,
          -2.058306232463962,
          -1.0436072080846233,
          -0.6859620625913935,
          1.323324310854215,
          -0.6078577908285538,
          -0.8706351467472986,
          -1.032104121118313,
          1.104288900893966,
          1.1521443061400312,
          0.6258457496373017,
          -1.2991461654159133,
          0.20827155978124595,
          0.8126572250640745,
          -0.6400599004589999,
          2.5935153583099835,
          1.228663466587346,
          1.5487171552875663,
          0.9587987606710893,
          0.7836971828426463,
          2.698706022201188,
          0.18305424339508325,
          -0.06408520177085475,
          0.22964815043954506,
          -0.020151643537278646,
          -0.9314824271831205,
          0.014046970767866433,
          -1.642586812768221,
          -1.0598398638444377,
          -0.0007243105853715013,
          -0.8563550533914012,
          0.2541177109277807,
          -0.24965993985917798,
          2.0537542135667524,
          -0.08564796052704814,
          -1.087726351552115,
          -0.7533347973663863,
          -0.003277530037427063,
          0.7941140085094741,
          0.8930342883893841,
          -1.6789226349302377,
          -0.27900686819110787,
          0.9892349099096447,
          -1.298302309466238,
          0.30026649691242957,
          0.03444557202459019,
          0.6198193067399229,
          -1.393736516029622,
          -0.06331737942628961,
          -0.4947697956483195,
          2.0471358983548584,
          -0.11544240972834664,
          -0.07951266948470047,
          -1.5289180753904092,
          -0.3986908510146972,
          -0.39241606507134763,
          -1.397261729630864,
          -0.707382639792071,
          0.3132597386888826,
          -0.16749651101451493,
          -0.08886801592228395,
          0.1674365070605715,
          -0.31035165933701586,
          0.9612214537332486,
          0.25809665367328244,
          -1.546689400288278,
          -0.36716793334771874,
          0.6941773139996782,
          0.5716586284309948,
          -1.3154639457671933,
          0.039345274639484416,
          -0.19433445698592616,
          -1.1899433081174855,
          -1.8193503171050316,
          -0.2109110529440668,
          0.5864334575385997,
          0.26941716141690847,
          -0.008809772933606595,
          -0.936920852657209,
          0.9096280091903483,
          -1.739385395410571,
          0.8175700943676584,
          -0.949389670910661,
          0.4124323173999115,
          -1.5911419325692113,
          -0.3253505363773546,
          -0.9062836368367618,
          -0.6913909430260369,
          -0.49253138813355235,
          -0.03603281948359051,
          -0.21193029956885384,
          0.4724652726250642,
          0.7941883661128908,
          0.26273025780225867,
          -0.637180057546623,
          0.12980384330559883,
          0.05515973343473459,
          0.6424659230666038,
          -0.23688937286412992
         ],
         "yaxis": "y9"
        },
        {
         "line": {
          "color": "rgba(128, 128, 128, 1.0)",
          "dash": "solid",
          "shape": "linear",
          "width": 1.3
         },
         "marker": {
          "size": 2,
          "symbol": "circle"
         },
         "mode": "markers",
         "name": "C",
         "text": "",
         "type": "scatter",
         "x": [
          -1.1623662874693783,
          -0.832344062710519,
          -2.6889403263457887,
          0.33030460644081305,
          1.1897554957994894,
          -1.8295725952943718,
          -0.31134257611300087,
          -1.1150256707068056,
          1.1293886257293613,
          -0.20946608413393494,
          1.2949281437111222,
          0.7526921284010667,
          -0.3016330292488494,
          -0.03385842274369277,
          1.6780856289595902,
          1.1594910401462286,
          -1.6476591553972537,
          1.008497261373339,
          -0.6225470768959404,
          1.1991325015261836,
          -0.4704071561565932,
          0.8446723097825432,
          -1.2536342767984199,
          -0.9130082305126809,
          0.714353984339348,
          1.751443829854967,
          0.21766931930498662,
          0.6463839680678777,
          -1.7860941457977224,
          0.08881002354599406,
          -1.0678176090017426,
          -0.8816616633014966,
          -0.4480884978479455,
          -0.17539412892110837,
          0.19768867636516496,
          1.141342779188351,
          2.164771524215948,
          -0.016755546990118633,
          -1.7998811328448996,
          0.5442419970493254,
          -1.3562236272994466,
          0.2361511721120601,
          -0.8759959347156709,
          0.9273697244945078,
          -0.993762710016327,
          -0.12916485697785596,
          0.3245348617171941,
          0.8534569933866769,
          0.17396641552513492,
          -0.9579470225201236,
          0.04858908835109987,
          0.8129978238418555,
          -1.139226529424848,
          -0.1847432796748167,
          -1.3413819334330195,
          -0.2619249158317706,
          0.6516947357167101,
          1.675280779975995,
          -0.08984333109714171,
          -1.008464832427633,
          1.4740205657881218,
          0.5898484277272196,
          1.4435777212407885,
          -0.2364445961537404,
          -1.0875497083560146,
          -0.7298597590313212,
          -0.4145246652858039,
          -0.0403125523078092,
          1.8821837770362133,
          0.6523163439049054,
          -0.5319318714142541,
          -0.886569382439567,
          -1.57164561702653,
          -1.000733094004772,
          2.252092004447659,
          -0.9484906947123748,
          -1.5745344460769646,
          -0.1147773069126533,
          0.9570101068451705,
          0.8874610915201626,
          1.299598381237897,
          -1.9866886312472394,
          1.769202555822619,
          0.16318296330031146,
          -1.2255227926674428,
          0.08450632457157951,
          0.6749511586498979,
          0.8059974077581394,
          1.3743939631390771,
          0.6836318367306438,
          -0.8852015947588725,
          0.3855881334460895,
          2.0189809445009406,
          1.8117916079776115,
          -0.35933136617635036,
          -0.0673320225340837,
          -1.3580807726174224,
          0.23268662608029927,
          1.1247466248431852,
          -2.536863370877376
         ],
         "xaxis": "x10",
         "y": [
          -0.4248277594985564,
          0.1513504151850946,
          -2.058306232463962,
          -1.0436072080846233,
          -0.6859620625913935,
          1.323324310854215,
          -0.6078577908285538,
          -0.8706351467472986,
          -1.032104121118313,
          1.104288900893966,
          1.1521443061400312,
          0.6258457496373017,
          -1.2991461654159133,
          0.20827155978124595,
          0.8126572250640745,
          -0.6400599004589999,
          2.5935153583099835,
          1.228663466587346,
          1.5487171552875663,
          0.9587987606710893,
          0.7836971828426463,
          2.698706022201188,
          0.18305424339508325,
          -0.06408520177085475,
          0.22964815043954506,
          -0.020151643537278646,
          -0.9314824271831205,
          0.014046970767866433,
          -1.642586812768221,
          -1.0598398638444377,
          -0.0007243105853715013,
          -0.8563550533914012,
          0.2541177109277807,
          -0.24965993985917798,
          2.0537542135667524,
          -0.08564796052704814,
          -1.087726351552115,
          -0.7533347973663863,
          -0.003277530037427063,
          0.7941140085094741,
          0.8930342883893841,
          -1.6789226349302377,
          -0.27900686819110787,
          0.9892349099096447,
          -1.298302309466238,
          0.30026649691242957,
          0.03444557202459019,
          0.6198193067399229,
          -1.393736516029622,
          -0.06331737942628961,
          -0.4947697956483195,
          2.0471358983548584,
          -0.11544240972834664,
          -0.07951266948470047,
          -1.5289180753904092,
          -0.3986908510146972,
          -0.39241606507134763,
          -1.397261729630864,
          -0.707382639792071,
          0.3132597386888826,
          -0.16749651101451493,
          -0.08886801592228395,
          0.1674365070605715,
          -0.31035165933701586,
          0.9612214537332486,
          0.25809665367328244,
          -1.546689400288278,
          -0.36716793334771874,
          0.6941773139996782,
          0.5716586284309948,
          -1.3154639457671933,
          0.039345274639484416,
          -0.19433445698592616,
          -1.1899433081174855,
          -1.8193503171050316,
          -0.2109110529440668,
          0.5864334575385997,
          0.26941716141690847,
          -0.008809772933606595,
          -0.936920852657209,
          0.9096280091903483,
          -1.739385395410571,
          0.8175700943676584,
          -0.949389670910661,
          0.4124323173999115,
          -1.5911419325692113,
          -0.3253505363773546,
          -0.9062836368367618,
          -0.6913909430260369,
          -0.49253138813355235,
          -0.03603281948359051,
          -0.21193029956885384,
          0.4724652726250642,
          0.7941883661128908,
          0.26273025780225867,
          -0.637180057546623,
          0.12980384330559883,
          0.05515973343473459,
          0.6424659230666038,
          -0.23688937286412992
         ],
         "yaxis": "y10"
        },
        {
         "histfunc": "count",
         "histnorm": "",
         "marker": {
          "color": "rgba(50, 171, 96, 1.0)",
          "line": {
           "color": "#4D5663",
           "width": 1.3
          }
         },
         "name": "C",
         "nbinsx": 10,
         "opacity": 0.8,
         "orientation": "v",
         "type": "histogram",
         "x": [
          -0.4248277594985564,
          0.1513504151850946,
          -2.058306232463962,
          -1.0436072080846233,
          -0.6859620625913935,
          1.323324310854215,
          -0.6078577908285538,
          -0.8706351467472986,
          -1.032104121118313,
          1.104288900893966,
          1.1521443061400312,
          0.6258457496373017,
          -1.2991461654159133,
          0.20827155978124595,
          0.8126572250640745,
          -0.6400599004589999,
          2.5935153583099835,
          1.228663466587346,
          1.5487171552875663,
          0.9587987606710893,
          0.7836971828426463,
          2.698706022201188,
          0.18305424339508325,
          -0.06408520177085475,
          0.22964815043954506,
          -0.020151643537278646,
          -0.9314824271831205,
          0.014046970767866433,
          -1.642586812768221,
          -1.0598398638444377,
          -0.0007243105853715013,
          -0.8563550533914012,
          0.2541177109277807,
          -0.24965993985917798,
          2.0537542135667524,
          -0.08564796052704814,
          -1.087726351552115,
          -0.7533347973663863,
          -0.003277530037427063,
          0.7941140085094741,
          0.8930342883893841,
          -1.6789226349302377,
          -0.27900686819110787,
          0.9892349099096447,
          -1.298302309466238,
          0.30026649691242957,
          0.03444557202459019,
          0.6198193067399229,
          -1.393736516029622,
          -0.06331737942628961,
          -0.4947697956483195,
          2.0471358983548584,
          -0.11544240972834664,
          -0.07951266948470047,
          -1.5289180753904092,
          -0.3986908510146972,
          -0.39241606507134763,
          -1.397261729630864,
          -0.707382639792071,
          0.3132597386888826,
          -0.16749651101451493,
          -0.08886801592228395,
          0.1674365070605715,
          -0.31035165933701586,
          0.9612214537332486,
          0.25809665367328244,
          -1.546689400288278,
          -0.36716793334771874,
          0.6941773139996782,
          0.5716586284309948,
          -1.3154639457671933,
          0.039345274639484416,
          -0.19433445698592616,
          -1.1899433081174855,
          -1.8193503171050316,
          -0.2109110529440668,
          0.5864334575385997,
          0.26941716141690847,
          -0.008809772933606595,
          -0.936920852657209,
          0.9096280091903483,
          -1.739385395410571,
          0.8175700943676584,
          -0.949389670910661,
          0.4124323173999115,
          -1.5911419325692113,
          -0.3253505363773546,
          -0.9062836368367618,
          -0.6913909430260369,
          -0.49253138813355235,
          -0.03603281948359051,
          -0.21193029956885384,
          0.4724652726250642,
          0.7941883661128908,
          0.26273025780225867,
          -0.637180057546623,
          0.12980384330559883,
          0.05515973343473459,
          0.6424659230666038,
          -0.23688937286412992
         ],
         "xaxis": "x11",
         "yaxis": "y11"
        },
        {
         "line": {
          "color": "rgba(128, 128, 128, 1.0)",
          "dash": "solid",
          "shape": "linear",
          "width": 1.3
         },
         "marker": {
          "size": 2,
          "symbol": "circle"
         },
         "mode": "markers",
         "name": "C",
         "text": "",
         "type": "scatter",
         "x": [
          -1.3668378895233886,
          1.0487448577880742,
          -0.2780814513852549,
          -1.2202610479942235,
          0.9227036438758959,
          0.5185505064813577,
          -0.5175472664587596,
          -1.420949527219002,
          1.0457905031395038,
          0.7054065280654733,
          0.2655120071878172,
          1.9149149246153476,
          1.1952456979194794,
          -1.5207725254086575,
          0.7289369935826845,
          -0.09606571285760698,
          1.8392220246268107,
          -0.14238701711042007,
          -0.3978400499144386,
          -2.1504970604376226,
          -0.9567172835412164,
          -0.20235146523728237,
          0.6383229581079899,
          -0.5823541322299404,
          -0.783262547296239,
          1.4755782225853598,
          0.17867775435975977,
          -2.2553604707979313,
          -0.9410969736956488,
          -1.0282883308914732,
          0.01931161519015419,
          -0.3383882634365259,
          0.3236055713728934,
          1.2058993344815825,
          -0.6167286837530893,
          -0.8250115663994755,
          0.3024113919853573,
          -0.6757853063650004,
          1.1688504157238322,
          -1.8704037502636932,
          -2.254604403213826,
          -0.3742229416521997,
          -0.034665618115568446,
          -0.870737565518343,
          1.0908310678469997,
          -0.9342417520458451,
          -0.5855183383530895,
          -0.733227306921073,
          2.3699546815345416,
          -0.4297432317515213,
          -0.893230053115751,
          0.09734081425183469,
          -0.9801604228873065,
          -0.7007679117901868,
          -1.1196281458004769,
          0.8325500389794176,
          1.1911357585965776,
          0.75911476208043,
          -1.7881704413577488,
          -1.4685496599258525,
          -0.2634789970247127,
          -2.0340851924543273,
          0.07962702650411135,
          0.10968422073910697,
          -0.8937387742897317,
          -1.510326512166877,
          -0.6307157216379593,
          0.23101621260922875,
          0.9658507298710426,
          -0.14582676612986797,
          0.24435391392993489,
          0.19988226546743493,
          -1.6864182483270802,
          -0.179565648317836,
          1.5790587268194936,
          1.1405837222497026,
          -1.002542239598847,
          -0.2848553496664866,
          0.22016891217967116,
          -0.14300651044375284,
          -2.7373269324359235,
          -2.538343494779956,
          3.04676387515265,
          -1.7214792981001903,
          0.3315444518238859,
          -2.1173049474469625,
          -0.9955560567688762,
          1.5384651549137196,
          -1.192188411694422,
          -0.19873328339923366,
          0.2463568803027659,
          -1.582529421336658,
          0.9705880808884735,
          -0.36394075916775437,
          1.8694994508609717,
          -1.8607920321206797,
          -0.2144291853983574,
          1.0260638450581705,
          -0.13123875075991048,
          1.100593205622243
         ],
         "xaxis": "x12",
         "y": [
          -0.4248277594985564,
          0.1513504151850946,
          -2.058306232463962,
          -1.0436072080846233,
          -0.6859620625913935,
          1.323324310854215,
          -0.6078577908285538,
          -0.8706351467472986,
          -1.032104121118313,
          1.104288900893966,
          1.1521443061400312,
          0.6258457496373017,
          -1.2991461654159133,
          0.20827155978124595,
          0.8126572250640745,
          -0.6400599004589999,
          2.5935153583099835,
          1.228663466587346,
          1.5487171552875663,
          0.9587987606710893,
          0.7836971828426463,
          2.698706022201188,
          0.18305424339508325,
          -0.06408520177085475,
          0.22964815043954506,
          -0.020151643537278646,
          -0.9314824271831205,
          0.014046970767866433,
          -1.642586812768221,
          -1.0598398638444377,
          -0.0007243105853715013,
          -0.8563550533914012,
          0.2541177109277807,
          -0.24965993985917798,
          2.0537542135667524,
          -0.08564796052704814,
          -1.087726351552115,
          -0.7533347973663863,
          -0.003277530037427063,
          0.7941140085094741,
          0.8930342883893841,
          -1.6789226349302377,
          -0.27900686819110787,
          0.9892349099096447,
          -1.298302309466238,
          0.30026649691242957,
          0.03444557202459019,
          0.6198193067399229,
          -1.393736516029622,
          -0.06331737942628961,
          -0.4947697956483195,
          2.0471358983548584,
          -0.11544240972834664,
          -0.07951266948470047,
          -1.5289180753904092,
          -0.3986908510146972,
          -0.39241606507134763,
          -1.397261729630864,
          -0.707382639792071,
          0.3132597386888826,
          -0.16749651101451493,
          -0.08886801592228395,
          0.1674365070605715,
          -0.31035165933701586,
          0.9612214537332486,
          0.25809665367328244,
          -1.546689400288278,
          -0.36716793334771874,
          0.6941773139996782,
          0.5716586284309948,
          -1.3154639457671933,
          0.039345274639484416,
          -0.19433445698592616,
          -1.1899433081174855,
          -1.8193503171050316,
          -0.2109110529440668,
          0.5864334575385997,
          0.26941716141690847,
          -0.008809772933606595,
          -0.936920852657209,
          0.9096280091903483,
          -1.739385395410571,
          0.8175700943676584,
          -0.949389670910661,
          0.4124323173999115,
          -1.5911419325692113,
          -0.3253505363773546,
          -0.9062836368367618,
          -0.6913909430260369,
          -0.49253138813355235,
          -0.03603281948359051,
          -0.21193029956885384,
          0.4724652726250642,
          0.7941883661128908,
          0.26273025780225867,
          -0.637180057546623,
          0.12980384330559883,
          0.05515973343473459,
          0.6424659230666038,
          -0.23688937286412992
         ],
         "yaxis": "y12"
        },
        {
         "line": {
          "color": "rgba(128, 128, 128, 1.0)",
          "dash": "solid",
          "shape": "linear",
          "width": 1.3
         },
         "marker": {
          "size": 2,
          "symbol": "circle"
         },
         "mode": "markers",
         "name": "D",
         "text": "",
         "type": "scatter",
         "x": [
          -0.10941102931249815,
          -0.8615740729354732,
          2.2191920448516105,
          0.8272024104553013,
          0.09260580476298218,
          -1.760498313088278,
          -1.3580352833088245,
          0.2837646296039586,
          0.9041110135710683,
          1.8963016027309272,
          1.8326035595389771,
          -0.10492725231921943,
          -0.2046535814758173,
          -0.10024462278595839,
          0.09630022741523961,
          -1.6924637530883027,
          -1.827533202226689,
          0.535830442200243,
          -1.9360645912018926,
          -0.8500344647105456,
          -0.05576325053126793,
          -0.23323577819050917,
          -0.6976270715849751,
          1.5307238079283552,
          1.2999535047751662,
          0.3303505037693656,
          -1.000663879444441,
          0.6308438849860508,
          1.3055824565890246,
          -0.40507941245360185,
          -0.3762913856446127,
          -1.7176097901649348,
          0.053400975014509904,
          0.21780304650270754,
          -0.3855545352890779,
          -0.5661844716568739,
          -2.560368808121754,
          0.3407561655250713,
          -0.48386581194026446,
          -1.585339192511962,
          0.02408347448600361,
          -1.2346577797624294,
          0.787854145181569,
          -1.9996732709740686,
          1.1464586983894467,
          1.496126645525582,
          0.5008657636740425,
          0.9484308471915603,
          0.08220806231666754,
          0.16054214225587957,
          0.38751961200206325,
          -0.47077345204718146,
          0.35760076104911215,
          -0.1544322284853308,
          0.7463179133033808,
          -1.502516121508507,
          0.5725392099395142,
          1.3913604236343293,
          2.1210719379328893,
          1.8773383992501935,
          1.2544431720187816,
          -0.694049794215334,
          2.502637085459896,
          -0.2753756798548901,
          -0.004244286821838908,
          0.09242496481751918,
          0.04883874317874036,
          -1.1291816313913836,
          -1.4004908252511359,
          -1.8213043294508382,
          -0.5701748178839355,
          1.0309248997596467,
          0.8003828152110333,
          0.47792794445750864,
          -0.26747921252634377,
          1.3405762679316036,
          -0.7221850291354602,
          1.7212787438610841,
          -1.3063358071403264,
          1.0957687559126097,
          -0.6871292686938323,
          -1.0645803968637746,
          0.7238126783784861,
          -1.9096265686281966,
          -0.6711390977232885,
          0.21744931156823238,
          0.23485404452984696,
          0.6167907699912447,
          0.387826246423899,
          0.9056443724871143,
          -0.35038815349392105,
          -1.069160929980094,
          -0.6957064695988187,
          0.35168615193685204,
          -2.505057701868909,
          0.5038066984983418,
          -2.1427877817529133,
          0.4174077862768109,
          1.0829115331525192,
          -0.9391761272870766
         ],
         "xaxis": "x13",
         "y": [
          -1.3668378895233886,
          1.0487448577880742,
          -0.2780814513852549,
          -1.2202610479942235,
          0.9227036438758959,
          0.5185505064813577,
          -0.5175472664587596,
          -1.420949527219002,
          1.0457905031395038,
          0.7054065280654733,
          0.2655120071878172,
          1.9149149246153476,
          1.1952456979194794,
          -1.5207725254086575,
          0.7289369935826845,
          -0.09606571285760698,
          1.8392220246268107,
          -0.14238701711042007,
          -0.3978400499144386,
          -2.1504970604376226,
          -0.9567172835412164,
          -0.20235146523728237,
          0.6383229581079899,
          -0.5823541322299404,
          -0.783262547296239,
          1.4755782225853598,
          0.17867775435975977,
          -2.2553604707979313,
          -0.9410969736956488,
          -1.0282883308914732,
          0.01931161519015419,
          -0.3383882634365259,
          0.3236055713728934,
          1.2058993344815825,
          -0.6167286837530893,
          -0.8250115663994755,
          0.3024113919853573,
          -0.6757853063650004,
          1.1688504157238322,
          -1.8704037502636932,
          -2.254604403213826,
          -0.3742229416521997,
          -0.034665618115568446,
          -0.870737565518343,
          1.0908310678469997,
          -0.9342417520458451,
          -0.5855183383530895,
          -0.733227306921073,
          2.3699546815345416,
          -0.4297432317515213,
          -0.893230053115751,
          0.09734081425183469,
          -0.9801604228873065,
          -0.7007679117901868,
          -1.1196281458004769,
          0.8325500389794176,
          1.1911357585965776,
          0.75911476208043,
          -1.7881704413577488,
          -1.4685496599258525,
          -0.2634789970247127,
          -2.0340851924543273,
          0.07962702650411135,
          0.10968422073910697,
          -0.8937387742897317,
          -1.510326512166877,
          -0.6307157216379593,
          0.23101621260922875,
          0.9658507298710426,
          -0.14582676612986797,
          0.24435391392993489,
          0.19988226546743493,
          -1.6864182483270802,
          -0.179565648317836,
          1.5790587268194936,
          1.1405837222497026,
          -1.002542239598847,
          -0.2848553496664866,
          0.22016891217967116,
          -0.14300651044375284,
          -2.7373269324359235,
          -2.538343494779956,
          3.04676387515265,
          -1.7214792981001903,
          0.3315444518238859,
          -2.1173049474469625,
          -0.9955560567688762,
          1.5384651549137196,
          -1.192188411694422,
          -0.19873328339923366,
          0.2463568803027659,
          -1.582529421336658,
          0.9705880808884735,
          -0.36394075916775437,
          1.8694994508609717,
          -1.8607920321206797,
          -0.2144291853983574,
          1.0260638450581705,
          -0.13123875075991048,
          1.100593205622243
         ],
         "yaxis": "y13"
        },
        {
         "line": {
          "color": "rgba(128, 128, 128, 1.0)",
          "dash": "solid",
          "shape": "linear",
          "width": 1.3
         },
         "marker": {
          "size": 2,
          "symbol": "circle"
         },
         "mode": "markers",
         "name": "D",
         "text": "",
         "type": "scatter",
         "x": [
          -1.1623662874693783,
          -0.832344062710519,
          -2.6889403263457887,
          0.33030460644081305,
          1.1897554957994894,
          -1.8295725952943718,
          -0.31134257611300087,
          -1.1150256707068056,
          1.1293886257293613,
          -0.20946608413393494,
          1.2949281437111222,
          0.7526921284010667,
          -0.3016330292488494,
          -0.03385842274369277,
          1.6780856289595902,
          1.1594910401462286,
          -1.6476591553972537,
          1.008497261373339,
          -0.6225470768959404,
          1.1991325015261836,
          -0.4704071561565932,
          0.8446723097825432,
          -1.2536342767984199,
          -0.9130082305126809,
          0.714353984339348,
          1.751443829854967,
          0.21766931930498662,
          0.6463839680678777,
          -1.7860941457977224,
          0.08881002354599406,
          -1.0678176090017426,
          -0.8816616633014966,
          -0.4480884978479455,
          -0.17539412892110837,
          0.19768867636516496,
          1.141342779188351,
          2.164771524215948,
          -0.016755546990118633,
          -1.7998811328448996,
          0.5442419970493254,
          -1.3562236272994466,
          0.2361511721120601,
          -0.8759959347156709,
          0.9273697244945078,
          -0.993762710016327,
          -0.12916485697785596,
          0.3245348617171941,
          0.8534569933866769,
          0.17396641552513492,
          -0.9579470225201236,
          0.04858908835109987,
          0.8129978238418555,
          -1.139226529424848,
          -0.1847432796748167,
          -1.3413819334330195,
          -0.2619249158317706,
          0.6516947357167101,
          1.675280779975995,
          -0.08984333109714171,
          -1.008464832427633,
          1.4740205657881218,
          0.5898484277272196,
          1.4435777212407885,
          -0.2364445961537404,
          -1.0875497083560146,
          -0.7298597590313212,
          -0.4145246652858039,
          -0.0403125523078092,
          1.8821837770362133,
          0.6523163439049054,
          -0.5319318714142541,
          -0.886569382439567,
          -1.57164561702653,
          -1.000733094004772,
          2.252092004447659,
          -0.9484906947123748,
          -1.5745344460769646,
          -0.1147773069126533,
          0.9570101068451705,
          0.8874610915201626,
          1.299598381237897,
          -1.9866886312472394,
          1.769202555822619,
          0.16318296330031146,
          -1.2255227926674428,
          0.08450632457157951,
          0.6749511586498979,
          0.8059974077581394,
          1.3743939631390771,
          0.6836318367306438,
          -0.8852015947588725,
          0.3855881334460895,
          2.0189809445009406,
          1.8117916079776115,
          -0.35933136617635036,
          -0.0673320225340837,
          -1.3580807726174224,
          0.23268662608029927,
          1.1247466248431852,
          -2.536863370877376
         ],
         "xaxis": "x14",
         "y": [
          -1.3668378895233886,
          1.0487448577880742,
          -0.2780814513852549,
          -1.2202610479942235,
          0.9227036438758959,
          0.5185505064813577,
          -0.5175472664587596,
          -1.420949527219002,
          1.0457905031395038,
          0.7054065280654733,
          0.2655120071878172,
          1.9149149246153476,
          1.1952456979194794,
          -1.5207725254086575,
          0.7289369935826845,
          -0.09606571285760698,
          1.8392220246268107,
          -0.14238701711042007,
          -0.3978400499144386,
          -2.1504970604376226,
          -0.9567172835412164,
          -0.20235146523728237,
          0.6383229581079899,
          -0.5823541322299404,
          -0.783262547296239,
          1.4755782225853598,
          0.17867775435975977,
          -2.2553604707979313,
          -0.9410969736956488,
          -1.0282883308914732,
          0.01931161519015419,
          -0.3383882634365259,
          0.3236055713728934,
          1.2058993344815825,
          -0.6167286837530893,
          -0.8250115663994755,
          0.3024113919853573,
          -0.6757853063650004,
          1.1688504157238322,
          -1.8704037502636932,
          -2.254604403213826,
          -0.3742229416521997,
          -0.034665618115568446,
          -0.870737565518343,
          1.0908310678469997,
          -0.9342417520458451,
          -0.5855183383530895,
          -0.733227306921073,
          2.3699546815345416,
          -0.4297432317515213,
          -0.893230053115751,
          0.09734081425183469,
          -0.9801604228873065,
          -0.7007679117901868,
          -1.1196281458004769,
          0.8325500389794176,
          1.1911357585965776,
          0.75911476208043,
          -1.7881704413577488,
          -1.4685496599258525,
          -0.2634789970247127,
          -2.0340851924543273,
          0.07962702650411135,
          0.10968422073910697,
          -0.8937387742897317,
          -1.510326512166877,
          -0.6307157216379593,
          0.23101621260922875,
          0.9658507298710426,
          -0.14582676612986797,
          0.24435391392993489,
          0.19988226546743493,
          -1.6864182483270802,
          -0.179565648317836,
          1.5790587268194936,
          1.1405837222497026,
          -1.002542239598847,
          -0.2848553496664866,
          0.22016891217967116,
          -0.14300651044375284,
          -2.7373269324359235,
          -2.538343494779956,
          3.04676387515265,
          -1.7214792981001903,
          0.3315444518238859,
          -2.1173049474469625,
          -0.9955560567688762,
          1.5384651549137196,
          -1.192188411694422,
          -0.19873328339923366,
          0.2463568803027659,
          -1.582529421336658,
          0.9705880808884735,
          -0.36394075916775437,
          1.8694994508609717,
          -1.8607920321206797,
          -0.2144291853983574,
          1.0260638450581705,
          -0.13123875075991048,
          1.100593205622243
         ],
         "yaxis": "y14"
        },
        {
         "line": {
          "color": "rgba(128, 128, 128, 1.0)",
          "dash": "solid",
          "shape": "linear",
          "width": 1.3
         },
         "marker": {
          "size": 2,
          "symbol": "circle"
         },
         "mode": "markers",
         "name": "D",
         "text": "",
         "type": "scatter",
         "x": [
          -0.4248277594985564,
          0.1513504151850946,
          -2.058306232463962,
          -1.0436072080846233,
          -0.6859620625913935,
          1.323324310854215,
          -0.6078577908285538,
          -0.8706351467472986,
          -1.032104121118313,
          1.104288900893966,
          1.1521443061400312,
          0.6258457496373017,
          -1.2991461654159133,
          0.20827155978124595,
          0.8126572250640745,
          -0.6400599004589999,
          2.5935153583099835,
          1.228663466587346,
          1.5487171552875663,
          0.9587987606710893,
          0.7836971828426463,
          2.698706022201188,
          0.18305424339508325,
          -0.06408520177085475,
          0.22964815043954506,
          -0.020151643537278646,
          -0.9314824271831205,
          0.014046970767866433,
          -1.642586812768221,
          -1.0598398638444377,
          -0.0007243105853715013,
          -0.8563550533914012,
          0.2541177109277807,
          -0.24965993985917798,
          2.0537542135667524,
          -0.08564796052704814,
          -1.087726351552115,
          -0.7533347973663863,
          -0.003277530037427063,
          0.7941140085094741,
          0.8930342883893841,
          -1.6789226349302377,
          -0.27900686819110787,
          0.9892349099096447,
          -1.298302309466238,
          0.30026649691242957,
          0.03444557202459019,
          0.6198193067399229,
          -1.393736516029622,
          -0.06331737942628961,
          -0.4947697956483195,
          2.0471358983548584,
          -0.11544240972834664,
          -0.07951266948470047,
          -1.5289180753904092,
          -0.3986908510146972,
          -0.39241606507134763,
          -1.397261729630864,
          -0.707382639792071,
          0.3132597386888826,
          -0.16749651101451493,
          -0.08886801592228395,
          0.1674365070605715,
          -0.31035165933701586,
          0.9612214537332486,
          0.25809665367328244,
          -1.546689400288278,
          -0.36716793334771874,
          0.6941773139996782,
          0.5716586284309948,
          -1.3154639457671933,
          0.039345274639484416,
          -0.19433445698592616,
          -1.1899433081174855,
          -1.8193503171050316,
          -0.2109110529440668,
          0.5864334575385997,
          0.26941716141690847,
          -0.008809772933606595,
          -0.936920852657209,
          0.9096280091903483,
          -1.739385395410571,
          0.8175700943676584,
          -0.949389670910661,
          0.4124323173999115,
          -1.5911419325692113,
          -0.3253505363773546,
          -0.9062836368367618,
          -0.6913909430260369,
          -0.49253138813355235,
          -0.03603281948359051,
          -0.21193029956885384,
          0.4724652726250642,
          0.7941883661128908,
          0.26273025780225867,
          -0.637180057546623,
          0.12980384330559883,
          0.05515973343473459,
          0.6424659230666038,
          -0.23688937286412992
         ],
         "xaxis": "x15",
         "y": [
          -1.3668378895233886,
          1.0487448577880742,
          -0.2780814513852549,
          -1.2202610479942235,
          0.9227036438758959,
          0.5185505064813577,
          -0.5175472664587596,
          -1.420949527219002,
          1.0457905031395038,
          0.7054065280654733,
          0.2655120071878172,
          1.9149149246153476,
          1.1952456979194794,
          -1.5207725254086575,
          0.7289369935826845,
          -0.09606571285760698,
          1.8392220246268107,
          -0.14238701711042007,
          -0.3978400499144386,
          -2.1504970604376226,
          -0.9567172835412164,
          -0.20235146523728237,
          0.6383229581079899,
          -0.5823541322299404,
          -0.783262547296239,
          1.4755782225853598,
          0.17867775435975977,
          -2.2553604707979313,
          -0.9410969736956488,
          -1.0282883308914732,
          0.01931161519015419,
          -0.3383882634365259,
          0.3236055713728934,
          1.2058993344815825,
          -0.6167286837530893,
          -0.8250115663994755,
          0.3024113919853573,
          -0.6757853063650004,
          1.1688504157238322,
          -1.8704037502636932,
          -2.254604403213826,
          -0.3742229416521997,
          -0.034665618115568446,
          -0.870737565518343,
          1.0908310678469997,
          -0.9342417520458451,
          -0.5855183383530895,
          -0.733227306921073,
          2.3699546815345416,
          -0.4297432317515213,
          -0.893230053115751,
          0.09734081425183469,
          -0.9801604228873065,
          -0.7007679117901868,
          -1.1196281458004769,
          0.8325500389794176,
          1.1911357585965776,
          0.75911476208043,
          -1.7881704413577488,
          -1.4685496599258525,
          -0.2634789970247127,
          -2.0340851924543273,
          0.07962702650411135,
          0.10968422073910697,
          -0.8937387742897317,
          -1.510326512166877,
          -0.6307157216379593,
          0.23101621260922875,
          0.9658507298710426,
          -0.14582676612986797,
          0.24435391392993489,
          0.19988226546743493,
          -1.6864182483270802,
          -0.179565648317836,
          1.5790587268194936,
          1.1405837222497026,
          -1.002542239598847,
          -0.2848553496664866,
          0.22016891217967116,
          -0.14300651044375284,
          -2.7373269324359235,
          -2.538343494779956,
          3.04676387515265,
          -1.7214792981001903,
          0.3315444518238859,
          -2.1173049474469625,
          -0.9955560567688762,
          1.5384651549137196,
          -1.192188411694422,
          -0.19873328339923366,
          0.2463568803027659,
          -1.582529421336658,
          0.9705880808884735,
          -0.36394075916775437,
          1.8694994508609717,
          -1.8607920321206797,
          -0.2144291853983574,
          1.0260638450581705,
          -0.13123875075991048,
          1.100593205622243
         ],
         "yaxis": "y15"
        },
        {
         "histfunc": "count",
         "histnorm": "",
         "marker": {
          "color": "rgba(128, 0, 128, 1.0)",
          "line": {
           "color": "#4D5663",
           "width": 1.3
          }
         },
         "name": "D",
         "nbinsx": 10,
         "opacity": 0.8,
         "orientation": "v",
         "type": "histogram",
         "x": [
          -1.3668378895233886,
          1.0487448577880742,
          -0.2780814513852549,
          -1.2202610479942235,
          0.9227036438758959,
          0.5185505064813577,
          -0.5175472664587596,
          -1.420949527219002,
          1.0457905031395038,
          0.7054065280654733,
          0.2655120071878172,
          1.9149149246153476,
          1.1952456979194794,
          -1.5207725254086575,
          0.7289369935826845,
          -0.09606571285760698,
          1.8392220246268107,
          -0.14238701711042007,
          -0.3978400499144386,
          -2.1504970604376226,
          -0.9567172835412164,
          -0.20235146523728237,
          0.6383229581079899,
          -0.5823541322299404,
          -0.783262547296239,
          1.4755782225853598,
          0.17867775435975977,
          -2.2553604707979313,
          -0.9410969736956488,
          -1.0282883308914732,
          0.01931161519015419,
          -0.3383882634365259,
          0.3236055713728934,
          1.2058993344815825,
          -0.6167286837530893,
          -0.8250115663994755,
          0.3024113919853573,
          -0.6757853063650004,
          1.1688504157238322,
          -1.8704037502636932,
          -2.254604403213826,
          -0.3742229416521997,
          -0.034665618115568446,
          -0.870737565518343,
          1.0908310678469997,
          -0.9342417520458451,
          -0.5855183383530895,
          -0.733227306921073,
          2.3699546815345416,
          -0.4297432317515213,
          -0.893230053115751,
          0.09734081425183469,
          -0.9801604228873065,
          -0.7007679117901868,
          -1.1196281458004769,
          0.8325500389794176,
          1.1911357585965776,
          0.75911476208043,
          -1.7881704413577488,
          -1.4685496599258525,
          -0.2634789970247127,
          -2.0340851924543273,
          0.07962702650411135,
          0.10968422073910697,
          -0.8937387742897317,
          -1.510326512166877,
          -0.6307157216379593,
          0.23101621260922875,
          0.9658507298710426,
          -0.14582676612986797,
          0.24435391392993489,
          0.19988226546743493,
          -1.6864182483270802,
          -0.179565648317836,
          1.5790587268194936,
          1.1405837222497026,
          -1.002542239598847,
          -0.2848553496664866,
          0.22016891217967116,
          -0.14300651044375284,
          -2.7373269324359235,
          -2.538343494779956,
          3.04676387515265,
          -1.7214792981001903,
          0.3315444518238859,
          -2.1173049474469625,
          -0.9955560567688762,
          1.5384651549137196,
          -1.192188411694422,
          -0.19873328339923366,
          0.2463568803027659,
          -1.582529421336658,
          0.9705880808884735,
          -0.36394075916775437,
          1.8694994508609717,
          -1.8607920321206797,
          -0.2144291853983574,
          1.0260638450581705,
          -0.13123875075991048,
          1.100593205622243
         ],
         "xaxis": "x16",
         "yaxis": "y16"
        }
       ],
       "layout": {
        "bargap": 0.02,
        "legend": {
         "bgcolor": "#F5F6F9",
         "font": {
          "color": "#4D5663"
         }
        },
        "paper_bgcolor": "#F5F6F9",
        "plot_bgcolor": "#F5F6F9",
        "showlegend": false,
        "template": {
         "data": {
          "bar": [
           {
            "error_x": {
             "color": "#2a3f5f"
            },
            "error_y": {
             "color": "#2a3f5f"
            },
            "marker": {
             "line": {
              "color": "#E5ECF6",
              "width": 0.5
             }
            },
            "type": "bar"
           }
          ],
          "barpolar": [
           {
            "marker": {
             "line": {
              "color": "#E5ECF6",
              "width": 0.5
             }
            },
            "type": "barpolar"
           }
          ],
          "carpet": [
           {
            "aaxis": {
             "endlinecolor": "#2a3f5f",
             "gridcolor": "white",
             "linecolor": "white",
             "minorgridcolor": "white",
             "startlinecolor": "#2a3f5f"
            },
            "baxis": {
             "endlinecolor": "#2a3f5f",
             "gridcolor": "white",
             "linecolor": "white",
             "minorgridcolor": "white",
             "startlinecolor": "#2a3f5f"
            },
            "type": "carpet"
           }
          ],
          "choropleth": [
           {
            "colorbar": {
             "outlinewidth": 0,
             "ticks": ""
            },
            "type": "choropleth"
           }
          ],
          "contour": [
           {
            "colorbar": {
             "outlinewidth": 0,
             "ticks": ""
            },
            "colorscale": [
             [
              0,
              "#0d0887"
             ],
             [
              0.1111111111111111,
              "#46039f"
             ],
             [
              0.2222222222222222,
              "#7201a8"
             ],
             [
              0.3333333333333333,
              "#9c179e"
             ],
             [
              0.4444444444444444,
              "#bd3786"
             ],
             [
              0.5555555555555556,
              "#d8576b"
             ],
             [
              0.6666666666666666,
              "#ed7953"
             ],
             [
              0.7777777777777778,
              "#fb9f3a"
             ],
             [
              0.8888888888888888,
              "#fdca26"
             ],
             [
              1,
              "#f0f921"
             ]
            ],
            "type": "contour"
           }
          ],
          "contourcarpet": [
           {
            "colorbar": {
             "outlinewidth": 0,
             "ticks": ""
            },
            "type": "contourcarpet"
           }
          ],
          "heatmap": [
           {
            "colorbar": {
             "outlinewidth": 0,
             "ticks": ""
            },
            "colorscale": [
             [
              0,
              "#0d0887"
             ],
             [
              0.1111111111111111,
              "#46039f"
             ],
             [
              0.2222222222222222,
              "#7201a8"
             ],
             [
              0.3333333333333333,
              "#9c179e"
             ],
             [
              0.4444444444444444,
              "#bd3786"
             ],
             [
              0.5555555555555556,
              "#d8576b"
             ],
             [
              0.6666666666666666,
              "#ed7953"
             ],
             [
              0.7777777777777778,
              "#fb9f3a"
             ],
             [
              0.8888888888888888,
              "#fdca26"
             ],
             [
              1,
              "#f0f921"
             ]
            ],
            "type": "heatmap"
           }
          ],
          "heatmapgl": [
           {
            "colorbar": {
             "outlinewidth": 0,
             "ticks": ""
            },
            "colorscale": [
             [
              0,
              "#0d0887"
             ],
             [
              0.1111111111111111,
              "#46039f"
             ],
             [
              0.2222222222222222,
              "#7201a8"
             ],
             [
              0.3333333333333333,
              "#9c179e"
             ],
             [
              0.4444444444444444,
              "#bd3786"
             ],
             [
              0.5555555555555556,
              "#d8576b"
             ],
             [
              0.6666666666666666,
              "#ed7953"
             ],
             [
              0.7777777777777778,
              "#fb9f3a"
             ],
             [
              0.8888888888888888,
              "#fdca26"
             ],
             [
              1,
              "#f0f921"
             ]
            ],
            "type": "heatmapgl"
           }
          ],
          "histogram": [
           {
            "marker": {
             "colorbar": {
              "outlinewidth": 0,
              "ticks": ""
             }
            },
            "type": "histogram"
           }
          ],
          "histogram2d": [
           {
            "colorbar": {
             "outlinewidth": 0,
             "ticks": ""
            },
            "colorscale": [
             [
              0,
              "#0d0887"
             ],
             [
              0.1111111111111111,
              "#46039f"
             ],
             [
              0.2222222222222222,
              "#7201a8"
             ],
             [
              0.3333333333333333,
              "#9c179e"
             ],
             [
              0.4444444444444444,
              "#bd3786"
             ],
             [
              0.5555555555555556,
              "#d8576b"
             ],
             [
              0.6666666666666666,
              "#ed7953"
             ],
             [
              0.7777777777777778,
              "#fb9f3a"
             ],
             [
              0.8888888888888888,
              "#fdca26"
             ],
             [
              1,
              "#f0f921"
             ]
            ],
            "type": "histogram2d"
           }
          ],
          "histogram2dcontour": [
           {
            "colorbar": {
             "outlinewidth": 0,
             "ticks": ""
            },
            "colorscale": [
             [
              0,
              "#0d0887"
             ],
             [
              0.1111111111111111,
              "#46039f"
             ],
             [
              0.2222222222222222,
              "#7201a8"
             ],
             [
              0.3333333333333333,
              "#9c179e"
             ],
             [
              0.4444444444444444,
              "#bd3786"
             ],
             [
              0.5555555555555556,
              "#d8576b"
             ],
             [
              0.6666666666666666,
              "#ed7953"
             ],
             [
              0.7777777777777778,
              "#fb9f3a"
             ],
             [
              0.8888888888888888,
              "#fdca26"
             ],
             [
              1,
              "#f0f921"
             ]
            ],
            "type": "histogram2dcontour"
           }
          ],
          "mesh3d": [
           {
            "colorbar": {
             "outlinewidth": 0,
             "ticks": ""
            },
            "type": "mesh3d"
           }
          ],
          "parcoords": [
           {
            "line": {
             "colorbar": {
              "outlinewidth": 0,
              "ticks": ""
             }
            },
            "type": "parcoords"
           }
          ],
          "pie": [
           {
            "automargin": true,
            "type": "pie"
           }
          ],
          "scatter": [
           {
            "marker": {
             "colorbar": {
              "outlinewidth": 0,
              "ticks": ""
             }
            },
            "type": "scatter"
           }
          ],
          "scatter3d": [
           {
            "line": {
             "colorbar": {
              "outlinewidth": 0,
              "ticks": ""
             }
            },
            "marker": {
             "colorbar": {
              "outlinewidth": 0,
              "ticks": ""
             }
            },
            "type": "scatter3d"
           }
          ],
          "scattercarpet": [
           {
            "marker": {
             "colorbar": {
              "outlinewidth": 0,
              "ticks": ""
             }
            },
            "type": "scattercarpet"
           }
          ],
          "scattergeo": [
           {
            "marker": {
             "colorbar": {
              "outlinewidth": 0,
              "ticks": ""
             }
            },
            "type": "scattergeo"
           }
          ],
          "scattergl": [
           {
            "marker": {
             "colorbar": {
              "outlinewidth": 0,
              "ticks": ""
             }
            },
            "type": "scattergl"
           }
          ],
          "scattermapbox": [
           {
            "marker": {
             "colorbar": {
              "outlinewidth": 0,
              "ticks": ""
             }
            },
            "type": "scattermapbox"
           }
          ],
          "scatterpolar": [
           {
            "marker": {
             "colorbar": {
              "outlinewidth": 0,
              "ticks": ""
             }
            },
            "type": "scatterpolar"
           }
          ],
          "scatterpolargl": [
           {
            "marker": {
             "colorbar": {
              "outlinewidth": 0,
              "ticks": ""
             }
            },
            "type": "scatterpolargl"
           }
          ],
          "scatterternary": [
           {
            "marker": {
             "colorbar": {
              "outlinewidth": 0,
              "ticks": ""
             }
            },
            "type": "scatterternary"
           }
          ],
          "surface": [
           {
            "colorbar": {
             "outlinewidth": 0,
             "ticks": ""
            },
            "colorscale": [
             [
              0,
              "#0d0887"
             ],
             [
              0.1111111111111111,
              "#46039f"
             ],
             [
              0.2222222222222222,
              "#7201a8"
             ],
             [
              0.3333333333333333,
              "#9c179e"
             ],
             [
              0.4444444444444444,
              "#bd3786"
             ],
             [
              0.5555555555555556,
              "#d8576b"
             ],
             [
              0.6666666666666666,
              "#ed7953"
             ],
             [
              0.7777777777777778,
              "#fb9f3a"
             ],
             [
              0.8888888888888888,
              "#fdca26"
             ],
             [
              1,
              "#f0f921"
             ]
            ],
            "type": "surface"
           }
          ],
          "table": [
           {
            "cells": {
             "fill": {
              "color": "#EBF0F8"
             },
             "line": {
              "color": "white"
             }
            },
            "header": {
             "fill": {
              "color": "#C8D4E3"
             },
             "line": {
              "color": "white"
             }
            },
            "type": "table"
           }
          ]
         },
         "layout": {
          "annotationdefaults": {
           "arrowcolor": "#2a3f5f",
           "arrowhead": 0,
           "arrowwidth": 1
          },
          "autotypenumbers": "strict",
          "coloraxis": {
           "colorbar": {
            "outlinewidth": 0,
            "ticks": ""
           }
          },
          "colorscale": {
           "diverging": [
            [
             0,
             "#8e0152"
            ],
            [
             0.1,
             "#c51b7d"
            ],
            [
             0.2,
             "#de77ae"
            ],
            [
             0.3,
             "#f1b6da"
            ],
            [
             0.4,
             "#fde0ef"
            ],
            [
             0.5,
             "#f7f7f7"
            ],
            [
             0.6,
             "#e6f5d0"
            ],
            [
             0.7,
             "#b8e186"
            ],
            [
             0.8,
             "#7fbc41"
            ],
            [
             0.9,
             "#4d9221"
            ],
            [
             1,
             "#276419"
            ]
           ],
           "sequential": [
            [
             0,
             "#0d0887"
            ],
            [
             0.1111111111111111,
             "#46039f"
            ],
            [
             0.2222222222222222,
             "#7201a8"
            ],
            [
             0.3333333333333333,
             "#9c179e"
            ],
            [
             0.4444444444444444,
             "#bd3786"
            ],
            [
             0.5555555555555556,
             "#d8576b"
            ],
            [
             0.6666666666666666,
             "#ed7953"
            ],
            [
             0.7777777777777778,
             "#fb9f3a"
            ],
            [
             0.8888888888888888,
             "#fdca26"
            ],
            [
             1,
             "#f0f921"
            ]
           ],
           "sequentialminus": [
            [
             0,
             "#0d0887"
            ],
            [
             0.1111111111111111,
             "#46039f"
            ],
            [
             0.2222222222222222,
             "#7201a8"
            ],
            [
             0.3333333333333333,
             "#9c179e"
            ],
            [
             0.4444444444444444,
             "#bd3786"
            ],
            [
             0.5555555555555556,
             "#d8576b"
            ],
            [
             0.6666666666666666,
             "#ed7953"
            ],
            [
             0.7777777777777778,
             "#fb9f3a"
            ],
            [
             0.8888888888888888,
             "#fdca26"
            ],
            [
             1,
             "#f0f921"
            ]
           ]
          },
          "colorway": [
           "#636efa",
           "#EF553B",
           "#00cc96",
           "#ab63fa",
           "#FFA15A",
           "#19d3f3",
           "#FF6692",
           "#B6E880",
           "#FF97FF",
           "#FECB52"
          ],
          "font": {
           "color": "#2a3f5f"
          },
          "geo": {
           "bgcolor": "white",
           "lakecolor": "white",
           "landcolor": "#E5ECF6",
           "showlakes": true,
           "showland": true,
           "subunitcolor": "white"
          },
          "hoverlabel": {
           "align": "left"
          },
          "hovermode": "closest",
          "mapbox": {
           "style": "light"
          },
          "paper_bgcolor": "white",
          "plot_bgcolor": "#E5ECF6",
          "polar": {
           "angularaxis": {
            "gridcolor": "white",
            "linecolor": "white",
            "ticks": ""
           },
           "bgcolor": "#E5ECF6",
           "radialaxis": {
            "gridcolor": "white",
            "linecolor": "white",
            "ticks": ""
           }
          },
          "scene": {
           "xaxis": {
            "backgroundcolor": "#E5ECF6",
            "gridcolor": "white",
            "gridwidth": 2,
            "linecolor": "white",
            "showbackground": true,
            "ticks": "",
            "zerolinecolor": "white"
           },
           "yaxis": {
            "backgroundcolor": "#E5ECF6",
            "gridcolor": "white",
            "gridwidth": 2,
            "linecolor": "white",
            "showbackground": true,
            "ticks": "",
            "zerolinecolor": "white"
           },
           "zaxis": {
            "backgroundcolor": "#E5ECF6",
            "gridcolor": "white",
            "gridwidth": 2,
            "linecolor": "white",
            "showbackground": true,
            "ticks": "",
            "zerolinecolor": "white"
           }
          },
          "shapedefaults": {
           "line": {
            "color": "#2a3f5f"
           }
          },
          "ternary": {
           "aaxis": {
            "gridcolor": "white",
            "linecolor": "white",
            "ticks": ""
           },
           "baxis": {
            "gridcolor": "white",
            "linecolor": "white",
            "ticks": ""
           },
           "bgcolor": "#E5ECF6",
           "caxis": {
            "gridcolor": "white",
            "linecolor": "white",
            "ticks": ""
           }
          },
          "title": {
           "x": 0.05
          },
          "xaxis": {
           "automargin": true,
           "gridcolor": "white",
           "linecolor": "white",
           "ticks": "",
           "title": {
            "standoff": 15
           },
           "zerolinecolor": "white",
           "zerolinewidth": 2
          },
          "yaxis": {
           "automargin": true,
           "gridcolor": "white",
           "linecolor": "white",
           "ticks": "",
           "title": {
            "standoff": 15
           },
           "zerolinecolor": "white",
           "zerolinewidth": 2
          }
         }
        },
        "title": {
         "font": {
          "color": "#4D5663"
         }
        },
        "xaxis": {
         "anchor": "y",
         "domain": [
          0,
          0.2125
         ],
         "gridcolor": "#E1E5ED",
         "showgrid": false,
         "tickfont": {
          "color": "#4D5663"
         },
         "title": {
          "font": {
           "color": "#4D5663"
          },
          "text": ""
         },
         "zerolinecolor": "#E1E5ED"
        },
        "xaxis10": {
         "anchor": "y10",
         "domain": [
          0.2625,
          0.475
         ],
         "gridcolor": "#E1E5ED",
         "showgrid": false,
         "tickfont": {
          "color": "#4D5663"
         },
         "title": {
          "font": {
           "color": "#4D5663"
          },
          "text": ""
         },
         "zerolinecolor": "#E1E5ED"
        },
        "xaxis11": {
         "anchor": "y11",
         "domain": [
          0.525,
          0.7375
         ],
         "gridcolor": "#E1E5ED",
         "showgrid": false,
         "tickfont": {
          "color": "#4D5663"
         },
         "title": {
          "font": {
           "color": "#4D5663"
          },
          "text": ""
         },
         "zerolinecolor": "#E1E5ED"
        },
        "xaxis12": {
         "anchor": "y12",
         "domain": [
          0.7875,
          1
         ],
         "gridcolor": "#E1E5ED",
         "showgrid": false,
         "tickfont": {
          "color": "#4D5663"
         },
         "title": {
          "font": {
           "color": "#4D5663"
          },
          "text": ""
         },
         "zerolinecolor": "#E1E5ED"
        },
        "xaxis13": {
         "anchor": "y13",
         "domain": [
          0,
          0.2125
         ],
         "gridcolor": "#E1E5ED",
         "showgrid": false,
         "tickfont": {
          "color": "#4D5663"
         },
         "title": {
          "font": {
           "color": "#4D5663"
          },
          "text": ""
         },
         "zerolinecolor": "#E1E5ED"
        },
        "xaxis14": {
         "anchor": "y14",
         "domain": [
          0.2625,
          0.475
         ],
         "gridcolor": "#E1E5ED",
         "showgrid": false,
         "tickfont": {
          "color": "#4D5663"
         },
         "title": {
          "font": {
           "color": "#4D5663"
          },
          "text": ""
         },
         "zerolinecolor": "#E1E5ED"
        },
        "xaxis15": {
         "anchor": "y15",
         "domain": [
          0.525,
          0.7375
         ],
         "gridcolor": "#E1E5ED",
         "showgrid": false,
         "tickfont": {
          "color": "#4D5663"
         },
         "title": {
          "font": {
           "color": "#4D5663"
          },
          "text": ""
         },
         "zerolinecolor": "#E1E5ED"
        },
        "xaxis16": {
         "anchor": "y16",
         "domain": [
          0.7875,
          1
         ],
         "gridcolor": "#E1E5ED",
         "showgrid": false,
         "tickfont": {
          "color": "#4D5663"
         },
         "title": {
          "font": {
           "color": "#4D5663"
          },
          "text": ""
         },
         "zerolinecolor": "#E1E5ED"
        },
        "xaxis2": {
         "anchor": "y2",
         "domain": [
          0.2625,
          0.475
         ],
         "gridcolor": "#E1E5ED",
         "showgrid": false,
         "tickfont": {
          "color": "#4D5663"
         },
         "title": {
          "font": {
           "color": "#4D5663"
          },
          "text": ""
         },
         "zerolinecolor": "#E1E5ED"
        },
        "xaxis3": {
         "anchor": "y3",
         "domain": [
          0.525,
          0.7375
         ],
         "gridcolor": "#E1E5ED",
         "showgrid": false,
         "tickfont": {
          "color": "#4D5663"
         },
         "title": {
          "font": {
           "color": "#4D5663"
          },
          "text": ""
         },
         "zerolinecolor": "#E1E5ED"
        },
        "xaxis4": {
         "anchor": "y4",
         "domain": [
          0.7875,
          1
         ],
         "gridcolor": "#E1E5ED",
         "showgrid": false,
         "tickfont": {
          "color": "#4D5663"
         },
         "title": {
          "font": {
           "color": "#4D5663"
          },
          "text": ""
         },
         "zerolinecolor": "#E1E5ED"
        },
        "xaxis5": {
         "anchor": "y5",
         "domain": [
          0,
          0.2125
         ],
         "gridcolor": "#E1E5ED",
         "showgrid": false,
         "tickfont": {
          "color": "#4D5663"
         },
         "title": {
          "font": {
           "color": "#4D5663"
          },
          "text": ""
         },
         "zerolinecolor": "#E1E5ED"
        },
        "xaxis6": {
         "anchor": "y6",
         "domain": [
          0.2625,
          0.475
         ],
         "gridcolor": "#E1E5ED",
         "showgrid": false,
         "tickfont": {
          "color": "#4D5663"
         },
         "title": {
          "font": {
           "color": "#4D5663"
          },
          "text": ""
         },
         "zerolinecolor": "#E1E5ED"
        },
        "xaxis7": {
         "anchor": "y7",
         "domain": [
          0.525,
          0.7375
         ],
         "gridcolor": "#E1E5ED",
         "showgrid": false,
         "tickfont": {
          "color": "#4D5663"
         },
         "title": {
          "font": {
           "color": "#4D5663"
          },
          "text": ""
         },
         "zerolinecolor": "#E1E5ED"
        },
        "xaxis8": {
         "anchor": "y8",
         "domain": [
          0.7875,
          1
         ],
         "gridcolor": "#E1E5ED",
         "showgrid": false,
         "tickfont": {
          "color": "#4D5663"
         },
         "title": {
          "font": {
           "color": "#4D5663"
          },
          "text": ""
         },
         "zerolinecolor": "#E1E5ED"
        },
        "xaxis9": {
         "anchor": "y9",
         "domain": [
          0,
          0.2125
         ],
         "gridcolor": "#E1E5ED",
         "showgrid": false,
         "tickfont": {
          "color": "#4D5663"
         },
         "title": {
          "font": {
           "color": "#4D5663"
          },
          "text": ""
         },
         "zerolinecolor": "#E1E5ED"
        },
        "yaxis": {
         "anchor": "x",
         "domain": [
          0.8025,
          1
         ],
         "gridcolor": "#E1E5ED",
         "showgrid": false,
         "tickfont": {
          "color": "#4D5663"
         },
         "title": {
          "font": {
           "color": "#4D5663"
          },
          "text": ""
         },
         "zerolinecolor": "#E1E5ED"
        },
        "yaxis10": {
         "anchor": "x10",
         "domain": [
          0.2675,
          0.465
         ],
         "gridcolor": "#E1E5ED",
         "showgrid": false,
         "tickfont": {
          "color": "#4D5663"
         },
         "title": {
          "font": {
           "color": "#4D5663"
          },
          "text": ""
         },
         "zerolinecolor": "#E1E5ED"
        },
        "yaxis11": {
         "anchor": "x11",
         "domain": [
          0.2675,
          0.465
         ],
         "gridcolor": "#E1E5ED",
         "showgrid": false,
         "tickfont": {
          "color": "#4D5663"
         },
         "title": {
          "font": {
           "color": "#4D5663"
          },
          "text": ""
         },
         "zerolinecolor": "#E1E5ED"
        },
        "yaxis12": {
         "anchor": "x12",
         "domain": [
          0.2675,
          0.465
         ],
         "gridcolor": "#E1E5ED",
         "showgrid": false,
         "tickfont": {
          "color": "#4D5663"
         },
         "title": {
          "font": {
           "color": "#4D5663"
          },
          "text": ""
         },
         "zerolinecolor": "#E1E5ED"
        },
        "yaxis13": {
         "anchor": "x13",
         "domain": [
          0,
          0.1975
         ],
         "gridcolor": "#E1E5ED",
         "showgrid": false,
         "tickfont": {
          "color": "#4D5663"
         },
         "title": {
          "font": {
           "color": "#4D5663"
          },
          "text": ""
         },
         "zerolinecolor": "#E1E5ED"
        },
        "yaxis14": {
         "anchor": "x14",
         "domain": [
          0,
          0.1975
         ],
         "gridcolor": "#E1E5ED",
         "showgrid": false,
         "tickfont": {
          "color": "#4D5663"
         },
         "title": {
          "font": {
           "color": "#4D5663"
          },
          "text": ""
         },
         "zerolinecolor": "#E1E5ED"
        },
        "yaxis15": {
         "anchor": "x15",
         "domain": [
          0,
          0.1975
         ],
         "gridcolor": "#E1E5ED",
         "showgrid": false,
         "tickfont": {
          "color": "#4D5663"
         },
         "title": {
          "font": {
           "color": "#4D5663"
          },
          "text": ""
         },
         "zerolinecolor": "#E1E5ED"
        },
        "yaxis16": {
         "anchor": "x16",
         "domain": [
          0,
          0.1975
         ],
         "gridcolor": "#E1E5ED",
         "showgrid": false,
         "tickfont": {
          "color": "#4D5663"
         },
         "title": {
          "font": {
           "color": "#4D5663"
          },
          "text": ""
         },
         "zerolinecolor": "#E1E5ED"
        },
        "yaxis2": {
         "anchor": "x2",
         "domain": [
          0.8025,
          1
         ],
         "gridcolor": "#E1E5ED",
         "showgrid": false,
         "tickfont": {
          "color": "#4D5663"
         },
         "title": {
          "font": {
           "color": "#4D5663"
          },
          "text": ""
         },
         "zerolinecolor": "#E1E5ED"
        },
        "yaxis3": {
         "anchor": "x3",
         "domain": [
          0.8025,
          1
         ],
         "gridcolor": "#E1E5ED",
         "showgrid": false,
         "tickfont": {
          "color": "#4D5663"
         },
         "title": {
          "font": {
           "color": "#4D5663"
          },
          "text": ""
         },
         "zerolinecolor": "#E1E5ED"
        },
        "yaxis4": {
         "anchor": "x4",
         "domain": [
          0.8025,
          1
         ],
         "gridcolor": "#E1E5ED",
         "showgrid": false,
         "tickfont": {
          "color": "#4D5663"
         },
         "title": {
          "font": {
           "color": "#4D5663"
          },
          "text": ""
         },
         "zerolinecolor": "#E1E5ED"
        },
        "yaxis5": {
         "anchor": "x5",
         "domain": [
          0.535,
          0.7325
         ],
         "gridcolor": "#E1E5ED",
         "showgrid": false,
         "tickfont": {
          "color": "#4D5663"
         },
         "title": {
          "font": {
           "color": "#4D5663"
          },
          "text": ""
         },
         "zerolinecolor": "#E1E5ED"
        },
        "yaxis6": {
         "anchor": "x6",
         "domain": [
          0.535,
          0.7325
         ],
         "gridcolor": "#E1E5ED",
         "showgrid": false,
         "tickfont": {
          "color": "#4D5663"
         },
         "title": {
          "font": {
           "color": "#4D5663"
          },
          "text": ""
         },
         "zerolinecolor": "#E1E5ED"
        },
        "yaxis7": {
         "anchor": "x7",
         "domain": [
          0.535,
          0.7325
         ],
         "gridcolor": "#E1E5ED",
         "showgrid": false,
         "tickfont": {
          "color": "#4D5663"
         },
         "title": {
          "font": {
           "color": "#4D5663"
          },
          "text": ""
         },
         "zerolinecolor": "#E1E5ED"
        },
        "yaxis8": {
         "anchor": "x8",
         "domain": [
          0.535,
          0.7325
         ],
         "gridcolor": "#E1E5ED",
         "showgrid": false,
         "tickfont": {
          "color": "#4D5663"
         },
         "title": {
          "font": {
           "color": "#4D5663"
          },
          "text": ""
         },
         "zerolinecolor": "#E1E5ED"
        },
        "yaxis9": {
         "anchor": "x9",
         "domain": [
          0.2675,
          0.465
         ],
         "gridcolor": "#E1E5ED",
         "showgrid": false,
         "tickfont": {
          "color": "#4D5663"
         },
         "title": {
          "font": {
           "color": "#4D5663"
          },
          "text": ""
         },
         "zerolinecolor": "#E1E5ED"
        }
       }
      },
      "text/html": [
       "<div>                            <div id=\"e4e7cc48-8cd2-497c-b17c-d8ecb3239bd8\" class=\"plotly-graph-div\" style=\"height:525px; width:100%;\"></div>            <script type=\"text/javascript\">                require([\"plotly\"], function(Plotly) {                    window.PLOTLYENV=window.PLOTLYENV || {};\n",
       "                    window.PLOTLYENV.BASE_URL='https://chart-studio.plotly.com';                                    if (document.getElementById(\"e4e7cc48-8cd2-497c-b17c-d8ecb3239bd8\")) {                    Plotly.newPlot(                        \"e4e7cc48-8cd2-497c-b17c-d8ecb3239bd8\",                        [{\"histfunc\": \"count\", \"histnorm\": \"\", \"marker\": {\"color\": \"rgba(255, 153, 51, 1.0)\", \"line\": {\"color\": \"#4D5663\", \"width\": 1.3}}, \"name\": \"A\", \"nbinsx\": 10, \"opacity\": 0.8, \"orientation\": \"v\", \"type\": \"histogram\", \"x\": [-0.10941102931249815, -0.8615740729354732, 2.2191920448516105, 0.8272024104553013, 0.09260580476298218, -1.760498313088278, -1.3580352833088245, 0.2837646296039586, 0.9041110135710683, 1.8963016027309272, 1.8326035595389771, -0.10492725231921943, -0.2046535814758173, -0.10024462278595839, 0.09630022741523961, -1.6924637530883027, -1.827533202226689, 0.535830442200243, -1.9360645912018926, -0.8500344647105456, -0.05576325053126793, -0.23323577819050917, -0.6976270715849751, 1.5307238079283552, 1.2999535047751662, 0.3303505037693656, -1.000663879444441, 0.6308438849860508, 1.3055824565890246, -0.40507941245360185, -0.3762913856446127, -1.7176097901649348, 0.053400975014509904, 0.21780304650270754, -0.3855545352890779, -0.5661844716568739, -2.560368808121754, 0.3407561655250713, -0.48386581194026446, -1.585339192511962, 0.02408347448600361, -1.2346577797624294, 0.787854145181569, -1.9996732709740686, 1.1464586983894467, 1.496126645525582, 0.5008657636740425, 0.9484308471915603, 0.08220806231666754, 0.16054214225587957, 0.38751961200206325, -0.47077345204718146, 0.35760076104911215, -0.1544322284853308, 0.7463179133033808, -1.502516121508507, 0.5725392099395142, 1.3913604236343293, 2.1210719379328893, 1.8773383992501935, 1.2544431720187816, -0.694049794215334, 2.502637085459896, -0.2753756798548901, -0.004244286821838908, 0.09242496481751918, 0.04883874317874036, -1.1291816313913836, -1.4004908252511359, -1.8213043294508382, -0.5701748178839355, 1.0309248997596467, 0.8003828152110333, 0.47792794445750864, -0.26747921252634377, 1.3405762679316036, -0.7221850291354602, 1.7212787438610841, -1.3063358071403264, 1.0957687559126097, -0.6871292686938323, -1.0645803968637746, 0.7238126783784861, -1.9096265686281966, -0.6711390977232885, 0.21744931156823238, 0.23485404452984696, 0.6167907699912447, 0.387826246423899, 0.9056443724871143, -0.35038815349392105, -1.069160929980094, -0.6957064695988187, 0.35168615193685204, -2.505057701868909, 0.5038066984983418, -2.1427877817529133, 0.4174077862768109, 1.0829115331525192, -0.9391761272870766], \"xaxis\": \"x\", \"yaxis\": \"y\"}, {\"line\": {\"color\": \"rgba(128, 128, 128, 1.0)\", \"dash\": \"solid\", \"shape\": \"linear\", \"width\": 1.3}, \"marker\": {\"size\": 2, \"symbol\": \"circle\"}, \"mode\": \"markers\", \"name\": \"A\", \"text\": \"\", \"type\": \"scatter\", \"x\": [-1.1623662874693783, -0.832344062710519, -2.6889403263457887, 0.33030460644081305, 1.1897554957994894, -1.8295725952943718, -0.31134257611300087, -1.1150256707068056, 1.1293886257293613, -0.20946608413393494, 1.2949281437111222, 0.7526921284010667, -0.3016330292488494, -0.03385842274369277, 1.6780856289595902, 1.1594910401462286, -1.6476591553972537, 1.008497261373339, -0.6225470768959404, 1.1991325015261836, -0.4704071561565932, 0.8446723097825432, -1.2536342767984199, -0.9130082305126809, 0.714353984339348, 1.751443829854967, 0.21766931930498662, 0.6463839680678777, -1.7860941457977224, 0.08881002354599406, -1.0678176090017426, -0.8816616633014966, -0.4480884978479455, -0.17539412892110837, 0.19768867636516496, 1.141342779188351, 2.164771524215948, -0.016755546990118633, -1.7998811328448996, 0.5442419970493254, -1.3562236272994466, 0.2361511721120601, -0.8759959347156709, 0.9273697244945078, -0.993762710016327, -0.12916485697785596, 0.3245348617171941, 0.8534569933866769, 0.17396641552513492, -0.9579470225201236, 0.04858908835109987, 0.8129978238418555, -1.139226529424848, -0.1847432796748167, -1.3413819334330195, -0.2619249158317706, 0.6516947357167101, 1.675280779975995, -0.08984333109714171, -1.008464832427633, 1.4740205657881218, 0.5898484277272196, 1.4435777212407885, -0.2364445961537404, -1.0875497083560146, -0.7298597590313212, -0.4145246652858039, -0.0403125523078092, 1.8821837770362133, 0.6523163439049054, -0.5319318714142541, -0.886569382439567, -1.57164561702653, -1.000733094004772, 2.252092004447659, -0.9484906947123748, -1.5745344460769646, -0.1147773069126533, 0.9570101068451705, 0.8874610915201626, 1.299598381237897, -1.9866886312472394, 1.769202555822619, 0.16318296330031146, -1.2255227926674428, 0.08450632457157951, 0.6749511586498979, 0.8059974077581394, 1.3743939631390771, 0.6836318367306438, -0.8852015947588725, 0.3855881334460895, 2.0189809445009406, 1.8117916079776115, -0.35933136617635036, -0.0673320225340837, -1.3580807726174224, 0.23268662608029927, 1.1247466248431852, -2.536863370877376], \"xaxis\": \"x2\", \"y\": [-0.10941102931249815, -0.8615740729354732, 2.2191920448516105, 0.8272024104553013, 0.09260580476298218, -1.760498313088278, -1.3580352833088245, 0.2837646296039586, 0.9041110135710683, 1.8963016027309272, 1.8326035595389771, -0.10492725231921943, -0.2046535814758173, -0.10024462278595839, 0.09630022741523961, -1.6924637530883027, -1.827533202226689, 0.535830442200243, -1.9360645912018926, -0.8500344647105456, -0.05576325053126793, -0.23323577819050917, -0.6976270715849751, 1.5307238079283552, 1.2999535047751662, 0.3303505037693656, -1.000663879444441, 0.6308438849860508, 1.3055824565890246, -0.40507941245360185, -0.3762913856446127, -1.7176097901649348, 0.053400975014509904, 0.21780304650270754, -0.3855545352890779, -0.5661844716568739, -2.560368808121754, 0.3407561655250713, -0.48386581194026446, -1.585339192511962, 0.02408347448600361, -1.2346577797624294, 0.787854145181569, -1.9996732709740686, 1.1464586983894467, 1.496126645525582, 0.5008657636740425, 0.9484308471915603, 0.08220806231666754, 0.16054214225587957, 0.38751961200206325, -0.47077345204718146, 0.35760076104911215, -0.1544322284853308, 0.7463179133033808, -1.502516121508507, 0.5725392099395142, 1.3913604236343293, 2.1210719379328893, 1.8773383992501935, 1.2544431720187816, -0.694049794215334, 2.502637085459896, -0.2753756798548901, -0.004244286821838908, 0.09242496481751918, 0.04883874317874036, -1.1291816313913836, -1.4004908252511359, -1.8213043294508382, -0.5701748178839355, 1.0309248997596467, 0.8003828152110333, 0.47792794445750864, -0.26747921252634377, 1.3405762679316036, -0.7221850291354602, 1.7212787438610841, -1.3063358071403264, 1.0957687559126097, -0.6871292686938323, -1.0645803968637746, 0.7238126783784861, -1.9096265686281966, -0.6711390977232885, 0.21744931156823238, 0.23485404452984696, 0.6167907699912447, 0.387826246423899, 0.9056443724871143, -0.35038815349392105, -1.069160929980094, -0.6957064695988187, 0.35168615193685204, -2.505057701868909, 0.5038066984983418, -2.1427877817529133, 0.4174077862768109, 1.0829115331525192, -0.9391761272870766], \"yaxis\": \"y2\"}, {\"line\": {\"color\": \"rgba(128, 128, 128, 1.0)\", \"dash\": \"solid\", \"shape\": \"linear\", \"width\": 1.3}, \"marker\": {\"size\": 2, \"symbol\": \"circle\"}, \"mode\": \"markers\", \"name\": \"A\", \"text\": \"\", \"type\": \"scatter\", \"x\": [-0.4248277594985564, 0.1513504151850946, -2.058306232463962, -1.0436072080846233, -0.6859620625913935, 1.323324310854215, -0.6078577908285538, -0.8706351467472986, -1.032104121118313, 1.104288900893966, 1.1521443061400312, 0.6258457496373017, -1.2991461654159133, 0.20827155978124595, 0.8126572250640745, -0.6400599004589999, 2.5935153583099835, 1.228663466587346, 1.5487171552875663, 0.9587987606710893, 0.7836971828426463, 2.698706022201188, 0.18305424339508325, -0.06408520177085475, 0.22964815043954506, -0.020151643537278646, -0.9314824271831205, 0.014046970767866433, -1.642586812768221, -1.0598398638444377, -0.0007243105853715013, -0.8563550533914012, 0.2541177109277807, -0.24965993985917798, 2.0537542135667524, -0.08564796052704814, -1.087726351552115, -0.7533347973663863, -0.003277530037427063, 0.7941140085094741, 0.8930342883893841, -1.6789226349302377, -0.27900686819110787, 0.9892349099096447, -1.298302309466238, 0.30026649691242957, 0.03444557202459019, 0.6198193067399229, -1.393736516029622, -0.06331737942628961, -0.4947697956483195, 2.0471358983548584, -0.11544240972834664, -0.07951266948470047, -1.5289180753904092, -0.3986908510146972, -0.39241606507134763, -1.397261729630864, -0.707382639792071, 0.3132597386888826, -0.16749651101451493, -0.08886801592228395, 0.1674365070605715, -0.31035165933701586, 0.9612214537332486, 0.25809665367328244, -1.546689400288278, -0.36716793334771874, 0.6941773139996782, 0.5716586284309948, -1.3154639457671933, 0.039345274639484416, -0.19433445698592616, -1.1899433081174855, -1.8193503171050316, -0.2109110529440668, 0.5864334575385997, 0.26941716141690847, -0.008809772933606595, -0.936920852657209, 0.9096280091903483, -1.739385395410571, 0.8175700943676584, -0.949389670910661, 0.4124323173999115, -1.5911419325692113, -0.3253505363773546, -0.9062836368367618, -0.6913909430260369, -0.49253138813355235, -0.03603281948359051, -0.21193029956885384, 0.4724652726250642, 0.7941883661128908, 0.26273025780225867, -0.637180057546623, 0.12980384330559883, 0.05515973343473459, 0.6424659230666038, -0.23688937286412992], \"xaxis\": \"x3\", \"y\": [-0.10941102931249815, -0.8615740729354732, 2.2191920448516105, 0.8272024104553013, 0.09260580476298218, -1.760498313088278, -1.3580352833088245, 0.2837646296039586, 0.9041110135710683, 1.8963016027309272, 1.8326035595389771, -0.10492725231921943, -0.2046535814758173, -0.10024462278595839, 0.09630022741523961, -1.6924637530883027, -1.827533202226689, 0.535830442200243, -1.9360645912018926, -0.8500344647105456, -0.05576325053126793, -0.23323577819050917, -0.6976270715849751, 1.5307238079283552, 1.2999535047751662, 0.3303505037693656, -1.000663879444441, 0.6308438849860508, 1.3055824565890246, -0.40507941245360185, -0.3762913856446127, -1.7176097901649348, 0.053400975014509904, 0.21780304650270754, -0.3855545352890779, -0.5661844716568739, -2.560368808121754, 0.3407561655250713, -0.48386581194026446, -1.585339192511962, 0.02408347448600361, -1.2346577797624294, 0.787854145181569, -1.9996732709740686, 1.1464586983894467, 1.496126645525582, 0.5008657636740425, 0.9484308471915603, 0.08220806231666754, 0.16054214225587957, 0.38751961200206325, -0.47077345204718146, 0.35760076104911215, -0.1544322284853308, 0.7463179133033808, -1.502516121508507, 0.5725392099395142, 1.3913604236343293, 2.1210719379328893, 1.8773383992501935, 1.2544431720187816, -0.694049794215334, 2.502637085459896, -0.2753756798548901, -0.004244286821838908, 0.09242496481751918, 0.04883874317874036, -1.1291816313913836, -1.4004908252511359, -1.8213043294508382, -0.5701748178839355, 1.0309248997596467, 0.8003828152110333, 0.47792794445750864, -0.26747921252634377, 1.3405762679316036, -0.7221850291354602, 1.7212787438610841, -1.3063358071403264, 1.0957687559126097, -0.6871292686938323, -1.0645803968637746, 0.7238126783784861, -1.9096265686281966, -0.6711390977232885, 0.21744931156823238, 0.23485404452984696, 0.6167907699912447, 0.387826246423899, 0.9056443724871143, -0.35038815349392105, -1.069160929980094, -0.6957064695988187, 0.35168615193685204, -2.505057701868909, 0.5038066984983418, -2.1427877817529133, 0.4174077862768109, 1.0829115331525192, -0.9391761272870766], \"yaxis\": \"y3\"}, {\"line\": {\"color\": \"rgba(128, 128, 128, 1.0)\", \"dash\": \"solid\", \"shape\": \"linear\", \"width\": 1.3}, \"marker\": {\"size\": 2, \"symbol\": \"circle\"}, \"mode\": \"markers\", \"name\": \"A\", \"text\": \"\", \"type\": \"scatter\", \"x\": [-1.3668378895233886, 1.0487448577880742, -0.2780814513852549, -1.2202610479942235, 0.9227036438758959, 0.5185505064813577, -0.5175472664587596, -1.420949527219002, 1.0457905031395038, 0.7054065280654733, 0.2655120071878172, 1.9149149246153476, 1.1952456979194794, -1.5207725254086575, 0.7289369935826845, -0.09606571285760698, 1.8392220246268107, -0.14238701711042007, -0.3978400499144386, -2.1504970604376226, -0.9567172835412164, -0.20235146523728237, 0.6383229581079899, -0.5823541322299404, -0.783262547296239, 1.4755782225853598, 0.17867775435975977, -2.2553604707979313, -0.9410969736956488, -1.0282883308914732, 0.01931161519015419, -0.3383882634365259, 0.3236055713728934, 1.2058993344815825, -0.6167286837530893, -0.8250115663994755, 0.3024113919853573, -0.6757853063650004, 1.1688504157238322, -1.8704037502636932, -2.254604403213826, -0.3742229416521997, -0.034665618115568446, -0.870737565518343, 1.0908310678469997, -0.9342417520458451, -0.5855183383530895, -0.733227306921073, 2.3699546815345416, -0.4297432317515213, -0.893230053115751, 0.09734081425183469, -0.9801604228873065, -0.7007679117901868, -1.1196281458004769, 0.8325500389794176, 1.1911357585965776, 0.75911476208043, -1.7881704413577488, -1.4685496599258525, -0.2634789970247127, -2.0340851924543273, 0.07962702650411135, 0.10968422073910697, -0.8937387742897317, -1.510326512166877, -0.6307157216379593, 0.23101621260922875, 0.9658507298710426, -0.14582676612986797, 0.24435391392993489, 0.19988226546743493, -1.6864182483270802, -0.179565648317836, 1.5790587268194936, 1.1405837222497026, -1.002542239598847, -0.2848553496664866, 0.22016891217967116, -0.14300651044375284, -2.7373269324359235, -2.538343494779956, 3.04676387515265, -1.7214792981001903, 0.3315444518238859, -2.1173049474469625, -0.9955560567688762, 1.5384651549137196, -1.192188411694422, -0.19873328339923366, 0.2463568803027659, -1.582529421336658, 0.9705880808884735, -0.36394075916775437, 1.8694994508609717, -1.8607920321206797, -0.2144291853983574, 1.0260638450581705, -0.13123875075991048, 1.100593205622243], \"xaxis\": \"x4\", \"y\": [-0.10941102931249815, -0.8615740729354732, 2.2191920448516105, 0.8272024104553013, 0.09260580476298218, -1.760498313088278, -1.3580352833088245, 0.2837646296039586, 0.9041110135710683, 1.8963016027309272, 1.8326035595389771, -0.10492725231921943, -0.2046535814758173, -0.10024462278595839, 0.09630022741523961, -1.6924637530883027, -1.827533202226689, 0.535830442200243, -1.9360645912018926, -0.8500344647105456, -0.05576325053126793, -0.23323577819050917, -0.6976270715849751, 1.5307238079283552, 1.2999535047751662, 0.3303505037693656, -1.000663879444441, 0.6308438849860508, 1.3055824565890246, -0.40507941245360185, -0.3762913856446127, -1.7176097901649348, 0.053400975014509904, 0.21780304650270754, -0.3855545352890779, -0.5661844716568739, -2.560368808121754, 0.3407561655250713, -0.48386581194026446, -1.585339192511962, 0.02408347448600361, -1.2346577797624294, 0.787854145181569, -1.9996732709740686, 1.1464586983894467, 1.496126645525582, 0.5008657636740425, 0.9484308471915603, 0.08220806231666754, 0.16054214225587957, 0.38751961200206325, -0.47077345204718146, 0.35760076104911215, -0.1544322284853308, 0.7463179133033808, -1.502516121508507, 0.5725392099395142, 1.3913604236343293, 2.1210719379328893, 1.8773383992501935, 1.2544431720187816, -0.694049794215334, 2.502637085459896, -0.2753756798548901, -0.004244286821838908, 0.09242496481751918, 0.04883874317874036, -1.1291816313913836, -1.4004908252511359, -1.8213043294508382, -0.5701748178839355, 1.0309248997596467, 0.8003828152110333, 0.47792794445750864, -0.26747921252634377, 1.3405762679316036, -0.7221850291354602, 1.7212787438610841, -1.3063358071403264, 1.0957687559126097, -0.6871292686938323, -1.0645803968637746, 0.7238126783784861, -1.9096265686281966, -0.6711390977232885, 0.21744931156823238, 0.23485404452984696, 0.6167907699912447, 0.387826246423899, 0.9056443724871143, -0.35038815349392105, -1.069160929980094, -0.6957064695988187, 0.35168615193685204, -2.505057701868909, 0.5038066984983418, -2.1427877817529133, 0.4174077862768109, 1.0829115331525192, -0.9391761272870766], \"yaxis\": \"y4\"}, {\"line\": {\"color\": \"rgba(128, 128, 128, 1.0)\", \"dash\": \"solid\", \"shape\": \"linear\", \"width\": 1.3}, \"marker\": {\"size\": 2, \"symbol\": \"circle\"}, \"mode\": \"markers\", \"name\": \"B\", \"text\": \"\", \"type\": \"scatter\", \"x\": [-0.10941102931249815, -0.8615740729354732, 2.2191920448516105, 0.8272024104553013, 0.09260580476298218, -1.760498313088278, -1.3580352833088245, 0.2837646296039586, 0.9041110135710683, 1.8963016027309272, 1.8326035595389771, -0.10492725231921943, -0.2046535814758173, -0.10024462278595839, 0.09630022741523961, -1.6924637530883027, -1.827533202226689, 0.535830442200243, -1.9360645912018926, -0.8500344647105456, -0.05576325053126793, -0.23323577819050917, -0.6976270715849751, 1.5307238079283552, 1.2999535047751662, 0.3303505037693656, -1.000663879444441, 0.6308438849860508, 1.3055824565890246, -0.40507941245360185, -0.3762913856446127, -1.7176097901649348, 0.053400975014509904, 0.21780304650270754, -0.3855545352890779, -0.5661844716568739, -2.560368808121754, 0.3407561655250713, -0.48386581194026446, -1.585339192511962, 0.02408347448600361, -1.2346577797624294, 0.787854145181569, -1.9996732709740686, 1.1464586983894467, 1.496126645525582, 0.5008657636740425, 0.9484308471915603, 0.08220806231666754, 0.16054214225587957, 0.38751961200206325, -0.47077345204718146, 0.35760076104911215, -0.1544322284853308, 0.7463179133033808, -1.502516121508507, 0.5725392099395142, 1.3913604236343293, 2.1210719379328893, 1.8773383992501935, 1.2544431720187816, -0.694049794215334, 2.502637085459896, -0.2753756798548901, -0.004244286821838908, 0.09242496481751918, 0.04883874317874036, -1.1291816313913836, -1.4004908252511359, -1.8213043294508382, -0.5701748178839355, 1.0309248997596467, 0.8003828152110333, 0.47792794445750864, -0.26747921252634377, 1.3405762679316036, -0.7221850291354602, 1.7212787438610841, -1.3063358071403264, 1.0957687559126097, -0.6871292686938323, -1.0645803968637746, 0.7238126783784861, -1.9096265686281966, -0.6711390977232885, 0.21744931156823238, 0.23485404452984696, 0.6167907699912447, 0.387826246423899, 0.9056443724871143, -0.35038815349392105, -1.069160929980094, -0.6957064695988187, 0.35168615193685204, -2.505057701868909, 0.5038066984983418, -2.1427877817529133, 0.4174077862768109, 1.0829115331525192, -0.9391761272870766], \"xaxis\": \"x5\", \"y\": [-1.1623662874693783, -0.832344062710519, -2.6889403263457887, 0.33030460644081305, 1.1897554957994894, -1.8295725952943718, -0.31134257611300087, -1.1150256707068056, 1.1293886257293613, -0.20946608413393494, 1.2949281437111222, 0.7526921284010667, -0.3016330292488494, -0.03385842274369277, 1.6780856289595902, 1.1594910401462286, -1.6476591553972537, 1.008497261373339, -0.6225470768959404, 1.1991325015261836, -0.4704071561565932, 0.8446723097825432, -1.2536342767984199, -0.9130082305126809, 0.714353984339348, 1.751443829854967, 0.21766931930498662, 0.6463839680678777, -1.7860941457977224, 0.08881002354599406, -1.0678176090017426, -0.8816616633014966, -0.4480884978479455, -0.17539412892110837, 0.19768867636516496, 1.141342779188351, 2.164771524215948, -0.016755546990118633, -1.7998811328448996, 0.5442419970493254, -1.3562236272994466, 0.2361511721120601, -0.8759959347156709, 0.9273697244945078, -0.993762710016327, -0.12916485697785596, 0.3245348617171941, 0.8534569933866769, 0.17396641552513492, -0.9579470225201236, 0.04858908835109987, 0.8129978238418555, -1.139226529424848, -0.1847432796748167, -1.3413819334330195, -0.2619249158317706, 0.6516947357167101, 1.675280779975995, -0.08984333109714171, -1.008464832427633, 1.4740205657881218, 0.5898484277272196, 1.4435777212407885, -0.2364445961537404, -1.0875497083560146, -0.7298597590313212, -0.4145246652858039, -0.0403125523078092, 1.8821837770362133, 0.6523163439049054, -0.5319318714142541, -0.886569382439567, -1.57164561702653, -1.000733094004772, 2.252092004447659, -0.9484906947123748, -1.5745344460769646, -0.1147773069126533, 0.9570101068451705, 0.8874610915201626, 1.299598381237897, -1.9866886312472394, 1.769202555822619, 0.16318296330031146, -1.2255227926674428, 0.08450632457157951, 0.6749511586498979, 0.8059974077581394, 1.3743939631390771, 0.6836318367306438, -0.8852015947588725, 0.3855881334460895, 2.0189809445009406, 1.8117916079776115, -0.35933136617635036, -0.0673320225340837, -1.3580807726174224, 0.23268662608029927, 1.1247466248431852, -2.536863370877376], \"yaxis\": \"y5\"}, {\"histfunc\": \"count\", \"histnorm\": \"\", \"marker\": {\"color\": \"rgba(55, 128, 191, 1.0)\", \"line\": {\"color\": \"#4D5663\", \"width\": 1.3}}, \"name\": \"B\", \"nbinsx\": 10, \"opacity\": 0.8, \"orientation\": \"v\", \"type\": \"histogram\", \"x\": [-1.1623662874693783, -0.832344062710519, -2.6889403263457887, 0.33030460644081305, 1.1897554957994894, -1.8295725952943718, -0.31134257611300087, -1.1150256707068056, 1.1293886257293613, -0.20946608413393494, 1.2949281437111222, 0.7526921284010667, -0.3016330292488494, -0.03385842274369277, 1.6780856289595902, 1.1594910401462286, -1.6476591553972537, 1.008497261373339, -0.6225470768959404, 1.1991325015261836, -0.4704071561565932, 0.8446723097825432, -1.2536342767984199, -0.9130082305126809, 0.714353984339348, 1.751443829854967, 0.21766931930498662, 0.6463839680678777, -1.7860941457977224, 0.08881002354599406, -1.0678176090017426, -0.8816616633014966, -0.4480884978479455, -0.17539412892110837, 0.19768867636516496, 1.141342779188351, 2.164771524215948, -0.016755546990118633, -1.7998811328448996, 0.5442419970493254, -1.3562236272994466, 0.2361511721120601, -0.8759959347156709, 0.9273697244945078, -0.993762710016327, -0.12916485697785596, 0.3245348617171941, 0.8534569933866769, 0.17396641552513492, -0.9579470225201236, 0.04858908835109987, 0.8129978238418555, -1.139226529424848, -0.1847432796748167, -1.3413819334330195, -0.2619249158317706, 0.6516947357167101, 1.675280779975995, -0.08984333109714171, -1.008464832427633, 1.4740205657881218, 0.5898484277272196, 1.4435777212407885, -0.2364445961537404, -1.0875497083560146, -0.7298597590313212, -0.4145246652858039, -0.0403125523078092, 1.8821837770362133, 0.6523163439049054, -0.5319318714142541, -0.886569382439567, -1.57164561702653, -1.000733094004772, 2.252092004447659, -0.9484906947123748, -1.5745344460769646, -0.1147773069126533, 0.9570101068451705, 0.8874610915201626, 1.299598381237897, -1.9866886312472394, 1.769202555822619, 0.16318296330031146, -1.2255227926674428, 0.08450632457157951, 0.6749511586498979, 0.8059974077581394, 1.3743939631390771, 0.6836318367306438, -0.8852015947588725, 0.3855881334460895, 2.0189809445009406, 1.8117916079776115, -0.35933136617635036, -0.0673320225340837, -1.3580807726174224, 0.23268662608029927, 1.1247466248431852, -2.536863370877376], \"xaxis\": \"x6\", \"yaxis\": \"y6\"}, {\"line\": {\"color\": \"rgba(128, 128, 128, 1.0)\", \"dash\": \"solid\", \"shape\": \"linear\", \"width\": 1.3}, \"marker\": {\"size\": 2, \"symbol\": \"circle\"}, \"mode\": \"markers\", \"name\": \"B\", \"text\": \"\", \"type\": \"scatter\", \"x\": [-0.4248277594985564, 0.1513504151850946, -2.058306232463962, -1.0436072080846233, -0.6859620625913935, 1.323324310854215, -0.6078577908285538, -0.8706351467472986, -1.032104121118313, 1.104288900893966, 1.1521443061400312, 0.6258457496373017, -1.2991461654159133, 0.20827155978124595, 0.8126572250640745, -0.6400599004589999, 2.5935153583099835, 1.228663466587346, 1.5487171552875663, 0.9587987606710893, 0.7836971828426463, 2.698706022201188, 0.18305424339508325, -0.06408520177085475, 0.22964815043954506, -0.020151643537278646, -0.9314824271831205, 0.014046970767866433, -1.642586812768221, -1.0598398638444377, -0.0007243105853715013, -0.8563550533914012, 0.2541177109277807, -0.24965993985917798, 2.0537542135667524, -0.08564796052704814, -1.087726351552115, -0.7533347973663863, -0.003277530037427063, 0.7941140085094741, 0.8930342883893841, -1.6789226349302377, -0.27900686819110787, 0.9892349099096447, -1.298302309466238, 0.30026649691242957, 0.03444557202459019, 0.6198193067399229, -1.393736516029622, -0.06331737942628961, -0.4947697956483195, 2.0471358983548584, -0.11544240972834664, -0.07951266948470047, -1.5289180753904092, -0.3986908510146972, -0.39241606507134763, -1.397261729630864, -0.707382639792071, 0.3132597386888826, -0.16749651101451493, -0.08886801592228395, 0.1674365070605715, -0.31035165933701586, 0.9612214537332486, 0.25809665367328244, -1.546689400288278, -0.36716793334771874, 0.6941773139996782, 0.5716586284309948, -1.3154639457671933, 0.039345274639484416, -0.19433445698592616, -1.1899433081174855, -1.8193503171050316, -0.2109110529440668, 0.5864334575385997, 0.26941716141690847, -0.008809772933606595, -0.936920852657209, 0.9096280091903483, -1.739385395410571, 0.8175700943676584, -0.949389670910661, 0.4124323173999115, -1.5911419325692113, -0.3253505363773546, -0.9062836368367618, -0.6913909430260369, -0.49253138813355235, -0.03603281948359051, -0.21193029956885384, 0.4724652726250642, 0.7941883661128908, 0.26273025780225867, -0.637180057546623, 0.12980384330559883, 0.05515973343473459, 0.6424659230666038, -0.23688937286412992], \"xaxis\": \"x7\", \"y\": [-1.1623662874693783, -0.832344062710519, -2.6889403263457887, 0.33030460644081305, 1.1897554957994894, -1.8295725952943718, -0.31134257611300087, -1.1150256707068056, 1.1293886257293613, -0.20946608413393494, 1.2949281437111222, 0.7526921284010667, -0.3016330292488494, -0.03385842274369277, 1.6780856289595902, 1.1594910401462286, -1.6476591553972537, 1.008497261373339, -0.6225470768959404, 1.1991325015261836, -0.4704071561565932, 0.8446723097825432, -1.2536342767984199, -0.9130082305126809, 0.714353984339348, 1.751443829854967, 0.21766931930498662, 0.6463839680678777, -1.7860941457977224, 0.08881002354599406, -1.0678176090017426, -0.8816616633014966, -0.4480884978479455, -0.17539412892110837, 0.19768867636516496, 1.141342779188351, 2.164771524215948, -0.016755546990118633, -1.7998811328448996, 0.5442419970493254, -1.3562236272994466, 0.2361511721120601, -0.8759959347156709, 0.9273697244945078, -0.993762710016327, -0.12916485697785596, 0.3245348617171941, 0.8534569933866769, 0.17396641552513492, -0.9579470225201236, 0.04858908835109987, 0.8129978238418555, -1.139226529424848, -0.1847432796748167, -1.3413819334330195, -0.2619249158317706, 0.6516947357167101, 1.675280779975995, -0.08984333109714171, -1.008464832427633, 1.4740205657881218, 0.5898484277272196, 1.4435777212407885, -0.2364445961537404, -1.0875497083560146, -0.7298597590313212, -0.4145246652858039, -0.0403125523078092, 1.8821837770362133, 0.6523163439049054, -0.5319318714142541, -0.886569382439567, -1.57164561702653, -1.000733094004772, 2.252092004447659, -0.9484906947123748, -1.5745344460769646, -0.1147773069126533, 0.9570101068451705, 0.8874610915201626, 1.299598381237897, -1.9866886312472394, 1.769202555822619, 0.16318296330031146, -1.2255227926674428, 0.08450632457157951, 0.6749511586498979, 0.8059974077581394, 1.3743939631390771, 0.6836318367306438, -0.8852015947588725, 0.3855881334460895, 2.0189809445009406, 1.8117916079776115, -0.35933136617635036, -0.0673320225340837, -1.3580807726174224, 0.23268662608029927, 1.1247466248431852, -2.536863370877376], \"yaxis\": \"y7\"}, {\"line\": {\"color\": \"rgba(128, 128, 128, 1.0)\", \"dash\": \"solid\", \"shape\": \"linear\", \"width\": 1.3}, \"marker\": {\"size\": 2, \"symbol\": \"circle\"}, \"mode\": \"markers\", \"name\": \"B\", \"text\": \"\", \"type\": \"scatter\", \"x\": [-1.3668378895233886, 1.0487448577880742, -0.2780814513852549, -1.2202610479942235, 0.9227036438758959, 0.5185505064813577, -0.5175472664587596, -1.420949527219002, 1.0457905031395038, 0.7054065280654733, 0.2655120071878172, 1.9149149246153476, 1.1952456979194794, -1.5207725254086575, 0.7289369935826845, -0.09606571285760698, 1.8392220246268107, -0.14238701711042007, -0.3978400499144386, -2.1504970604376226, -0.9567172835412164, -0.20235146523728237, 0.6383229581079899, -0.5823541322299404, -0.783262547296239, 1.4755782225853598, 0.17867775435975977, -2.2553604707979313, -0.9410969736956488, -1.0282883308914732, 0.01931161519015419, -0.3383882634365259, 0.3236055713728934, 1.2058993344815825, -0.6167286837530893, -0.8250115663994755, 0.3024113919853573, -0.6757853063650004, 1.1688504157238322, -1.8704037502636932, -2.254604403213826, -0.3742229416521997, -0.034665618115568446, -0.870737565518343, 1.0908310678469997, -0.9342417520458451, -0.5855183383530895, -0.733227306921073, 2.3699546815345416, -0.4297432317515213, -0.893230053115751, 0.09734081425183469, -0.9801604228873065, -0.7007679117901868, -1.1196281458004769, 0.8325500389794176, 1.1911357585965776, 0.75911476208043, -1.7881704413577488, -1.4685496599258525, -0.2634789970247127, -2.0340851924543273, 0.07962702650411135, 0.10968422073910697, -0.8937387742897317, -1.510326512166877, -0.6307157216379593, 0.23101621260922875, 0.9658507298710426, -0.14582676612986797, 0.24435391392993489, 0.19988226546743493, -1.6864182483270802, -0.179565648317836, 1.5790587268194936, 1.1405837222497026, -1.002542239598847, -0.2848553496664866, 0.22016891217967116, -0.14300651044375284, -2.7373269324359235, -2.538343494779956, 3.04676387515265, -1.7214792981001903, 0.3315444518238859, -2.1173049474469625, -0.9955560567688762, 1.5384651549137196, -1.192188411694422, -0.19873328339923366, 0.2463568803027659, -1.582529421336658, 0.9705880808884735, -0.36394075916775437, 1.8694994508609717, -1.8607920321206797, -0.2144291853983574, 1.0260638450581705, -0.13123875075991048, 1.100593205622243], \"xaxis\": \"x8\", \"y\": [-1.1623662874693783, -0.832344062710519, -2.6889403263457887, 0.33030460644081305, 1.1897554957994894, -1.8295725952943718, -0.31134257611300087, -1.1150256707068056, 1.1293886257293613, -0.20946608413393494, 1.2949281437111222, 0.7526921284010667, -0.3016330292488494, -0.03385842274369277, 1.6780856289595902, 1.1594910401462286, -1.6476591553972537, 1.008497261373339, -0.6225470768959404, 1.1991325015261836, -0.4704071561565932, 0.8446723097825432, -1.2536342767984199, -0.9130082305126809, 0.714353984339348, 1.751443829854967, 0.21766931930498662, 0.6463839680678777, -1.7860941457977224, 0.08881002354599406, -1.0678176090017426, -0.8816616633014966, -0.4480884978479455, -0.17539412892110837, 0.19768867636516496, 1.141342779188351, 2.164771524215948, -0.016755546990118633, -1.7998811328448996, 0.5442419970493254, -1.3562236272994466, 0.2361511721120601, -0.8759959347156709, 0.9273697244945078, -0.993762710016327, -0.12916485697785596, 0.3245348617171941, 0.8534569933866769, 0.17396641552513492, -0.9579470225201236, 0.04858908835109987, 0.8129978238418555, -1.139226529424848, -0.1847432796748167, -1.3413819334330195, -0.2619249158317706, 0.6516947357167101, 1.675280779975995, -0.08984333109714171, -1.008464832427633, 1.4740205657881218, 0.5898484277272196, 1.4435777212407885, -0.2364445961537404, -1.0875497083560146, -0.7298597590313212, -0.4145246652858039, -0.0403125523078092, 1.8821837770362133, 0.6523163439049054, -0.5319318714142541, -0.886569382439567, -1.57164561702653, -1.000733094004772, 2.252092004447659, -0.9484906947123748, -1.5745344460769646, -0.1147773069126533, 0.9570101068451705, 0.8874610915201626, 1.299598381237897, -1.9866886312472394, 1.769202555822619, 0.16318296330031146, -1.2255227926674428, 0.08450632457157951, 0.6749511586498979, 0.8059974077581394, 1.3743939631390771, 0.6836318367306438, -0.8852015947588725, 0.3855881334460895, 2.0189809445009406, 1.8117916079776115, -0.35933136617635036, -0.0673320225340837, -1.3580807726174224, 0.23268662608029927, 1.1247466248431852, -2.536863370877376], \"yaxis\": \"y8\"}, {\"line\": {\"color\": \"rgba(128, 128, 128, 1.0)\", \"dash\": \"solid\", \"shape\": \"linear\", \"width\": 1.3}, \"marker\": {\"size\": 2, \"symbol\": \"circle\"}, \"mode\": \"markers\", \"name\": \"C\", \"text\": \"\", \"type\": \"scatter\", \"x\": [-0.10941102931249815, -0.8615740729354732, 2.2191920448516105, 0.8272024104553013, 0.09260580476298218, -1.760498313088278, -1.3580352833088245, 0.2837646296039586, 0.9041110135710683, 1.8963016027309272, 1.8326035595389771, -0.10492725231921943, -0.2046535814758173, -0.10024462278595839, 0.09630022741523961, -1.6924637530883027, -1.827533202226689, 0.535830442200243, -1.9360645912018926, -0.8500344647105456, -0.05576325053126793, -0.23323577819050917, -0.6976270715849751, 1.5307238079283552, 1.2999535047751662, 0.3303505037693656, -1.000663879444441, 0.6308438849860508, 1.3055824565890246, -0.40507941245360185, -0.3762913856446127, -1.7176097901649348, 0.053400975014509904, 0.21780304650270754, -0.3855545352890779, -0.5661844716568739, -2.560368808121754, 0.3407561655250713, -0.48386581194026446, -1.585339192511962, 0.02408347448600361, -1.2346577797624294, 0.787854145181569, -1.9996732709740686, 1.1464586983894467, 1.496126645525582, 0.5008657636740425, 0.9484308471915603, 0.08220806231666754, 0.16054214225587957, 0.38751961200206325, -0.47077345204718146, 0.35760076104911215, -0.1544322284853308, 0.7463179133033808, -1.502516121508507, 0.5725392099395142, 1.3913604236343293, 2.1210719379328893, 1.8773383992501935, 1.2544431720187816, -0.694049794215334, 2.502637085459896, -0.2753756798548901, -0.004244286821838908, 0.09242496481751918, 0.04883874317874036, -1.1291816313913836, -1.4004908252511359, -1.8213043294508382, -0.5701748178839355, 1.0309248997596467, 0.8003828152110333, 0.47792794445750864, -0.26747921252634377, 1.3405762679316036, -0.7221850291354602, 1.7212787438610841, -1.3063358071403264, 1.0957687559126097, -0.6871292686938323, -1.0645803968637746, 0.7238126783784861, -1.9096265686281966, -0.6711390977232885, 0.21744931156823238, 0.23485404452984696, 0.6167907699912447, 0.387826246423899, 0.9056443724871143, -0.35038815349392105, -1.069160929980094, -0.6957064695988187, 0.35168615193685204, -2.505057701868909, 0.5038066984983418, -2.1427877817529133, 0.4174077862768109, 1.0829115331525192, -0.9391761272870766], \"xaxis\": \"x9\", \"y\": [-0.4248277594985564, 0.1513504151850946, -2.058306232463962, -1.0436072080846233, -0.6859620625913935, 1.323324310854215, -0.6078577908285538, -0.8706351467472986, -1.032104121118313, 1.104288900893966, 1.1521443061400312, 0.6258457496373017, -1.2991461654159133, 0.20827155978124595, 0.8126572250640745, -0.6400599004589999, 2.5935153583099835, 1.228663466587346, 1.5487171552875663, 0.9587987606710893, 0.7836971828426463, 2.698706022201188, 0.18305424339508325, -0.06408520177085475, 0.22964815043954506, -0.020151643537278646, -0.9314824271831205, 0.014046970767866433, -1.642586812768221, -1.0598398638444377, -0.0007243105853715013, -0.8563550533914012, 0.2541177109277807, -0.24965993985917798, 2.0537542135667524, -0.08564796052704814, -1.087726351552115, -0.7533347973663863, -0.003277530037427063, 0.7941140085094741, 0.8930342883893841, -1.6789226349302377, -0.27900686819110787, 0.9892349099096447, -1.298302309466238, 0.30026649691242957, 0.03444557202459019, 0.6198193067399229, -1.393736516029622, -0.06331737942628961, -0.4947697956483195, 2.0471358983548584, -0.11544240972834664, -0.07951266948470047, -1.5289180753904092, -0.3986908510146972, -0.39241606507134763, -1.397261729630864, -0.707382639792071, 0.3132597386888826, -0.16749651101451493, -0.08886801592228395, 0.1674365070605715, -0.31035165933701586, 0.9612214537332486, 0.25809665367328244, -1.546689400288278, -0.36716793334771874, 0.6941773139996782, 0.5716586284309948, -1.3154639457671933, 0.039345274639484416, -0.19433445698592616, -1.1899433081174855, -1.8193503171050316, -0.2109110529440668, 0.5864334575385997, 0.26941716141690847, -0.008809772933606595, -0.936920852657209, 0.9096280091903483, -1.739385395410571, 0.8175700943676584, -0.949389670910661, 0.4124323173999115, -1.5911419325692113, -0.3253505363773546, -0.9062836368367618, -0.6913909430260369, -0.49253138813355235, -0.03603281948359051, -0.21193029956885384, 0.4724652726250642, 0.7941883661128908, 0.26273025780225867, -0.637180057546623, 0.12980384330559883, 0.05515973343473459, 0.6424659230666038, -0.23688937286412992], \"yaxis\": \"y9\"}, {\"line\": {\"color\": \"rgba(128, 128, 128, 1.0)\", \"dash\": \"solid\", \"shape\": \"linear\", \"width\": 1.3}, \"marker\": {\"size\": 2, \"symbol\": \"circle\"}, \"mode\": \"markers\", \"name\": \"C\", \"text\": \"\", \"type\": \"scatter\", \"x\": [-1.1623662874693783, -0.832344062710519, -2.6889403263457887, 0.33030460644081305, 1.1897554957994894, -1.8295725952943718, -0.31134257611300087, -1.1150256707068056, 1.1293886257293613, -0.20946608413393494, 1.2949281437111222, 0.7526921284010667, -0.3016330292488494, -0.03385842274369277, 1.6780856289595902, 1.1594910401462286, -1.6476591553972537, 1.008497261373339, -0.6225470768959404, 1.1991325015261836, -0.4704071561565932, 0.8446723097825432, -1.2536342767984199, -0.9130082305126809, 0.714353984339348, 1.751443829854967, 0.21766931930498662, 0.6463839680678777, -1.7860941457977224, 0.08881002354599406, -1.0678176090017426, -0.8816616633014966, -0.4480884978479455, -0.17539412892110837, 0.19768867636516496, 1.141342779188351, 2.164771524215948, -0.016755546990118633, -1.7998811328448996, 0.5442419970493254, -1.3562236272994466, 0.2361511721120601, -0.8759959347156709, 0.9273697244945078, -0.993762710016327, -0.12916485697785596, 0.3245348617171941, 0.8534569933866769, 0.17396641552513492, -0.9579470225201236, 0.04858908835109987, 0.8129978238418555, -1.139226529424848, -0.1847432796748167, -1.3413819334330195, -0.2619249158317706, 0.6516947357167101, 1.675280779975995, -0.08984333109714171, -1.008464832427633, 1.4740205657881218, 0.5898484277272196, 1.4435777212407885, -0.2364445961537404, -1.0875497083560146, -0.7298597590313212, -0.4145246652858039, -0.0403125523078092, 1.8821837770362133, 0.6523163439049054, -0.5319318714142541, -0.886569382439567, -1.57164561702653, -1.000733094004772, 2.252092004447659, -0.9484906947123748, -1.5745344460769646, -0.1147773069126533, 0.9570101068451705, 0.8874610915201626, 1.299598381237897, -1.9866886312472394, 1.769202555822619, 0.16318296330031146, -1.2255227926674428, 0.08450632457157951, 0.6749511586498979, 0.8059974077581394, 1.3743939631390771, 0.6836318367306438, -0.8852015947588725, 0.3855881334460895, 2.0189809445009406, 1.8117916079776115, -0.35933136617635036, -0.0673320225340837, -1.3580807726174224, 0.23268662608029927, 1.1247466248431852, -2.536863370877376], \"xaxis\": \"x10\", \"y\": [-0.4248277594985564, 0.1513504151850946, -2.058306232463962, -1.0436072080846233, -0.6859620625913935, 1.323324310854215, -0.6078577908285538, -0.8706351467472986, -1.032104121118313, 1.104288900893966, 1.1521443061400312, 0.6258457496373017, -1.2991461654159133, 0.20827155978124595, 0.8126572250640745, -0.6400599004589999, 2.5935153583099835, 1.228663466587346, 1.5487171552875663, 0.9587987606710893, 0.7836971828426463, 2.698706022201188, 0.18305424339508325, -0.06408520177085475, 0.22964815043954506, -0.020151643537278646, -0.9314824271831205, 0.014046970767866433, -1.642586812768221, -1.0598398638444377, -0.0007243105853715013, -0.8563550533914012, 0.2541177109277807, -0.24965993985917798, 2.0537542135667524, -0.08564796052704814, -1.087726351552115, -0.7533347973663863, -0.003277530037427063, 0.7941140085094741, 0.8930342883893841, -1.6789226349302377, -0.27900686819110787, 0.9892349099096447, -1.298302309466238, 0.30026649691242957, 0.03444557202459019, 0.6198193067399229, -1.393736516029622, -0.06331737942628961, -0.4947697956483195, 2.0471358983548584, -0.11544240972834664, -0.07951266948470047, -1.5289180753904092, -0.3986908510146972, -0.39241606507134763, -1.397261729630864, -0.707382639792071, 0.3132597386888826, -0.16749651101451493, -0.08886801592228395, 0.1674365070605715, -0.31035165933701586, 0.9612214537332486, 0.25809665367328244, -1.546689400288278, -0.36716793334771874, 0.6941773139996782, 0.5716586284309948, -1.3154639457671933, 0.039345274639484416, -0.19433445698592616, -1.1899433081174855, -1.8193503171050316, -0.2109110529440668, 0.5864334575385997, 0.26941716141690847, -0.008809772933606595, -0.936920852657209, 0.9096280091903483, -1.739385395410571, 0.8175700943676584, -0.949389670910661, 0.4124323173999115, -1.5911419325692113, -0.3253505363773546, -0.9062836368367618, -0.6913909430260369, -0.49253138813355235, -0.03603281948359051, -0.21193029956885384, 0.4724652726250642, 0.7941883661128908, 0.26273025780225867, -0.637180057546623, 0.12980384330559883, 0.05515973343473459, 0.6424659230666038, -0.23688937286412992], \"yaxis\": \"y10\"}, {\"histfunc\": \"count\", \"histnorm\": \"\", \"marker\": {\"color\": \"rgba(50, 171, 96, 1.0)\", \"line\": {\"color\": \"#4D5663\", \"width\": 1.3}}, \"name\": \"C\", \"nbinsx\": 10, \"opacity\": 0.8, \"orientation\": \"v\", \"type\": \"histogram\", \"x\": [-0.4248277594985564, 0.1513504151850946, -2.058306232463962, -1.0436072080846233, -0.6859620625913935, 1.323324310854215, -0.6078577908285538, -0.8706351467472986, -1.032104121118313, 1.104288900893966, 1.1521443061400312, 0.6258457496373017, -1.2991461654159133, 0.20827155978124595, 0.8126572250640745, -0.6400599004589999, 2.5935153583099835, 1.228663466587346, 1.5487171552875663, 0.9587987606710893, 0.7836971828426463, 2.698706022201188, 0.18305424339508325, -0.06408520177085475, 0.22964815043954506, -0.020151643537278646, -0.9314824271831205, 0.014046970767866433, -1.642586812768221, -1.0598398638444377, -0.0007243105853715013, -0.8563550533914012, 0.2541177109277807, -0.24965993985917798, 2.0537542135667524, -0.08564796052704814, -1.087726351552115, -0.7533347973663863, -0.003277530037427063, 0.7941140085094741, 0.8930342883893841, -1.6789226349302377, -0.27900686819110787, 0.9892349099096447, -1.298302309466238, 0.30026649691242957, 0.03444557202459019, 0.6198193067399229, -1.393736516029622, -0.06331737942628961, -0.4947697956483195, 2.0471358983548584, -0.11544240972834664, -0.07951266948470047, -1.5289180753904092, -0.3986908510146972, -0.39241606507134763, -1.397261729630864, -0.707382639792071, 0.3132597386888826, -0.16749651101451493, -0.08886801592228395, 0.1674365070605715, -0.31035165933701586, 0.9612214537332486, 0.25809665367328244, -1.546689400288278, -0.36716793334771874, 0.6941773139996782, 0.5716586284309948, -1.3154639457671933, 0.039345274639484416, -0.19433445698592616, -1.1899433081174855, -1.8193503171050316, -0.2109110529440668, 0.5864334575385997, 0.26941716141690847, -0.008809772933606595, -0.936920852657209, 0.9096280091903483, -1.739385395410571, 0.8175700943676584, -0.949389670910661, 0.4124323173999115, -1.5911419325692113, -0.3253505363773546, -0.9062836368367618, -0.6913909430260369, -0.49253138813355235, -0.03603281948359051, -0.21193029956885384, 0.4724652726250642, 0.7941883661128908, 0.26273025780225867, -0.637180057546623, 0.12980384330559883, 0.05515973343473459, 0.6424659230666038, -0.23688937286412992], \"xaxis\": \"x11\", \"yaxis\": \"y11\"}, {\"line\": {\"color\": \"rgba(128, 128, 128, 1.0)\", \"dash\": \"solid\", \"shape\": \"linear\", \"width\": 1.3}, \"marker\": {\"size\": 2, \"symbol\": \"circle\"}, \"mode\": \"markers\", \"name\": \"C\", \"text\": \"\", \"type\": \"scatter\", \"x\": [-1.3668378895233886, 1.0487448577880742, -0.2780814513852549, -1.2202610479942235, 0.9227036438758959, 0.5185505064813577, -0.5175472664587596, -1.420949527219002, 1.0457905031395038, 0.7054065280654733, 0.2655120071878172, 1.9149149246153476, 1.1952456979194794, -1.5207725254086575, 0.7289369935826845, -0.09606571285760698, 1.8392220246268107, -0.14238701711042007, -0.3978400499144386, -2.1504970604376226, -0.9567172835412164, -0.20235146523728237, 0.6383229581079899, -0.5823541322299404, -0.783262547296239, 1.4755782225853598, 0.17867775435975977, -2.2553604707979313, -0.9410969736956488, -1.0282883308914732, 0.01931161519015419, -0.3383882634365259, 0.3236055713728934, 1.2058993344815825, -0.6167286837530893, -0.8250115663994755, 0.3024113919853573, -0.6757853063650004, 1.1688504157238322, -1.8704037502636932, -2.254604403213826, -0.3742229416521997, -0.034665618115568446, -0.870737565518343, 1.0908310678469997, -0.9342417520458451, -0.5855183383530895, -0.733227306921073, 2.3699546815345416, -0.4297432317515213, -0.893230053115751, 0.09734081425183469, -0.9801604228873065, -0.7007679117901868, -1.1196281458004769, 0.8325500389794176, 1.1911357585965776, 0.75911476208043, -1.7881704413577488, -1.4685496599258525, -0.2634789970247127, -2.0340851924543273, 0.07962702650411135, 0.10968422073910697, -0.8937387742897317, -1.510326512166877, -0.6307157216379593, 0.23101621260922875, 0.9658507298710426, -0.14582676612986797, 0.24435391392993489, 0.19988226546743493, -1.6864182483270802, -0.179565648317836, 1.5790587268194936, 1.1405837222497026, -1.002542239598847, -0.2848553496664866, 0.22016891217967116, -0.14300651044375284, -2.7373269324359235, -2.538343494779956, 3.04676387515265, -1.7214792981001903, 0.3315444518238859, -2.1173049474469625, -0.9955560567688762, 1.5384651549137196, -1.192188411694422, -0.19873328339923366, 0.2463568803027659, -1.582529421336658, 0.9705880808884735, -0.36394075916775437, 1.8694994508609717, -1.8607920321206797, -0.2144291853983574, 1.0260638450581705, -0.13123875075991048, 1.100593205622243], \"xaxis\": \"x12\", \"y\": [-0.4248277594985564, 0.1513504151850946, -2.058306232463962, -1.0436072080846233, -0.6859620625913935, 1.323324310854215, -0.6078577908285538, -0.8706351467472986, -1.032104121118313, 1.104288900893966, 1.1521443061400312, 0.6258457496373017, -1.2991461654159133, 0.20827155978124595, 0.8126572250640745, -0.6400599004589999, 2.5935153583099835, 1.228663466587346, 1.5487171552875663, 0.9587987606710893, 0.7836971828426463, 2.698706022201188, 0.18305424339508325, -0.06408520177085475, 0.22964815043954506, -0.020151643537278646, -0.9314824271831205, 0.014046970767866433, -1.642586812768221, -1.0598398638444377, -0.0007243105853715013, -0.8563550533914012, 0.2541177109277807, -0.24965993985917798, 2.0537542135667524, -0.08564796052704814, -1.087726351552115, -0.7533347973663863, -0.003277530037427063, 0.7941140085094741, 0.8930342883893841, -1.6789226349302377, -0.27900686819110787, 0.9892349099096447, -1.298302309466238, 0.30026649691242957, 0.03444557202459019, 0.6198193067399229, -1.393736516029622, -0.06331737942628961, -0.4947697956483195, 2.0471358983548584, -0.11544240972834664, -0.07951266948470047, -1.5289180753904092, -0.3986908510146972, -0.39241606507134763, -1.397261729630864, -0.707382639792071, 0.3132597386888826, -0.16749651101451493, -0.08886801592228395, 0.1674365070605715, -0.31035165933701586, 0.9612214537332486, 0.25809665367328244, -1.546689400288278, -0.36716793334771874, 0.6941773139996782, 0.5716586284309948, -1.3154639457671933, 0.039345274639484416, -0.19433445698592616, -1.1899433081174855, -1.8193503171050316, -0.2109110529440668, 0.5864334575385997, 0.26941716141690847, -0.008809772933606595, -0.936920852657209, 0.9096280091903483, -1.739385395410571, 0.8175700943676584, -0.949389670910661, 0.4124323173999115, -1.5911419325692113, -0.3253505363773546, -0.9062836368367618, -0.6913909430260369, -0.49253138813355235, -0.03603281948359051, -0.21193029956885384, 0.4724652726250642, 0.7941883661128908, 0.26273025780225867, -0.637180057546623, 0.12980384330559883, 0.05515973343473459, 0.6424659230666038, -0.23688937286412992], \"yaxis\": \"y12\"}, {\"line\": {\"color\": \"rgba(128, 128, 128, 1.0)\", \"dash\": \"solid\", \"shape\": \"linear\", \"width\": 1.3}, \"marker\": {\"size\": 2, \"symbol\": \"circle\"}, \"mode\": \"markers\", \"name\": \"D\", \"text\": \"\", \"type\": \"scatter\", \"x\": [-0.10941102931249815, -0.8615740729354732, 2.2191920448516105, 0.8272024104553013, 0.09260580476298218, -1.760498313088278, -1.3580352833088245, 0.2837646296039586, 0.9041110135710683, 1.8963016027309272, 1.8326035595389771, -0.10492725231921943, -0.2046535814758173, -0.10024462278595839, 0.09630022741523961, -1.6924637530883027, -1.827533202226689, 0.535830442200243, -1.9360645912018926, -0.8500344647105456, -0.05576325053126793, -0.23323577819050917, -0.6976270715849751, 1.5307238079283552, 1.2999535047751662, 0.3303505037693656, -1.000663879444441, 0.6308438849860508, 1.3055824565890246, -0.40507941245360185, -0.3762913856446127, -1.7176097901649348, 0.053400975014509904, 0.21780304650270754, -0.3855545352890779, -0.5661844716568739, -2.560368808121754, 0.3407561655250713, -0.48386581194026446, -1.585339192511962, 0.02408347448600361, -1.2346577797624294, 0.787854145181569, -1.9996732709740686, 1.1464586983894467, 1.496126645525582, 0.5008657636740425, 0.9484308471915603, 0.08220806231666754, 0.16054214225587957, 0.38751961200206325, -0.47077345204718146, 0.35760076104911215, -0.1544322284853308, 0.7463179133033808, -1.502516121508507, 0.5725392099395142, 1.3913604236343293, 2.1210719379328893, 1.8773383992501935, 1.2544431720187816, -0.694049794215334, 2.502637085459896, -0.2753756798548901, -0.004244286821838908, 0.09242496481751918, 0.04883874317874036, -1.1291816313913836, -1.4004908252511359, -1.8213043294508382, -0.5701748178839355, 1.0309248997596467, 0.8003828152110333, 0.47792794445750864, -0.26747921252634377, 1.3405762679316036, -0.7221850291354602, 1.7212787438610841, -1.3063358071403264, 1.0957687559126097, -0.6871292686938323, -1.0645803968637746, 0.7238126783784861, -1.9096265686281966, -0.6711390977232885, 0.21744931156823238, 0.23485404452984696, 0.6167907699912447, 0.387826246423899, 0.9056443724871143, -0.35038815349392105, -1.069160929980094, -0.6957064695988187, 0.35168615193685204, -2.505057701868909, 0.5038066984983418, -2.1427877817529133, 0.4174077862768109, 1.0829115331525192, -0.9391761272870766], \"xaxis\": \"x13\", \"y\": [-1.3668378895233886, 1.0487448577880742, -0.2780814513852549, -1.2202610479942235, 0.9227036438758959, 0.5185505064813577, -0.5175472664587596, -1.420949527219002, 1.0457905031395038, 0.7054065280654733, 0.2655120071878172, 1.9149149246153476, 1.1952456979194794, -1.5207725254086575, 0.7289369935826845, -0.09606571285760698, 1.8392220246268107, -0.14238701711042007, -0.3978400499144386, -2.1504970604376226, -0.9567172835412164, -0.20235146523728237, 0.6383229581079899, -0.5823541322299404, -0.783262547296239, 1.4755782225853598, 0.17867775435975977, -2.2553604707979313, -0.9410969736956488, -1.0282883308914732, 0.01931161519015419, -0.3383882634365259, 0.3236055713728934, 1.2058993344815825, -0.6167286837530893, -0.8250115663994755, 0.3024113919853573, -0.6757853063650004, 1.1688504157238322, -1.8704037502636932, -2.254604403213826, -0.3742229416521997, -0.034665618115568446, -0.870737565518343, 1.0908310678469997, -0.9342417520458451, -0.5855183383530895, -0.733227306921073, 2.3699546815345416, -0.4297432317515213, -0.893230053115751, 0.09734081425183469, -0.9801604228873065, -0.7007679117901868, -1.1196281458004769, 0.8325500389794176, 1.1911357585965776, 0.75911476208043, -1.7881704413577488, -1.4685496599258525, -0.2634789970247127, -2.0340851924543273, 0.07962702650411135, 0.10968422073910697, -0.8937387742897317, -1.510326512166877, -0.6307157216379593, 0.23101621260922875, 0.9658507298710426, -0.14582676612986797, 0.24435391392993489, 0.19988226546743493, -1.6864182483270802, -0.179565648317836, 1.5790587268194936, 1.1405837222497026, -1.002542239598847, -0.2848553496664866, 0.22016891217967116, -0.14300651044375284, -2.7373269324359235, -2.538343494779956, 3.04676387515265, -1.7214792981001903, 0.3315444518238859, -2.1173049474469625, -0.9955560567688762, 1.5384651549137196, -1.192188411694422, -0.19873328339923366, 0.2463568803027659, -1.582529421336658, 0.9705880808884735, -0.36394075916775437, 1.8694994508609717, -1.8607920321206797, -0.2144291853983574, 1.0260638450581705, -0.13123875075991048, 1.100593205622243], \"yaxis\": \"y13\"}, {\"line\": {\"color\": \"rgba(128, 128, 128, 1.0)\", \"dash\": \"solid\", \"shape\": \"linear\", \"width\": 1.3}, \"marker\": {\"size\": 2, \"symbol\": \"circle\"}, \"mode\": \"markers\", \"name\": \"D\", \"text\": \"\", \"type\": \"scatter\", \"x\": [-1.1623662874693783, -0.832344062710519, -2.6889403263457887, 0.33030460644081305, 1.1897554957994894, -1.8295725952943718, -0.31134257611300087, -1.1150256707068056, 1.1293886257293613, -0.20946608413393494, 1.2949281437111222, 0.7526921284010667, -0.3016330292488494, -0.03385842274369277, 1.6780856289595902, 1.1594910401462286, -1.6476591553972537, 1.008497261373339, -0.6225470768959404, 1.1991325015261836, -0.4704071561565932, 0.8446723097825432, -1.2536342767984199, -0.9130082305126809, 0.714353984339348, 1.751443829854967, 0.21766931930498662, 0.6463839680678777, -1.7860941457977224, 0.08881002354599406, -1.0678176090017426, -0.8816616633014966, -0.4480884978479455, -0.17539412892110837, 0.19768867636516496, 1.141342779188351, 2.164771524215948, -0.016755546990118633, -1.7998811328448996, 0.5442419970493254, -1.3562236272994466, 0.2361511721120601, -0.8759959347156709, 0.9273697244945078, -0.993762710016327, -0.12916485697785596, 0.3245348617171941, 0.8534569933866769, 0.17396641552513492, -0.9579470225201236, 0.04858908835109987, 0.8129978238418555, -1.139226529424848, -0.1847432796748167, -1.3413819334330195, -0.2619249158317706, 0.6516947357167101, 1.675280779975995, -0.08984333109714171, -1.008464832427633, 1.4740205657881218, 0.5898484277272196, 1.4435777212407885, -0.2364445961537404, -1.0875497083560146, -0.7298597590313212, -0.4145246652858039, -0.0403125523078092, 1.8821837770362133, 0.6523163439049054, -0.5319318714142541, -0.886569382439567, -1.57164561702653, -1.000733094004772, 2.252092004447659, -0.9484906947123748, -1.5745344460769646, -0.1147773069126533, 0.9570101068451705, 0.8874610915201626, 1.299598381237897, -1.9866886312472394, 1.769202555822619, 0.16318296330031146, -1.2255227926674428, 0.08450632457157951, 0.6749511586498979, 0.8059974077581394, 1.3743939631390771, 0.6836318367306438, -0.8852015947588725, 0.3855881334460895, 2.0189809445009406, 1.8117916079776115, -0.35933136617635036, -0.0673320225340837, -1.3580807726174224, 0.23268662608029927, 1.1247466248431852, -2.536863370877376], \"xaxis\": \"x14\", \"y\": [-1.3668378895233886, 1.0487448577880742, -0.2780814513852549, -1.2202610479942235, 0.9227036438758959, 0.5185505064813577, -0.5175472664587596, -1.420949527219002, 1.0457905031395038, 0.7054065280654733, 0.2655120071878172, 1.9149149246153476, 1.1952456979194794, -1.5207725254086575, 0.7289369935826845, -0.09606571285760698, 1.8392220246268107, -0.14238701711042007, -0.3978400499144386, -2.1504970604376226, -0.9567172835412164, -0.20235146523728237, 0.6383229581079899, -0.5823541322299404, -0.783262547296239, 1.4755782225853598, 0.17867775435975977, -2.2553604707979313, -0.9410969736956488, -1.0282883308914732, 0.01931161519015419, -0.3383882634365259, 0.3236055713728934, 1.2058993344815825, -0.6167286837530893, -0.8250115663994755, 0.3024113919853573, -0.6757853063650004, 1.1688504157238322, -1.8704037502636932, -2.254604403213826, -0.3742229416521997, -0.034665618115568446, -0.870737565518343, 1.0908310678469997, -0.9342417520458451, -0.5855183383530895, -0.733227306921073, 2.3699546815345416, -0.4297432317515213, -0.893230053115751, 0.09734081425183469, -0.9801604228873065, -0.7007679117901868, -1.1196281458004769, 0.8325500389794176, 1.1911357585965776, 0.75911476208043, -1.7881704413577488, -1.4685496599258525, -0.2634789970247127, -2.0340851924543273, 0.07962702650411135, 0.10968422073910697, -0.8937387742897317, -1.510326512166877, -0.6307157216379593, 0.23101621260922875, 0.9658507298710426, -0.14582676612986797, 0.24435391392993489, 0.19988226546743493, -1.6864182483270802, -0.179565648317836, 1.5790587268194936, 1.1405837222497026, -1.002542239598847, -0.2848553496664866, 0.22016891217967116, -0.14300651044375284, -2.7373269324359235, -2.538343494779956, 3.04676387515265, -1.7214792981001903, 0.3315444518238859, -2.1173049474469625, -0.9955560567688762, 1.5384651549137196, -1.192188411694422, -0.19873328339923366, 0.2463568803027659, -1.582529421336658, 0.9705880808884735, -0.36394075916775437, 1.8694994508609717, -1.8607920321206797, -0.2144291853983574, 1.0260638450581705, -0.13123875075991048, 1.100593205622243], \"yaxis\": \"y14\"}, {\"line\": {\"color\": \"rgba(128, 128, 128, 1.0)\", \"dash\": \"solid\", \"shape\": \"linear\", \"width\": 1.3}, \"marker\": {\"size\": 2, \"symbol\": \"circle\"}, \"mode\": \"markers\", \"name\": \"D\", \"text\": \"\", \"type\": \"scatter\", \"x\": [-0.4248277594985564, 0.1513504151850946, -2.058306232463962, -1.0436072080846233, -0.6859620625913935, 1.323324310854215, -0.6078577908285538, -0.8706351467472986, -1.032104121118313, 1.104288900893966, 1.1521443061400312, 0.6258457496373017, -1.2991461654159133, 0.20827155978124595, 0.8126572250640745, -0.6400599004589999, 2.5935153583099835, 1.228663466587346, 1.5487171552875663, 0.9587987606710893, 0.7836971828426463, 2.698706022201188, 0.18305424339508325, -0.06408520177085475, 0.22964815043954506, -0.020151643537278646, -0.9314824271831205, 0.014046970767866433, -1.642586812768221, -1.0598398638444377, -0.0007243105853715013, -0.8563550533914012, 0.2541177109277807, -0.24965993985917798, 2.0537542135667524, -0.08564796052704814, -1.087726351552115, -0.7533347973663863, -0.003277530037427063, 0.7941140085094741, 0.8930342883893841, -1.6789226349302377, -0.27900686819110787, 0.9892349099096447, -1.298302309466238, 0.30026649691242957, 0.03444557202459019, 0.6198193067399229, -1.393736516029622, -0.06331737942628961, -0.4947697956483195, 2.0471358983548584, -0.11544240972834664, -0.07951266948470047, -1.5289180753904092, -0.3986908510146972, -0.39241606507134763, -1.397261729630864, -0.707382639792071, 0.3132597386888826, -0.16749651101451493, -0.08886801592228395, 0.1674365070605715, -0.31035165933701586, 0.9612214537332486, 0.25809665367328244, -1.546689400288278, -0.36716793334771874, 0.6941773139996782, 0.5716586284309948, -1.3154639457671933, 0.039345274639484416, -0.19433445698592616, -1.1899433081174855, -1.8193503171050316, -0.2109110529440668, 0.5864334575385997, 0.26941716141690847, -0.008809772933606595, -0.936920852657209, 0.9096280091903483, -1.739385395410571, 0.8175700943676584, -0.949389670910661, 0.4124323173999115, -1.5911419325692113, -0.3253505363773546, -0.9062836368367618, -0.6913909430260369, -0.49253138813355235, -0.03603281948359051, -0.21193029956885384, 0.4724652726250642, 0.7941883661128908, 0.26273025780225867, -0.637180057546623, 0.12980384330559883, 0.05515973343473459, 0.6424659230666038, -0.23688937286412992], \"xaxis\": \"x15\", \"y\": [-1.3668378895233886, 1.0487448577880742, -0.2780814513852549, -1.2202610479942235, 0.9227036438758959, 0.5185505064813577, -0.5175472664587596, -1.420949527219002, 1.0457905031395038, 0.7054065280654733, 0.2655120071878172, 1.9149149246153476, 1.1952456979194794, -1.5207725254086575, 0.7289369935826845, -0.09606571285760698, 1.8392220246268107, -0.14238701711042007, -0.3978400499144386, -2.1504970604376226, -0.9567172835412164, -0.20235146523728237, 0.6383229581079899, -0.5823541322299404, -0.783262547296239, 1.4755782225853598, 0.17867775435975977, -2.2553604707979313, -0.9410969736956488, -1.0282883308914732, 0.01931161519015419, -0.3383882634365259, 0.3236055713728934, 1.2058993344815825, -0.6167286837530893, -0.8250115663994755, 0.3024113919853573, -0.6757853063650004, 1.1688504157238322, -1.8704037502636932, -2.254604403213826, -0.3742229416521997, -0.034665618115568446, -0.870737565518343, 1.0908310678469997, -0.9342417520458451, -0.5855183383530895, -0.733227306921073, 2.3699546815345416, -0.4297432317515213, -0.893230053115751, 0.09734081425183469, -0.9801604228873065, -0.7007679117901868, -1.1196281458004769, 0.8325500389794176, 1.1911357585965776, 0.75911476208043, -1.7881704413577488, -1.4685496599258525, -0.2634789970247127, -2.0340851924543273, 0.07962702650411135, 0.10968422073910697, -0.8937387742897317, -1.510326512166877, -0.6307157216379593, 0.23101621260922875, 0.9658507298710426, -0.14582676612986797, 0.24435391392993489, 0.19988226546743493, -1.6864182483270802, -0.179565648317836, 1.5790587268194936, 1.1405837222497026, -1.002542239598847, -0.2848553496664866, 0.22016891217967116, -0.14300651044375284, -2.7373269324359235, -2.538343494779956, 3.04676387515265, -1.7214792981001903, 0.3315444518238859, -2.1173049474469625, -0.9955560567688762, 1.5384651549137196, -1.192188411694422, -0.19873328339923366, 0.2463568803027659, -1.582529421336658, 0.9705880808884735, -0.36394075916775437, 1.8694994508609717, -1.8607920321206797, -0.2144291853983574, 1.0260638450581705, -0.13123875075991048, 1.100593205622243], \"yaxis\": \"y15\"}, {\"histfunc\": \"count\", \"histnorm\": \"\", \"marker\": {\"color\": \"rgba(128, 0, 128, 1.0)\", \"line\": {\"color\": \"#4D5663\", \"width\": 1.3}}, \"name\": \"D\", \"nbinsx\": 10, \"opacity\": 0.8, \"orientation\": \"v\", \"type\": \"histogram\", \"x\": [-1.3668378895233886, 1.0487448577880742, -0.2780814513852549, -1.2202610479942235, 0.9227036438758959, 0.5185505064813577, -0.5175472664587596, -1.420949527219002, 1.0457905031395038, 0.7054065280654733, 0.2655120071878172, 1.9149149246153476, 1.1952456979194794, -1.5207725254086575, 0.7289369935826845, -0.09606571285760698, 1.8392220246268107, -0.14238701711042007, -0.3978400499144386, -2.1504970604376226, -0.9567172835412164, -0.20235146523728237, 0.6383229581079899, -0.5823541322299404, -0.783262547296239, 1.4755782225853598, 0.17867775435975977, -2.2553604707979313, -0.9410969736956488, -1.0282883308914732, 0.01931161519015419, -0.3383882634365259, 0.3236055713728934, 1.2058993344815825, -0.6167286837530893, -0.8250115663994755, 0.3024113919853573, -0.6757853063650004, 1.1688504157238322, -1.8704037502636932, -2.254604403213826, -0.3742229416521997, -0.034665618115568446, -0.870737565518343, 1.0908310678469997, -0.9342417520458451, -0.5855183383530895, -0.733227306921073, 2.3699546815345416, -0.4297432317515213, -0.893230053115751, 0.09734081425183469, -0.9801604228873065, -0.7007679117901868, -1.1196281458004769, 0.8325500389794176, 1.1911357585965776, 0.75911476208043, -1.7881704413577488, -1.4685496599258525, -0.2634789970247127, -2.0340851924543273, 0.07962702650411135, 0.10968422073910697, -0.8937387742897317, -1.510326512166877, -0.6307157216379593, 0.23101621260922875, 0.9658507298710426, -0.14582676612986797, 0.24435391392993489, 0.19988226546743493, -1.6864182483270802, -0.179565648317836, 1.5790587268194936, 1.1405837222497026, -1.002542239598847, -0.2848553496664866, 0.22016891217967116, -0.14300651044375284, -2.7373269324359235, -2.538343494779956, 3.04676387515265, -1.7214792981001903, 0.3315444518238859, -2.1173049474469625, -0.9955560567688762, 1.5384651549137196, -1.192188411694422, -0.19873328339923366, 0.2463568803027659, -1.582529421336658, 0.9705880808884735, -0.36394075916775437, 1.8694994508609717, -1.8607920321206797, -0.2144291853983574, 1.0260638450581705, -0.13123875075991048, 1.100593205622243], \"xaxis\": \"x16\", \"yaxis\": \"y16\"}],                        {\"bargap\": 0.02, \"legend\": {\"bgcolor\": \"#F5F6F9\", \"font\": {\"color\": \"#4D5663\"}}, \"paper_bgcolor\": \"#F5F6F9\", \"plot_bgcolor\": \"#F5F6F9\", \"showlegend\": false, \"template\": {\"data\": {\"bar\": [{\"error_x\": {\"color\": \"#2a3f5f\"}, \"error_y\": {\"color\": \"#2a3f5f\"}, \"marker\": {\"line\": {\"color\": \"#E5ECF6\", \"width\": 0.5}}, \"type\": \"bar\"}], \"barpolar\": [{\"marker\": {\"line\": {\"color\": \"#E5ECF6\", \"width\": 0.5}}, \"type\": \"barpolar\"}], \"carpet\": [{\"aaxis\": {\"endlinecolor\": \"#2a3f5f\", \"gridcolor\": \"white\", \"linecolor\": \"white\", \"minorgridcolor\": \"white\", \"startlinecolor\": \"#2a3f5f\"}, \"baxis\": {\"endlinecolor\": \"#2a3f5f\", \"gridcolor\": \"white\", \"linecolor\": \"white\", \"minorgridcolor\": \"white\", \"startlinecolor\": \"#2a3f5f\"}, \"type\": \"carpet\"}], \"choropleth\": [{\"colorbar\": {\"outlinewidth\": 0, \"ticks\": \"\"}, \"type\": \"choropleth\"}], \"contour\": [{\"colorbar\": {\"outlinewidth\": 0, \"ticks\": \"\"}, \"colorscale\": [[0.0, \"#0d0887\"], [0.1111111111111111, \"#46039f\"], [0.2222222222222222, \"#7201a8\"], [0.3333333333333333, \"#9c179e\"], [0.4444444444444444, \"#bd3786\"], [0.5555555555555556, \"#d8576b\"], [0.6666666666666666, \"#ed7953\"], [0.7777777777777778, \"#fb9f3a\"], [0.8888888888888888, \"#fdca26\"], [1.0, \"#f0f921\"]], \"type\": \"contour\"}], \"contourcarpet\": [{\"colorbar\": {\"outlinewidth\": 0, \"ticks\": \"\"}, \"type\": \"contourcarpet\"}], \"heatmap\": [{\"colorbar\": {\"outlinewidth\": 0, \"ticks\": \"\"}, \"colorscale\": [[0.0, \"#0d0887\"], [0.1111111111111111, \"#46039f\"], [0.2222222222222222, \"#7201a8\"], [0.3333333333333333, \"#9c179e\"], [0.4444444444444444, \"#bd3786\"], [0.5555555555555556, \"#d8576b\"], [0.6666666666666666, \"#ed7953\"], [0.7777777777777778, \"#fb9f3a\"], [0.8888888888888888, \"#fdca26\"], [1.0, \"#f0f921\"]], \"type\": \"heatmap\"}], \"heatmapgl\": [{\"colorbar\": {\"outlinewidth\": 0, \"ticks\": \"\"}, \"colorscale\": [[0.0, \"#0d0887\"], [0.1111111111111111, \"#46039f\"], [0.2222222222222222, \"#7201a8\"], [0.3333333333333333, \"#9c179e\"], [0.4444444444444444, \"#bd3786\"], [0.5555555555555556, \"#d8576b\"], [0.6666666666666666, \"#ed7953\"], [0.7777777777777778, \"#fb9f3a\"], [0.8888888888888888, \"#fdca26\"], [1.0, \"#f0f921\"]], \"type\": \"heatmapgl\"}], \"histogram\": [{\"marker\": {\"colorbar\": {\"outlinewidth\": 0, \"ticks\": \"\"}}, \"type\": \"histogram\"}], \"histogram2d\": [{\"colorbar\": {\"outlinewidth\": 0, \"ticks\": \"\"}, \"colorscale\": [[0.0, \"#0d0887\"], [0.1111111111111111, \"#46039f\"], [0.2222222222222222, \"#7201a8\"], [0.3333333333333333, \"#9c179e\"], [0.4444444444444444, \"#bd3786\"], [0.5555555555555556, \"#d8576b\"], [0.6666666666666666, \"#ed7953\"], [0.7777777777777778, \"#fb9f3a\"], [0.8888888888888888, \"#fdca26\"], [1.0, \"#f0f921\"]], \"type\": \"histogram2d\"}], \"histogram2dcontour\": [{\"colorbar\": {\"outlinewidth\": 0, \"ticks\": \"\"}, \"colorscale\": [[0.0, \"#0d0887\"], [0.1111111111111111, \"#46039f\"], [0.2222222222222222, \"#7201a8\"], [0.3333333333333333, \"#9c179e\"], [0.4444444444444444, \"#bd3786\"], [0.5555555555555556, \"#d8576b\"], [0.6666666666666666, \"#ed7953\"], [0.7777777777777778, \"#fb9f3a\"], [0.8888888888888888, \"#fdca26\"], [1.0, \"#f0f921\"]], \"type\": \"histogram2dcontour\"}], \"mesh3d\": [{\"colorbar\": {\"outlinewidth\": 0, \"ticks\": \"\"}, \"type\": \"mesh3d\"}], \"parcoords\": [{\"line\": {\"colorbar\": {\"outlinewidth\": 0, \"ticks\": \"\"}}, \"type\": \"parcoords\"}], \"pie\": [{\"automargin\": true, \"type\": \"pie\"}], \"scatter\": [{\"marker\": {\"colorbar\": {\"outlinewidth\": 0, \"ticks\": \"\"}}, \"type\": \"scatter\"}], \"scatter3d\": [{\"line\": {\"colorbar\": {\"outlinewidth\": 0, \"ticks\": \"\"}}, \"marker\": {\"colorbar\": {\"outlinewidth\": 0, \"ticks\": \"\"}}, \"type\": \"scatter3d\"}], \"scattercarpet\": [{\"marker\": {\"colorbar\": {\"outlinewidth\": 0, \"ticks\": \"\"}}, \"type\": \"scattercarpet\"}], \"scattergeo\": [{\"marker\": {\"colorbar\": {\"outlinewidth\": 0, \"ticks\": \"\"}}, \"type\": \"scattergeo\"}], \"scattergl\": [{\"marker\": {\"colorbar\": {\"outlinewidth\": 0, \"ticks\": \"\"}}, \"type\": \"scattergl\"}], \"scattermapbox\": [{\"marker\": {\"colorbar\": {\"outlinewidth\": 0, \"ticks\": \"\"}}, \"type\": \"scattermapbox\"}], \"scatterpolar\": [{\"marker\": {\"colorbar\": {\"outlinewidth\": 0, \"ticks\": \"\"}}, \"type\": \"scatterpolar\"}], \"scatterpolargl\": [{\"marker\": {\"colorbar\": {\"outlinewidth\": 0, \"ticks\": \"\"}}, \"type\": \"scatterpolargl\"}], \"scatterternary\": [{\"marker\": {\"colorbar\": {\"outlinewidth\": 0, \"ticks\": \"\"}}, \"type\": \"scatterternary\"}], \"surface\": [{\"colorbar\": {\"outlinewidth\": 0, \"ticks\": \"\"}, \"colorscale\": [[0.0, \"#0d0887\"], [0.1111111111111111, \"#46039f\"], [0.2222222222222222, \"#7201a8\"], [0.3333333333333333, \"#9c179e\"], [0.4444444444444444, \"#bd3786\"], [0.5555555555555556, \"#d8576b\"], [0.6666666666666666, \"#ed7953\"], [0.7777777777777778, \"#fb9f3a\"], [0.8888888888888888, \"#fdca26\"], [1.0, \"#f0f921\"]], \"type\": \"surface\"}], \"table\": [{\"cells\": {\"fill\": {\"color\": \"#EBF0F8\"}, \"line\": {\"color\": \"white\"}}, \"header\": {\"fill\": {\"color\": \"#C8D4E3\"}, \"line\": {\"color\": \"white\"}}, \"type\": \"table\"}]}, \"layout\": {\"annotationdefaults\": {\"arrowcolor\": \"#2a3f5f\", \"arrowhead\": 0, \"arrowwidth\": 1}, \"autotypenumbers\": \"strict\", \"coloraxis\": {\"colorbar\": {\"outlinewidth\": 0, \"ticks\": \"\"}}, \"colorscale\": {\"diverging\": [[0, \"#8e0152\"], [0.1, \"#c51b7d\"], [0.2, \"#de77ae\"], [0.3, \"#f1b6da\"], [0.4, \"#fde0ef\"], [0.5, \"#f7f7f7\"], [0.6, \"#e6f5d0\"], [0.7, \"#b8e186\"], [0.8, \"#7fbc41\"], [0.9, \"#4d9221\"], [1, \"#276419\"]], \"sequential\": [[0.0, \"#0d0887\"], [0.1111111111111111, \"#46039f\"], [0.2222222222222222, \"#7201a8\"], [0.3333333333333333, \"#9c179e\"], [0.4444444444444444, \"#bd3786\"], [0.5555555555555556, \"#d8576b\"], [0.6666666666666666, \"#ed7953\"], [0.7777777777777778, \"#fb9f3a\"], [0.8888888888888888, \"#fdca26\"], [1.0, \"#f0f921\"]], \"sequentialminus\": [[0.0, \"#0d0887\"], [0.1111111111111111, \"#46039f\"], [0.2222222222222222, \"#7201a8\"], [0.3333333333333333, \"#9c179e\"], [0.4444444444444444, \"#bd3786\"], [0.5555555555555556, \"#d8576b\"], [0.6666666666666666, \"#ed7953\"], [0.7777777777777778, \"#fb9f3a\"], [0.8888888888888888, \"#fdca26\"], [1.0, \"#f0f921\"]]}, \"colorway\": [\"#636efa\", \"#EF553B\", \"#00cc96\", \"#ab63fa\", \"#FFA15A\", \"#19d3f3\", \"#FF6692\", \"#B6E880\", \"#FF97FF\", \"#FECB52\"], \"font\": {\"color\": \"#2a3f5f\"}, \"geo\": {\"bgcolor\": \"white\", \"lakecolor\": \"white\", \"landcolor\": \"#E5ECF6\", \"showlakes\": true, \"showland\": true, \"subunitcolor\": \"white\"}, \"hoverlabel\": {\"align\": \"left\"}, \"hovermode\": \"closest\", \"mapbox\": {\"style\": \"light\"}, \"paper_bgcolor\": \"white\", \"plot_bgcolor\": \"#E5ECF6\", \"polar\": {\"angularaxis\": {\"gridcolor\": \"white\", \"linecolor\": \"white\", \"ticks\": \"\"}, \"bgcolor\": \"#E5ECF6\", \"radialaxis\": {\"gridcolor\": \"white\", \"linecolor\": \"white\", \"ticks\": \"\"}}, \"scene\": {\"xaxis\": {\"backgroundcolor\": \"#E5ECF6\", \"gridcolor\": \"white\", \"gridwidth\": 2, \"linecolor\": \"white\", \"showbackground\": true, \"ticks\": \"\", \"zerolinecolor\": \"white\"}, \"yaxis\": {\"backgroundcolor\": \"#E5ECF6\", \"gridcolor\": \"white\", \"gridwidth\": 2, \"linecolor\": \"white\", \"showbackground\": true, \"ticks\": \"\", \"zerolinecolor\": \"white\"}, \"zaxis\": {\"backgroundcolor\": \"#E5ECF6\", \"gridcolor\": \"white\", \"gridwidth\": 2, \"linecolor\": \"white\", \"showbackground\": true, \"ticks\": \"\", \"zerolinecolor\": \"white\"}}, \"shapedefaults\": {\"line\": {\"color\": \"#2a3f5f\"}}, \"ternary\": {\"aaxis\": {\"gridcolor\": \"white\", \"linecolor\": \"white\", \"ticks\": \"\"}, \"baxis\": {\"gridcolor\": \"white\", \"linecolor\": \"white\", \"ticks\": \"\"}, \"bgcolor\": \"#E5ECF6\", \"caxis\": {\"gridcolor\": \"white\", \"linecolor\": \"white\", \"ticks\": \"\"}}, \"title\": {\"x\": 0.05}, \"xaxis\": {\"automargin\": true, \"gridcolor\": \"white\", \"linecolor\": \"white\", \"ticks\": \"\", \"title\": {\"standoff\": 15}, \"zerolinecolor\": \"white\", \"zerolinewidth\": 2}, \"yaxis\": {\"automargin\": true, \"gridcolor\": \"white\", \"linecolor\": \"white\", \"ticks\": \"\", \"title\": {\"standoff\": 15}, \"zerolinecolor\": \"white\", \"zerolinewidth\": 2}}}, \"title\": {\"font\": {\"color\": \"#4D5663\"}}, \"xaxis\": {\"anchor\": \"y\", \"domain\": [0.0, 0.2125], \"gridcolor\": \"#E1E5ED\", \"showgrid\": false, \"tickfont\": {\"color\": \"#4D5663\"}, \"title\": {\"font\": {\"color\": \"#4D5663\"}, \"text\": \"\"}, \"zerolinecolor\": \"#E1E5ED\"}, \"xaxis10\": {\"anchor\": \"y10\", \"domain\": [0.2625, 0.475], \"gridcolor\": \"#E1E5ED\", \"showgrid\": false, \"tickfont\": {\"color\": \"#4D5663\"}, \"title\": {\"font\": {\"color\": \"#4D5663\"}, \"text\": \"\"}, \"zerolinecolor\": \"#E1E5ED\"}, \"xaxis11\": {\"anchor\": \"y11\", \"domain\": [0.525, 0.7375], \"gridcolor\": \"#E1E5ED\", \"showgrid\": false, \"tickfont\": {\"color\": \"#4D5663\"}, \"title\": {\"font\": {\"color\": \"#4D5663\"}, \"text\": \"\"}, \"zerolinecolor\": \"#E1E5ED\"}, \"xaxis12\": {\"anchor\": \"y12\", \"domain\": [0.7875, 1.0], \"gridcolor\": \"#E1E5ED\", \"showgrid\": false, \"tickfont\": {\"color\": \"#4D5663\"}, \"title\": {\"font\": {\"color\": \"#4D5663\"}, \"text\": \"\"}, \"zerolinecolor\": \"#E1E5ED\"}, \"xaxis13\": {\"anchor\": \"y13\", \"domain\": [0.0, 0.2125], \"gridcolor\": \"#E1E5ED\", \"showgrid\": false, \"tickfont\": {\"color\": \"#4D5663\"}, \"title\": {\"font\": {\"color\": \"#4D5663\"}, \"text\": \"\"}, \"zerolinecolor\": \"#E1E5ED\"}, \"xaxis14\": {\"anchor\": \"y14\", \"domain\": [0.2625, 0.475], \"gridcolor\": \"#E1E5ED\", \"showgrid\": false, \"tickfont\": {\"color\": \"#4D5663\"}, \"title\": {\"font\": {\"color\": \"#4D5663\"}, \"text\": \"\"}, \"zerolinecolor\": \"#E1E5ED\"}, \"xaxis15\": {\"anchor\": \"y15\", \"domain\": [0.525, 0.7375], \"gridcolor\": \"#E1E5ED\", \"showgrid\": false, \"tickfont\": {\"color\": \"#4D5663\"}, \"title\": {\"font\": {\"color\": \"#4D5663\"}, \"text\": \"\"}, \"zerolinecolor\": \"#E1E5ED\"}, \"xaxis16\": {\"anchor\": \"y16\", \"domain\": [0.7875, 1.0], \"gridcolor\": \"#E1E5ED\", \"showgrid\": false, \"tickfont\": {\"color\": \"#4D5663\"}, \"title\": {\"font\": {\"color\": \"#4D5663\"}, \"text\": \"\"}, \"zerolinecolor\": \"#E1E5ED\"}, \"xaxis2\": {\"anchor\": \"y2\", \"domain\": [0.2625, 0.475], \"gridcolor\": \"#E1E5ED\", \"showgrid\": false, \"tickfont\": {\"color\": \"#4D5663\"}, \"title\": {\"font\": {\"color\": \"#4D5663\"}, \"text\": \"\"}, \"zerolinecolor\": \"#E1E5ED\"}, \"xaxis3\": {\"anchor\": \"y3\", \"domain\": [0.525, 0.7375], \"gridcolor\": \"#E1E5ED\", \"showgrid\": false, \"tickfont\": {\"color\": \"#4D5663\"}, \"title\": {\"font\": {\"color\": \"#4D5663\"}, \"text\": \"\"}, \"zerolinecolor\": \"#E1E5ED\"}, \"xaxis4\": {\"anchor\": \"y4\", \"domain\": [0.7875, 1.0], \"gridcolor\": \"#E1E5ED\", \"showgrid\": false, \"tickfont\": {\"color\": \"#4D5663\"}, \"title\": {\"font\": {\"color\": \"#4D5663\"}, \"text\": \"\"}, \"zerolinecolor\": \"#E1E5ED\"}, \"xaxis5\": {\"anchor\": \"y5\", \"domain\": [0.0, 0.2125], \"gridcolor\": \"#E1E5ED\", \"showgrid\": false, \"tickfont\": {\"color\": \"#4D5663\"}, \"title\": {\"font\": {\"color\": \"#4D5663\"}, \"text\": \"\"}, \"zerolinecolor\": \"#E1E5ED\"}, \"xaxis6\": {\"anchor\": \"y6\", \"domain\": [0.2625, 0.475], \"gridcolor\": \"#E1E5ED\", \"showgrid\": false, \"tickfont\": {\"color\": \"#4D5663\"}, \"title\": {\"font\": {\"color\": \"#4D5663\"}, \"text\": \"\"}, \"zerolinecolor\": \"#E1E5ED\"}, \"xaxis7\": {\"anchor\": \"y7\", \"domain\": [0.525, 0.7375], \"gridcolor\": \"#E1E5ED\", \"showgrid\": false, \"tickfont\": {\"color\": \"#4D5663\"}, \"title\": {\"font\": {\"color\": \"#4D5663\"}, \"text\": \"\"}, \"zerolinecolor\": \"#E1E5ED\"}, \"xaxis8\": {\"anchor\": \"y8\", \"domain\": [0.7875, 1.0], \"gridcolor\": \"#E1E5ED\", \"showgrid\": false, \"tickfont\": {\"color\": \"#4D5663\"}, \"title\": {\"font\": {\"color\": \"#4D5663\"}, \"text\": \"\"}, \"zerolinecolor\": \"#E1E5ED\"}, \"xaxis9\": {\"anchor\": \"y9\", \"domain\": [0.0, 0.2125], \"gridcolor\": \"#E1E5ED\", \"showgrid\": false, \"tickfont\": {\"color\": \"#4D5663\"}, \"title\": {\"font\": {\"color\": \"#4D5663\"}, \"text\": \"\"}, \"zerolinecolor\": \"#E1E5ED\"}, \"yaxis\": {\"anchor\": \"x\", \"domain\": [0.8025, 1.0], \"gridcolor\": \"#E1E5ED\", \"showgrid\": false, \"tickfont\": {\"color\": \"#4D5663\"}, \"title\": {\"font\": {\"color\": \"#4D5663\"}, \"text\": \"\"}, \"zerolinecolor\": \"#E1E5ED\"}, \"yaxis10\": {\"anchor\": \"x10\", \"domain\": [0.2675, 0.465], \"gridcolor\": \"#E1E5ED\", \"showgrid\": false, \"tickfont\": {\"color\": \"#4D5663\"}, \"title\": {\"font\": {\"color\": \"#4D5663\"}, \"text\": \"\"}, \"zerolinecolor\": \"#E1E5ED\"}, \"yaxis11\": {\"anchor\": \"x11\", \"domain\": [0.2675, 0.465], \"gridcolor\": \"#E1E5ED\", \"showgrid\": false, \"tickfont\": {\"color\": \"#4D5663\"}, \"title\": {\"font\": {\"color\": \"#4D5663\"}, \"text\": \"\"}, \"zerolinecolor\": \"#E1E5ED\"}, \"yaxis12\": {\"anchor\": \"x12\", \"domain\": [0.2675, 0.465], \"gridcolor\": \"#E1E5ED\", \"showgrid\": false, \"tickfont\": {\"color\": \"#4D5663\"}, \"title\": {\"font\": {\"color\": \"#4D5663\"}, \"text\": \"\"}, \"zerolinecolor\": \"#E1E5ED\"}, \"yaxis13\": {\"anchor\": \"x13\", \"domain\": [0.0, 0.1975], \"gridcolor\": \"#E1E5ED\", \"showgrid\": false, \"tickfont\": {\"color\": \"#4D5663\"}, \"title\": {\"font\": {\"color\": \"#4D5663\"}, \"text\": \"\"}, \"zerolinecolor\": \"#E1E5ED\"}, \"yaxis14\": {\"anchor\": \"x14\", \"domain\": [0.0, 0.1975], \"gridcolor\": \"#E1E5ED\", \"showgrid\": false, \"tickfont\": {\"color\": \"#4D5663\"}, \"title\": {\"font\": {\"color\": \"#4D5663\"}, \"text\": \"\"}, \"zerolinecolor\": \"#E1E5ED\"}, \"yaxis15\": {\"anchor\": \"x15\", \"domain\": [0.0, 0.1975], \"gridcolor\": \"#E1E5ED\", \"showgrid\": false, \"tickfont\": {\"color\": \"#4D5663\"}, \"title\": {\"font\": {\"color\": \"#4D5663\"}, \"text\": \"\"}, \"zerolinecolor\": \"#E1E5ED\"}, \"yaxis16\": {\"anchor\": \"x16\", \"domain\": [0.0, 0.1975], \"gridcolor\": \"#E1E5ED\", \"showgrid\": false, \"tickfont\": {\"color\": \"#4D5663\"}, \"title\": {\"font\": {\"color\": \"#4D5663\"}, \"text\": \"\"}, \"zerolinecolor\": \"#E1E5ED\"}, \"yaxis2\": {\"anchor\": \"x2\", \"domain\": [0.8025, 1.0], \"gridcolor\": \"#E1E5ED\", \"showgrid\": false, \"tickfont\": {\"color\": \"#4D5663\"}, \"title\": {\"font\": {\"color\": \"#4D5663\"}, \"text\": \"\"}, \"zerolinecolor\": \"#E1E5ED\"}, \"yaxis3\": {\"anchor\": \"x3\", \"domain\": [0.8025, 1.0], \"gridcolor\": \"#E1E5ED\", \"showgrid\": false, \"tickfont\": {\"color\": \"#4D5663\"}, \"title\": {\"font\": {\"color\": \"#4D5663\"}, \"text\": \"\"}, \"zerolinecolor\": \"#E1E5ED\"}, \"yaxis4\": {\"anchor\": \"x4\", \"domain\": [0.8025, 1.0], \"gridcolor\": \"#E1E5ED\", \"showgrid\": false, \"tickfont\": {\"color\": \"#4D5663\"}, \"title\": {\"font\": {\"color\": \"#4D5663\"}, \"text\": \"\"}, \"zerolinecolor\": \"#E1E5ED\"}, \"yaxis5\": {\"anchor\": \"x5\", \"domain\": [0.535, 0.7325], \"gridcolor\": \"#E1E5ED\", \"showgrid\": false, \"tickfont\": {\"color\": \"#4D5663\"}, \"title\": {\"font\": {\"color\": \"#4D5663\"}, \"text\": \"\"}, \"zerolinecolor\": \"#E1E5ED\"}, \"yaxis6\": {\"anchor\": \"x6\", \"domain\": [0.535, 0.7325], \"gridcolor\": \"#E1E5ED\", \"showgrid\": false, \"tickfont\": {\"color\": \"#4D5663\"}, \"title\": {\"font\": {\"color\": \"#4D5663\"}, \"text\": \"\"}, \"zerolinecolor\": \"#E1E5ED\"}, \"yaxis7\": {\"anchor\": \"x7\", \"domain\": [0.535, 0.7325], \"gridcolor\": \"#E1E5ED\", \"showgrid\": false, \"tickfont\": {\"color\": \"#4D5663\"}, \"title\": {\"font\": {\"color\": \"#4D5663\"}, \"text\": \"\"}, \"zerolinecolor\": \"#E1E5ED\"}, \"yaxis8\": {\"anchor\": \"x8\", \"domain\": [0.535, 0.7325], \"gridcolor\": \"#E1E5ED\", \"showgrid\": false, \"tickfont\": {\"color\": \"#4D5663\"}, \"title\": {\"font\": {\"color\": \"#4D5663\"}, \"text\": \"\"}, \"zerolinecolor\": \"#E1E5ED\"}, \"yaxis9\": {\"anchor\": \"x9\", \"domain\": [0.2675, 0.465], \"gridcolor\": \"#E1E5ED\", \"showgrid\": false, \"tickfont\": {\"color\": \"#4D5663\"}, \"title\": {\"font\": {\"color\": \"#4D5663\"}, \"text\": \"\"}, \"zerolinecolor\": \"#E1E5ED\"}},                        {\"showLink\": true, \"linkText\": \"Export to chart-studio.plotly.com\", \"plotlyServerURL\": \"https://chart-studio.plotly.com\", \"responsive\": true}                    ).then(function(){\n",
       "                            \n",
       "var gd = document.getElementById('e4e7cc48-8cd2-497c-b17c-d8ecb3239bd8');\n",
       "var x = new MutationObserver(function (mutations, observer) {{\n",
       "        var display = window.getComputedStyle(gd).display;\n",
       "        if (!display || display === 'none') {{\n",
       "            console.log([gd, 'removed!']);\n",
       "            Plotly.purge(gd);\n",
       "            observer.disconnect();\n",
       "        }}\n",
       "}});\n",
       "\n",
       "// Listen for the removal of the full notebook cells\n",
       "var notebookContainer = gd.closest('#notebook-container');\n",
       "if (notebookContainer) {{\n",
       "    x.observe(notebookContainer, {childList: true});\n",
       "}}\n",
       "\n",
       "// Listen for the clearing of the current output cell\n",
       "var outputEl = gd.closest('.output');\n",
       "if (outputEl) {{\n",
       "    x.observe(outputEl, {childList: true});\n",
       "}}\n",
       "\n",
       "                        })                };                });            </script>        </div>"
      ]
     },
     "metadata": {},
     "output_type": "display_data"
    }
   ],
   "source": [
    "df.scatter_matrix()"
   ]
  },
  {
   "cell_type": "markdown",
   "metadata": {
    "collapsed": true
   },
   "source": [
    "# Great Job!"
   ]
  }
 ],
 "metadata": {
  "kernelspec": {
   "display_name": "Python 3",
   "language": "python",
   "name": "python3"
  },
  "language_info": {
   "codemirror_mode": {
    "name": "ipython",
    "version": 3
   },
   "file_extension": ".py",
   "mimetype": "text/x-python",
   "name": "python",
   "nbconvert_exporter": "python",
   "pygments_lexer": "ipython3",
   "version": "3.7.1"
  }
 },
 "nbformat": 4,
 "nbformat_minor": 1
}
